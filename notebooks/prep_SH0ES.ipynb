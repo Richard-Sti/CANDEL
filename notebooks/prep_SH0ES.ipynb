{
 "cells": [
  {
   "cell_type": "code",
   "execution_count": 27,
   "id": "0506cf13",
   "metadata": {},
   "outputs": [
    {
     "name": "stdout",
     "output_type": "stream",
     "text": [
      "The autoreload extension is already loaded. To reload it, use:\n",
      "  %reload_ext autoreload\n"
     ]
    }
   ],
   "source": [
    "import sys\n",
    "sys.path.insert(0, \"/Users/rstiskalek/Projects/candel\")\n",
    "\n",
    "import numpy as np\n",
    "import matplotlib.pyplot as plt\n",
    "import candel\n",
    "\n",
    "from numpyro import sample, factor, deterministic\n",
    "from numpyro.distributions import Uniform\n",
    "from numpyro.infer import MCMC, NUTS\n",
    "from jax import numpy as jnp\n",
    "from jax import random\n",
    "\n",
    "%load_ext autoreload\n",
    "%autoreload 2\n",
    "# %xmode verbose"
   ]
  },
  {
   "cell_type": "code",
   "execution_count": 45,
   "id": "883065c8",
   "metadata": {},
   "outputs": [
    {
     "name": "stdout",
     "output_type": "stream",
     "text": [
      "2025-05-11 17:57:18 warning: zero width found in the priors. Setting it to 1e-5.\n",
      "2025-05-11 17:57:18 indices of zero width: [44]\n",
      "2025-05-11 17:57:18 found zero-width prior at index 44. Setting it to 0.\n"
     ]
    }
   ],
   "source": [
    "data = candel.pvdata.load_SH0ES(\"/Users/rstiskalek/Projects/CANDEL/data/SH0ES\")"
   ]
  },
  {
   "cell_type": "code",
   "execution_count": null,
   "id": "27c0d095",
   "metadata": {},
   "outputs": [],
   "source": [
    "def model(Y, L, C_inv_cho, theta_min, theta_max, fixed_idx, fixed_value, **kwargs):\n",
    "    # Remove fixed index\n",
    "    theta_min_free = jnp.delete(theta_min, fixed_idx)\n",
    "    theta_max_free = jnp.delete(theta_max, fixed_idx)\n",
    "\n",
    "    # Sample free part and reconstruct full theta\n",
    "    theta_free = sample(\"theta_free\", Uniform(theta_min_free, theta_max_free))\n",
    "    theta = jnp.insert(theta_free, fixed_idx, fixed_value)\n",
    "    deterministic(\"theta\", theta)\n",
    "\n",
    "    res = Y - jnp.dot(theta, L)\n",
    "    factor(\"ll\", -0.5 * jnp.dot(res, jnp.dot(C_inv_cho, res)))"
   ]
  },
  {
   "cell_type": "code",
   "execution_count": 41,
   "id": "ddc06ec7",
   "metadata": {},
   "outputs": [
    {
     "name": "stderr",
     "output_type": "stream",
     "text": [
      "sample: 100%|██████████| 2000/2000 [01:11<00:00, 27.87it/s, 15 steps of size 1.89e-01. acc. prob=0.93]"
     ]
    },
    {
     "name": "stdout",
     "output_type": "stream",
     "text": [
      "\n",
      "                    mean       std    median      5.0%     95.0%     n_eff     r_hat\n",
      " theta_free[0]     29.16      0.04     29.16     29.09     29.22    637.35      1.00\n",
      " theta_free[1]     32.92      0.09     32.92     32.79     33.07    942.61      1.00\n",
      " theta_free[2]     32.82      0.08     32.82     32.68     32.95    806.09      1.00\n",
      " theta_free[3]     32.62      0.06     32.62     32.51     32.70    592.79      1.00\n",
      " theta_free[4]     34.49      0.12     34.49     34.28     34.66   1020.28      1.00\n",
      " theta_free[5]     32.51      0.05     32.51     32.43     32.60    630.22      1.00\n",
      " theta_free[6]     31.32      0.05     31.32     31.24     31.40    605.70      1.01\n",
      " theta_free[7]     31.29      0.03     31.30     31.24     31.35    551.62      1.00\n",
      " theta_free[8]     31.46      0.05     31.46     31.38     31.54    503.47      1.00\n",
      " theta_free[9]     31.46      0.06     31.46     31.37     31.55    634.63      1.00\n",
      "theta_free[10]     32.01      0.06     32.01     31.91     32.11    734.19      1.00\n",
      "theta_free[11]     32.62      0.12     32.62     32.42     32.81    971.07      1.00\n",
      "theta_free[12]     32.39      0.10     32.39     32.22     32.55    750.55      1.00\n",
      "theta_free[13]     33.09      0.09     33.09     32.97     33.24    789.18      1.00\n",
      "theta_free[14]     32.40      0.06     32.41     32.31     32.50    657.64      1.00\n",
      "theta_free[15]     32.14      0.05     32.14     32.07     32.22    653.43      1.00\n",
      "theta_free[16]     31.95      0.03     31.94     31.89     32.00    550.50      1.00\n",
      "theta_free[17]     32.79      0.06     32.79     32.69     32.90    821.44      1.01\n",
      "theta_free[18]     31.71      0.07     31.71     31.60     31.82    671.96      1.00\n",
      "theta_free[19]     31.64      0.06     31.64     31.55     31.73    528.46      1.00\n",
      "theta_free[20]     31.64      0.08     31.64     31.50     31.77    969.94      1.00\n",
      "theta_free[21]     30.83      0.11     30.83     30.66     31.01   1026.07      1.00\n",
      "theta_free[22]     30.84      0.05     30.84     30.76     30.91    638.61      1.00\n",
      "theta_free[23]     31.79      0.07     31.79     31.68     31.89    835.04      1.00\n",
      "theta_free[24]     32.55      0.15     32.56     32.29     32.77   1060.32      1.00\n",
      "theta_free[25]     33.19      0.05     33.19     33.12     33.27    418.09      1.00\n",
      "theta_free[26]     31.87      0.05     31.87     31.79     31.94    520.52      1.00\n",
      "theta_free[27]     30.51      0.04     30.51     30.43     30.57    415.02      1.00\n",
      "theta_free[28]     32.92      0.10     32.92     32.76     33.09    848.61      1.00\n",
      "theta_free[29]     32.21      0.07     32.21     32.09     32.32    780.57      1.00\n",
      "theta_free[30]     32.33      0.08     32.33     32.21     32.47    681.37      1.00\n",
      "theta_free[31]     31.61      0.10     31.61     31.46     31.78   1012.82      1.00\n",
      "theta_free[32]     33.27      0.07     33.27     33.16     33.40    586.38      1.00\n",
      "theta_free[33]     32.58      0.08     32.58     32.47     32.72    952.27      1.00\n",
      "theta_free[34]     33.27      0.08     33.27     33.14     33.40    896.28      1.00\n",
      "theta_free[35]     33.55      0.08     33.55     33.40     33.68    861.71      1.00\n",
      "theta_free[36]     32.82      0.05     32.82     32.73     32.90    477.60      1.00\n",
      "theta_free[37]     -0.01      0.02     -0.01     -0.05      0.02    621.62      1.00\n",
      "theta_free[38]     -5.89      0.02     -5.89     -5.92     -5.86    323.86      1.01\n",
      "theta_free[39]      0.01      0.02      0.01     -0.02      0.04    369.25      1.01\n",
      "theta_free[40]     24.37      0.07     24.37     24.27     24.49    876.44      1.00\n",
      "theta_free[41]     -0.01      0.01     -0.01     -0.04      0.01    531.94      1.00\n",
      "theta_free[42]    -19.25      0.03    -19.25    -19.30    -19.21    200.16      1.00\n",
      "theta_free[43]     -0.22      0.05     -0.22     -0.29     -0.14    774.85      1.00\n",
      "theta_free[44]     -0.07      0.01     -0.07     -0.09     -0.06    880.30      1.00\n",
      "theta_free[45]      9.32      0.03      9.32      9.26      9.36    209.77      1.00\n",
      "\n",
      "Number of divergences: 0\n"
     ]
    },
    {
     "name": "stderr",
     "output_type": "stream",
     "text": [
      "\n"
     ]
    }
   ],
   "source": [
    "num_warmup = 1000\n",
    "num_samples = 1000\n",
    "rng_key = random.PRNGKey(0)\n",
    "\n",
    "kernel = NUTS(model)\n",
    "mcmc = MCMC(kernel, num_warmup=num_warmup, num_samples=num_samples,)\n",
    "mcmc.run(rng_key, **data,)\n",
    "mcmc.print_summary()\n",
    "samples = mcmc.get_samples()\n"
   ]
  },
  {
   "cell_type": "code",
   "execution_count": 42,
   "id": "2b8ff88d",
   "metadata": {},
   "outputs": [],
   "source": [
    "H0 = 10**(samples['theta_free'][:, -1] / 5.)"
   ]
  },
  {
   "cell_type": "code",
   "execution_count": 43,
   "id": "2c81288d",
   "metadata": {},
   "outputs": [
    {
     "data": {
      "text/plain": [
       "(Array(73.01399, dtype=float32),)"
      ]
     },
     "execution_count": 43,
     "metadata": {},
     "output_type": "execute_result"
    }
   ],
   "source": [
    "H0.mean(),"
   ]
  },
  {
   "cell_type": "code",
   "execution_count": 44,
   "id": "f9a69e71",
   "metadata": {},
   "outputs": [
    {
     "data": {
      "image/png": "[encoded data removed]",
      "text/plain": [
       "<Figure size 640x480 with 1 Axes>"
      ]
     },
     "metadata": {},
     "output_type": "display_data"
    }
   ],
   "source": [
    "plt.figure()\n",
    "plt.hist(H0, bins=\"auto\")\n",
    "plt.show()"
   ]
  },
  {
   "cell_type": "code",
   "execution_count": null,
   "id": "42ada3b5",
   "metadata": {},
   "outputs": [],
   "source": []
  },
  {
   "cell_type": "code",
   "execution_count": null,
   "id": "baf789a2",
   "metadata": {},
   "outputs": [],
   "source": [
    "\n",
    "def plot_H0(samples):\n",
    "    log_H0_samples = np.array(samples['theta'])[:, -1]\n",
    "    H0_samples = 10**(log_H0_samples / 5.)\n",
    "    H0_mean = np.mean(H0_samples)\n",
    "    H0_low, H0_up = np.percentile(H0_samples, [16, 84])\n",
    "\n",
    "    print(f\"Mean H0: {H0_mean:.4f} km/s/Mpc\")\n",
    "    print(f\"68% Confidence Interval: ({H0_low:.4f}, {H0_up:.4f}) km/s/Mpc\")\n",
    "\n",
    "    plt.figure()\n",
    "    plt.hist(H0_samples, bins=\"auto\", histtype='step', color='blue')\n",
    "    plt.axvline(H0_mean, color='red', linestyle='--', label='Mean')\n",
    "    plt.axvline(H0_low, color='green', linestyle='--', label='Lower C.L.')\n",
    "    plt.axvline(H0_up, color='green', linestyle='--', label='Upper C.L.')\n",
    "    plt.xlabel(r\"$H_0 ~ [\\mathrm{km} / \\mathrm{s} / \\mathrm{Mpc}]$\")\n",
    "    plt.ylabel(r'Probability Density')\n",
    "    plt.legend()\n",
    "    plt.savefig('H0_posterior_distribution_flat.png', dpi=500)\n",
    "    plt.close()\n",
    "\n",
    "\n",
    "def save_samples(samples, fname_out):\n",
    "    names = ['mu_M101', 'mu_M1337', 'mu_N0691', 'mu_N1015', 'mu_N0105',\n",
    "             'mu_N1309', 'mu_N1365', 'mu_N1448', 'mu_N1559', 'mu_N2442',\n",
    "             'mu_N2525', 'mu_N2608', 'mu_N3021', 'mu_N3147', 'mu_N3254',\n",
    "             'mu_N3370', 'mu_N3447', 'mu_N3583', 'mu_N3972', 'mu_N3982',\n",
    "             'mu_N4038', 'mu_N4424', 'mu_N4536', 'mu_N4639', 'mu_N4680',\n",
    "             'mu_N5468', 'mu_N5584', 'mu_N5643', 'mu_N5728', 'mu_N5861',\n",
    "             'mu_N5917', 'mu_N7250', 'mu_N7329', 'mu_N7541', 'mu_N7678',\n",
    "             'mu_N0976', 'mu_U9391', 'Delta_mu_N4258', 'M_H1_W',\n",
    "             'Delta_mu_LMC', 'mu_M31', 'b_W', 'MB0', 'Z_W', 'undefined',\n",
    "             'Delta_zp', 'log10_H0']\n",
    "    H0 = 10**(samples['theta'][:, -1] / 5.)\n",
    "    print(f\"Writing H0 samples to `{fname_out}`.\")\n",
    "    with File(fname_out, 'w') as f:\n",
    "        for i, name in enumerate(names):\n",
    "            f.create_dataset(name, data=samples['theta'][:, i])\n",
    "        f.create_dataset('H0', data=H0)\n",
    "    print(f\"Samples saved to `{fname_out}`.\")\n"
   ]
  },
  {
   "cell_type": "code",
   "execution_count": null,
   "id": "130bc58d",
   "metadata": {},
   "outputs": [],
   "source": []
  }
 ],
 "metadata": {
  "kernelspec": {
   "display_name": "venv_candel",
   "language": "python",
   "name": "python3"
  },
  "language_info": {
   "codemirror_mode": {
    "name": "ipython",
    "version": 3
   },
   "file_extension": ".py",
   "mimetype": "text/x-python",
   "name": "python",
   "nbconvert_exporter": "python",
   "pygments_lexer": "ipython3",
   "version": "3.12.10"
  }
 },
 "nbformat": 4,
 "nbformat_minor": 5
}
