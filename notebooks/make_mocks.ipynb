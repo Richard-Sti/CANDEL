{
 "cells": [
  {
   "cell_type": "code",
   "execution_count": 29,
   "id": "0e0c63f1",
   "metadata": {},
   "outputs": [
    {
     "name": "stdout",
     "output_type": "stream",
     "text": [
      "The autoreload extension is already loaded. To reload it, use:\n",
      "  %reload_ext autoreload\n"
     ]
    }
   ],
   "source": [
    "import sys\n",
    "sys.path.insert(0, \"/Users/rstiskalek/Projects/candel\")\n",
    "\n",
    "from os.path import join\n",
    "import numpy as np\n",
    "from h5py import File\n",
    "import matplotlib.pyplot as plt\n",
    "import candel\n",
    "\n",
    "%load_ext autoreload\n",
    "%autoreload 2"
   ]
  },
  {
   "cell_type": "code",
   "execution_count": 22,
   "id": "b37e518d",
   "metadata": {},
   "outputs": [],
   "source": [
    "d = candel.pvdata.load_CF4_mock(\"/Users/rstiskalek/Projects/CANDEL/data/CF4_mock\", 0)"
   ]
  },
  {
   "cell_type": "code",
   "execution_count": 4,
   "id": "8f560cc3",
   "metadata": {},
   "outputs": [
    {
     "name": "stdout",
     "output_type": "stream",
     "text": [
      "2025-05-09 22:08:08 initially loaded 9788 galaxies from CF4 TFR data.\n",
      "2025-05-09 22:08:08 removed 6537 galaxies, thus 3251 remain.\n"
     ]
    }
   ],
   "source": [
    "mock_dir = \"/Users/rstiskalek/Projects/CANDEL/data/CF4_mock\"\n",
    "CF4 = candel.pvdata.load_CF4_data(\"/Users/rstiskalek/Projects/CANDEL/data/CF4\", which_band=\"w1\")"
   ]
  },
  {
   "cell_type": "code",
   "execution_count": 5,
   "id": "57fd2951",
   "metadata": {},
   "outputs": [],
   "source": [
    "distmod2dist = candel.Distmod2Distance()\n",
    "distmod2redshift = candel.Distmod2Redshift()\n",
    "log_grad_distmod2dist = candel.LogGrad_Distmod2ComovingDistance()\n",
    "\n",
    "field_loader = candel.field.name2field_loader(\"Carrick2015\")(\n",
    "    path_density=\"/Users/rstiskalek/Projects/CANDEL/data/fields/carrick2015_twompp_density.npy\",\n",
    "    path_velocity=\"/Users/rstiskalek/Projects/CANDEL/data/fields/carrick2015_twompp_velocity.npy\"\n",
    "    )"
   ]
  },
  {
   "cell_type": "code",
   "execution_count": 6,
   "id": "ac46e156",
   "metadata": {},
   "outputs": [
    {
     "data": {
      "image/png": "[encoded data removed]",
      "text/plain": [
       "<Figure size 640x480 with 1 Axes>"
      ]
     },
     "metadata": {},
     "output_type": "display_data"
    }
   ],
   "source": [
    "plt.figure()\n",
    "plt.hist(CF4[\"mag\"], bins=\"auto\")\n",
    "plt.show()"
   ]
  },
  {
   "cell_type": "code",
   "execution_count": 81,
   "id": "14b33151",
   "metadata": {},
   "outputs": [],
   "source": [
    "kwargs = {\n",
    "    'Vext_mag': 250,\n",
    "    'Vext_ell': 300,\n",
    "    'Vext_b': -5,\n",
    "    'sigma_v': 150,\n",
    "    'a_TFR': -19.62,\n",
    "    'b_TFR': -9.5,\n",
    "    'c_TFR': 9.5,\n",
    "    'sigma_TFR': 0.28,\n",
    "    'alpha': 1.5,\n",
    "    'beta': 0.43,\n",
    "    'h': 1,\n",
    "    'mag': CF4['mag'] - 0.05,\n",
    "    'eta': CF4['eta'],\n",
    "    'mag_min': 7.5,\n",
    "    'mag_max': 16.5,\n",
    "    'e_mag': 0.05,\n",
    "    'eta_mean': 0.0,\n",
    "    'eta_std': 0.125,\n",
    "    'e_eta': 0.023,\n",
    "    'b_min': 7.5,\n",
    "    'zcmb_max': 0.05,\n",
    "    'r_h_max': 500,\n",
    "    'distmod2dist': distmod2dist,\n",
    "    'distmod2redshift': distmod2redshift,\n",
    "    'log_grad_distmod2dist': log_grad_distmod2dist,\n",
    "    'field_loader': field_loader,\n",
    "    'use_data_prior': True,\n",
    "    'rmin_reconstruction': 0,\n",
    "    'rmax_reconstruction': 200,\n",
    "    'num_steps_reconstruction': 250\n",
    "}\n"
   ]
  },
  {
   "cell_type": "code",
   "execution_count": 85,
   "id": "049276b1",
   "metadata": {},
   "outputs": [
    {
     "name": "stdout",
     "output_type": "stream",
     "text": [
      "2025-05-09 23:13:40 interpolating the density field...\n",
      "2025-05-09 23:13:40 interpolating the velocity field...\n",
      "2025-05-09 23:13:41 interpolating the density field...\n",
      "2025-05-09 23:13:41 interpolating the velocity field...\n",
      "2025-05-09 23:13:41 Rejecting 1 samples with zcmb > 0.05\n"
     ]
    }
   ],
   "source": [
    "nsamples = 251\n",
    "fname = join(mock_dir, \"mock_0.hdf5\")\n",
    "\n",
    "mock = candel.mock.gen_CF4_TFR_mock(nsamples, seed=42, **kwargs)"
   ]
  },
  {
   "cell_type": "code",
   "execution_count": 83,
   "id": "33d809d9",
   "metadata": {},
   "outputs": [
    {
     "data": {
      "image/png": "[encoded data removed]",
      "text/plain": [
       "<Figure size 640x480 with 1 Axes>"
      ]
     },
     "metadata": {},
     "output_type": "display_data"
    }
   ],
   "source": [
    "plt.figure()\n",
    "plt.hist(mock[\"zcmb\"], bins=\"auto\", density=1, histtype=\"step\", label=\"mock\")\n",
    "plt.hist(CF4[\"zcmb\"], bins=\"auto\", density=1, histtype=\"step\", label=\"CF4\")\n",
    "plt.show()"
   ]
  },
  {
   "cell_type": "code",
   "execution_count": 84,
   "id": "43f17c36",
   "metadata": {},
   "outputs": [
    {
     "name": "stdout",
     "output_type": "stream",
     "text": [
      "writing `/Users/rstiskalek/Projects/CANDEL/data/CF4_mock/mock_0.hdf5`.\n"
     ]
    }
   ],
   "source": [
    "print(f\"writing `{fname}`.\")\n",
    "with File(fname, 'w') as f:\n",
    "    grp = f.create_group(\"mock\")\n",
    "    for key, value in mock.items():\n",
    "        grp.create_dataset(key, data=value, dtype=np.float32)\n",
    "\n",
    "    for key, value in kwargs.items():\n",
    "        if isinstance(value, (float, int, bool)):\n",
    "            grp.attrs[key] = value\n"
   ]
  },
  {
   "cell_type": "code",
   "execution_count": null,
   "id": "0599959a",
   "metadata": {},
   "outputs": [],
   "source": []
  }
 ],
 "metadata": {
  "kernelspec": {
   "display_name": "venv_candel",
   "language": "python",
   "name": "python3"
  },
  "language_info": {
   "codemirror_mode": {
    "name": "ipython",
    "version": 3
   },
   "file_extension": ".py",
   "mimetype": "text/x-python",
   "name": "python",
   "nbconvert_exporter": "python",
   "pygments_lexer": "ipython3",
   "version": "3.12.10"
  }
 },
 "nbformat": 4,
 "nbformat_minor": 5
}
