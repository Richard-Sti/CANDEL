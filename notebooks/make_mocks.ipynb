{
 "cells": [
  {
   "cell_type": "code",
   "execution_count": 1,
   "id": "0e0c63f1",
   "metadata": {},
   "outputs": [],
   "source": [
    "import sys\n",
    "sys.path.insert(0, \"/Users/rstiskalek/Projects/candel\")\n",
    "\n",
    "from os.path import join\n",
    "import numpy as np\n",
    "from h5py import File\n",
    "import matplotlib.pyplot as plt\n",
    "import candel\n",
    "\n",
    "%matplotlib inline\n",
    "%load_ext autoreload\n",
    "%autoreload 2"
   ]
  },
  {
   "cell_type": "code",
   "execution_count": 2,
   "id": "8f560cc3",
   "metadata": {},
   "outputs": [
    {
     "name": "stdout",
     "output_type": "stream",
     "text": [
      "2025-05-23 21:53:51 initially loaded 9788 galaxies from CF4 TFR data.\n",
      "2025-05-23 21:53:51 removed 6537 galaxies, thus 3251 remain.\n"
     ]
    }
   ],
   "source": [
    "mock_dir = \"/mnt/home/rstiskalek/ceph/CANDEL/data/CF4_mock\"\n",
    "CF4 = candel.pvdata.load_CF4_data(\"/mnt/home/rstiskalek/ceph/CANDEL/data/CF4\", which_band=\"w1\",)"
   ]
  },
  {
   "cell_type": "code",
   "execution_count": 3,
   "id": "57fd2951",
   "metadata": {},
   "outputs": [],
   "source": [
    "distmod2dist = candel.Distmod2Distance()\n",
    "distmod2redshift = candel.Distmod2Redshift()\n",
    "log_grad_distmod2dist = candel.LogGrad_Distmod2ComovingDistance()\n",
    "\n",
    "field_loader = candel.field.name2field_loader(\"Carrick2015\")(\n",
    "    path_density=\"/mnt/home/rstiskalek/ceph/CANDEL/data/fields/carrick2015_twompp_density.npy\",\n",
    "    path_velocity=\"/mnt/home/rstiskalek/ceph/CANDEL/data/fields/carrick2015_twompp_velocity.npy\"\n",
    "    )"
   ]
  },
  {
   "cell_type": "code",
   "execution_count": 8,
   "id": "14b33151",
   "metadata": {},
   "outputs": [],
   "source": [
    "kwargs = {\n",
    "    'Vext_mag': 210,\n",
    "    'Vext_ell': 295,\n",
    "    'Vext_b': -10,\n",
    "    'sigma_v': 270,\n",
    "    'a_TFR': -19.72,\n",
    "    'b_TFR': -10,\n",
    "    'c_TFR': 12,\n",
    "    'sigma_TFR': 0.32,\n",
    "    'a_TFR_dipole_mag': None,\n",
    "    'a_TFR_dipole_ell': 142.0,\n",
    "    'a_TFR_dipole_b': 52.0,\n",
    "    'alpha': 1.5,\n",
    "    'beta': 0.43,\n",
    "    'h': 1,\n",
    "    'mag': CF4['mag'] - 0.05,\n",
    "    'eta': CF4['eta'],\n",
    "    'mag_min': 7.5,\n",
    "    'mag_max': 16.5,\n",
    "    'e_mag': 0.05,\n",
    "    'eta_mean': 0.0,\n",
    "    'eta_std': 0.125,\n",
    "    'e_eta': 0.023,\n",
    "    'b_min': 7.5,\n",
    "    'zcmb_max': 0.05,\n",
    "    'r_h_max': 500,\n",
    "    'distmod2dist': distmod2dist,\n",
    "    'distmod2redshift': distmod2redshift,\n",
    "    'log_grad_distmod2dist': log_grad_distmod2dist,\n",
    "    'field_loader': field_loader,\n",
    "    'use_data_prior': True,\n",
    "    'rmin_reconstruction': 0.1,\n",
    "    'rmax_reconstruction': 250,\n",
    "    'num_steps_reconstruction':501,\n",
    "}\n"
   ]
  },
  {
   "cell_type": "code",
   "execution_count": 9,
   "id": "049276b1",
   "metadata": {},
   "outputs": [
    {
     "name": "stdout",
     "output_type": "stream",
     "text": [
      "2025-05-23 21:59:39 interpolating the density field...\n",
      "2025-05-23 21:59:42 interpolating the velocity field...\n",
      "2025-05-23 21:59:48 interpolating the density field...\n",
      "2025-05-23 21:59:49 interpolating the velocity field...\n",
      "2025-05-23 21:59:54 Rejecting 2 samples with zcmb > 0.05\n"
     ]
    }
   ],
   "source": [
    "nsamples = 1001\n",
    "fname = join(mock_dir, \"mock_0.hdf5\")\n",
    "\n",
    "mock = candel.mock.gen_CF4_TFR_mock(nsamples, seed=30, **kwargs)"
   ]
  },
  {
   "cell_type": "code",
   "execution_count": 10,
   "id": "33d809d9",
   "metadata": {},
   "outputs": [
    {
     "data": {
      "image/png": "[encoded data removed]",
      "text/plain": [
       "<Figure size 640x480 with 1 Axes>"
      ]
     },
     "metadata": {},
     "output_type": "display_data"
    }
   ],
   "source": [
    "plt.figure()\n",
    "plt.hist(mock[\"zcmb\"], bins=\"auto\", density=1, histtype=\"step\", label=\"mock\")\n",
    "plt.hist(CF4[\"zcmb\"], bins=\"auto\", density=1, histtype=\"step\", label=\"CF4\")\n",
    "plt.show()"
   ]
  },
  {
   "cell_type": "code",
   "execution_count": null,
   "id": "43f17c36",
   "metadata": {},
   "outputs": [
    {
     "name": "stdout",
     "output_type": "stream",
     "text": [
      "writing `/mnt/home/rstiskalek/ceph/CANDEL/data/CF4_mock/mock_0.hdf5`.\n"
     ]
    }
   ],
   "source": [
    "# print(f\"writing `{fname}`.\")\n",
    "# with File(fname, 'w') as f:\n",
    "#     grp = f.create_group(\"mock\")\n",
    "#     for key, value in mock.items():\n",
    "#         grp.create_dataset(key, data=value, dtype=np.float32)\n",
    "\n",
    "#     for key, value in kwargs.items():\n",
    "#         if isinstance(value, (float, int, bool)):\n",
    "#             grp.attrs[key] = value\n"
   ]
  },
  {
   "cell_type": "markdown",
   "id": "ce02e3d3",
   "metadata": {},
   "source": [
    "### Many mocks to test detecting the dipole"
   ]
  },
  {
   "cell_type": "code",
   "execution_count": 12,
   "id": "6d3a104f",
   "metadata": {},
   "outputs": [
    {
     "name": "stdout",
     "output_type": "stream",
     "text": [
      "2025-05-23 22:12:21 interpolating the density field...\n",
      "2025-05-23 22:12:22 interpolating the velocity field...\n",
      "2025-05-23 22:12:25 interpolating the density field...\n",
      "2025-05-23 22:12:26 interpolating the velocity field...\n",
      "2025-05-23 22:12:31 Rejecting 0 samples with zcmb > 0.05\n",
      "2025-05-23 22:12:31 interpolating the density field...\n",
      "2025-05-23 22:12:32 interpolating the velocity field...\n",
      "2025-05-23 22:12:35 interpolating the density field...\n",
      "2025-05-23 22:12:35 interpolating the velocity field...\n",
      "2025-05-23 22:12:38 Rejecting 2 samples with zcmb > 0.05\n",
      "2025-05-23 22:12:38 interpolating the density field...\n",
      "2025-05-23 22:12:40 interpolating the velocity field...\n",
      "2025-05-23 22:12:45 interpolating the density field...\n",
      "2025-05-23 22:12:46 interpolating the velocity field...\n",
      "2025-05-23 22:12:51 Rejecting 5 samples with zcmb > 0.05\n",
      "2025-05-23 22:12:51 interpolating the density field...\n",
      "2025-05-23 22:12:53 interpolating the velocity field...\n",
      "2025-05-23 22:12:59 interpolating the density field...\n",
      "2025-05-23 22:13:00 interpolating the velocity field...\n",
      "2025-05-23 22:13:05 Rejecting 6 samples with zcmb > 0.05\n"
     ]
    }
   ],
   "source": [
    "nsample_list = [500, 1000]\n",
    "nseeds_per_nsample = 2\n",
    "\n",
    "index = 0\n",
    "records = []\n",
    "\n",
    "for nsamples in nsample_list:\n",
    "    for i in range(nseeds_per_nsample):\n",
    "        seed = 1000 * nsamples + i  # unique, reproducible\n",
    "        fname = join(mock_dir, f\"mock_{index}.hdf5\")\n",
    "        print(f\"preparing`{fname}`.\")\n",
    "\n",
    "        mock = candel.mock.gen_CF4_TFR_mock(nsamples, seed=seed, **kwargs)\n",
    "\n",
    "        with File(fname, 'w') as f:\n",
    "            grp = f.create_group(\"mock\")\n",
    "            for key, value in mock.items():\n",
    "                grp.create_dataset(key, data=value, dtype=np.float32)\n",
    "\n",
    "            for key, value in kwargs.items():\n",
    "                if isinstance(value, (float, int, bool)):\n",
    "                    grp.attrs[key] = value\n",
    "            grp.attrs[\"seed\"] = seed\n",
    "            grp.attrs[\"nsamples\"] = nsamples\n",
    "\n",
    "        records.append((index, nsamples))\n",
    "        index += 1\n",
    "\n",
    "# Save index tracking table\n",
    "records = np.array(records, dtype=int)\n",
    "header = \"index nsamples\"\n",
    "np.savetxt(join(mock_dir, \"mock_index.txt\"), records, fmt=\"%d\", header=header)"
   ]
  },
  {
   "cell_type": "code",
   "execution_count": null,
   "id": "c62d530c",
   "metadata": {},
   "outputs": [],
   "source": []
  }
 ],
 "metadata": {
  "kernelspec": {
   "display_name": "venv_gpu_candel",
   "language": "python",
   "name": "python3"
  },
  "language_info": {
   "codemirror_mode": {
    "name": "ipython",
    "version": 3
   },
   "file_extension": ".py",
   "mimetype": "text/x-python",
   "name": "python",
   "nbconvert_exporter": "python",
   "pygments_lexer": "ipython3",
   "version": "3.10.10"
  }
 },
 "nbformat": 4,
 "nbformat_minor": 5
}
