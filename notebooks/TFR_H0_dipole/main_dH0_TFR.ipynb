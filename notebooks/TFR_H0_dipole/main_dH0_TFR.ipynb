{
 "cells": [
  {
   "cell_type": "code",
   "execution_count": 1,
   "id": "5f3e1777",
   "metadata": {},
   "outputs": [],
   "source": [
    "import sys\n",
    "sys.path.insert(0, \"/Users/rstiskalek/Projects/candel\")\n",
    "\n",
    "from os import system\n",
    "from os.path import join, basename\n",
    "\n",
    "import numpy as np\n",
    "import matplotlib.pyplot as plt\n",
    "from h5py import File\n",
    "import seaborn as sns\n",
    "from scipy.stats import norm\n",
    "import scienceplots\n",
    "\n",
    "import candel\n",
    "from utils import * \n",
    "\n",
    "\n",
    "%matplotlib inline\n",
    "%load_ext autoreload\n",
    "%autoreload 2"
   ]
  },
  {
   "cell_type": "code",
   "execution_count": 2,
   "id": "e27e10f5",
   "metadata": {},
   "outputs": [
    {
     "name": "stdout",
     "output_type": "stream",
     "text": [
      "root: /Users/rstiskalek/Projects/CANDEL/results/CF4_H0_anisotropy\n"
     ]
    }
   ],
   "source": [
    "config_path = \"/Users/rstiskalek/Projects/CANDEL/scripts/runs/config.toml\"\n",
    "config = candel.load_config(config_path, )\n",
    "\n",
    "\n",
    "root = join(config[\"root_main\"], \"results\", \"CF4_H0_anisotropy\")\n",
    "print(f\"root: {root}\")"
   ]
  },
  {
   "cell_type": "code",
   "execution_count": 3,
   "id": "37430e1a",
   "metadata": {},
   "outputs": [
    {
     "name": "stdout",
     "output_type": "stream",
     "text": [
      "/Users/rstiskalek/Projects/CANDEL/results/CF4_H0_anisotropy/precomputed_los_Carrick2015_CF4_W1_MNR.hdf5\n",
      "/Users/rstiskalek/Projects/CANDEL/results/CF4_H0_anisotropy/precomputed_los_Carrick2015_CF4_W1_MNR_aTFRdipole.hdf5\n",
      "/Users/rstiskalek/Projects/CANDEL/results/CF4_H0_anisotropy/precomputed_los_Carrick2015_CF4_W1_MNR_aTFRdipole_dust-CSFD.hdf5\n",
      "/Users/rstiskalek/Projects/CANDEL/results/CF4_H0_anisotropy/precomputed_los_Carrick2015_CF4_W1_MNR_aTFRdipole_dust-default.hdf5\n",
      "/Users/rstiskalek/Projects/CANDEL/results/CF4_H0_anisotropy/precomputed_los_Carrick2015_CF4_W1_MNR_dust-CSFD.hdf5\n",
      "/Users/rstiskalek/Projects/CANDEL/results/CF4_H0_anisotropy/precomputed_los_Carrick2015_CF4_W1_MNR_dust-default.hdf5\n",
      "/Users/rstiskalek/Projects/CANDEL/results/CF4_H0_anisotropy/precomputed_los_Carrick2015_CF4_W1_noMNR.hdf5\n",
      "/Users/rstiskalek/Projects/CANDEL/results/CF4_H0_anisotropy/precomputed_los_Carrick2015_CF4_W1_noMNR_aTFRdipole.hdf5\n",
      "/Users/rstiskalek/Projects/CANDEL/results/CF4_H0_anisotropy/precomputed_los_Carrick2015_CF4_W1_noMNR_aTFRdipole_dust-CSFD.hdf5\n",
      "/Users/rstiskalek/Projects/CANDEL/results/CF4_H0_anisotropy/precomputed_los_Carrick2015_CF4_W1_noMNR_aTFRdipole_dust-default.hdf5\n",
      "/Users/rstiskalek/Projects/CANDEL/results/CF4_H0_anisotropy/precomputed_los_Carrick2015_CF4_W1_noMNR_dust-CSFD.hdf5\n",
      "/Users/rstiskalek/Projects/CANDEL/results/CF4_H0_anisotropy/precomputed_los_Carrick2015_CF4_W1_noMNR_dust-default.hdf5\n",
      "/Users/rstiskalek/Projects/CANDEL/results/CF4_H0_anisotropy/precomputed_los_Carrick2015_PantheonPlus_MNR_Mdip_prior.hdf5\n"
     ]
    }
   ],
   "source": [
    "!ls /Users/rstiskalek/Projects/CANDEL/results/CF4_H0_anisotropy/precomputed_los*.hdf5"
   ]
  },
  {
   "cell_type": "markdown",
   "id": "535aefcf",
   "metadata": {},
   "source": [
    "## Table 1. Evidence comparison"
   ]
  },
  {
   "cell_type": "code",
   "execution_count": 13,
   "id": "91da7475",
   "metadata": {},
   "outputs": [
    {
     "name": "stdout",
     "output_type": "stream",
     "text": [
      "File: precomputed_los_Carrick2015_CF4_W1_noMNR_aTFRdipole.hdf5\n",
      "[DIPOLE]:    51135.34765625\n",
      "[ISO]:       51135.5859375\n",
      "[INFO] File last modified: 2025-05-23 12:46:49\n",
      "-0.23828125\n",
      "\n",
      "File: precomputed_los_Carrick2015_CF4_W1_noMNR_aTFRdipole_dust-default.hdf5\n",
      "[DIPOLE]:    51137.125\n",
      "[ISO]:       51136.88671875\n",
      "[INFO] File last modified: 2025-05-23 13:35:32\n",
      "0.23828125\n",
      "\n",
      "File: precomputed_los_Carrick2015_CF4_W1_noMNR_aTFRdipole_dust-CSFD.hdf5\n",
      "[DIPOLE]:    51137.36328125\n",
      "[ISO]:       51136.8125\n",
      "[INFO] File last modified: 2025-05-23 13:45:41\n",
      "0.55078125\n",
      "\n"
     ]
    }
   ],
   "source": [
    "which = \"AIC\"\n",
    "\n",
    "for dust_choice in [\"\", \"default\", \"CSFD\"]:\n",
    "    fname = join(root, \"precomputed_los_Carrick2015_CF4_W1_noMNR_aTFRdipole.hdf5\")\n",
    "\n",
    "    if len(dust_choice) > 0:\n",
    "        fname = fname.replace(\".hdf5\", f\"_dust-{dust_choice}.hdf5\")\n",
    "    print(f\"File: {basename(fname)}\")\n",
    "    print(compare_zeropoint_dipole_gof(fname, which))\n",
    "\n",
    "    # system(f\"open {fname.replace('.hdf5', '.png')}\")\n",
    "    print()\n",
    "\n"
   ]
  },
  {
   "cell_type": "markdown",
   "id": "f95599dc",
   "metadata": {},
   "source": [
    "### Figure 1: Carrick+2015 MNR posterior with a dipole"
   ]
  },
  {
   "cell_type": "code",
   "execution_count": null,
   "id": "8433a965",
   "metadata": {},
   "outputs": [],
   "source": [
    "fnames = [\n",
    "    \"precomputed_los_Carrick2015_CF4_W1_MNR_aTFRdipole.hdf5\",\n",
    "    ]\n",
    "\n",
    "fnames = [join(root, f) for f in fnames]\n",
    "\n",
    "plot_corner_from_hdf5(\n",
    "    fnames,\n",
    "    fontsize=22,\n",
    "    keys=None,\n",
    "    filename=\"C15_full_posterior.pdf\",\n",
    "    )"
   ]
  },
  {
   "cell_type": "markdown",
   "id": "87d1f3a0",
   "metadata": {},
   "source": [
    "### Figure 2: Zoom-in on the magnitude dipole"
   ]
  },
  {
   "cell_type": "code",
   "execution_count": null,
   "id": "7cb0eb37",
   "metadata": {},
   "outputs": [],
   "source": [
    "fnames = [\n",
    "    \"precomputed_los_Carrick2015_CF4_W1_noMNR.hdf5\",\n",
    "    \"precomputed_los_Carrick2015_CF4_W1_noMNR_aTFRdipole.hdf5\",\n",
    "    \"precomputed_los_Carrick2015_CF4_W1_noMNR_aTFRdipole_dust-default.hdf5\",\n",
    "    \"precomputed_los_Carrick2015_CF4_W1_noMNR_aTFRdipole_dust-CSFD.hdf5\",\n",
    "    ]\n",
    "\n",
    "labels = [\n",
    "    \"Isotropic\",\n",
    "    \"Dipole\",\n",
    "    \"Dipole + dust (default)\",\n",
    "    \"Dipole + dust (CSFD)\",\n",
    "    ]\n",
    "\n",
    "fnames = [join(root, f) for f in fnames]\n",
    "\n",
    "plot_corner_from_hdf5(\n",
    "    fnames,\n",
    "    fontsize=16,\n",
    "    labels=labels,\n",
    "    keys=[\"a_TFR_dipole_mag\", \"a_TFR_dipole_ell\", \"a_TFR_dipole_b\", \"sigma_v\", \"sigma_mu\"],\n",
    "    filename=\"C15_mag_dipole.pdf\",\n",
    "    )"
   ]
  },
  {
   "cell_type": "markdown",
   "id": "6e06682d",
   "metadata": {},
   "source": [
    "### Figure: Pantheon+ dipole"
   ]
  },
  {
   "cell_type": "code",
   "execution_count": null,
   "id": "5fd03403",
   "metadata": {},
   "outputs": [],
   "source": [
    "fname = \"/Users/rstiskalek/Projects/CANDEL/results/CF4_H0_anisotropy/precomputed_los_Carrick2015_PantheonPlus_MNR_Mdip_prior.hdf5\"\n",
    "\n",
    "\n",
    "keys = [\"M_dipole_mag\", \"M_dipole_ell\", \"M_dipole_b\", ]\n",
    "plot_corner_from_hdf5(fname, keys=keys, filename=\"Pantheon+_dipole.pdf\", )"
   ]
  },
  {
   "cell_type": "markdown",
   "id": "e2b098fd",
   "metadata": {},
   "source": [
    "### Figure: Evidence as a function of the sample size"
   ]
  },
  {
   "cell_type": "code",
   "execution_count": 4,
   "id": "464b882a",
   "metadata": {},
   "outputs": [],
   "source": [
    "mock_dir = \"/Users/rstiskalek/Projects/CANDEL/results/mock_CF4_H0_anisotropy\"\n",
    "\n",
    "records = np.loadtxt(\"/Users/rstiskalek/Projects/CANDEL/data/CF4_mock/mock_index.txt\", dtype=int, comments='#')\n",
    "indices, nsamples = records[:, 0], records[:, 1]\n",
    "\n",
    "fnames = [join(mock_dir, f\"precomputed_los_Carrick2015_CF4_mock_{i}_noMNR_aTFRdipole.hdf5\")\n",
    "          for i in indices]\n"
   ]
  },
  {
   "cell_type": "code",
   "execution_count": null,
   "id": "5bcaf5d9",
   "metadata": {},
   "outputs": [
    {
     "name": "stderr",
     "output_type": "stream",
     "text": [
      "/var/folders/kv/90qm_jx508j4zhvy56lhf09m0000gn/T/ipykernel_72514/482110498.py:67: UserWarning: FigureCanvasAgg is non-interactive, and thus cannot be shown\n",
      "  fig.show()\n"
     ]
    },
    {
     "data": {
      "image/png": "[encoded data removed]",
      "text/plain": [
       "<Figure size 720x250 with 2 Axes>"
      ]
     },
     "metadata": {},
     "output_type": "display_data"
    }
   ],
   "source": [
    "metrics = [\"logZ_harmonic\", \"BIC\"]\n",
    "with plt.style.context(\"science\"):\n",
    "    fig, axes = plt.subplots(1, 2, figsize=(7.2, 2.5))\n",
    "    lw = plt.rcParams[\"lines.linewidth\"]\n",
    "    unique_ns = np.unique(nsamples)\n",
    "\n",
    "    for ax, metric in zip(axes, metrics):\n",
    "        all_resamples = []\n",
    "        all_positions = []\n",
    "\n",
    "        gof = [\n",
    "            compare_zeropoint_dipole_gof(fname, metric, verbose=False)\n",
    "            for fname in fnames\n",
    "        ]\n",
    "        gof = np.asarray(gof)\n",
    "        if metric == \"BIC\":\n",
    "            gof *= -1\n",
    "\n",
    "        for num_samples in unique_ns:\n",
    "            mask = nsamples == num_samples\n",
    "            gof_vals = gof[mask]\n",
    "\n",
    "            if np.sum(np.isfinite(gof_vals)) == 0:\n",
    "                continue\n",
    "\n",
    "            resampled = norm.rvs(\n",
    "                loc=np.nanmean(gof_vals),\n",
    "                scale=np.nanstd(gof_vals),\n",
    "                size=100_000\n",
    "            )\n",
    "            all_resamples.extend(resampled)\n",
    "            all_positions.extend([str(num_samples)] * len(resampled))\n",
    "\n",
    "        sns.violinplot(\n",
    "            ax=ax,\n",
    "            x=all_positions,\n",
    "            y=all_resamples,\n",
    "            inner=\"quart\",\n",
    "            cut=0,\n",
    "            bw_method=\"scott\",\n",
    "            width=0.6,\n",
    "            color=\"#006FED\",\n",
    "            alpha=0.75,\n",
    "            linewidth=lw,\n",
    "            density_norm=\"width\",\n",
    "        )\n",
    "\n",
    "        ax.set_xlabel(\"Number of mock galaxies\")\n",
    "\n",
    "    axes[0].axhline(2, color=\"red\", linestyle=\"dotted\", lw=lw, zorder=0)\n",
    "    axes[1].axhline(10, color=\"red\", linestyle=\"dotted\", lw=lw, zorder=0)\n",
    "\n",
    "    axes[0].set_ylabel(r\"$\\log \\mathcal{B}$\")\n",
    "    axes[1].set_ylabel(r\"$\\mathrm{BIC}$\")\n",
    "\n",
    "    xticks = np.array([int(t.get_text()) for t in ax.get_xticklabels()])\n",
    "    if 3250 > xticks.min() and 3250 < xticks.max():\n",
    "        # Linear interpolation to get fractional index position\n",
    "        x_idx = np.interp(3250, xticks, np.arange(len(xticks)))\n",
    "        for i in range(2):\n",
    "            axes[i].axvline(\n",
    "                x=x_idx, c=\"k\", linestyle=\"dashed\", lw=lw, zorder=0)\n",
    "\n",
    "\n",
    "    fig.tight_layout()\n",
    "    # fig.savefig(\"gof_comparison.pdf\", dpi=450)\n",
    "    fig.show()"
   ]
  },
  {
   "cell_type": "markdown",
   "id": "d1923c12",
   "metadata": {},
   "source": [
    "### Playground"
   ]
  },
  {
   "cell_type": "code",
   "execution_count": null,
   "id": "d8c37053",
   "metadata": {},
   "outputs": [],
   "source": [
    "fnames = [\n",
    "    \"precomputed_los_Carrick2015_CF4_W1_MNR.hdf5\",\n",
    "    ]\n",
    "\n",
    "fnames = [join(root, f) for f in fnames]\n",
    "\n",
    "plot_corner_from_hdf5(\n",
    "    fnames,\n",
    "    keys=[\"Vext_mag\", \"Vext_ell\", \"Vext_b\"],\n",
    "    )"
   ]
  },
  {
   "cell_type": "code",
   "execution_count": null,
   "id": "06cd6fc7",
   "metadata": {},
   "outputs": [],
   "source": []
  }
 ],
 "metadata": {
  "kernelspec": {
   "display_name": "venv_candel",
   "language": "python",
   "name": "python3"
  },
  "language_info": {
   "codemirror_mode": {
    "name": "ipython",
    "version": 3
   },
   "file_extension": ".py",
   "mimetype": "text/x-python",
   "name": "python",
   "nbconvert_exporter": "python",
   "pygments_lexer": "ipython3",
   "version": "3.12.10"
  }
 },
 "nbformat": 4,
 "nbformat_minor": 5
}
