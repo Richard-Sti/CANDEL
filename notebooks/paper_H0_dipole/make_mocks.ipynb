{
 "cells": [
  {
   "cell_type": "code",
   "execution_count": 10,
   "id": "0e0c63f1",
   "metadata": {},
   "outputs": [
    {
     "name": "stdout",
     "output_type": "stream",
     "text": [
      "The autoreload extension is already loaded. To reload it, use:\n",
      "  %reload_ext autoreload\n"
     ]
    }
   ],
   "source": [
    "import os\n",
    "os.environ[\"PATH\"] = os.path.expanduser(\"~/texlive/bin/x86_64-linux\") + \":\" + os.environ[\"PATH\"]\n",
    "\n",
    "import sys\n",
    "sys.path.insert(0, \"/Users/rstiskalek/Projects/candel\")\n",
    "\n",
    "from os.path import join\n",
    "import numpy as np\n",
    "from h5py import File\n",
    "import matplotlib.pyplot as plt\n",
    "import candel\n",
    "\n",
    "%matplotlib inline\n",
    "%load_ext autoreload\n",
    "%autoreload 2"
   ]
  },
  {
   "cell_type": "code",
   "execution_count": 14,
   "id": "8f560cc3",
   "metadata": {},
   "outputs": [
    {
     "name": "stdout",
     "output_type": "stream",
     "text": [
      "2025-08-29 22:48:15 initially loaded 9788 galaxies from CF4 TFR data.\n",
      "2025-08-29 22:48:15 removed 6537 galaxies, thus 3251 remain.\n"
     ]
    }
   ],
   "source": [
    "mock_dir = \"/Users/rstiskalek/Projects/CANDEL/data/CF4_mock/anisotropic\"\n",
    "CF4 = candel.pvdata.load_CF4_data(\"/Users/rstiskalek/Projects/CANDEL/data/CF4\", which_band=\"w1\",)"
   ]
  },
  {
   "cell_type": "code",
   "execution_count": 15,
   "id": "14b33151",
   "metadata": {},
   "outputs": [],
   "source": [
    "field_loader = candel.field.name2field_loader(\"Carrick2015\")(\n",
    "    path_density=\"/Users/rstiskalek/Projects/CANDEL/data/fields/carrick2015_twompp_density.npy\",\n",
    "    path_velocity=\"/Users/rstiskalek/Projects/CANDEL/data/fields/carrick2015_twompp_velocity.npy\"\n",
    "    )\n",
    "\n",
    "kwargs = {\n",
    "    'r_grid': np.linspace(0.1, 250, 251),\n",
    "    'Vext_mag': 160,\n",
    "    'Vext_ell': 302,\n",
    "    'Vext_b': -17,\n",
    "    'sigma_v': 280,\n",
    "    'a_TFR': -19.95,\n",
    "    'b_TFR': -9.6,\n",
    "    'c_TFR': 10.5,\n",
    "    'sigma_int': 0.34,\n",
    "    'zeropoint_dipole_mag': 0.087,\n",
    "    # 'zeropoint_dipole_mag': None,\n",
    "    'zeropoint_dipole_ell': 127.0,\n",
    "    'zeropoint_dipole_b': 10.0,\n",
    "    'beta': 0.43,\n",
    "    'h': 1,\n",
    "    'eta_prior_mean': 0.08,\n",
    "    'eta_prior_std': 0.13,\n",
    "    'e_eta': 0.023,\n",
    "    'e_mag': 0.05,\n",
    "    'b_min': 7.5,\n",
    "    'zcmb_max': 0.05,\n",
    "    'R': 32,\n",
    "    'n': 1.4,\n",
    "    'p': 1.8,\n",
    "    'r2distmod': candel.Distance2Distmod(),\n",
    "    'r2z': candel.Distance2Redshift(),\n",
    "    'field_loader': field_loader,\n",
    "}\n"
   ]
  },
  {
   "cell_type": "markdown",
   "id": "59f9e01a",
   "metadata": {},
   "source": [
    "### Single mock"
   ]
  },
  {
   "cell_type": "code",
   "execution_count": 16,
   "id": "049276b1",
   "metadata": {},
   "outputs": [
    {
     "name": "stdout",
     "output_type": "stream",
     "text": [
      "2025-08-29 22:48:36 Rejecting 2 samples with zcmb > 0.05\n"
     ]
    }
   ],
   "source": [
    "nsamples = 1000\n",
    "mock = candel.mock.gen_TFR_mock(nsamples, seed=30, **kwargs)"
   ]
  },
  {
   "cell_type": "code",
   "execution_count": 17,
   "id": "33d809d9",
   "metadata": {},
   "outputs": [
    {
     "data": {
      "image/png": "[encoded data removed]",
      "text/plain": [
       "<Figure size 350x262.5 with 1 Axes>"
      ]
     },
     "metadata": {},
     "output_type": "display_data"
    }
   ],
   "source": [
    "import scienceplots\n",
    "COLS = [\"#87193d\", \"#1e42b9\", \"#d42a29\", \"#05dd6b\", \"#ee35d5\"]\n",
    "\n",
    "with plt.style.context(\"science\"):\n",
    "    plt.figure()\n",
    "    plt.hist(CF4[\"zcmb\"], bins=\"auto\", density=1, histtype=\"step\", label=\"CF4 TFR W1\", color=COLS[0])\n",
    "    plt.hist(mock[\"zcmb\"], bins=\"auto\", density=1, histtype=\"step\", label=\"Mock\", color=COLS[1])\n",
    "\n",
    "    plt.xlabel(r\"$z_{\\rm CMB}$\")\n",
    "    plt.ylabel(\"Normalized counts\")\n",
    "    plt.legend()\n",
    "\n",
    "    plt.tight_layout()\n",
    "    plt.xlim(0, 0.05)\n",
    "    plt.savefig(\"/Users/rstiskalek/Downloads/mock_redshift.pdf\", bbox_inches=\"tight\", dpi=450)\n",
    "    plt.show()"
   ]
  },
  {
   "cell_type": "code",
   "execution_count": 18,
   "id": "43f17c36",
   "metadata": {},
   "outputs": [],
   "source": [
    "# print(f\"writing `{fname}`.\")\n",
    "# with File(fname, 'w') as f:\n",
    "#     grp = f.create_group(\"mock\")\n",
    "#     for key, value in mock.items():\n",
    "#         grp.create_dataset(key, data=value, dtype=np.float32)\n",
    "\n",
    "#     for key, value in kwargs.items():\n",
    "#         if isinstance(value, (float, int, bool)):\n",
    "#             grp.attrs[key] = value\n"
   ]
  },
  {
   "cell_type": "markdown",
   "id": "ce02e3d3",
   "metadata": {},
   "source": [
    "### Many mocks to test detecting the dipole"
   ]
  },
  {
   "cell_type": "code",
   "execution_count": 19,
   "id": "6d3a104f",
   "metadata": {},
   "outputs": [
    {
     "name": "stdout",
     "output_type": "stream",
     "text": [
      "preparing`/Users/rstiskalek/Projects/CANDEL/data/CF4_mock/anisotropic/mock_0.hdf5`.\n",
      "preparing`/Users/rstiskalek/Projects/CANDEL/data/CF4_mock/anisotropic/mock_1.hdf5`.\n",
      "preparing`/Users/rstiskalek/Projects/CANDEL/data/CF4_mock/anisotropic/mock_2.hdf5`.\n",
      "preparing`/Users/rstiskalek/Projects/CANDEL/data/CF4_mock/anisotropic/mock_3.hdf5`.\n",
      "preparing`/Users/rstiskalek/Projects/CANDEL/data/CF4_mock/anisotropic/mock_4.hdf5`.\n",
      "preparing`/Users/rstiskalek/Projects/CANDEL/data/CF4_mock/anisotropic/mock_5.hdf5`.\n",
      "preparing`/Users/rstiskalek/Projects/CANDEL/data/CF4_mock/anisotropic/mock_6.hdf5`.\n",
      "preparing`/Users/rstiskalek/Projects/CANDEL/data/CF4_mock/anisotropic/mock_7.hdf5`.\n",
      "preparing`/Users/rstiskalek/Projects/CANDEL/data/CF4_mock/anisotropic/mock_8.hdf5`.\n",
      "preparing`/Users/rstiskalek/Projects/CANDEL/data/CF4_mock/anisotropic/mock_9.hdf5`.\n",
      "preparing`/Users/rstiskalek/Projects/CANDEL/data/CF4_mock/anisotropic/mock_10.hdf5`.\n",
      "preparing`/Users/rstiskalek/Projects/CANDEL/data/CF4_mock/anisotropic/mock_11.hdf5`.\n",
      "preparing`/Users/rstiskalek/Projects/CANDEL/data/CF4_mock/anisotropic/mock_12.hdf5`.\n",
      "preparing`/Users/rstiskalek/Projects/CANDEL/data/CF4_mock/anisotropic/mock_13.hdf5`.\n",
      "preparing`/Users/rstiskalek/Projects/CANDEL/data/CF4_mock/anisotropic/mock_14.hdf5`.\n",
      "preparing`/Users/rstiskalek/Projects/CANDEL/data/CF4_mock/anisotropic/mock_15.hdf5`.\n",
      "preparing`/Users/rstiskalek/Projects/CANDEL/data/CF4_mock/anisotropic/mock_16.hdf5`.\n",
      "preparing`/Users/rstiskalek/Projects/CANDEL/data/CF4_mock/anisotropic/mock_17.hdf5`.\n",
      "preparing`/Users/rstiskalek/Projects/CANDEL/data/CF4_mock/anisotropic/mock_18.hdf5`.\n",
      "preparing`/Users/rstiskalek/Projects/CANDEL/data/CF4_mock/anisotropic/mock_19.hdf5`.\n",
      "preparing`/Users/rstiskalek/Projects/CANDEL/data/CF4_mock/anisotropic/mock_20.hdf5`.\n",
      "preparing`/Users/rstiskalek/Projects/CANDEL/data/CF4_mock/anisotropic/mock_21.hdf5`.\n",
      "preparing`/Users/rstiskalek/Projects/CANDEL/data/CF4_mock/anisotropic/mock_22.hdf5`.\n",
      "preparing`/Users/rstiskalek/Projects/CANDEL/data/CF4_mock/anisotropic/mock_23.hdf5`.\n",
      "preparing`/Users/rstiskalek/Projects/CANDEL/data/CF4_mock/anisotropic/mock_24.hdf5`.\n",
      "preparing`/Users/rstiskalek/Projects/CANDEL/data/CF4_mock/anisotropic/mock_25.hdf5`.\n",
      "preparing`/Users/rstiskalek/Projects/CANDEL/data/CF4_mock/anisotropic/mock_26.hdf5`.\n",
      "preparing`/Users/rstiskalek/Projects/CANDEL/data/CF4_mock/anisotropic/mock_27.hdf5`.\n",
      "preparing`/Users/rstiskalek/Projects/CANDEL/data/CF4_mock/anisotropic/mock_28.hdf5`.\n",
      "preparing`/Users/rstiskalek/Projects/CANDEL/data/CF4_mock/anisotropic/mock_29.hdf5`.\n",
      "preparing`/Users/rstiskalek/Projects/CANDEL/data/CF4_mock/anisotropic/mock_30.hdf5`.\n",
      "preparing`/Users/rstiskalek/Projects/CANDEL/data/CF4_mock/anisotropic/mock_31.hdf5`.\n",
      "preparing`/Users/rstiskalek/Projects/CANDEL/data/CF4_mock/anisotropic/mock_32.hdf5`.\n",
      "preparing`/Users/rstiskalek/Projects/CANDEL/data/CF4_mock/anisotropic/mock_33.hdf5`.\n",
      "preparing`/Users/rstiskalek/Projects/CANDEL/data/CF4_mock/anisotropic/mock_34.hdf5`.\n",
      "preparing`/Users/rstiskalek/Projects/CANDEL/data/CF4_mock/anisotropic/mock_35.hdf5`.\n",
      "preparing`/Users/rstiskalek/Projects/CANDEL/data/CF4_mock/anisotropic/mock_36.hdf5`.\n",
      "preparing`/Users/rstiskalek/Projects/CANDEL/data/CF4_mock/anisotropic/mock_37.hdf5`.\n",
      "preparing`/Users/rstiskalek/Projects/CANDEL/data/CF4_mock/anisotropic/mock_38.hdf5`.\n",
      "preparing`/Users/rstiskalek/Projects/CANDEL/data/CF4_mock/anisotropic/mock_39.hdf5`.\n",
      "preparing`/Users/rstiskalek/Projects/CANDEL/data/CF4_mock/anisotropic/mock_40.hdf5`.\n",
      "preparing`/Users/rstiskalek/Projects/CANDEL/data/CF4_mock/anisotropic/mock_41.hdf5`.\n",
      "preparing`/Users/rstiskalek/Projects/CANDEL/data/CF4_mock/anisotropic/mock_42.hdf5`.\n",
      "preparing`/Users/rstiskalek/Projects/CANDEL/data/CF4_mock/anisotropic/mock_43.hdf5`.\n",
      "preparing`/Users/rstiskalek/Projects/CANDEL/data/CF4_mock/anisotropic/mock_44.hdf5`.\n",
      "preparing`/Users/rstiskalek/Projects/CANDEL/data/CF4_mock/anisotropic/mock_45.hdf5`.\n",
      "preparing`/Users/rstiskalek/Projects/CANDEL/data/CF4_mock/anisotropic/mock_46.hdf5`.\n",
      "preparing`/Users/rstiskalek/Projects/CANDEL/data/CF4_mock/anisotropic/mock_47.hdf5`.\n",
      "preparing`/Users/rstiskalek/Projects/CANDEL/data/CF4_mock/anisotropic/mock_48.hdf5`.\n",
      "preparing`/Users/rstiskalek/Projects/CANDEL/data/CF4_mock/anisotropic/mock_49.hdf5`.\n",
      "preparing`/Users/rstiskalek/Projects/CANDEL/data/CF4_mock/anisotropic/mock_50.hdf5`.\n",
      "preparing`/Users/rstiskalek/Projects/CANDEL/data/CF4_mock/anisotropic/mock_51.hdf5`.\n",
      "preparing`/Users/rstiskalek/Projects/CANDEL/data/CF4_mock/anisotropic/mock_52.hdf5`.\n",
      "preparing`/Users/rstiskalek/Projects/CANDEL/data/CF4_mock/anisotropic/mock_53.hdf5`.\n",
      "preparing`/Users/rstiskalek/Projects/CANDEL/data/CF4_mock/anisotropic/mock_54.hdf5`.\n",
      "preparing`/Users/rstiskalek/Projects/CANDEL/data/CF4_mock/anisotropic/mock_55.hdf5`.\n",
      "preparing`/Users/rstiskalek/Projects/CANDEL/data/CF4_mock/anisotropic/mock_56.hdf5`.\n",
      "preparing`/Users/rstiskalek/Projects/CANDEL/data/CF4_mock/anisotropic/mock_57.hdf5`.\n",
      "preparing`/Users/rstiskalek/Projects/CANDEL/data/CF4_mock/anisotropic/mock_58.hdf5`.\n",
      "preparing`/Users/rstiskalek/Projects/CANDEL/data/CF4_mock/anisotropic/mock_59.hdf5`.\n",
      "preparing`/Users/rstiskalek/Projects/CANDEL/data/CF4_mock/anisotropic/mock_60.hdf5`.\n",
      "preparing`/Users/rstiskalek/Projects/CANDEL/data/CF4_mock/anisotropic/mock_61.hdf5`.\n",
      "preparing`/Users/rstiskalek/Projects/CANDEL/data/CF4_mock/anisotropic/mock_62.hdf5`.\n",
      "preparing`/Users/rstiskalek/Projects/CANDEL/data/CF4_mock/anisotropic/mock_63.hdf5`.\n",
      "preparing`/Users/rstiskalek/Projects/CANDEL/data/CF4_mock/anisotropic/mock_64.hdf5`.\n",
      "preparing`/Users/rstiskalek/Projects/CANDEL/data/CF4_mock/anisotropic/mock_65.hdf5`.\n",
      "preparing`/Users/rstiskalek/Projects/CANDEL/data/CF4_mock/anisotropic/mock_66.hdf5`.\n",
      "preparing`/Users/rstiskalek/Projects/CANDEL/data/CF4_mock/anisotropic/mock_67.hdf5`.\n",
      "preparing`/Users/rstiskalek/Projects/CANDEL/data/CF4_mock/anisotropic/mock_68.hdf5`.\n",
      "preparing`/Users/rstiskalek/Projects/CANDEL/data/CF4_mock/anisotropic/mock_69.hdf5`.\n"
     ]
    }
   ],
   "source": [
    "nsample_list = [500, 1000, 2000, 4000, 8000, 16000, 32000]\n",
    "nseeds_per_nsample = 10\n",
    "\n",
    "index = 0\n",
    "records = []\n",
    "\n",
    "for nsamples in nsample_list:\n",
    "    for i in range(nseeds_per_nsample):\n",
    "        seed = 1000 * nsamples + i  # unique, reproducible\n",
    "        fname = join(mock_dir, f\"mock_{index}.hdf5\")\n",
    "        print(f\"preparing`{fname}`.\")\n",
    "\n",
    "        mock = candel.mock.gen_TFR_mock(\n",
    "            nsamples, seed=seed, **kwargs, verbose=False)\n",
    "\n",
    "        with File(fname, 'w') as f:\n",
    "            grp = f.create_group(\"mock\")\n",
    "            for key, value in mock.items():\n",
    "                grp.create_dataset(key, data=value, dtype=np.float32)\n",
    "\n",
    "            for key, value in kwargs.items():\n",
    "                if isinstance(value, (float, int, bool)):\n",
    "                    grp.attrs[key] = value\n",
    "            grp.attrs[\"seed\"] = seed\n",
    "            grp.attrs[\"nsamples\"] = nsamples\n",
    "\n",
    "        records.append((index, nsamples))\n",
    "        index += 1\n",
    "\n",
    "# Save index tracking table\n",
    "records = np.array(records, dtype=int)\n",
    "header = \"index nsamples\"\n",
    "np.savetxt(join(mock_dir, \"mock_index.txt\"), records, fmt=\"%d\", header=header)"
   ]
  }
 ],
 "metadata": {
  "kernelspec": {
   "display_name": "venv_candel (3.12.10)",
   "language": "python",
   "name": "python3"
  },
  "language_info": {
   "codemirror_mode": {
    "name": "ipython",
    "version": 3
   },
   "file_extension": ".py",
   "mimetype": "text/x-python",
   "name": "python",
   "nbconvert_exporter": "python",
   "pygments_lexer": "ipython3",
   "version": "3.12.10"
  }
 },
 "nbformat": 4,
 "nbformat_minor": 5
}
