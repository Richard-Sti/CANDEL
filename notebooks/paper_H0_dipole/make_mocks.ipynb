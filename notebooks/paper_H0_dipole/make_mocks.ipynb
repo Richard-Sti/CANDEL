{
 "cells": [
  {
   "cell_type": "code",
   "execution_count": 1,
   "id": "0e0c63f1",
   "metadata": {},
   "outputs": [],
   "source": [
    "import os\n",
    "os.environ[\"PATH\"] = os.path.expanduser(\"~/texlive/bin/x86_64-linux\") + \":\" + os.environ[\"PATH\"]\n",
    "\n",
    "import sys\n",
    "sys.path.insert(0, \"/Users/rstiskalek/Projects/candel\")\n",
    "\n",
    "from os.path import join\n",
    "import numpy as np\n",
    "from h5py import File\n",
    "import matplotlib.pyplot as plt\n",
    "import candel\n",
    "\n",
    "%matplotlib inline\n",
    "%load_ext autoreload\n",
    "%autoreload 2"
   ]
  },
  {
   "cell_type": "code",
   "execution_count": 21,
   "id": "8f560cc3",
   "metadata": {},
   "outputs": [
    {
     "name": "stdout",
     "output_type": "stream",
     "text": [
      "2025-09-14 00:33:35 initially loaded 9788 galaxies from CF4 TFR data.\n",
      "2025-09-14 00:33:35 removed 6537 galaxies, thus 3251 remain.\n"
     ]
    }
   ],
   "source": [
    "mock_dir = \"/Users/rstiskalek/Projects/CANDEL/data/CF4_mock/\"\n",
    "CF4 = candel.pvdata.load_CF4_data(\"/Users/rstiskalek/Projects/CANDEL/data/CF4\", which_band=\"w1\",)"
   ]
  },
  {
   "cell_type": "code",
   "execution_count": 22,
   "id": "14b33151",
   "metadata": {},
   "outputs": [],
   "source": [
    "field_loader = candel.field.name2field_loader(\"Carrick2015\")(\n",
    "    path_density=\"/Users/rstiskalek/Projects/CANDEL/data/fields/carrick2015_twompp_density.npy\",\n",
    "    path_velocity=\"/Users/rstiskalek/Projects/CANDEL/data/fields/carrick2015_twompp_velocity.npy\"\n",
    "    )\n",
    "\n",
    "kwargs = {\n",
    "    'r_grid': np.linspace(0.1, 250, 251),\n",
    "    'Vext_mag': 0.,\n",
    "    'Vext_ell': 302,\n",
    "    'Vext_b': -17,\n",
    "    'sigma_v': 280,\n",
    "    'a_TFR': -19.95,\n",
    "    'b_TFR': -9.6,\n",
    "    'c_TFR': 10.5,\n",
    "    'sigma_int': 0.34,\n",
    "    'zeropoint_dipole_mag': 0.087,\n",
    "    # 'zeropoint_dipole_mag': None,\n",
    "    'zeropoint_dipole_ell': 127.0,\n",
    "    'zeropoint_dipole_b': 10.0,\n",
    "    'beta': 0.0,\n",
    "    'h': 1,\n",
    "    'eta_prior_mean': 0.08,\n",
    "    'eta_prior_std': 0.13,\n",
    "    'e_eta': 0.023,\n",
    "    'e_mag': 0.05,\n",
    "    'b_min': 7.5,\n",
    "    'zcmb_max': 0.05,\n",
    "    'R': 32,\n",
    "    'n': 1.4,\n",
    "    'p': 1.8,\n",
    "    'r2distmod': candel.Distance2Distmod(),\n",
    "    'r2z': candel.Distance2Redshift(),\n",
    "    'field_loader': field_loader,\n",
    "}\n"
   ]
  },
  {
   "cell_type": "markdown",
   "id": "59f9e01a",
   "metadata": {},
   "source": [
    "### Single mock"
   ]
  },
  {
   "cell_type": "code",
   "execution_count": 23,
   "id": "049276b1",
   "metadata": {},
   "outputs": [
    {
     "name": "stdout",
     "output_type": "stream",
     "text": [
      "2025-09-14 00:33:37 Rejecting 1 samples with zcmb > 0.05\n"
     ]
    }
   ],
   "source": [
    "nsamples = 300\n",
    "mock = candel.mock.gen_TFR_mock(nsamples, seed=30, **kwargs)"
   ]
  },
  {
   "cell_type": "code",
   "execution_count": 24,
   "id": "33d809d9",
   "metadata": {},
   "outputs": [
    {
     "data": {
      "image/png": "[encoded data removed]",
      "text/plain": [
       "<Figure size 350x262.5 with 1 Axes>"
      ]
     },
     "metadata": {},
     "output_type": "display_data"
    }
   ],
   "source": [
    "import scienceplots\n",
    "COLS = [\"#87193d\", \"#1e42b9\", \"#d42a29\", \"#05dd6b\", \"#ee35d5\"]\n",
    "\n",
    "with plt.style.context(\"science\"):\n",
    "    plt.figure()\n",
    "    plt.hist(CF4[\"zcmb\"], bins=\"auto\", density=1, histtype=\"step\", label=\"CF4 TFR W1\", color=COLS[0])\n",
    "    plt.hist(mock[\"zcmb\"], bins=\"auto\", density=1, histtype=\"step\", label=\"Mock\", color=COLS[1])\n",
    "\n",
    "    plt.xlabel(r\"$z_{\\rm CMB}$\")\n",
    "    plt.ylabel(\"Normalized counts\")\n",
    "    plt.legend()\n",
    "\n",
    "    plt.tight_layout()\n",
    "    plt.xlim(0, 0.05)\n",
    "    plt.savefig(\"/Users/rstiskalek/Downloads/mock_redshift.pdf\", bbox_inches=\"tight\", dpi=450)\n",
    "    plt.show()"
   ]
  },
  {
   "cell_type": "code",
   "execution_count": 25,
   "id": "43f17c36",
   "metadata": {},
   "outputs": [],
   "source": [
    "# print(f\"writing `{fname}`.\")\n",
    "# with File(fname, 'w') as f:\n",
    "#     grp = f.create_group(\"mock\")\n",
    "#     for key, value in mock.items():\n",
    "#         grp.create_dataset(key, data=value, dtype=np.float32)\n",
    "\n",
    "#     for key, value in kwargs.items():\n",
    "#         if isinstance(value, (float, int, bool)):\n",
    "#             grp.attrs[key] = value\n"
   ]
  },
  {
   "cell_type": "markdown",
   "id": "ce02e3d3",
   "metadata": {},
   "source": [
    "### Many mocks to test detecting the dipole"
   ]
  },
  {
   "cell_type": "code",
   "execution_count": 27,
   "id": "6d3a104f",
   "metadata": {},
   "outputs": [
    {
     "name": "stdout",
     "output_type": "stream",
     "text": [
      "preparing`/Users/rstiskalek/Projects/CANDEL/data/CF4_mock/mock_0.hdf5`.\n",
      "preparing`/Users/rstiskalek/Projects/CANDEL/data/CF4_mock/mock_1.hdf5`.\n"
     ]
    }
   ],
   "source": [
    "# nsample_list = [500, 1000, 2000, 4000, 8000, 16000, 32000]\n",
    "# nseeds_per_nsample = 10\n",
    "nsample_list = [750, ]\n",
    "nseeds_per_nsample = 2\n",
    "\n",
    "index = 0\n",
    "records = []\n",
    "\n",
    "for nsamples in nsample_list:\n",
    "    for i in range(nseeds_per_nsample):\n",
    "        seed = 1000 * nsamples + i  # unique, reproducible\n",
    "        fname = join(mock_dir, f\"mock_{index}.hdf5\")\n",
    "        print(f\"preparing`{fname}`.\")\n",
    "\n",
    "        mock = candel.mock.gen_TFR_mock(\n",
    "            nsamples, seed=seed, **kwargs, verbose=False)\n",
    "\n",
    "        with File(fname, 'w') as f:\n",
    "            grp = f.create_group(\"mock\")\n",
    "            for key, value in mock.items():\n",
    "                grp.create_dataset(key, data=value, dtype=np.float32)\n",
    "\n",
    "            for key, value in kwargs.items():\n",
    "                if isinstance(value, (float, int, bool)):\n",
    "                    grp.attrs[key] = value\n",
    "            grp.attrs[\"seed\"] = seed\n",
    "            grp.attrs[\"nsamples\"] = nsamples\n",
    "\n",
    "        records.append((index, nsamples))\n",
    "        index += 1\n",
    "\n",
    "# Save index tracking table\n",
    "records = np.array(records, dtype=int)\n",
    "header = \"index nsamples\"\n",
    "np.savetxt(join(mock_dir, \"mock_index.txt\"), records, fmt=\"%d\", header=header)"
   ]
  },
  {
   "cell_type": "code",
   "execution_count": null,
   "id": "7fd4e9a0",
   "metadata": {},
   "outputs": [],
   "source": []
  }
 ],
 "metadata": {
  "kernelspec": {
   "display_name": "venv_candel (3.12.10)",
   "language": "python",
   "name": "python3"
  },
  "language_info": {
   "codemirror_mode": {
    "name": "ipython",
    "version": 3
   },
   "file_extension": ".py",
   "mimetype": "text/x-python",
   "name": "python",
   "nbconvert_exporter": "python",
   "pygments_lexer": "ipython3",
   "version": "3.12.10"
  }
 },
 "nbformat": 4,
 "nbformat_minor": 5
}
