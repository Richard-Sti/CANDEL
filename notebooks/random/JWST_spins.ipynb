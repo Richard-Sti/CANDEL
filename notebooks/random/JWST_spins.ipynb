{
 "cells": [
  {
   "cell_type": "code",
   "execution_count": 45,
   "id": "e3abc9e1",
   "metadata": {},
   "outputs": [],
   "source": [
    "import numpy as np\n",
    "from os.path import join\n",
    "\n",
    "import healpy as hp\n",
    "import scienceplots\n",
    "import matplotlib.pyplot as plt\n",
    "\n",
    "\n",
    "%matplotlib inline\n",
    "\n",
    "\n",
    "\n",
    "# import healpy as hp\n",
    "# import jax.numpy as jnp\n",
    "# import matplotlib.pyplot as plt\n",
    "# import numpy as np\n",
    "# from corner import corner\n",
    "# from h5py import File\n",
    "# import harmonic as hm\n",
    "# from jax import random\n",
    "# from jax.lax import cond\n",
    "# from numpyro import deterministic, factor, plate, sample\n",
    "# from numpyro.distributions import ProjectedNormal, Uniform\n",
    "# from numpyro.handlers import reparam\n",
    "# from numpyro.infer import MCMC, NUTS, init_to_sample\n",
    "# from numpyro.infer.reparam import ProjectedNormalReparam\n",
    "# import scienceplots"
   ]
  },
  {
   "cell_type": "markdown",
   "id": "a25068e5",
   "metadata": {},
   "source": [
    "### Load the JWST data"
   ]
  },
  {
   "cell_type": "code",
   "execution_count": 76,
   "id": "7acad481",
   "metadata": {},
   "outputs": [],
   "source": [
    "def read_latex_table(filename, spin):\n",
    "    data = []\n",
    "    with open(filename) as f:\n",
    "        for lineno, line in enumerate(f):\n",
    "            if not line.strip():\n",
    "                continue\n",
    "\n",
    "            if lineno == 0:\n",
    "                continue\n",
    "\n",
    "            line = line.replace('\\\\', '')\n",
    "            parts = [p.strip() for p in line.split('&') if p.strip()]\n",
    "\n",
    "            for i in range(0, len(parts), 3):\n",
    "                if i + 2 >= len(parts):\n",
    "                    continue\n",
    "\n",
    "                try:\n",
    "                    id_val = int(parts[i])\n",
    "                    ra_val = float(parts[i+1])\n",
    "                    dec_val = float(parts[i+2])\n",
    "                    data.append((id_val, ra_val, dec_val, spin))\n",
    "                except ValueError:\n",
    "                    continue\n",
    "\n",
    "    return data\n",
    "\n",
    "\n",
    "def load_all_files(folder):\n",
    "    files = [\n",
    "        # ('clockwise_1.txt', 1),\n",
    "        ('clockwise_2.txt', 1),\n",
    "        # ('counterclockwise_1.txt', 0),\n",
    "        ('counterclockwise_2.txt', 0),\n",
    "    ]\n",
    "\n",
    "    all_data = []\n",
    "    for fname, spin in files:\n",
    "        path = join(folder, fname)\n",
    "        data = read_latex_table(path, spin)\n",
    "        all_data.extend(data)\n",
    "\n",
    "    dtype = np.dtype([('id', int), ('ra', float), ('dec', float), ('spin', int)])\n",
    "    return np.array(all_data, dtype=dtype)\n",
    "\n"
   ]
  },
  {
   "cell_type": "code",
   "execution_count": 77,
   "id": "b21677be",
   "metadata": {},
   "outputs": [
    {
     "name": "stdout",
     "output_type": "stream",
     "text": [
      "Loaded 82 entries from catalog.\n",
      "The mean spin is 0.6463414634146342.\n"
     ]
    }
   ],
   "source": [
    "folder = \"/Users/rstiskalek/Projects/Data/JWST_spins_Shamir/\"\n",
    "catalog = load_all_files(folder)\n",
    "\n",
    "\n",
    "print(f\"Loaded {len(catalog)} entries from catalog.\")\n",
    "print(f\"The mean spin is {np.mean(catalog['spin'])}.\")"
   ]
  },
  {
   "cell_type": "code",
   "execution_count": 78,
   "id": "45a29bf0",
   "metadata": {},
   "outputs": [],
   "source": [
    "from scipy.special import comb\n",
    "from scipy.integrate import simpson\n",
    "\n",
    "\n",
    "n = len(catalog)\n",
    "k = np.sum(catalog['spin'] == 1)\n",
    "\n",
    "\n",
    "def log_pdf(M):\n",
    "    return np.log(comb(n, k)) + k * np.log(M) + (n - k) * np.log(1 - M)"
   ]
  },
  {
   "cell_type": "code",
   "execution_count": 79,
   "id": "fda91e97",
   "metadata": {},
   "outputs": [
    {
     "name": "stderr",
     "output_type": "stream",
     "text": [
      "/var/folders/kv/90qm_jx508j4zhvy56lhf09m0000gn/T/ipykernel_41881/3263720629.py:10: RuntimeWarning: divide by zero encountered in log\n",
      "  return np.log(comb(n, k)) + k * np.log(M) + (n - k) * np.log(1 - M)\n"
     ]
    },
    {
     "data": {
      "image/png": "[encoded data removed]",
      "text/plain": [
       "<Figure size 640x480 with 1 Axes>"
      ]
     },
     "metadata": {},
     "output_type": "display_data"
    }
   ],
   "source": [
    "x = np.linspace(0, 1, 1000)\n",
    "y = log_pdf(x)\n",
    "y -= np.log(simpson(np.exp(y), x))  # Normalize the log PDF\n",
    "\n",
    "plt.figure()\n",
    "plt.plot(x, np.exp(y), label='Log PDF')\n",
    "plt.axvline(x=0.5, color='red', linestyle='--', label='M = 0.5')\n",
    "plt.ylim(0)\n",
    "plt.xlabel(r\"Monopole $M$\")\n",
    "plt.ylabel(r\"$\\mathcal{P}(M)$\")\n",
    "plt.savefig(\"jwst_spin_mono.png\", bbox_inches='tight', dpi=450)\n",
    "plt.show()\n"
   ]
  },
  {
   "cell_type": "code",
   "execution_count": null,
   "id": "89ba5dca",
   "metadata": {},
   "outputs": [],
   "source": []
  }
 ],
 "metadata": {
  "kernelspec": {
   "display_name": "venv_candel",
   "language": "python",
   "name": "python3"
  },
  "language_info": {
   "codemirror_mode": {
    "name": "ipython",
    "version": 3
   },
   "file_extension": ".py",
   "mimetype": "text/x-python",
   "name": "python",
   "nbconvert_exporter": "python",
   "pygments_lexer": "ipython3",
   "version": "3.12.10"
  }
 },
 "nbformat": 4,
 "nbformat_minor": 5
}
