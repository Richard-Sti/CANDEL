{
 "cells": [
  {
   "cell_type": "code",
   "execution_count": null,
   "id": "fabc94ca",
   "metadata": {},
   "outputs": [
    {
     "name": "stdout",
     "output_type": "stream",
     "text": [
      "Writing to /Users/rstiskalek/Downloads/CF4_table.hdf5\n"
     ]
    }
   ],
   "source": [
    "\"\"\"\n",
    "Parse CF4 galaxy distance catalog from a text file, clean column names,\n",
    "infer data types, filter invalid entries (non-finite RA), and export each\n",
    "column as a separate dataset to an HDF5 file. Fields containing 'pgc' are\n",
    "stored as int32.\n",
    "\"\"\"\n",
    "\n",
    "import csv\n",
    "import numpy as np\n",
    "import h5py\n",
    "\n",
    "filename = \"/Users/rstiskalek/Downloads/CF4_table.txt\"\n",
    "\n",
    "# --- Load and parse file ---\n",
    "with open(filename, \"r\", encoding=\"utf-8\") as f:\n",
    "    lines = f.readlines()\n",
    "\n",
    "col_names = lines[1].strip().split(\",\")\n",
    "data_lines = lines[5:]\n",
    "rows = [row for row in csv.reader(data_lines) if any(row)]\n",
    "\n",
    "# --- Dtype inference ---\n",
    "def infer_dtype(col):\n",
    "    clean = [v for v in col if v.strip()]\n",
    "    try:\n",
    "        [float(v) for v in clean]\n",
    "        return np.float64\n",
    "    except ValueError:\n",
    "        try:\n",
    "            [int(v) for v in clean]\n",
    "            return np.int32\n",
    "        except ValueError:\n",
    "            maxlen = max(len(v) for v in clean) if clean else 1\n",
    "            return f'U{maxlen}'\n",
    "\n",
    "columns = list(zip(*rows))\n",
    "dtypes = [(col_names[i], infer_dtype(columns[i])) for i in range(len(col_names))]\n",
    "\n",
    "# --- Build structured array ---\n",
    "arr = np.empty(len(rows), dtype=dtypes)\n",
    "for i, row in enumerate(rows):\n",
    "    for j, val in enumerate(row):\n",
    "        name, typ = dtypes[j]\n",
    "        kind = np.dtype(typ).kind\n",
    "        try:\n",
    "            arr[i][name] = float(val) if kind == 'f' else int(val) if kind == 'i' else val\n",
    "        except ValueError:\n",
    "            arr[i][name] = np.nan if kind == 'f' else -1 if kind == 'i' else \"\"\n",
    "\n",
    "# --- Filter valid RA ---\n",
    "arr = arr[np.isfinite(arr[\"RA\"])]\n",
    "\n",
    "# --- Clean up field names ---\n",
    "clean_names = [name.replace(\"*\", \"\") for name in arr.dtype.names]\n",
    "new_dtype = np.dtype([(clean_names[i], arr.dtype[i]) for i in range(len(clean_names))])\n",
    "clean_arr = np.empty(arr.shape, dtype=new_dtype)\n",
    "for old, new in zip(arr.dtype.names, clean_names):\n",
    "    clean_arr[new] = arr[old]\n",
    "\n",
    "# --- Write to HDF5 ---\n",
    "fname_write = filename.replace(\".txt\", \".hdf5\")\n",
    "print(f\"Writing to {fname_write}\")\n",
    "\n",
    "with h5py.File(fname_write, \"w\") as f:\n",
    "    g = f.create_group(\"cf4\")\n",
    "    for name in clean_arr.dtype.names:\n",
    "        data = clean_arr[name]\n",
    "        if \"pgc\" in name.lower():\n",
    "            with np.errstate(invalid=\"ignore\"):\n",
    "                data = np.where(np.isfinite(data), data.astype(np.int32), -1)\n",
    "        g.create_dataset(name, data=data)\n",
    "        "
   ]
  },
  {
   "cell_type": "code",
   "execution_count": null,
   "id": "6ca8f49d",
   "metadata": {},
   "outputs": [],
   "source": []
  }
 ],
 "metadata": {
  "kernelspec": {
   "display_name": "venv_candel",
   "language": "python",
   "name": "python3"
  },
  "language_info": {
   "codemirror_mode": {
    "name": "ipython",
    "version": 3
   },
   "file_extension": ".py",
   "mimetype": "text/x-python",
   "name": "python",
   "nbconvert_exporter": "python",
   "pygments_lexer": "ipython3",
   "version": "3.12.10"
  }
 },
 "nbformat": 4,
 "nbformat_minor": 5
}
