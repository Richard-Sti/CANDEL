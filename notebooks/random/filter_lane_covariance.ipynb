{
 "cells": [
  {
   "cell_type": "code",
   "execution_count": 1,
   "id": "cd80f222",
   "metadata": {},
   "outputs": [],
   "source": [
    "from os.path import join\n",
    "import numpy as np\n"
   ]
  },
  {
   "cell_type": "code",
   "execution_count": 3,
   "id": "317b7467",
   "metadata": {},
   "outputs": [],
   "source": [
    "import numpy as np\n",
    "from os.path import join\n",
    "\n",
    "root = \"/Users/rstiskalek/Projects/CANDEL/data/Pantheon+_Lane\"\n",
    "\n",
    "# --- Filter the catalog ---\n",
    "cat_path = join(root, \"full_ps1_input.csv\")\n",
    "x = np.genfromtxt(cat_path, delimiter=\",\", names=True, dtype=None, encoding=None)\n",
    "\n",
    "mask_sn = x[\"zCMB\"] < 0.075\n",
    "x_filtered = x[mask_sn]\n",
    "\n",
    "# Save filtered catalog\n",
    "out_cat = join(root, \"full_ps1_input_LOWZ.csv\")\n",
    "header = \",\".join(x_filtered.dtype.names)\n",
    "np.savetxt(out_cat, x_filtered, delimiter=\",\", header=header, comments=\"\", fmt=\"%s\")\n",
    "\n",
    "# --- Apply the same mask to the 3N x 3N covariance ---\n",
    "cov_path = join(root, \"PP_cov_new.txt\")\n",
    "cov = np.loadtxt(cov_path)\n",
    "\n",
    "N = len(x)\n",
    "if cov.shape != (3*N, 3*N):\n",
    "    raise ValueError(f\"Cov shape {cov.shape} does not match 3N x 3N with N={N}.\")\n",
    "\n",
    "keep_sn = np.where(mask_sn)[0]      # e.g. [18, 681, ...]\n",
    "idx = (3 * keep_sn[:, None] + np.arange(3)).ravel()\n",
    "\n",
    "cov_filtered = cov[idx][:, idx]\n",
    "\n",
    "# Save filtered covariance\n",
    "out_cov = join(root, \"PP_cov_new_LOWZ.txt\")\n",
    "np.savetxt(out_cov, cov_filtered, fmt=\"%.8e\")"
   ]
  },
  {
   "cell_type": "code",
   "execution_count": 4,
   "id": "2ed3daaa",
   "metadata": {},
   "outputs": [
    {
     "name": "stdout",
     "output_type": "stream",
     "text": [
      "ii = 686\n",
      "ii_range = 2058:2061\n",
      "idx[i:i+3] = [2058 2059 2060]\n",
      "COV sliced\n",
      " [[ 0.00773305 -0.00025534  0.0021621 ]\n",
      " [-0.00025534  0.03406532 -0.0005484 ]\n",
      " [ 0.0021621  -0.0005484   0.00132554]]\n",
      "COV filtered\n",
      " [[ 0.00773305 -0.00025534  0.0021621 ]\n",
      " [-0.00025534  0.03406532 -0.0005484 ]\n",
      " [ 0.0021621  -0.0005484   0.00132554]]\n"
     ]
    }
   ],
   "source": [
    "i = 5\n",
    "\n",
    "\n",
    "\n",
    "ii = keep_sn[i]\n",
    "print(f\"ii = {ii}\")\n",
    "print(f\"ii_range = {ii * 3}:{ii * 3 + 3}\")\n",
    "print(f\"idx[i:i+3] = {idx[3 * i:3 * i+3]}\")\n",
    "\n",
    "\n",
    "print(\"COV sliced\\n\", cov[ii * 3:ii * 3 + 3, ii * 3:ii * 3 + 3])\n",
    "print(\"COV filtered\\n\", cov_filtered[3 * i:3 * i + 3, 3 * i:3 * i + 3])"
   ]
  },
  {
   "cell_type": "code",
   "execution_count": null,
   "id": "2590c3dc",
   "metadata": {},
   "outputs": [],
   "source": []
  }
 ],
 "metadata": {
  "kernelspec": {
   "display_name": "venv_candel (3.12.10)",
   "language": "python",
   "name": "python3"
  },
  "language_info": {
   "codemirror_mode": {
    "name": "ipython",
    "version": 3
   },
   "file_extension": ".py",
   "mimetype": "text/x-python",
   "name": "python",
   "nbconvert_exporter": "python",
   "pygments_lexer": "ipython3",
   "version": "3.12.10"
  }
 },
 "nbformat": 4,
 "nbformat_minor": 5
}
