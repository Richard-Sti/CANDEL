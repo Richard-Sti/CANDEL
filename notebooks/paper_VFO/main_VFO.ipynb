{
 "cells": [
  {
   "cell_type": "code",
   "execution_count": 12,
   "id": "5f3e1777",
   "metadata": {},
   "outputs": [
    {
     "name": "stdout",
     "output_type": "stream",
     "text": [
      "The autoreload extension is already loaded. To reload it, use:\n",
      "  %reload_ext autoreload\n"
     ]
    }
   ],
   "source": [
    "import sys\n",
    "sys.path.insert(0, \"/Users/rstiskalek/Projects/candel\")\n",
    "\n",
    "from os.path import join, exists\n",
    "\n",
    "import numpy as np\n",
    "import matplotlib.pyplot as plt\n",
    "from h5py import File\n",
    "import scienceplots\n",
    "\n",
    "import candel\n",
    "from candel import plot_corner_from_hdf5, read_samples\n",
    "\n",
    "from utils import *\n",
    "\n",
    "\n",
    "%matplotlib inline\n",
    "%load_ext autoreload\n",
    "%autoreload 2\n",
    "\n",
    "\n",
    "COLS = \"#1be7ffff\", \"#6eeb83ff\", \"#e4ff1aff\", \"#ffb800ff\", \"#ff5714ff\", \"#9b5de5ff\",\n",
    "\n",
    "\n",
    "\n",
    "\n",
    "config_path = \"/Users/rstiskalek/Projects/CANDEL/scripts/runs/config.toml\"\n",
    "config = candel.load_config(config_path, )\n",
    "root = join(\"/Users/rstiskalek/Projects/CANDEL/\", \"results\", \"dH0\")\n",
    "\n",
    "\n",
    "\n",
    "\n"
   ]
  },
  {
   "cell_type": "code",
   "execution_count": 24,
   "id": "ed98e042",
   "metadata": {},
   "outputs": [],
   "source": [
    "from astropy.coordinates import angular_separation\n",
    "\n",
    "rootdir = \"/Users/rstiskalek/Projects/CANDEL/data/CF4\"\n",
    "RA_virgo = np.deg2rad(candel.hms_to_degrees(12, 27)),\n",
    "dec_virgo = np.deg2rad(candel.dms_to_degrees(12, 43))\n",
    "dist_virgo = 16.5 * 0.73  # Mpc/h\n",
    "\n",
    "k = None\n",
    "data = {}\n",
    "reconstructions = [\"Carrick2015\", \"Lilow2024\", \"CF4\"]\n",
    "\n",
    "for reconstruction in reconstructions:\n",
    "    with File(join(rootdir, f\"los_CF4_TFR_{reconstruction}.hdf5\"), 'r') as f:\n",
    "        if k is None:\n",
    "            RA = np.deg2rad(f[\"RA\"][...])\n",
    "            dec = np.deg2rad(f[\"dec\"][...])\n",
    "            angdist = angular_separation(RA, dec, RA_virgo, dec_virgo)\n",
    "            k = np.argmin(angdist)\n",
    "\n",
    "        r = f[\"r\"][...]\n",
    "        rho = f[\"los_density\"][:, k, :]\n",
    "        vel = f[\"los_velocity\"][:, k, :]\n",
    "\n",
    "        if reconstruction == \"Carrick2015\":\n",
    "            vel *= 0.43\n",
    "\n",
    "        data[reconstruction] = [r, rho, vel]\n",
    "    "
   ]
  },
  {
   "cell_type": "code",
   "execution_count": 26,
   "id": "5a8192b3",
   "metadata": {},
   "outputs": [
    {
     "data": {
      "image/png": "[encoded data removed]",
      "text/plain": [
       "<Figure size 350x262.5 with 1 Axes>"
      ]
     },
     "metadata": {},
     "output_type": "display_data"
    }
   ],
   "source": [
    "with plt.style.context(\"science\"):\n",
    "    fig, ax = plt.subplots()\n",
    "    lw = plt.rcParams[\"lines.linewidth\"]\n",
    "\n",
    "    for simname in reconstructions:\n",
    "        r, rho, vel = data[simname]  # vel: (nsamples, nr)\n",
    "        y = vel\n",
    "\n",
    "        col = simname2color(simname)\n",
    "        if vel.shape[0] > 1:\n",
    "            ylow, yhigh = np.percentile(y, [16, 84], axis=0)\n",
    "            ax.fill_between(r, ylow, yhigh, alpha=0.5,\n",
    "                            label=simname2label(simname), color=col)\n",
    "        else:\n",
    "            ax.plot(r, y[0], lw=1.5 * lw, label=simname2label(simname),\n",
    "                    color=col)\n",
    "\n",
    "    ax.set_xlabel(r\"$r~[h^{-1}\\,\\mathrm{Mpc}]$\")\n",
    "    ax.set_ylabel(r\"$V_{\\rm rad}~[\\mathrm{km}\\,\\mathrm{s}^{-1}]$\")\n",
    "\n",
    "    ax.set_xlim(r.min(), 90)\n",
    "    # ax.set_ylim(-800, 1100)\n",
    "\n",
    "    ax.axvline(dist_virgo, zorder=0, c=\"k\", ls=\"--\", alpha=0.75)\n",
    "\n",
    "    ax.legend(ncols=2, loc=\"upper right\")\n",
    "\n",
    "    fig.tight_layout()\n",
    "    plt.show()"
   ]
  }
 ],
 "metadata": {
  "kernelspec": {
   "display_name": "venv_candel (3.12.10)",
   "language": "python",
   "name": "python3"
  },
  "language_info": {
   "codemirror_mode": {
    "name": "ipython",
    "version": 3
   },
   "file_extension": ".py",
   "mimetype": "text/x-python",
   "name": "python",
   "nbconvert_exporter": "python",
   "pygments_lexer": "ipython3",
   "version": "3.12.10"
  }
 },
 "nbformat": 4,
 "nbformat_minor": 5
}
