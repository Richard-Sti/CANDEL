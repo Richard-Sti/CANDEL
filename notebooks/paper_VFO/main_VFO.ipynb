{
 "cells": [
  {
   "cell_type": "code",
   "execution_count": 1,
   "id": "5f3e1777",
   "metadata": {},
   "outputs": [],
   "source": [
    "import sys\n",
    "sys.path.insert(0, \"/Users/rstiskalek/Projects/candel\")\n",
    "\n",
    "from os.path import join, exists\n",
    "\n",
    "import numpy as np\n",
    "import matplotlib.pyplot as plt\n",
    "from h5py import File\n",
    "import scienceplots\n",
    "\n",
    "import candel\n",
    "from candel import plot_corner_from_hdf5, read_samples\n",
    "\n",
    "from utils import *\n",
    "\n",
    "\n",
    "%matplotlib inline\n",
    "%load_ext autoreload\n",
    "%autoreload 2\n",
    "\n",
    "\n",
    "COLS = \"#1be7ffff\", \"#6eeb83ff\", \"#e4ff1aff\", \"#ffb800ff\", \"#ff5714ff\", \"#9b5de5ff\",\n",
    "\n",
    "config_path = \"/Users/rstiskalek/Projects/CANDEL/scripts/runs/config.toml\"\n",
    "config = candel.load_config(config_path, )\n",
    "# root = join(\"/Users/rstiskalek/Projects/CANDEL/\", \"results\", \"dH0\")"
   ]
  },
  {
   "cell_type": "markdown",
   "id": "2a5f9c74",
   "metadata": {},
   "source": [
    "### Figure: Redshift distribution comparison"
   ]
  },
  {
   "cell_type": "code",
   "execution_count": 2,
   "id": "f9d30764",
   "metadata": {},
   "outputs": [],
   "source": [
    "import seaborn as sns\n",
    "from candel import SPEED_OF_LIGHT\n",
    "\n",
    "\n",
    "with File(\"/Users/rstiskalek/Projects/CANDEL/data/2MTF/PV_compilation.hdf5\", 'r') as f:\n",
    "    SFI = {}\n",
    "    for key in f[\"SFI_gals\"].keys():\n",
    "        SFI[key] = f[\"SFI_gals\"][key][...]\n",
    "\n",
    "    TWOMTF = {}\n",
    "    for key in f[\"2MTF\"].keys():\n",
    "        TWOMTF[key] = f[\"2MTF\"][key][...]\n",
    "\n",
    "    FOUNDATION = {}\n",
    "    for key in f[\"Foundation\"].keys():\n",
    "        FOUNDATION[key] = f[\"Foundation\"][key][...]\n",
    "\n",
    "    LOSS = {}\n",
    "    for key in f[\"LOSS\"].keys():\n",
    "        LOSS[key] = f[\"LOSS\"][key][...]\n",
    "\n",
    "\n",
    "\n",
    "with File(\"/Users/rstiskalek/Projects/CANDEL/data/CF4/CF4_TFR.hdf5\", 'r') as f:\n",
    "    CF4_TFR = {}\n",
    "    grp = f[\"cf4\"]\n",
    "    for key in grp.keys():\n",
    "        CF4_TFR[key] = grp[key][...]\n",
    "\n",
    "    RA = grp[\"RA\"][...] * 360 / 24\n",
    "    CF4_TFR[\"RA\"] = RA\n",
    "    CF4_TFR[\"DEC\"] = grp[\"DE\"][...]\n",
    "\n",
    "    l, b = candel.radec_to_galactic(CF4_TFR[\"RA\"], CF4_TFR[\"DE\"])\n",
    "    m = np.abs(b) > 7.5\n",
    "    for key in CF4_TFR.keys():\n",
    "        CF4_TFR[key] = CF4_TFR[key][m]"
   ]
  },
  {
   "cell_type": "code",
   "execution_count": 12,
   "id": "11bcacb0",
   "metadata": {},
   "outputs": [
    {
     "data": {
      "image/png": "[encoded data removed]",
      "text/plain": [
       "<Figure size 333.333x300 with 3 Axes>"
      ]
     },
     "metadata": {},
     "output_type": "display_data"
    }
   ],
   "source": [
    "cols = COLS\n",
    "\n",
    "with plt.style.context('science'):\n",
    "    plt.rcParams.update({'font.size': 9})\n",
    "    fig, axes = plt.subplots(nrows=3, ncols=1, figsize=(10/3, 3), sharex=True)\n",
    "    fig.subplots_adjust(hspace=0.0, wspace=0.0)\n",
    "\n",
    "    bins = np.linspace(0, 0.07, 30)\n",
    "    alpha = 0.5\n",
    "    edge_width = 1.0\n",
    "\n",
    "    # First row: Foundation and LOSS\n",
    "    sns.histplot(FOUNDATION[\"z_CMB\"], bins=bins, stat=\"count\", alpha=alpha, label=\"Foundation\", color=cols[1], edgecolor=\"black\", ax=axes[0], linewidth=edge_width)\n",
    "    sns.histplot(LOSS[\"z_CMB\"], bins=bins, stat=\"count\", alpha=alpha, label=\"LOSS\", color=cols[0], edgecolor=\"black\", ax=axes[0], linewidth=edge_width)\n",
    "    axes[0].set_ylabel(None)\n",
    "    axes[0].legend()\n",
    "\n",
    "    # Second row: 2MTF and SFI\n",
    "    sns.histplot(SFI[\"z_CMB\"], bins=bins, stat=\"count\", alpha=alpha, label=\"SFI\", color=cols[2], edgecolor=\"black\", ax=axes[1], linewidth=edge_width)\n",
    "    sns.histplot(TWOMTF[\"z_CMB\"], bins=bins, stat=\"count\", alpha=alpha, label=\"2MTF\", color=cols[3], edgecolor=\"black\", ax=axes[1], linewidth=edge_width)\n",
    "    axes[1].set_ylabel(None)\n",
    "    axes[1].legend()\n",
    "\n",
    "    # Third row: CF4 samples\n",
    "    m_i = CF4_TFR[\"i\"] > 5\n",
    "    sns.histplot(CF4_TFR[\"Vcmb\"][m_i] / SPEED_OF_LIGHT, \n",
    "                 bins=bins, stat=\"count\", alpha=alpha, label=catalogue2label(\"CF4_TFR_i\"), color=cols[4], edgecolor=\"black\", ax=axes[2], linewidth=edge_width)\n",
    "    m_w1 = CF4_TFR[\"w1\"] > 5\n",
    "    sns.histplot(CF4_TFR[\"Vcmb\"][m_w1] / SPEED_OF_LIGHT, \n",
    "                 bins=bins, stat=\"count\", alpha=alpha, label=catalogue2label(\"CF4_TFR_w1\"), color=cols[5], edgecolor=\"black\", ax=axes[2], linewidth=edge_width)\n",
    "    axes[2].set_xlabel(r\"$z_{\\rm obs}$\")\n",
    "    axes[2].set_ylabel(None)\n",
    "    axes[2].legend()\n",
    "\n",
    "    fig.text(0.03, 0.5, \"Counts\", va='center', ha='center', rotation='vertical')\n",
    "\n",
    "    # Adjust layout\n",
    "    plt.xlim(0, 0.07)\n",
    "    plt.tight_layout(w_pad=0.2, h_pad=0.2)\n",
    "    plt.savefig(f\"/Users/rstiskalek/Downloads/zcmb_dist.pdf\", dpi=450)\n",
    "    plt.show()"
   ]
  },
  {
   "cell_type": "code",
   "execution_count": null,
   "id": "15e6fc3d",
   "metadata": {},
   "outputs": [],
   "source": []
  },
  {
   "cell_type": "markdown",
   "id": "d5ecd5ea",
   "metadata": {},
   "source": [
    "### Figure: LOS comparison"
   ]
  },
  {
   "cell_type": "code",
   "execution_count": 24,
   "id": "ed98e042",
   "metadata": {},
   "outputs": [],
   "source": [
    "from astropy.coordinates import angular_separation\n",
    "\n",
    "rootdir = \"/Users/rstiskalek/Projects/CANDEL/data/CF4\"\n",
    "RA_virgo = np.deg2rad(candel.hms_to_degrees(12, 27)),\n",
    "dec_virgo = np.deg2rad(candel.dms_to_degrees(12, 43))\n",
    "dist_virgo = 16.5 * 0.73  # Mpc/h\n",
    "\n",
    "k = None\n",
    "data = {}\n",
    "reconstructions = [\"Carrick2015\", \"Lilow2024\", \"CF4\"]\n",
    "\n",
    "for reconstruction in reconstructions:\n",
    "    with File(join(rootdir, f\"los_CF4_TFR_{reconstruction}.hdf5\"), 'r') as f:\n",
    "        if k is None:\n",
    "            RA = np.deg2rad(f[\"RA\"][...])\n",
    "            dec = np.deg2rad(f[\"dec\"][...])\n",
    "            angdist = angular_separation(RA, dec, RA_virgo, dec_virgo)\n",
    "            k = np.argmin(angdist)\n",
    "\n",
    "        r = f[\"r\"][...]\n",
    "        rho = f[\"los_density\"][:, k, :]\n",
    "        vel = f[\"los_velocity\"][:, k, :]\n",
    "\n",
    "        if reconstruction == \"Carrick2015\":\n",
    "            vel *= 0.43\n",
    "\n",
    "        data[reconstruction] = [r, rho, vel]\n",
    "    "
   ]
  },
  {
   "cell_type": "code",
   "execution_count": 26,
   "id": "5a8192b3",
   "metadata": {},
   "outputs": [
    {
     "data": {
      "image/png": "[encoded data removed]",
      "text/plain": [
       "<Figure size 350x262.5 with 1 Axes>"
      ]
     },
     "metadata": {},
     "output_type": "display_data"
    }
   ],
   "source": [
    "with plt.style.context(\"science\"):\n",
    "    fig, ax = plt.subplots()\n",
    "    lw = plt.rcParams[\"lines.linewidth\"]\n",
    "\n",
    "    for simname in reconstructions:\n",
    "        r, rho, vel = data[simname]  # vel: (nsamples, nr)\n",
    "        y = vel\n",
    "\n",
    "        col = simname2color(simname)\n",
    "        if vel.shape[0] > 1:\n",
    "            ylow, yhigh = np.percentile(y, [16, 84], axis=0)\n",
    "            ax.fill_between(r, ylow, yhigh, alpha=0.5,\n",
    "                            label=simname2label(simname), color=col)\n",
    "        else:\n",
    "            ax.plot(r, y[0], lw=1.5 * lw, label=simname2label(simname),\n",
    "                    color=col)\n",
    "\n",
    "    ax.set_xlabel(r\"$r~[h^{-1}\\,\\mathrm{Mpc}]$\")\n",
    "    ax.set_ylabel(r\"$V_{\\rm rad}~[\\mathrm{km}\\,\\mathrm{s}^{-1}]$\")\n",
    "\n",
    "    ax.set_xlim(r.min(), 90)\n",
    "    # ax.set_ylim(-800, 1100)\n",
    "\n",
    "    ax.axvline(dist_virgo, zorder=0, c=\"k\", ls=\"--\", alpha=0.75)\n",
    "\n",
    "    ax.legend(ncols=2, loc=\"upper right\")\n",
    "\n",
    "    fig.tight_layout()\n",
    "    plt.show()"
   ]
  }
 ],
 "metadata": {
  "kernelspec": {
   "display_name": "venv_candel (3.12.10)",
   "language": "python",
   "name": "python3"
  },
  "language_info": {
   "codemirror_mode": {
    "name": "ipython",
    "version": 3
   },
   "file_extension": ".py",
   "mimetype": "text/x-python",
   "name": "python",
   "nbconvert_exporter": "python",
   "pygments_lexer": "ipython3",
   "version": "3.12.10"
  }
 },
 "nbformat": 4,
 "nbformat_minor": 5
}
