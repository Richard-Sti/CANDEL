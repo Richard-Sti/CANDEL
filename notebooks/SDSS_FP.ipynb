{
 "cells": [
  {
   "cell_type": "code",
   "execution_count": 1,
   "id": "022fabd4",
   "metadata": {},
   "outputs": [],
   "source": [
    "import sys\n",
    "sys.path.insert(0, \"/Users/rstiskalek/Projects/candel\")\n",
    "\n",
    "import numpy as np\n",
    "import matplotlib.pyplot as plt\n",
    "import candel\n",
    "\n",
    "from astropy.coordinates import SkyCoord\n",
    "from astropy import units as u\n",
    "from astropy.io import fits\n",
    "\n",
    "\n",
    "%load_ext autoreload\n",
    "%autoreload 2"
   ]
  },
  {
   "cell_type": "code",
   "execution_count": 21,
   "id": "473e9a85",
   "metadata": {},
   "outputs": [],
   "source": [
    "d = np.genfromtxt(\"/Users/rstiskalek/Projects/CANDEL/data/SDSS/SDSS_PV_public.dat\", names=True)"
   ]
  },
  {
   "cell_type": "code",
   "execution_count": 29,
   "id": "341be94f",
   "metadata": {},
   "outputs": [
    {
     "data": {
      "image/png": "[encoded data removed]",
      "text/plain": [
       "<Figure size 640x480 with 1 Axes>"
      ]
     },
     "metadata": {},
     "output_type": "display_data"
    }
   ],
   "source": [
    "plt.figure()\n",
    "# plt.hist(d[\"i\"], bins=\"auto\")\n",
    "plt.hist(d[\"s\"], bins=\"auto\")\n",
    "plt.show()"
   ]
  },
  {
   "cell_type": "code",
   "execution_count": 30,
   "id": "d80b7175",
   "metadata": {},
   "outputs": [
    {
     "data": {
      "text/plain": [
       "('PGC',\n",
       " 'coords',\n",
       " 'objid',\n",
       " 'specObjId',\n",
       " 'plate',\n",
       " 'RA',\n",
       " 'Dec',\n",
       " 'l',\n",
       " 'b',\n",
       " 'deVMag_g',\n",
       " 'deVMagErr_g',\n",
       " 'deVMag_r',\n",
       " 'deVMagErr_r',\n",
       " 'deVRad_r',\n",
       " 'deVRadErr_r',\n",
       " 'deVAB_r',\n",
       " 'deVABErr_r',\n",
       " 'extinction_g',\n",
       " 'extinction_r',\n",
       " 'kcor_r',\n",
       " 'kcor_g',\n",
       " 'absmag_r',\n",
       " 'zhelio',\n",
       " 'zhelioerr',\n",
       " 'zcmb',\n",
       " 'SIGMA_STARS',\n",
       " 'SIGMA_STARS_ERR',\n",
       " 'IDgroupT17',\n",
       " 'NgroupT17',\n",
       " 'zcmb_group',\n",
       " 'M',\n",
       " 'in_mask',\n",
       " 'nbar',\n",
       " 'r',\n",
       " 'er',\n",
       " 'i',\n",
       " 'ei',\n",
       " 's',\n",
       " 'es',\n",
       " 'Sn',\n",
       " 'logdist',\n",
       " 'logdist_err',\n",
       " 'logdist_alpha',\n",
       " 'logdist_corr',\n",
       " 'logdist_corr_err',\n",
       " 'logdist_corr_alpha')"
      ]
     },
     "execution_count": 30,
     "metadata": {},
     "output_type": "execute_result"
    }
   ],
   "source": [
    "d.dtype.names"
   ]
  },
  {
   "cell_type": "code",
   "execution_count": null,
   "id": "ffc7bb93",
   "metadata": {},
   "outputs": [],
   "source": []
  },
  {
   "cell_type": "code",
   "execution_count": 24,
   "id": "d3d3dddd",
   "metadata": {},
   "outputs": [
    {
     "data": {
      "image/png": "[encoded data removed]",
      "text/plain": [
       "<Figure size 640x480 with 1 Axes>"
      ]
     },
     "metadata": {},
     "output_type": "display_data"
    }
   ],
   "source": [
    "plt.figure()\n",
    "plt.hist(d[\"zcmb\"], bins=\"auto\")\n",
    "plt.show()"
   ]
  },
  {
   "cell_type": "code",
   "execution_count": null,
   "id": "e78444dc",
   "metadata": {},
   "outputs": [],
   "source": []
  },
  {
   "cell_type": "code",
   "execution_count": null,
   "id": "b923bc5d",
   "metadata": {},
   "outputs": [],
   "source": []
  },
  {
   "cell_type": "code",
   "execution_count": 2,
   "id": "e7455837",
   "metadata": {},
   "outputs": [],
   "source": [
    "d_fp = np.genfromtxt(\"/Users/rstiskalek/Projects/CANDEL/data/SDSS/galaxies_all_primary_n_Khaled_Said.csv\", names=True, delimiter=\",\")\n",
    "d_nsa = fits.open(\"/Users/rstiskalek/Projects/CANDEL/data/SDSS/nsa_v1_0_1.fits\")[1].data\n",
    "\n",
    "d_fp = d_fp[d_fp[\"redshift\"] < 0.06]\n",
    "d_nsa = d_nsa[d_nsa['Z'] < 0.06]\n"
   ]
  },
  {
   "cell_type": "code",
   "execution_count": 8,
   "id": "502682f9",
   "metadata": {},
   "outputs": [],
   "source": [
    "def crossmatch_fp_nsa(d_fp, d_nsa, tolerance=1*u.arcsec, delta_v_kms=1, plot=True):\n",
    "    ztol = delta_v_kms / candel.SPEED_OF_LIGHT\n",
    "    print(f\"Angular match tolerance: {tolerance.to(u.arcsec)}\")\n",
    "    print(f\"Redshift match tolerance: Δz < {ztol:.2e} (i.e., {delta_v_kms} km/s)\")\n",
    "\n",
    "    print(\"Creating SkyCoord objects...\")\n",
    "    coords_fp = SkyCoord(ra=d_fp[\"ra\"] * u.deg, dec=d_fp[\"dec\"] * u.deg)\n",
    "    coords_nsa = SkyCoord(ra=d_nsa[\"RA\"] * u.deg, dec=d_nsa[\"DEC\"] * u.deg)\n",
    "\n",
    "    print(\"Matching on sky coordinates...\")\n",
    "    idx, sep2d, _ = coords_fp.match_to_catalog_sky(coords_nsa)\n",
    "    matched_mask = sep2d < tolerance\n",
    "    n_matched = np.count_nonzero(matched_mask)\n",
    "    print(f\"{n_matched} matches found within {tolerance.to(u.arcsec)}\")\n",
    "\n",
    "    if n_matched == 0:\n",
    "        print(\"No angular matches found.\")\n",
    "        return np.empty(0)\n",
    "\n",
    "    # Extract matched entries\n",
    "    fp_idx = np.where(matched_mask)[0]\n",
    "    nsa_idx = idx[matched_mask]\n",
    "    fp_matched = d_fp[fp_idx]\n",
    "    nsa_matched = d_nsa[nsa_idx]\n",
    "\n",
    "    # Build structured array\n",
    "    print(\"Building matched array...\")\n",
    "    fp_dtype = [(f\"{name}_FP\", fp_matched.dtype[name]) for name in fp_matched.dtype.names]\n",
    "    nsa_dtype = [(f\"{name}_NSA\", nsa_matched.dtype[name]) for name in nsa_matched.dtype.names]\n",
    "    sep_dtype = [(\"sep_arcsec\", np.float64)]\n",
    "    dtype_combined = fp_dtype + nsa_dtype + sep_dtype\n",
    "\n",
    "    matched_array = np.empty(len(fp_matched), dtype=dtype_combined)\n",
    "\n",
    "    for name in fp_matched.dtype.names:\n",
    "        matched_array[f\"{name}_FP\"] = fp_matched[name]\n",
    "    for name in nsa_matched.dtype.names:\n",
    "        matched_array[f\"{name}_NSA\"] = nsa_matched[name]\n",
    "    matched_array[\"sep_arcsec\"] = sep2d[matched_mask].arcsec\n",
    "\n",
    "    # Redshift filtering\n",
    "    dz = matched_array[\"redshift_FP\"] - matched_array[\"Z_NSA\"]\n",
    "    zcut_mask = np.abs(dz) < ztol\n",
    "    n_final = np.count_nonzero(zcut_mask)\n",
    "    print(f\"{n_final} matches remain after redshift filtering (Δz < {ztol:.2e})\")\n",
    "\n",
    "    matched_array = matched_array[zcut_mask]\n",
    "\n",
    "    if plot:\n",
    "        plt.figure()\n",
    "        plt.hist(dz[zcut_mask] * candel.SPEED_OF_LIGHT, bins=50, log=True)\n",
    "        plt.xlabel(r\"$c\\Delta z$ [km/s]\")\n",
    "        plt.tight_layout()\n",
    "        plt.show()\n",
    "\n",
    "        plt.figure()\n",
    "        plt.hist(matched_array[\"sep_arcsec\"], bins=\"auto\", histtype=\"step\")\n",
    "        plt.xlim(0)\n",
    "        plt.xlabel(\"Angular separation [arcsec]\")\n",
    "        plt.show()\n",
    "\n",
    "\n",
    "    return matched_array"
   ]
  },
  {
   "cell_type": "code",
   "execution_count": 12,
   "id": "435cd4ae",
   "metadata": {},
   "outputs": [
    {
     "name": "stdout",
     "output_type": "stream",
     "text": [
      "Angular match tolerance: 1.0 arcsec\n",
      "Redshift match tolerance: Δz < 3.34e-06 (i.e., 1 km/s)\n",
      "Creating SkyCoord objects...\n",
      "Matching on sky coordinates...\n",
      "127544 matches found within 1.0 arcsec\n",
      "Building matched array...\n",
      "126889 matches remain after redshift filtering (Δz < 3.34e-06)\n"
     ]
    },
    {
     "data": {
      "image/png": "[encoded data removed]",
      "text/plain": [
       "<Figure size 640x480 with 1 Axes>"
      ]
     },
     "metadata": {},
     "output_type": "display_data"
    },
    {
     "data": {
      "image/png": "[encoded data removed]",
      "text/plain": [
       "<Figure size 640x480 with 1 Axes>"
      ]
     },
     "metadata": {},
     "output_type": "display_data"
    }
   ],
   "source": [
    "matched = crossmatch_fp_nsa(d_fp, d_nsa, tolerance=1*u.arcsec, delta_v_kms=1, plot=True)"
   ]
  },
  {
   "cell_type": "code",
   "execution_count": 14,
   "id": "b797afbc",
   "metadata": {},
   "outputs": [
    {
     "data": {
      "text/plain": [
       "('bestObjID_FP',\n",
       " 'specobjid_FP',\n",
       " 'ra_FP',\n",
       " 'dec_FP',\n",
       " 'class_FP',\n",
       " 'survey_FP',\n",
       " 'instrument_FP',\n",
       " 'legacy_target1_FP',\n",
       " 'legacy_target2_FP',\n",
       " 'sdssPrimary_FP',\n",
       " 'plate_FP',\n",
       " 'mjd_FP',\n",
       " 'fiberid_FP',\n",
       " 'redshift_FP',\n",
       " 'zErr_FP',\n",
       " 'veldisp_FP',\n",
       " 'veldispErr_FP',\n",
       " 'snMedian_g_FP',\n",
       " 'snMedian_r_FP',\n",
       " 'snMedian_i_FP',\n",
       " 'snMedian_FP',\n",
       " 'expTime_FP',\n",
       " 'seeing20_FP',\n",
       " 'seeing50_FP',\n",
       " 'seeing80_FP',\n",
       " 'Column1_FP',\n",
       " 'Column2_FP',\n",
       " 'sigmaStars_FP',\n",
       " 'sigmaStarsErr_FP',\n",
       " 'IAUNAME_NSA',\n",
       " 'SUBDIR_NSA',\n",
       " 'RA_NSA',\n",
       " 'DEC_NSA',\n",
       " 'ISDSS_NSA',\n",
       " 'INED_NSA',\n",
       " 'ISIXDF_NSA',\n",
       " 'IALFALFA_NSA',\n",
       " 'IZCAT_NSA',\n",
       " 'ITWODF_NSA',\n",
       " 'MAG_NSA',\n",
       " 'Z_NSA',\n",
       " 'ZSRC_NSA',\n",
       " 'SIZE_NSA',\n",
       " 'RUN_NSA',\n",
       " 'CAMCOL_NSA',\n",
       " 'FIELD_NSA',\n",
       " 'RERUN_NSA',\n",
       " 'XPOS_NSA',\n",
       " 'YPOS_NSA',\n",
       " 'NSAID_NSA',\n",
       " 'ZDIST_NSA',\n",
       " 'SERSIC_NMGY_NSA',\n",
       " 'SERSIC_NMGY_IVAR_NSA',\n",
       " 'SERSIC_OK_NSA',\n",
       " 'SERSIC_RNMGY_NSA',\n",
       " 'SERSIC_ABSMAG_NSA',\n",
       " 'SERSIC_AMIVAR_NSA',\n",
       " 'EXTINCTION_NSA',\n",
       " 'SERSIC_KCORRECT_NSA',\n",
       " 'SERSIC_KCOEFF_NSA',\n",
       " 'SERSIC_MTOL_NSA',\n",
       " 'SERSIC_B300_NSA',\n",
       " 'SERSIC_B1000_NSA',\n",
       " 'SERSIC_METS_NSA',\n",
       " 'SERSIC_MASS_NSA',\n",
       " 'XCEN_NSA',\n",
       " 'YCEN_NSA',\n",
       " 'NPROF_NSA',\n",
       " 'PROFMEAN_NSA',\n",
       " 'PROFMEAN_IVAR_NSA',\n",
       " 'QSTOKES_NSA',\n",
       " 'USTOKES_NSA',\n",
       " 'BASTOKES_NSA',\n",
       " 'PHISTOKES_NSA',\n",
       " 'PETRO_FLUX_NSA',\n",
       " 'PETRO_FLUX_IVAR_NSA',\n",
       " 'FIBER_FLUX_NSA',\n",
       " 'FIBER_FLUX_IVAR_NSA',\n",
       " 'PETRO_BA50_NSA',\n",
       " 'PETRO_PHI50_NSA',\n",
       " 'PETRO_BA90_NSA',\n",
       " 'PETRO_PHI90_NSA',\n",
       " 'SERSIC_FLUX_NSA',\n",
       " 'SERSIC_FLUX_IVAR_NSA',\n",
       " 'SERSIC_N_NSA',\n",
       " 'SERSIC_BA_NSA',\n",
       " 'SERSIC_PHI_NSA',\n",
       " 'ASYMMETRY_NSA',\n",
       " 'CLUMPY_NSA',\n",
       " 'DFLAGS_NSA',\n",
       " 'AID_NSA',\n",
       " 'PID_NSA',\n",
       " 'DVERSION_NSA',\n",
       " 'PROFTHETA_NSA',\n",
       " 'PETRO_THETA_NSA',\n",
       " 'PETRO_TH50_NSA',\n",
       " 'PETRO_TH90_NSA',\n",
       " 'SERSIC_TH50_NSA',\n",
       " 'PLATE_NSA',\n",
       " 'FIBERID_NSA',\n",
       " 'MJD_NSA',\n",
       " 'RACAT_NSA',\n",
       " 'DECCAT_NSA',\n",
       " 'ZSDSSLINE_NSA',\n",
       " 'SURVEY_NSA',\n",
       " 'PROGRAMNAME_NSA',\n",
       " 'PLATEQUALITY_NSA',\n",
       " 'TILE_NSA',\n",
       " 'PLUG_RA_NSA',\n",
       " 'PLUG_DEC_NSA',\n",
       " 'ELPETRO_BA_NSA',\n",
       " 'ELPETRO_PHI_NSA',\n",
       " 'ELPETRO_FLUX_R_NSA',\n",
       " 'ELPETRO_FLUX_IVAR_R_NSA',\n",
       " 'ELPETRO_THETA_R_NSA',\n",
       " 'ELPETRO_TH50_R_NSA',\n",
       " 'ELPETRO_TH90_R_NSA',\n",
       " 'ELPETRO_THETA_NSA',\n",
       " 'ELPETRO_FLUX_NSA',\n",
       " 'ELPETRO_FLUX_IVAR_NSA',\n",
       " 'ELPETRO_TH50_NSA',\n",
       " 'ELPETRO_TH90_NSA',\n",
       " 'ELPETRO_APCORR_R_NSA',\n",
       " 'ELPETRO_APCORR_NSA',\n",
       " 'ELPETRO_APCORR_SELF_NSA',\n",
       " 'ELPETRO_NMGY_NSA',\n",
       " 'ELPETRO_NMGY_IVAR_NSA',\n",
       " 'ELPETRO_OK_NSA',\n",
       " 'ELPETRO_RNMGY_NSA',\n",
       " 'ELPETRO_ABSMAG_NSA',\n",
       " 'ELPETRO_AMIVAR_NSA',\n",
       " 'ELPETRO_KCORRECT_NSA',\n",
       " 'ELPETRO_KCOEFF_NSA',\n",
       " 'ELPETRO_MASS_NSA',\n",
       " 'ELPETRO_MTOL_NSA',\n",
       " 'ELPETRO_B300_NSA',\n",
       " 'ELPETRO_B1000_NSA',\n",
       " 'ELPETRO_METS_NSA',\n",
       " 'IN_DR7_LSS_NSA',\n",
       " 'sep_arcsec')"
      ]
     },
     "execution_count": 14,
     "metadata": {},
     "output_type": "execute_result"
    }
   ],
   "source": [
    "matched.dtype.names"
   ]
  },
  {
   "cell_type": "code",
   "execution_count": 18,
   "id": "46720efe",
   "metadata": {},
   "outputs": [
    {
     "data": {
      "image/png": "[encoded data removed]",
      "text/plain": [
       "<Figure size 640x480 with 1 Axes>"
      ]
     },
     "metadata": {},
     "output_type": "display_data"
    }
   ],
   "source": [
    "m = matched[\"veldisp_FP\"] > 0\n",
    "\n",
    "plt.figure()\n",
    "plt.hist(np.log10(matched[\"veldisp_FP\"][m]), bins=30)\n",
    "plt.show()"
   ]
  },
  {
   "cell_type": "code",
   "execution_count": null,
   "id": "5125dd32",
   "metadata": {},
   "outputs": [],
   "source": []
  }
 ],
 "metadata": {
  "kernelspec": {
   "display_name": "venv_candel",
   "language": "python",
   "name": "python3"
  },
  "language_info": {
   "codemirror_mode": {
    "name": "ipython",
    "version": 3
   },
   "file_extension": ".py",
   "mimetype": "text/x-python",
   "name": "python",
   "nbconvert_exporter": "python",
   "pygments_lexer": "ipython3",
   "version": "3.12.10"
  }
 },
 "nbformat": 4,
 "nbformat_minor": 5
}
