{
 "cells": [
  {
   "cell_type": "code",
   "execution_count": 1,
   "id": "57b4cad5-bf92-440b-86e9-04ca0afd367b",
   "metadata": {},
   "outputs": [],
   "source": [
    "import numpy as np\n",
    "import matplotlib.pyplot as plt\n",
    "import cmdstanpy\n",
    "import arviz as az\n",
    "import math\n",
    "\n",
    "import joblib\n",
    "\n",
    "\n",
    "data = joblib.load(\"/Users/rstiskalek/Downloads/data.joblib\")"
   ]
  },
  {
   "cell_type": "code",
   "execution_count": 2,
   "id": "59c56267-bb8c-459e-8e91-d4539e0e3804",
   "metadata": {},
   "outputs": [
    {
     "name": "stdout",
     "output_type": "stream",
     "text": [
      "Setting mag_cepheid.\n",
      "Setting logP.\n",
      "Setting OH.\n",
      "Setting C_Cepheid.\n",
      "Setting L_Cepheid.\n",
      "Setting L_Cepheid_host_dist.\n",
      "Setting Cepheids_only.\n",
      "Setting num_cepheids.\n",
      "Setting num_hosts.\n",
      "Setting Y_SN_Cepheid.\n",
      "Setting C_SN_Cepheid.\n",
      "Setting L_SN_Cepheid.\n",
      "Setting L_SN_Cepheid_dist.\n",
      "Setting mag_SN_unique_Cepheid_host.\n",
      "Setting C_SN_unique_Cepheid_host.\n",
      "Setting mean_std_mag_SN_unique_Cepheid_host.\n",
      "Setting L_SN_unique_Cepheid_host.\n",
      "Setting L_SN_unique_Cepheid_host_dist.\n",
      "Setting Y_SN_HF.\n",
      "Setting num_flow_SN.\n",
      "Setting Y_SN.\n",
      "Setting C_SN.\n",
      "Setting L_SN.\n",
      "Setting mu_N4258_anchor.\n",
      "Setting e_mu_N4258_anchor.\n",
      "Setting mu_LMC_anchor.\n",
      "Setting e_mu_LMC_anchor.\n",
      "Setting M_HST.\n",
      "Setting e_M_HST.\n",
      "Setting M_Gaia.\n",
      "Setting e_M_Gaia.\n",
      "Setting sigma_grnd.\n",
      "Setting q_names.\n",
      "Setting czcmb_cepheid_host.\n",
      "Setting e_czcmb_cepheid_host.\n",
      "Setting RA_host.\n",
      "Setting dec_host.\n",
      "Setting PV_covmat_cepheid_host.\n",
      "Setting host_los_density.\n",
      "Setting host_los_velocity.\n",
      "Setting host_los_r.\n",
      "Setting has_rand_los.\n",
      "Setting num_rand_los.\n",
      "Setting rand_los_density.\n",
      "Setting rand_los_velocity.\n",
      "Setting rand_los_r.\n",
      "Setting rand_los_RA.\n",
      "Setting rand_los_dec.\n",
      "Setting mask_host.\n",
      "Setting Neff_C_SN_unique_Cepheid_host.\n",
      "Setting Neff_PV_covmat_cepheid_host.\n",
      "Setting Neff_C_Cepheid.\n"
     ]
    }
   ],
   "source": [
    "# Extract into python variables with the same names as the keys:\n",
    "for key, value in data.items():\n",
    "    if not isinstance(value, (float, int)):\n",
    "        value = np.array(value)\n",
    "    print(f\"Setting {key}.\")\n",
    "    globals()[key] = value\n",
    "\n",
    "\n",
    "e_mag_cepheid = np.sqrt(np.diag(C_Cepheid))\n",
    "e_mag_SN_unique_Cepheid_host = np.sqrt(np.diag(C_SN_unique_Cepheid_host))"
   ]
  },
  {
   "cell_type": "code",
   "execution_count": 6,
   "id": "2f24b203-95c7-40a8-8ea4-80751ecf705f",
   "metadata": {},
   "outputs": [
    {
     "name": "stdout",
     "output_type": "stream",
     "text": [
      "[2.0e-05 5.0e-05 2.0e-05 2.0e-05 1.5e-04 1.5e-04 1.0e-05 1.0e-05 2.0e-05\n",
      " 1.5e-04 1.0e-05 6.0e-05 2.0e-05 0.0e+00 1.0e-05 2.0e-05 1.0e-05 2.0e-05\n",
      " 1.0e-05 2.0e-05 2.0e-05 1.0e-05 2.0e-05 1.5e-04 1.9e-04 1.0e-05 1.5e-04\n",
      " 1.5e-04 1.5e-04 6.0e-05 1.2e-04 1.5e-04 2.0e-05 1.0e-05 2.0e-05]\n",
      "-5.803876\n",
      "-5.9034147\n"
     ]
    }
   ],
   "source": [
    "c           = 299792.458  # speed of light [km/s]\n",
    "r_max       = 200         # Maximum distance considered [Mpc]\n",
    "num_anchors = 3\n",
    "\n",
    "zcmb_cepheid_host   = czcmb_cepheid_host/c\n",
    "e_zcmb_cepheid_host = e_czcmb_cepheid_host/c\n",
    "print(e_zcmb_cepheid_host)\n",
    "print(M_HST)\n",
    "print(M_Gaia)"
   ]
  },
  {
   "cell_type": "code",
   "execution_count": 7,
   "id": "be30b271-839c-496d-8dbd-b9f46ccb4ce1",
   "metadata": {},
   "outputs": [
    {
     "name": "stdout",
     "output_type": "stream",
     "text": [
      "mu_LMC_anchor:   18.477\n",
      "mu_N4258_anchor: 29.398\n"
     ]
    }
   ],
   "source": [
    "#print(C_SN.shape)\n",
    "#print(OH)\n",
    "#print(mag_SN_unique_Cepheid_host)\n",
    "#print(q_names)\n",
    "#print(L_Cepheid_host_dist)\n",
    "#print(C_SN_unique_Cepheid_host.shape)\n",
    "#print(mu_N4258_anchor)\n",
    "#print(sigma_grnd)\n",
    "#print(zcmb_cepheid_host)\n",
    "#print(e_zcmb_cepheid_host)\n",
    "\n",
    "print('mu_LMC_anchor:  ',mu_LMC_anchor)\n",
    "print('mu_N4258_anchor:',mu_N4258_anchor)\n",
    "\n",
    "\n"
   ]
  },
  {
   "cell_type": "code",
   "execution_count": 8,
   "id": "7496ac7f",
   "metadata": {},
   "outputs": [
    {
     "data": {
      "text/plain": [
       "array([2.0e-05, 5.0e-05, 2.0e-05, 2.0e-05, 1.5e-04, 1.5e-04, 1.0e-05,\n",
       "       1.0e-05, 2.0e-05, 1.5e-04, 1.0e-05, 6.0e-05, 2.0e-05, 0.0e+00,\n",
       "       1.0e-05, 2.0e-05, 1.0e-05, 2.0e-05, 1.0e-05, 2.0e-05, 2.0e-05,\n",
       "       1.0e-05, 2.0e-05, 1.5e-04, 1.9e-04, 1.0e-05, 1.5e-04, 1.5e-04,\n",
       "       1.5e-04, 6.0e-05, 1.2e-04, 1.5e-04, 2.0e-05, 1.0e-05, 2.0e-05])"
      ]
     },
     "execution_count": 8,
     "metadata": {},
     "output_type": "execute_result"
    }
   ],
   "source": [
    "e_zcmb_cepheid_host"
   ]
  },
  {
   "cell_type": "code",
   "execution_count": 10,
   "id": "0277b92f-30d3-4181-b6b2-ad315e9f77f7",
   "metadata": {},
   "outputs": [],
   "source": [
    "stan_data = {\n",
    "    \"num_cepheids\": num_cepheids,\n",
    "    \"mag_cepheid\": mag_cepheid,                       # length = num_cepheids\n",
    "    \"logP\": logP,                                     # length = num_cepheids\n",
    "    \"OH\": OH,                                         # length = num_cepheids\n",
    "    # \"C_Cepheid\": C_Cepheid,                           # shape (num_cepheids, num_cepheids)\n",
    "    \"e_mag_cepheid\": e_mag_cepheid,                   # length = num_cepheids\n",
    "\n",
    "    \"num_hosts\": num_hosts,\n",
    "    \"num_anchors\": num_anchors,\n",
    "    \"mag_SN_unique_Cepheid_host\": mag_SN_unique_Cepheid_host,   # length = num_hosts\n",
    "    \"e_mag_SN_unique_Cepheid_host\": e_mag_SN_unique_Cepheid_host,\n",
    "    # \"C_SN_unique_Cepheid_host\": C_SN_unique_Cepheid_host,       # shape (num_hosts, num_hosts)\n",
    "\n",
    "    \"czcmb_cepheid_host\": czcmb_cepheid_host,           # length = num_hosts\n",
    "    \"e_czcmb_cepheid_host\": e_czcmb_cepheid_host,       # length = num_hosts\n",
    "    \"L_Cepheid_host_dist\": L_Cepheid_host_dist,       # shape (num_cepheids, num_hosts+num_anchors)\n",
    "\n",
    "    \"mu_N4258_anchor\": mu_N4258_anchor,\n",
    "    \"e_mu_N4258_anchor\": e_mu_N4258_anchor,\n",
    "    \"mu_LMC_anchor\": mu_LMC_anchor,\n",
    "    \"e_mu_LMC_anchor\": e_mu_LMC_anchor,\n",
    "\n",
    "    \"sigma_grnd\": sigma_grnd,\n",
    "    \"c\": c,\n",
    "}\n"
   ]
  },
  {
   "cell_type": "code",
   "execution_count": 11,
   "id": "3168e289-bb52-40ce-a564-294317c0892f",
   "metadata": {},
   "outputs": [
    {
     "name": "stderr",
     "output_type": "stream",
     "text": [
      "19:53:31 - cmdstanpy - INFO - compiling stan file /Users/rstiskalek/Projects/CANDEL/notebooks/paper_SH0ES/cosmo_model_SH0ES_without_PV_no_corr.stan to exe file /Users/rstiskalek/Projects/CANDEL/notebooks/paper_SH0ES/cosmo_model_SH0ES_without_PV_no_corr\n",
      "19:53:37 - cmdstanpy - INFO - compiled model executable: /Users/rstiskalek/Projects/CANDEL/notebooks/paper_SH0ES/cosmo_model_SH0ES_without_PV_no_corr\n",
      "19:53:37 - cmdstanpy - WARNING - CmdStanModel.compile() is deprecated and will be removed in the next major version. To compile a model, use the CmdStanModel() constructor or cmdstanpy.compile_stan_file().\n"
     ]
    }
   ],
   "source": [
    "model = cmdstanpy.CmdStanModel(stan_file=\"cosmo_model_SH0ES_without_PV_no_corr.stan\")\n",
    "model.compile()"
   ]
  },
  {
   "cell_type": "code",
   "execution_count": 17,
   "id": "575d5f8a-463a-4cb4-a6f0-690b2e2c8018",
   "metadata": {},
   "outputs": [
    {
     "name": "stderr",
     "output_type": "stream",
     "text": [
      "19:55:05 - cmdstanpy - INFO - CmdStan start processing\n"
     ]
    },
    {
     "data": {
      "application/vnd.jupyter.widget-view+json": {
       "model_id": "230347397c5d4f159657e735e67c849a",
       "version_major": 2,
       "version_minor": 0
      },
      "text/plain": [
       "chain 1 |          | 00:00 Status"
      ]
     },
     "metadata": {},
     "output_type": "display_data"
    },
    {
     "data": {
      "application/vnd.jupyter.widget-view+json": {
       "model_id": "1541485fc84f476fbc6b8777ce6de219",
       "version_major": 2,
       "version_minor": 0
      },
      "text/plain": [
       "chain 2 |          | 00:00 Status"
      ]
     },
     "metadata": {},
     "output_type": "display_data"
    },
    {
     "data": {
      "application/vnd.jupyter.widget-view+json": {
       "model_id": "1e1cd796cdac4adca2a33de1f3918869",
       "version_major": 2,
       "version_minor": 0
      },
      "text/plain": [
       "chain 3 |          | 00:00 Status"
      ]
     },
     "metadata": {},
     "output_type": "display_data"
    },
    {
     "data": {
      "application/vnd.jupyter.widget-view+json": {
       "model_id": "f4c2ef6ecd464207b7ceb169ba5674a9",
       "version_major": 2,
       "version_minor": 0
      },
      "text/plain": [
       "chain 4 |          | 00:00 Status"
      ]
     },
     "metadata": {},
     "output_type": "display_data"
    },
    {
     "data": {
      "application/vnd.jupyter.widget-view+json": {
       "model_id": "eb277c083024458e99234356a7eb55a3",
       "version_major": 2,
       "version_minor": 0
      },
      "text/plain": [
       "chain 5 |          | 00:00 Status"
      ]
     },
     "metadata": {},
     "output_type": "display_data"
    },
    {
     "data": {
      "application/vnd.jupyter.widget-view+json": {
       "model_id": "de84675f6fa64da7bba08346373a6b83",
       "version_major": 2,
       "version_minor": 0
      },
      "text/plain": [
       "chain 6 |          | 00:00 Status"
      ]
     },
     "metadata": {},
     "output_type": "display_data"
    },
    {
     "data": {
      "application/vnd.jupyter.widget-view+json": {
       "model_id": "714957e6c60541bab191eb273db48092",
       "version_major": 2,
       "version_minor": 0
      },
      "text/plain": [
       "chain 7 |          | 00:00 Status"
      ]
     },
     "metadata": {},
     "output_type": "display_data"
    },
    {
     "data": {
      "application/vnd.jupyter.widget-view+json": {
       "model_id": "f4bb4033b18348589ef20d8548a9d099",
       "version_major": 2,
       "version_minor": 0
      },
      "text/plain": [
       "chain 8 |          | 00:00 Status"
      ]
     },
     "metadata": {},
     "output_type": "display_data"
    },
    {
     "data": {
      "application/vnd.jupyter.widget-view+json": {
       "model_id": "cb55a4fe56944e84b8404aa4b6f8cbef",
       "version_major": 2,
       "version_minor": 0
      },
      "text/plain": [
       "chain 9 |          | 00:00 Status"
      ]
     },
     "metadata": {},
     "output_type": "display_data"
    },
    {
     "data": {
      "application/vnd.jupyter.widget-view+json": {
       "model_id": "cec0f9cf74f640988b40170573d2acce",
       "version_major": 2,
       "version_minor": 0
      },
      "text/plain": [
       "chain 10 |          | 00:00 Status"
      ]
     },
     "metadata": {},
     "output_type": "display_data"
    },
    {
     "name": "stdout",
     "output_type": "stream",
     "text": [
      "                                                                                                                                                                                                                                                                                                                                                                                                                                                                                                                                                                                                                                                                                                                                                                                                                                "
     ]
    },
    {
     "name": "stderr",
     "output_type": "stream",
     "text": [
      "19:57:17 - cmdstanpy - INFO - CmdStan done processing.\n"
     ]
    },
    {
     "name": "stdout",
     "output_type": "stream",
     "text": [
      "\n"
     ]
    }
   ],
   "source": [
    "# ----------------------\n",
    "# Run CmdStan model\n",
    "# ----------------------\n",
    "burnin = 1000\n",
    "number_of_samples = 10000\n",
    "\n",
    "fit = model.sample(data=stan_data, chains=10, iter_warmup=burnin, iter_sampling=number_of_samples)"
   ]
  },
  {
   "cell_type": "code",
   "execution_count": 19,
   "id": "362fa408",
   "metadata": {},
   "outputs": [
    {
     "name": "stdout",
     "output_type": "stream",
     "text": [
      "H0 = 68.180 ± 1.881\n"
     ]
    }
   ],
   "source": [
    "# H0 = fit.stan_variable(\"h\") * 100\n",
    "\n",
    "np.mean(H0), np.std(H0)\n",
    "print(\"H0 = {:.3f} ± {:.3f}\".format(np.mean(H0), np.std(H0)))"
   ]
  },
  {
   "cell_type": "code",
   "execution_count": 13,
   "id": "424f65b6",
   "metadata": {},
   "outputs": [
    {
     "data": {
      "text/html": [
       "<div>\n",
       "<style scoped>\n",
       "    .dataframe tbody tr th:only-of-type {\n",
       "        vertical-align: middle;\n",
       "    }\n",
       "\n",
       "    .dataframe tbody tr th {\n",
       "        vertical-align: top;\n",
       "    }\n",
       "\n",
       "    .dataframe thead th {\n",
       "        text-align: right;\n",
       "    }\n",
       "</style>\n",
       "<table border=\"1\" class=\"dataframe\">\n",
       "  <thead>\n",
       "    <tr style=\"text-align: right;\">\n",
       "      <th></th>\n",
       "      <th>Mean</th>\n",
       "      <th>MCSE</th>\n",
       "      <th>StdDev</th>\n",
       "      <th>MAD</th>\n",
       "      <th>5%</th>\n",
       "      <th>50%</th>\n",
       "      <th>95%</th>\n",
       "      <th>ESS_bulk</th>\n",
       "      <th>ESS_tail</th>\n",
       "      <th>R_hat</th>\n",
       "    </tr>\n",
       "  </thead>\n",
       "  <tbody>\n",
       "    <tr>\n",
       "      <th>lp__</th>\n",
       "      <td>-2355.220000</td>\n",
       "      <td>0.144534</td>\n",
       "      <td>4.588270</td>\n",
       "      <td>4.232820</td>\n",
       "      <td>-2363.500000</td>\n",
       "      <td>-2354.790000</td>\n",
       "      <td>-2348.430000</td>\n",
       "      <td>1015.300</td>\n",
       "      <td>1280.490</td>\n",
       "      <td>1.001700</td>\n",
       "    </tr>\n",
       "    <tr>\n",
       "      <th>h</th>\n",
       "      <td>0.681974</td>\n",
       "      <td>0.000606</td>\n",
       "      <td>0.018876</td>\n",
       "      <td>0.018544</td>\n",
       "      <td>0.650255</td>\n",
       "      <td>0.682427</td>\n",
       "      <td>0.712676</td>\n",
       "      <td>975.620</td>\n",
       "      <td>1307.310</td>\n",
       "      <td>1.000150</td>\n",
       "    </tr>\n",
       "    <tr>\n",
       "      <th>log_r[1]</th>\n",
       "      <td>1.929320</td>\n",
       "      <td>0.000404</td>\n",
       "      <td>0.012224</td>\n",
       "      <td>0.012091</td>\n",
       "      <td>1.908920</td>\n",
       "      <td>1.929170</td>\n",
       "      <td>1.949730</td>\n",
       "      <td>921.103</td>\n",
       "      <td>948.133</td>\n",
       "      <td>1.001920</td>\n",
       "    </tr>\n",
       "    <tr>\n",
       "      <th>log_r[2]</th>\n",
       "      <td>3.657700</td>\n",
       "      <td>0.000983</td>\n",
       "      <td>0.037014</td>\n",
       "      <td>0.037295</td>\n",
       "      <td>3.597220</td>\n",
       "      <td>3.657210</td>\n",
       "      <td>3.719310</td>\n",
       "      <td>1436.080</td>\n",
       "      <td>1441.270</td>\n",
       "      <td>1.000120</td>\n",
       "    </tr>\n",
       "    <tr>\n",
       "      <th>log_r[3]</th>\n",
       "      <td>3.609380</td>\n",
       "      <td>0.000958</td>\n",
       "      <td>0.034570</td>\n",
       "      <td>0.035538</td>\n",
       "      <td>3.551980</td>\n",
       "      <td>3.609490</td>\n",
       "      <td>3.665930</td>\n",
       "      <td>1332.590</td>\n",
       "      <td>1633.320</td>\n",
       "      <td>1.000220</td>\n",
       "    </tr>\n",
       "    <tr>\n",
       "      <th>...</th>\n",
       "      <td>...</td>\n",
       "      <td>...</td>\n",
       "      <td>...</td>\n",
       "      <td>...</td>\n",
       "      <td>...</td>\n",
       "      <td>...</td>\n",
       "      <td>...</td>\n",
       "      <td>...</td>\n",
       "      <td>...</td>\n",
       "      <td>...</td>\n",
       "    </tr>\n",
       "    <tr>\n",
       "      <th>m_SN_pred[31]</th>\n",
       "      <td>12.340600</td>\n",
       "      <td>0.001861</td>\n",
       "      <td>0.084864</td>\n",
       "      <td>0.085027</td>\n",
       "      <td>12.201000</td>\n",
       "      <td>12.341400</td>\n",
       "      <td>12.478800</td>\n",
       "      <td>2098.980</td>\n",
       "      <td>1188.310</td>\n",
       "      <td>1.002200</td>\n",
       "    </tr>\n",
       "    <tr>\n",
       "      <th>m_SN_pred[32]</th>\n",
       "      <td>14.039300</td>\n",
       "      <td>0.001338</td>\n",
       "      <td>0.060945</td>\n",
       "      <td>0.061676</td>\n",
       "      <td>13.940000</td>\n",
       "      <td>14.039600</td>\n",
       "      <td>14.140400</td>\n",
       "      <td>2072.250</td>\n",
       "      <td>1324.910</td>\n",
       "      <td>0.999295</td>\n",
       "    </tr>\n",
       "    <tr>\n",
       "      <th>m_SN_pred[33]</th>\n",
       "      <td>13.271500</td>\n",
       "      <td>0.001456</td>\n",
       "      <td>0.069825</td>\n",
       "      <td>0.070720</td>\n",
       "      <td>13.156100</td>\n",
       "      <td>13.273000</td>\n",
       "      <td>13.383200</td>\n",
       "      <td>2313.070</td>\n",
       "      <td>1732.850</td>\n",
       "      <td>1.000630</td>\n",
       "    </tr>\n",
       "    <tr>\n",
       "      <th>m_SN_pred[34]</th>\n",
       "      <td>14.019400</td>\n",
       "      <td>0.001433</td>\n",
       "      <td>0.069445</td>\n",
       "      <td>0.070498</td>\n",
       "      <td>13.907400</td>\n",
       "      <td>14.019800</td>\n",
       "      <td>14.135600</td>\n",
       "      <td>2367.980</td>\n",
       "      <td>1479.220</td>\n",
       "      <td>1.000980</td>\n",
       "    </tr>\n",
       "    <tr>\n",
       "      <th>m_SN_pred[35]</th>\n",
       "      <td>13.529600</td>\n",
       "      <td>0.001103</td>\n",
       "      <td>0.052694</td>\n",
       "      <td>0.052706</td>\n",
       "      <td>13.442900</td>\n",
       "      <td>13.530100</td>\n",
       "      <td>13.615000</td>\n",
       "      <td>2305.880</td>\n",
       "      <td>1667.470</td>\n",
       "      <td>1.000830</td>\n",
       "    </tr>\n",
       "  </tbody>\n",
       "</table>\n",
       "<p>9499 rows × 10 columns</p>\n",
       "</div>"
      ],
      "text/plain": [
       "                      Mean      MCSE    StdDev       MAD           5%  \\\n",
       "lp__          -2355.220000  0.144534  4.588270  4.232820 -2363.500000   \n",
       "h                 0.681974  0.000606  0.018876  0.018544     0.650255   \n",
       "log_r[1]          1.929320  0.000404  0.012224  0.012091     1.908920   \n",
       "log_r[2]          3.657700  0.000983  0.037014  0.037295     3.597220   \n",
       "log_r[3]          3.609380  0.000958  0.034570  0.035538     3.551980   \n",
       "...                    ...       ...       ...       ...          ...   \n",
       "m_SN_pred[31]    12.340600  0.001861  0.084864  0.085027    12.201000   \n",
       "m_SN_pred[32]    14.039300  0.001338  0.060945  0.061676    13.940000   \n",
       "m_SN_pred[33]    13.271500  0.001456  0.069825  0.070720    13.156100   \n",
       "m_SN_pred[34]    14.019400  0.001433  0.069445  0.070498    13.907400   \n",
       "m_SN_pred[35]    13.529600  0.001103  0.052694  0.052706    13.442900   \n",
       "\n",
       "                       50%          95%  ESS_bulk  ESS_tail     R_hat  \n",
       "lp__          -2354.790000 -2348.430000  1015.300  1280.490  1.001700  \n",
       "h                 0.682427     0.712676   975.620  1307.310  1.000150  \n",
       "log_r[1]          1.929170     1.949730   921.103   948.133  1.001920  \n",
       "log_r[2]          3.657210     3.719310  1436.080  1441.270  1.000120  \n",
       "log_r[3]          3.609490     3.665930  1332.590  1633.320  1.000220  \n",
       "...                    ...          ...       ...       ...       ...  \n",
       "m_SN_pred[31]    12.341400    12.478800  2098.980  1188.310  1.002200  \n",
       "m_SN_pred[32]    14.039600    14.140400  2072.250  1324.910  0.999295  \n",
       "m_SN_pred[33]    13.273000    13.383200  2313.070  1732.850  1.000630  \n",
       "m_SN_pred[34]    14.019800    14.135600  2367.980  1479.220  1.000980  \n",
       "m_SN_pred[35]    13.530100    13.615000  2305.880  1667.470  1.000830  \n",
       "\n",
       "[9499 rows x 10 columns]"
      ]
     },
     "execution_count": 13,
     "metadata": {},
     "output_type": "execute_result"
    }
   ],
   "source": [
    "fit.summary()"
   ]
  },
  {
   "cell_type": "code",
   "execution_count": 24,
   "id": "fb55d6a0-e643-49b9-a743-e5bca8777aad",
   "metadata": {},
   "outputs": [],
   "source": [
    "# Extract posterior samples\n",
    "h_samples        = fit.stan_variable(\"h\")\n",
    "M_SN0_samples    = fit.stan_variable(\"M_SN0\")\n",
    "Mw_samples       = fit.stan_variable(\"M_w\") \n",
    "bw_samples       = fit.stan_variable(\"b_w\") \n",
    "Zw_samples       = fit.stan_variable(\"Z_w\") \n",
    "# u_r_samples      = fit.stan_variable(\"u_r\")  # shape (draws, N)\n",
    "# r_samples        = (u_r_samples ** (1/3.0)) * r_max  # convert to physical distances (Mpc)\n",
    "\n",
    "#m_SN_max_samples = fit.stan_variable(\"m_SN_max\")\n",
    "sigma_v_samples = fit.stan_variable(\"sigma_v\")\n",
    "# M_samples = fit.stan_variable(\"M\")\n",
    "# dZP_samples = fit.stan_variable(\"dZP\")"
   ]
  },
  {
   "cell_type": "code",
   "execution_count": 25,
   "id": "93dd95be-c5aa-40b3-b9ed-7ac18b86be8a",
   "metadata": {},
   "outputs": [],
   "source": [
    "params = [\n",
    "    (\"h\", h_samples, r\"$h$\"),\n",
    "    (\"M_SN0\", M_SN0_samples, r\"$M_{SN0}$\"),\n",
    "    (\"M_w\", Mw_samples, r\"$M_w$\"),\n",
    "    (\"b_w\", bw_samples, r\"$b_w$\"),\n",
    "    (\"Z_w\", Zw_samples, r\"$Z_w$\"),\n",
    "    #(\"m_SN_max\", m_SN_max_samples, r\"$m_{SN,max}$\"),\n",
    "    # (\"dZP\", dZP_samples, r\"dZP\")\n",
    "#    (\"r_LMC\", r_LMC_samples, r\"$r_\\mathrm{LMC}$ [Mpc]\"),\n",
    "#    (\"r_NGC4258\", r_NGC4258_samples, r\"$r_\\mathrm{NGC4258}$ [Mpc]\")\n",
    "]"
   ]
  },
  {
   "cell_type": "code",
   "execution_count": 26,
   "id": "2dfbc729-f20e-4a0c-8030-c3820d361109",
   "metadata": {},
   "outputs": [
    {
     "data": {
      "text/plain": [
       "(296.66, 39.73)"
      ]
     },
     "execution_count": 26,
     "metadata": {},
     "output_type": "execute_result"
    }
   ],
   "source": [
    "np.round(np.mean(sigma_v_samples), 2), np.round(np.std(sigma_v_samples), 2)"
   ]
  },
  {
   "cell_type": "code",
   "execution_count": 27,
   "id": "32a74d80-4c5b-4f5c-99ac-02c716aa6d81",
   "metadata": {
    "scrolled": true
   },
   "outputs": [
    {
     "data": {
      "image/png": "[encoded data removed]",
      "text/plain": [
       "<Figure size 1500x800 with 5 Axes>"
      ]
     },
     "metadata": {},
     "output_type": "display_data"
    }
   ],
   "source": [
    "\n",
    "# Dynamically determine grid size\n",
    "n_params = len(params)\n",
    "n_cols   = 3\n",
    "n_rows   = math.ceil(n_params / n_cols)\n",
    "\n",
    "fig, axes = plt.subplots(n_rows, n_cols, figsize=(5 * n_cols, 4 * n_rows))\n",
    "axes      = axes.flatten()\n",
    "\n",
    "for ax, (name, samples, xlabel) in zip(axes, params):\n",
    "    ax.hist(samples, bins=30, density=True, alpha=0.7, edgecolor=\"black\")\n",
    "    ax.set_xlabel(xlabel)\n",
    "    ax.set_ylabel(\"Posterior density\")\n",
    "    ax.set_title(f\"{name} = \"+ f\"{np.round(np.mean(samples), 3)} ± {np.round(np.std(samples), 3)}\")\n",
    "    \n",
    "\n",
    "# Remove any unused subplots\n",
    "for j in range(len(params), len(axes)):\n",
    "    fig.delaxes(axes[j])\n",
    "\n",
    "plt.tight_layout()\n",
    "#plt.savefig('Stan_SH0ES.jpg')\n",
    "plt.show()\n"
   ]
  },
  {
   "cell_type": "code",
   "execution_count": null,
   "id": "8e348486-b9e5-4256-8a06-2833f7c358ab",
   "metadata": {},
   "outputs": [],
   "source": [
    "samples = az.from_cmdstanpy(fit)"
   ]
  },
  {
   "cell_type": "code",
   "execution_count": null,
   "id": "4881bb65-47af-4250-b38c-ca4ca87fd7fd",
   "metadata": {},
   "outputs": [],
   "source": [
    "#az.plot_trace(fit, compact=False);"
   ]
  },
  {
   "cell_type": "code",
   "execution_count": null,
   "id": "79ae7e2d-76df-4a48-aada-8490021095f8",
   "metadata": {},
   "outputs": [],
   "source": []
  },
  {
   "cell_type": "code",
   "execution_count": null,
   "id": "07f3f38e-ec26-461f-bb5d-bbec0df60a3c",
   "metadata": {},
   "outputs": [],
   "source": [
    "#print(f\"ArviZ version: {az.__version__}\")\n",
    "\n",
    "az.plot_pair(\n",
    "    samples,\n",
    "    var_names=[\"h\", \"Z_w\", \"M_w\", \"b_w\", \"M_SN0\",\"sigma_v\"],\n",
    "    kind=\"kde\",\n",
    "    marginals=\"True\",\n",
    "#    reference_values=Truth,\n",
    "#    reference_values_kwargs = {\"color\":'r', \"markersize\":20},\n",
    "    textsize=22,\n",
    "    kde_kwargs={\n",
    "        \"hdi_probs\": [0.68, 0.95, 0.997],  # Plot 30%, 60% and 90% HDI contours\n",
    "        \"contourf_kwargs\": {\"cmap\": \"Blues\"},\n",
    "    },\n",
    ")\n",
    "#plt.savefig('SH0ES_corner.jpg')\n",
    "plt.show()"
   ]
  },
  {
   "cell_type": "code",
   "execution_count": null,
   "id": "4e4af516-5dbd-4873-bb0a-9d9caaf185b5",
   "metadata": {},
   "outputs": [],
   "source": [
    "fit.summary()"
   ]
  },
  {
   "cell_type": "code",
   "execution_count": null,
   "id": "13ab9aec-0e87-410e-9a67-bcc535cd8eb6",
   "metadata": {},
   "outputs": [],
   "source": []
  },
  {
   "cell_type": "code",
   "execution_count": null,
   "id": "c40d96ae-1875-4c72-a01e-09aef30942eb",
   "metadata": {},
   "outputs": [],
   "source": []
  },
  {
   "cell_type": "code",
   "execution_count": null,
   "id": "13b036a3-9c12-4651-a501-424f6983f1ec",
   "metadata": {},
   "outputs": [],
   "source": []
  },
  {
   "cell_type": "code",
   "execution_count": null,
   "id": "ea1b0975-ba46-47bf-b57e-3f97f20c353f",
   "metadata": {},
   "outputs": [],
   "source": []
  }
 ],
 "metadata": {
  "kernelspec": {
   "display_name": "venv_candel (3.12.10)",
   "language": "python",
   "name": "python3"
  },
  "language_info": {
   "codemirror_mode": {
    "name": "ipython",
    "version": 3
   },
   "file_extension": ".py",
   "mimetype": "text/x-python",
   "name": "python",
   "nbconvert_exporter": "python",
   "pygments_lexer": "ipython3",
   "version": "3.12.10"
  }
 },
 "nbformat": 4,
 "nbformat_minor": 5
}
