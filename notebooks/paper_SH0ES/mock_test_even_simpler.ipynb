{
 "cells": [
  {
   "cell_type": "code",
   "execution_count": 1,
   "id": "b3176bf0",
   "metadata": {},
   "outputs": [],
   "source": [
    "import numpyro\n",
    "numpyro.set_host_device_count(4)\n",
    "\n",
    "import numpy as np\n",
    "from scipy.stats import norm\n",
    "from tqdm import trange\n",
    "\n",
    "from jax import numpy as jnp\n",
    "from jax import random\n",
    "from numpyro import plate, sample, factor\n",
    "from numpyro.distributions import Normal, Uniform\n",
    "from numpyro.infer import MCMC, NUTS, init_to_median\n",
    "\n",
    "\n",
    "import matplotlib.pyplot as plt\n",
    "%matplotlib inline\n",
    "\n",
    "SPEED_OF_LIGHT = 299792.458\n",
    "\n",
    "\n",
    "def r2mu(r):\n",
    "    return 5 * jnp.log10(r) + 25\n",
    "\n",
    "def mu2r(mu):\n",
    "    return 10**((mu - 25) / 5)\n",
    "\n",
    "def r2czcosmo(r, H0=70):\n",
    "    return r * H0"
   ]
  },
  {
   "cell_type": "code",
   "execution_count": 2,
   "id": "0a2c4bef",
   "metadata": {},
   "outputs": [
    {
     "name": "stdout",
     "output_type": "stream",
     "text": [
      "Retained 43 out of 500 points.\n"
     ]
    },
    {
     "name": "stderr",
     "output_type": "stream",
     "text": [
      "/var/folders/kv/90qm_jx508j4zhvy56lhf09m0000gn/T/ipykernel_9551/506543769.py:47: UserWarning: FigureCanvasAgg is non-interactive, and thus cannot be shown\n",
      "  fig.show()\n"
     ]
    },
    {
     "data": {
      "image/png": "[encoded data removed]",
      "text/plain": [
       "<Figure size 1200x400 with 3 Axes>"
      ]
     },
     "metadata": {},
     "output_type": "display_data"
    }
   ],
   "source": [
    "npoints = 500\n",
    "\n",
    "Rmax = 100\n",
    "M = -19.25\n",
    "sigma_v = 250\n",
    "e_mag = 0.15\n",
    "H0 = 70\n",
    "mag_lim = 14.0\n",
    "cz_lim = None\n",
    "\n",
    "\n",
    "def generate_mock(seed, mag_lim=None, cz_lim=None, verbose=False,\n",
    "                  make_plot=False):\n",
    "    gen = np.random.default_rng(seed)\n",
    "\n",
    "    r = Rmax * gen.uniform(0, 1, npoints)**(1/3)\n",
    "    mag = gen.normal(r2mu(r) + M, e_mag, )\n",
    "    cz = gen.normal(r2czcosmo(r, H0=H0), sigma_v)\n",
    "\n",
    "    mask = np.ones_like(mag, dtype=bool)\n",
    "    if mag_lim is not None:\n",
    "        mask &= mag < mag_lim\n",
    "    if cz_lim is not None:\n",
    "        mask &= cz < cz_lim\n",
    "    \n",
    "    if verbose:\n",
    "        print(f\"Retained {np.sum(mask)} out of {npoints} points.\")\n",
    "\n",
    "    mag, cz, r = mag[mask], cz[mask], r[mask]\n",
    "\n",
    "    if make_plot:\n",
    "        fig, axes = plt.subplots(1, 3, figsize=(12, 4), constrained_layout=True)\n",
    "        axes[0].hist(mag, bins=\"auto\")\n",
    "        axes[0].set_xlabel(r\"$m ~ [\\mathrm{mag}]$\")\n",
    "        axes[0].set_ylabel('Count')\n",
    "\n",
    "        axes[1].hist(r, bins=\"auto\")\n",
    "        axes[1].set_title(r'Distance r')\n",
    "        axes[1].set_xlabel('r')\n",
    "        axes[1].set_ylabel('Count')\n",
    "\n",
    "        axes[2].hist(cz, bins=\"auto\")\n",
    "        axes[2].set_title('cz_obs')\n",
    "        axes[2].set_xlabel('cz_obs')\n",
    "        axes[2].set_ylabel('Count')\n",
    "\n",
    "        fig.show()\n",
    "\n",
    "    return mag, cz, r\n",
    "    \n",
    "\n",
    "\n",
    "__ = generate_mock(1, mag_lim, cz_lim, verbose=True, make_plot=True)"
   ]
  },
  {
   "cell_type": "code",
   "execution_count": 3,
   "id": "6ac98cce",
   "metadata": {},
   "outputs": [],
   "source": [
    "class FluxSelectionModel:\n",
    "\n",
    "    def __init__(self, mag_lim, e_mag, Rmax_survey, sigma_v, H0):\n",
    "        self.mag_lim = mag_lim\n",
    "        self.e_mag = e_mag\n",
    "        self.Rmax_survey = Rmax_survey\n",
    "        self.sigma_v = sigma_v\n",
    "        self.H0 = H0\n",
    "\n",
    "    def __call__(self, mag_obs, cz_obs):\n",
    "        N = len(mag_obs)\n",
    "\n",
    "        M = sample('M', Normal(-19.25, 1.0))\n",
    "        factor(\"global_norm\", N * 0.6 * jnp.log(10) * M)\n",
    "\n",
    "        with plate('galaxies_lp', N):\n",
    "            r = sample('r', Uniform(0, self.Rmax_survey))\n",
    "            factor(\"log_r\", 2 * jnp.log(r))\n",
    "\n",
    "            mu_r = 5 * jnp.log10(r) + 25\n",
    "            m_mean = mu_r + M\n",
    "            cz = r2czcosmo(r, H0=self.H0)\n",
    "\n",
    "        with plate('galaxies_ll', N):\n",
    "            sample('mag_obs', Normal(m_mean, self.e_mag), obs=mag_obs)\n",
    "            sample('cz_obs', Normal(cz, sigma_v), obs=cz_obs)\n",
    "\n",
    "\n",
    "class RedshiftSelectionModel:\n",
    "\n",
    "    def __init__(self, cz_lim, e_mag, Rmax_survey, sigma_v, M):\n",
    "        self.cz_lim = cz_lim\n",
    "        self.e_mag = e_mag\n",
    "        self.Rmax_survey = Rmax_survey\n",
    "        self.sigma_v = sigma_v\n",
    "        self.M = M\n",
    "\n",
    "    def __call__(self, mag_obs, cz_obs):\n",
    "        N = len(mag_obs)\n",
    "\n",
    "        H0 = sample('H0', Uniform(1, 100))\n",
    "        factor(\"global_norm\", 3 * N * jnp.log(H0))\n",
    "\n",
    "        with plate('galaxies_lp', N):\n",
    "            r = sample('r', Uniform(0, self.Rmax_survey))\n",
    "            factor(\"log_r\", 2 * jnp.log(r))\n",
    "\n",
    "            mu_r = 5 * jnp.log10(r) + 25\n",
    "            m_mean = mu_r + self.M\n",
    "            cz = r2czcosmo(r, H0=H0)\n",
    "\n",
    "        with plate('galaxies_ll', N):\n",
    "            sample('mag_obs', Normal(m_mean, self.e_mag), obs=mag_obs)\n",
    "            sample('cz_obs', Normal(cz, sigma_v), obs=cz_obs)"
   ]
  },
  {
   "cell_type": "code",
   "execution_count": null,
   "id": "82a06c32",
   "metadata": {},
   "outputs": [
    {
     "name": "stderr",
     "output_type": "stream",
     "text": [
      "Running MCMC: 100%|██████████| 100/100 [01:27<00:00,  1.15it/s]\n"
     ]
    }
   ],
   "source": [
    "num_warmup = 500\n",
    "num_steps = 1000\n",
    "\n",
    "\n",
    "# NOTE: Make sure to switch the mock generator to be generating magnitude limited mocks!\n",
    "\n",
    "# model = RedshiftSelectionModel(cz_lim=cz_lim, e_mag=e_mag, Rmax_survey=Rmax, sigma_v=sigma_v, M=M)\n",
    "# param_bias_test = \"H0\"\n",
    "\n",
    "model = FluxSelectionModel(mag_lim=mag_lim, e_mag=e_mag, Rmax_survey=Rmax, sigma_v=sigma_v, H0=H0)\n",
    "param_bias_test = \"M\"\n",
    "\n",
    "nrepeat = 100\n",
    "progress_bar = nrepeat == 1\n",
    "\n",
    "bias = []\n",
    "\n",
    "for i in trange(nrepeat, desc=\"Running MCMC\", disable=progress_bar):\n",
    "    mag, cz, r = generate_mock(500 + i, mag_lim=mag_lim, cz_lim=cz_lim)\n",
    "\n",
    "    kernel = NUTS(model, init_strategy=init_to_median(num_samples=2500))\n",
    "    mcmc = MCMC(kernel, num_warmup=num_warmup, num_samples=num_steps, num_chains=4, progress_bar=progress_bar)\n",
    "    mcmc.run(\n",
    "        random.PRNGKey(i),\n",
    "        mag_obs=jnp.asarray(mag),\n",
    "        cz_obs=jnp.asarray(cz),\n",
    "        )\n",
    "\n",
    "    samples = mcmc.get_samples()\n",
    "    if progress_bar:\n",
    "        mcmc.print_summary()\n",
    "    \n",
    "    param = param_bias_test\n",
    "    if param == \"M\":\n",
    "        x0 = M\n",
    "    elif param == \"H0\":\n",
    "        x0 = H0\n",
    "    else:\n",
    "        raise ValueError(\"Unknown parameter: {}\".format(param))\n",
    "\n",
    "    bias.append((jnp.mean(samples[param]) - x0) / jnp.std(samples[param]))\n",
    "\n",
    "bias = jnp.asarray(bias)"
   ]
  },
  {
   "cell_type": "markdown",
   "id": "1bf7a7fc",
   "metadata": {},
   "source": [
    "### Parameter bias test"
   ]
  },
  {
   "cell_type": "code",
   "execution_count": 7,
   "id": "b8c70e49",
   "metadata": {},
   "outputs": [
    {
     "data": {
      "image/png": "[encoded data removed]",
      "text/plain": [
       "<Figure size 640x480 with 1 Axes>"
      ]
     },
     "metadata": {},
     "output_type": "display_data"
    }
   ],
   "source": [
    "plt.figure()\n",
    "\n",
    "plt.hist(bias, bins=\"auto\", density=True, label=\"Samples\", histtype=\"step\")\n",
    "\n",
    "xlim = plt.xlim()\n",
    "xrange = np.linspace(*xlim, 100)\n",
    "plt.plot(xrange, norm.pdf(xrange), label=\"Standard Normal\", color='red')\n",
    "plt.xlim(*xlim)\n",
    "\n",
    "plt.xlabel(\"Bias\")\n",
    "plt.ylabel(\"Density\")\n",
    "plt.legend()\n",
    "\n",
    "plt.tight_layout()\n",
    "plt.show()"
   ]
  },
  {
   "cell_type": "code",
   "execution_count": null,
   "id": "cdb4bef4",
   "metadata": {},
   "outputs": [],
   "source": []
  },
  {
   "cell_type": "code",
   "execution_count": null,
   "id": "88851f83",
   "metadata": {},
   "outputs": [],
   "source": [
    "plt.figure()\n",
    "plt.hist(np.mean(samples[\"r\"], axis=0), bins=\"auto\", density=True, label=\"Samples\", histtype=\"step\")\n",
    "plt.hist(r, bins=\"auto\", density=True, label=\"True\", histtype=\"step\")\n",
    "\n",
    "plt.legend()\n",
    "\n",
    "\n",
    "plt.show()\n"
   ]
  },
  {
   "cell_type": "code",
   "execution_count": null,
   "id": "cdadb22d",
   "metadata": {},
   "outputs": [],
   "source": [
    "dx = (np.mean(samples[\"r\"], axis=0) - r) / np.std(samples[\"r\"], axis=0)\n",
    "plt.figure()\n",
    "plt.hist(dx, bins=\"auto\", density=True, label=\"Samples\", histtype=\"step\")\n",
    "\n",
    "xlim = plt.xlim()\n",
    "xrange = np.linspace(*xlim, 100)\n",
    "plt.plot(xrange, norm.pdf(xrange), label=\"Standard Normal\", color='red')\n",
    "plt.xlim(*xlim)\n",
    "\n",
    "plt.show()"
   ]
  },
  {
   "cell_type": "code",
   "execution_count": null,
   "id": "7cf4daed",
   "metadata": {},
   "outputs": [],
   "source": []
  }
 ],
 "metadata": {
  "kernelspec": {
   "display_name": "venv_candel (3.12.10)",
   "language": "python",
   "name": "python3"
  },
  "language_info": {
   "codemirror_mode": {
    "name": "ipython",
    "version": 3
   },
   "file_extension": ".py",
   "mimetype": "text/x-python",
   "name": "python",
   "nbconvert_exporter": "python",
   "pygments_lexer": "ipython3",
   "version": "3.12.10"
  }
 },
 "nbformat": 4,
 "nbformat_minor": 5
}
