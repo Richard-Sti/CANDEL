{
 "cells": [
  {
   "cell_type": "code",
   "execution_count": 2,
   "id": "94e19d41",
   "metadata": {},
   "outputs": [
    {
     "name": "stdout",
     "output_type": "stream",
     "text": [
      "The autoreload extension is already loaded. To reload it, use:\n",
      "  %reload_ext autoreload\n"
     ]
    }
   ],
   "source": [
    "import sys\n",
    "sys.path.insert(0, \"/Users/rstiskalek/Projects/candel\")\n",
    "\n",
    "import numpyro\n",
    "numpyro.set_host_device_count(12)\n",
    "\n",
    "import numpy as np\n",
    "import matplotlib.pyplot as plt\n",
    "import scienceplots\n",
    "\n",
    "from scipy.stats import norm\n",
    "import candel\n",
    "\n",
    "%matplotlib inline\n",
    "%load_ext autoreload\n",
    "%autoreload 2"
   ]
  },
  {
   "cell_type": "code",
   "execution_count": 15,
   "id": "1bbe944d",
   "metadata": {},
   "outputs": [
    {
     "name": "stdout",
     "output_type": "stream",
     "text": [
      "2025-07-17 22:20:57 warning: zero width found in the priors. Setting it to 1e-5.\n",
      "2025-07-17 22:20:57 indices of zero width: [44]\n",
      "2025-07-17 22:20:57 found zero-width prior at index 44. Setting it to 0.\n",
      "2025-07-17 22:20:57 normalizing the Manticore LOS density.\n",
      "2025-07-17 22:20:57 Masking Cepheids with cz_cmb > 3300 km/s: Keeping 35 out of 37.\n",
      "2025-07-17 22:20:57 replacing prior of `M_B` with a delta function.\n",
      "2025-07-17 22:20:57 replacing prior of `A_covmat` with a delta function.\n",
      "2025-07-17 22:20:57 loading host galaxy LOS interpolators.\n",
      "2025-07-17 22:20:57 Popped the following keys with `None` values from data: czcmb_SN_HF, e_czcmb_SN_HF, RA_SN_HF, dec_SN_HF\n",
      "2025-07-17 22:20:57 Converting host RA/dec to Cartesian coordinates.\n",
      "2025-07-17 22:20:57 set the following attributes: mag_cepheid, logP, OH, C_Cepheid, L_Cepheid, L_Cepheid_host_dist, Cepheids_only, num_cepheids, num_hosts, Y_SN_Cepheid, C_SN_Cepheid, L_SN_Cepheid, L_SN_Cepheid_dist, mag_SN_unique_Cepheid_host, C_SN_unique_Cepheid_host, L_SN_unique_Cepheid_host, L_SN_unique_Cepheid_host_dist, Y_SN_HF, num_flow_SN, Y_SN, C_SN, L_SN, mu_N4258_anchor, e_mu_N4258_anchor, e2_mu_N4258_anchor, mu_LMC_anchor, e_mu_LMC_anchor, e2_mu_LMC_anchor, M_HST, e_M_HST, e2_M_HST, M_Gaia, e_M_Gaia, e2_M_Gaia, sigma_grnd, czcmb_cepheid_host, e_czcmb_cepheid_host, e2_czcmb_cepheid_host, RA_host, dec_host, PV_covmat_cepheid_host, host_los_density, host_los_velocity, host_los_r, mask_host, rhat_host\n",
      "2025-07-17 22:20:57 use_SNe_HF_SH0ES set to False\n",
      "2025-07-17 22:20:57 use_SNe_HF_Bayes set to False\n",
      "2025-07-17 22:20:57 use_MNR set to False\n",
      "2025-07-17 22:20:57 which_selection set to redshift\n",
      "2025-07-17 22:20:57 use_Cepheid_host_redshift set to True\n",
      "2025-07-17 22:20:57 use_uniform_mu_host_priors set to False\n",
      "2025-07-17 22:20:57 use_fiducial_Cepheid_host_PV_covariance set to False\n",
      "2025-07-17 22:20:57 use_PV_covmat_scaling set to False\n",
      "2025-07-17 22:20:57 use_reconstruction set to True\n",
      "2025-07-17 22:20:57 which_bias set to powerlaw\n",
      "2025-07-17 22:20:57 setting radial range from 0.01 to 150 Mpc with 251 points for the Cepheid host galaxies.\n",
      "2025-07-17 22:20:57 marginalizing over 30 field realizations.\n",
      "2025-07-17 22:20:57 output will be saved to `/Users/rstiskalek/Projects/CANDEL/results/CH0/Cepheid_H0_Manticore_35host_redshift_sel.hdf5`.\n",
      "Priors are:\n",
      "{'H0': 'uniform', 'M_W': 'uniform', 'b_W': 'uniform', 'Z_W': 'uniform', 'sigma_v': 'jeffreys', 'beta': 'delta', 'Vext': 'vector_uniform_fixed', 'M_B': 'delta', 'A_covmat': 'delta'}\n"
     ]
    }
   ],
   "source": [
    "config_path = \"/Users/rstiskalek/Projects/CANDEL/scripts/runs/config_shoes.toml\"\n",
    "data = candel.pvdata.load_SH0ES_from_config(config_path, )\n",
    "\n",
    "model = candel.model.SH0ESModel(config_path, data)\n",
    "\n",
    "\n",
    "print(\"Priors are:\")\n",
    "print(model.prior_dist_name)"
   ]
  },
  {
   "cell_type": "code",
   "execution_count": null,
   "id": "1a662ea7",
   "metadata": {},
   "outputs": [
    {
     "name": "stdout",
     "output_type": "stream",
     "text": [
      "2025-07-17 22:20:58 running inference on devices: cpu(cpu), cpu(cpu), cpu(cpu), cpu(cpu), cpu(cpu), cpu(cpu), cpu(cpu), cpu(cpu), cpu(cpu), cpu(cpu), cpu(cpu), cpu(cpu)\n",
      "2025-07-17 22:20:58 using NumPyro platform: CPU\n"
     ]
    },
    {
     "data": {
      "application/vnd.jupyter.widget-view+json": {
       "model_id": "5e45c3cbe23f494bb82d5af9a8b47755",
       "version_major": 2,
       "version_minor": 0
      },
      "text/plain": [
       "  0%|          | 0/2000 [00:00<?, ?it/s]"
      ]
     },
     "metadata": {},
     "output_type": "display_data"
    },
    {
     "data": {
      "application/vnd.jupyter.widget-view+json": {
       "model_id": "2be00093bd8c472d9aa3dbbf146e0719",
       "version_major": 2,
       "version_minor": 0
      },
      "text/plain": [
       "  0%|          | 0/2000 [00:00<?, ?it/s]"
      ]
     },
     "metadata": {},
     "output_type": "display_data"
    },
    {
     "data": {
      "application/vnd.jupyter.widget-view+json": {
       "model_id": "39d7461504264792bdc17b4cf7d904ed",
       "version_major": 2,
       "version_minor": 0
      },
      "text/plain": [
       "  0%|          | 0/2000 [00:00<?, ?it/s]"
      ]
     },
     "metadata": {},
     "output_type": "display_data"
    },
    {
     "data": {
      "application/vnd.jupyter.widget-view+json": {
       "model_id": "18a90b53f0cc49b6addd120282192e58",
       "version_major": 2,
       "version_minor": 0
      },
      "text/plain": [
       "  0%|          | 0/2000 [00:00<?, ?it/s]"
      ]
     },
     "metadata": {},
     "output_type": "display_data"
    },
    {
     "data": {
      "application/vnd.jupyter.widget-view+json": {
       "model_id": "f8a83dcd9d774539a71b7102284f348e",
       "version_major": 2,
       "version_minor": 0
      },
      "text/plain": [
       "  0%|          | 0/2000 [00:00<?, ?it/s]"
      ]
     },
     "metadata": {},
     "output_type": "display_data"
    },
    {
     "data": {
      "application/vnd.jupyter.widget-view+json": {
       "model_id": "d3a86ced0e894deb987871a4cc92d1df",
       "version_major": 2,
       "version_minor": 0
      },
      "text/plain": [
       "  0%|          | 0/2000 [00:00<?, ?it/s]"
      ]
     },
     "metadata": {},
     "output_type": "display_data"
    },
    {
     "data": {
      "application/vnd.jupyter.widget-view+json": {
       "model_id": "5b94ccd73c804d7ea9eb8e429cd99a59",
       "version_major": 2,
       "version_minor": 0
      },
      "text/plain": [
       "  0%|          | 0/2000 [00:00<?, ?it/s]"
      ]
     },
     "metadata": {},
     "output_type": "display_data"
    },
    {
     "data": {
      "application/vnd.jupyter.widget-view+json": {
       "model_id": "aeb1d3c9bfed456990151328067d4e79",
       "version_major": 2,
       "version_minor": 0
      },
      "text/plain": [
       "  0%|          | 0/2000 [00:00<?, ?it/s]"
      ]
     },
     "metadata": {},
     "output_type": "display_data"
    },
    {
     "data": {
      "application/vnd.jupyter.widget-view+json": {
       "model_id": "863469dc7540418dbef06249cc652664",
       "version_major": 2,
       "version_minor": 0
      },
      "text/plain": [
       "  0%|          | 0/2000 [00:00<?, ?it/s]"
      ]
     },
     "metadata": {},
     "output_type": "display_data"
    },
    {
     "data": {
      "application/vnd.jupyter.widget-view+json": {
       "model_id": "1dbe71952189492f82182375ec5398be",
       "version_major": 2,
       "version_minor": 0
      },
      "text/plain": [
       "  0%|          | 0/2000 [00:00<?, ?it/s]"
      ]
     },
     "metadata": {},
     "output_type": "display_data"
    },
    {
     "data": {
      "application/vnd.jupyter.widget-view+json": {
       "model_id": "6c78349d17a24c88a4d8aeaaabc6c022",
       "version_major": 2,
       "version_minor": 0
      },
      "text/plain": [
       "  0%|          | 0/2000 [00:00<?, ?it/s]"
      ]
     },
     "metadata": {},
     "output_type": "display_data"
    },
    {
     "data": {
      "application/vnd.jupyter.widget-view+json": {
       "model_id": "639e781becbe45a9a802e0e24ecf7da8",
       "version_major": 2,
       "version_minor": 0
      },
      "text/plain": [
       "  0%|          | 0/2000 [00:00<?, ?it/s]"
      ]
     },
     "metadata": {},
     "output_type": "display_data"
    }
   ],
   "source": [
    "samples = candel.run_SH0ES_inference(model, )"
   ]
  },
  {
   "cell_type": "code",
   "execution_count": null,
   "id": "ab5ead9d",
   "metadata": {},
   "outputs": [],
   "source": []
  },
  {
   "cell_type": "code",
   "execution_count": null,
   "id": "d09783eb",
   "metadata": {},
   "outputs": [],
   "source": []
  },
  {
   "cell_type": "code",
   "execution_count": null,
   "id": "e090f466",
   "metadata": {},
   "outputs": [],
   "source": [
    "fig, ax = plt.subplots(figsize=(5, 3.7),)\n",
    "\n",
    "# Histogram of H0 samples (normalize to max height = 1)\n",
    "counts, bins, _ = ax.hist(\n",
    "    samples[\"H0\"], bins=\"auto\", density=True, alpha=0.9, color=\"0.3\",\n",
    "    label=r\"$H_0$ samples\"\n",
    ")\n",
    "max_density = counts.max()\n",
    "\n",
    "# Define a range for the Gaussians\n",
    "H0_vals = np.linspace(60, 80, 1000)\n",
    "\n",
    "# SH0ES (e.g. Riess+2021), normalized to match\n",
    "H0_SH0ES = 73.04\n",
    "H0_SH0ES_err = 1.04\n",
    "shoes_pdf = norm.pdf(H0_vals, loc=H0_SH0ES, scale=H0_SH0ES_err)\n",
    "# shoes_pdf /= shoes_pdf.max()  # normalize peak to 1\n",
    "# shoes_pdf *= max_density      # scale to match sample histogram\n",
    "ax.plot(H0_vals, shoes_pdf, color=\"tab:red\", label=\"SH0ES\")\n",
    "\n",
    "# Planck (e.g. Planck 2018), normalized to match\n",
    "H0_Planck = 67.4\n",
    "H0_Planck_err = 0.5\n",
    "planck_pdf = norm.pdf(H0_vals, loc=H0_Planck, scale=H0_Planck_err)\n",
    "# planck_pdf /= planck_pdf.max()\n",
    "# planck_pdf *= max_density\n",
    "ax.plot(H0_vals, planck_pdf, color=\"tab:blue\", label=\"Planck\")\n",
    "\n",
    "ax.set_xlabel(r\"$H_0~[\\mathrm{km/s/Mpc}]$\")\n",
    "ax.set_ylabel(\"Normalized density\")\n",
    "ax.legend()\n",
    "\n",
    "plt.tight_layout()\n",
    "fig.savefig(\"/Users/rstiskalek/Downloads/H0_samples.png\", bbox_inches=\"tight\", dpi=450)\n",
    "plt.show()"
   ]
  },
  {
   "cell_type": "code",
   "execution_count": null,
   "id": "e37cd90f",
   "metadata": {},
   "outputs": [],
   "source": [
    "from scipy.stats import norm\n",
    "import posterior_agreement\n",
    "\n",
    "\n",
    "H0 = norm(69.26, 1.06).rvs(50_000)\n",
    "# H0_test = norm(67.4, 0.5).rvs(50000)\n",
    "H0_test = norm(73.04, 1.04).rvs(50000)\n",
    "\n",
    "\n",
    "\n",
    "chains = (H0, H0_test)\n",
    "agreement_1d = posterior_agreement.compute_agreement(chains)\n",
    "\n",
    "print(\"p-value %.3f, corresponding to %.4f sigmas\"%(agreement_1d.PTE, agreement_1d.sigma))"
   ]
  },
  {
   "cell_type": "code",
   "execution_count": null,
   "id": "e1332f5f",
   "metadata": {},
   "outputs": [],
   "source": []
  }
 ],
 "metadata": {
  "kernelspec": {
   "display_name": "venv_candel",
   "language": "python",
   "name": "python3"
  },
  "language_info": {
   "codemirror_mode": {
    "name": "ipython",
    "version": 3
   },
   "file_extension": ".py",
   "mimetype": "text/x-python",
   "name": "python",
   "nbconvert_exporter": "python",
   "pygments_lexer": "ipython3",
   "version": "3.12.10"
  }
 },
 "nbformat": 4,
 "nbformat_minor": 5
}
