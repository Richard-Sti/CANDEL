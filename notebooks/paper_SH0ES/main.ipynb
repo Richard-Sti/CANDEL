{
 "cells": [
  {
   "cell_type": "code",
   "execution_count": 1,
   "id": "94e19d41",
   "metadata": {},
   "outputs": [],
   "source": [
    "import sys\n",
    "sys.path.insert(0, \"/Users/rstiskalek/Projects/candel\")\n",
    "\n",
    "import numpyro\n",
    "numpyro.set_host_device_count(12)\n",
    "\n",
    "import numpy as np\n",
    "import matplotlib.pyplot as plt\n",
    "import scienceplots\n",
    "\n",
    "from scipy.stats import norm\n",
    "import candel\n",
    "\n",
    "%matplotlib inline\n",
    "%load_ext autoreload\n",
    "%autoreload 2"
   ]
  },
  {
   "cell_type": "code",
   "execution_count": 2,
   "id": "1bbe944d",
   "metadata": {},
   "outputs": [
    {
     "name": "stdout",
     "output_type": "stream",
     "text": [
      "2025-06-20 12:45:10 warning: zero width found in the priors. Setting it to 1e-5.\n",
      "2025-06-20 12:45:10 indices of zero width: [44]\n",
      "2025-06-20 12:45:10 found zero-width prior at index 44. Setting it to 0.\n",
      "2025-06-20 12:45:11 Masking Cepheids with cz_cmb > 3300 km/s: Keeping 35 out of 37.\n",
      "2025-06-20 12:45:11 replacing prior of `M_B` with a delta function.\n",
      "2025-06-20 12:45:11 replacing prior of `A_covmat` with a delta function.\n",
      "2025-06-20 12:45:11 loading host galaxy LOS interpolators.\n",
      "2025-06-20 12:45:11 Popped the following keys with `None` values from data: czcmb_SN_HF, e_czcmb_SN_HF, RA_SN_HF, dec_SN_HF\n",
      "2025-06-20 12:45:11 Converting host RA/dec to Cartesian coordinates.\n",
      "2025-06-20 12:45:11 set the following attributes: mag_cepheid, logP, OH, C_Cepheid, L_Cepheid, L_Cepheid_host_dist, Cepheids_only, num_cepheids, num_hosts, Y_SN_Cepheid, C_SN_Cepheid, L_SN_Cepheid, L_SN_Cepheid_dist, Y_SN_HF, num_flow_SN, Y_SN, C_SN, L_SN, mu_N4258_anchor, e_mu_N4258_anchor, e2_mu_N4258_anchor, mu_LMC_anchor, e_mu_LMC_anchor, e2_mu_LMC_anchor, M_HST, e_M_HST, e2_M_HST, M_Gaia, e_M_Gaia, e2_M_Gaia, sigma_grnd, czcmb_cepheid_host, e_czcmb_cepheid_host, e2_czcmb_cepheid_host, RA_host, dec_host, PV_covmat_cepheid_host, host_los_density, host_los_velocity, host_los_r, mask_host, rhat_host\n",
      "2025-06-20 12:45:11 use_SNe_HF_SH0ES set to False\n",
      "2025-06-20 12:45:11 use_SNe_HF_Bayes set to False\n",
      "2025-06-20 12:45:11 use_MNR set to False\n",
      "2025-06-20 12:45:11 use_Cepheid_host_redshift set to True\n",
      "2025-06-20 12:45:11 use_uniform_mu_host_priors set to False\n",
      "2025-06-20 12:45:11 use_fiducial_Cepheid_host_PV_covariance set to False\n",
      "2025-06-20 12:45:11 use_PV_covmat_scaling set to False\n",
      "2025-06-20 12:45:11 use_reconstruction set to True\n",
      "2025-06-20 12:45:11 setting radial range from 0.01 to 150 Mpc with 251 points for the Cepheid host galaxies.\n"
     ]
    }
   ],
   "source": [
    "config_path = \"/Users/rstiskalek/Projects/CANDEL/scripts/runs/config_shoes.toml\"\n",
    "data = candel.pvdata.load_SH0ES_from_config(config_path, )\n",
    "\n",
    "model = candel.model.SH0ESModel(config_path, data)"
   ]
  },
  {
   "cell_type": "code",
   "execution_count": 3,
   "id": "1a662ea7",
   "metadata": {},
   "outputs": [
    {
     "name": "stdout",
     "output_type": "stream",
     "text": [
      "2025-06-20 12:45:14 running inference on devices: cpu(cpu), cpu(cpu), cpu(cpu), cpu(cpu), cpu(cpu), cpu(cpu), cpu(cpu), cpu(cpu), cpu(cpu), cpu(cpu), cpu(cpu), cpu(cpu)\n",
      "2025-06-20 12:45:14 using NumPyro platform: CPU\n"
     ]
    },
    {
     "data": {
      "application/vnd.jupyter.widget-view+json": {
       "model_id": "9ee71ea2641e4eac94b483c774ff3ca9",
       "version_major": 2,
       "version_minor": 0
      },
      "text/plain": [
       "  0%|          | 0/4000 [00:00<?, ?it/s]"
      ]
     },
     "metadata": {},
     "output_type": "display_data"
    },
    {
     "data": {
      "application/vnd.jupyter.widget-view+json": {
       "model_id": "19f804efb94a42f1914a53c513283a9a",
       "version_major": 2,
       "version_minor": 0
      },
      "text/plain": [
       "  0%|          | 0/4000 [00:00<?, ?it/s]"
      ]
     },
     "metadata": {},
     "output_type": "display_data"
    },
    {
     "data": {
      "application/vnd.jupyter.widget-view+json": {
       "model_id": "7375bc1f1d0e49c5a316f36d1754a238",
       "version_major": 2,
       "version_minor": 0
      },
      "text/plain": [
       "  0%|          | 0/4000 [00:00<?, ?it/s]"
      ]
     },
     "metadata": {},
     "output_type": "display_data"
    },
    {
     "data": {
      "application/vnd.jupyter.widget-view+json": {
       "model_id": "be474f446e394db3b73a7fc6e59698c1",
       "version_major": 2,
       "version_minor": 0
      },
      "text/plain": [
       "  0%|          | 0/4000 [00:00<?, ?it/s]"
      ]
     },
     "metadata": {},
     "output_type": "display_data"
    },
    {
     "data": {
      "application/vnd.jupyter.widget-view+json": {
       "model_id": "a62351f34a8146c58f69c3e719213629",
       "version_major": 2,
       "version_minor": 0
      },
      "text/plain": [
       "  0%|          | 0/4000 [00:00<?, ?it/s]"
      ]
     },
     "metadata": {},
     "output_type": "display_data"
    },
    {
     "data": {
      "application/vnd.jupyter.widget-view+json": {
       "model_id": "05e992d923084fd08ec796a580e8af4c",
       "version_major": 2,
       "version_minor": 0
      },
      "text/plain": [
       "  0%|          | 0/4000 [00:00<?, ?it/s]"
      ]
     },
     "metadata": {},
     "output_type": "display_data"
    },
    {
     "data": {
      "application/vnd.jupyter.widget-view+json": {
       "model_id": "e2a91eba9dc64a779a0807b1357b6f07",
       "version_major": 2,
       "version_minor": 0
      },
      "text/plain": [
       "  0%|          | 0/4000 [00:00<?, ?it/s]"
      ]
     },
     "metadata": {},
     "output_type": "display_data"
    },
    {
     "data": {
      "application/vnd.jupyter.widget-view+json": {
       "model_id": "dff2ec9a8a644ac19eef49dc129b4eb9",
       "version_major": 2,
       "version_minor": 0
      },
      "text/plain": [
       "  0%|          | 0/4000 [00:00<?, ?it/s]"
      ]
     },
     "metadata": {},
     "output_type": "display_data"
    },
    {
     "data": {
      "application/vnd.jupyter.widget-view+json": {
       "model_id": "f89b98bc5b89439485793a76d88a4ff4",
       "version_major": 2,
       "version_minor": 0
      },
      "text/plain": [
       "  0%|          | 0/4000 [00:00<?, ?it/s]"
      ]
     },
     "metadata": {},
     "output_type": "display_data"
    },
    {
     "data": {
      "application/vnd.jupyter.widget-view+json": {
       "model_id": "977c99a234cf47e4837ff5f167fccc8b",
       "version_major": 2,
       "version_minor": 0
      },
      "text/plain": [
       "  0%|          | 0/4000 [00:00<?, ?it/s]"
      ]
     },
     "metadata": {},
     "output_type": "display_data"
    },
    {
     "data": {
      "application/vnd.jupyter.widget-view+json": {
       "model_id": "f05b78b853434bcd948eddf4f4f8a060",
       "version_major": 2,
       "version_minor": 0
      },
      "text/plain": [
       "  0%|          | 0/4000 [00:00<?, ?it/s]"
      ]
     },
     "metadata": {},
     "output_type": "display_data"
    },
    {
     "data": {
      "application/vnd.jupyter.widget-view+json": {
       "model_id": "fc9d52a06a2444849f16e5ce4ca3cc39",
       "version_major": 2,
       "version_minor": 0
      },
      "text/plain": [
       "  0%|          | 0/4000 [00:00<?, ?it/s]"
      ]
     },
     "metadata": {},
     "output_type": "display_data"
    },
    {
     "name": "stdout",
     "output_type": "stream",
     "text": [
      "\n",
      "                 mean       std    median      5.0%     95.0%     n_eff     r_hat\n",
      "         H0     69.44      1.63     69.36     66.81     72.12  18089.06      1.00\n",
      "        M_W     -5.92      0.02     -5.92     -5.96     -5.89  13555.10      1.00\n",
      "        Z_W     -0.19      0.05     -0.19     -0.27     -0.10  35358.20      1.00\n",
      "        b_W     -3.29      0.01     -3.29     -3.31     -3.26  33039.15      1.00\n",
      "       beta      0.40      0.02      0.40      0.36      0.43  45390.72      1.00\n",
      "        dZP     -0.01      0.04     -0.01     -0.07      0.05  18406.29      1.00\n",
      "     mu_LMC     18.48      0.03     18.48     18.44     18.52  39362.65      1.00\n",
      "     mu_M31     24.40      0.07     24.41     24.29     24.52  37178.79      1.00\n",
      "   mu_N4258     29.41      0.02     29.41     29.37     29.45  20463.60      1.00\n",
      " mu_host[0]     29.22      0.04     29.22     29.15     29.29  25822.76      1.00\n",
      " mu_host[1]     32.99      0.11     33.00     32.82     33.17  41326.24      1.00\n",
      " mu_host[2]     32.83      0.09     32.83     32.68     32.98  37834.68      1.00\n",
      " mu_host[3]     32.61      0.07     32.61     32.49     32.72  33692.12      1.00\n",
      " mu_host[4]     32.56      0.06     32.56     32.46     32.65  29561.14      1.00\n",
      " mu_host[5]     31.42      0.06     31.42     31.32     31.51  31586.47      1.00\n",
      " mu_host[6]     31.32      0.04     31.32     31.25     31.38  21029.45      1.00\n",
      " mu_host[7]     31.52      0.06     31.52     31.42     31.62  32576.60      1.00\n",
      " mu_host[8]     31.49      0.06     31.49     31.38     31.59  35338.36      1.00\n",
      " mu_host[9]     32.11      0.09     32.11     31.95     32.26  40212.42      1.00\n",
      "mu_host[10]     32.79      0.12     32.79     32.60     32.99  34353.70      1.00\n",
      "mu_host[11]     32.49      0.13     32.50     32.28     32.70  41734.35      1.00\n",
      "mu_host[12]     33.26      0.13     33.26     33.06     33.47  37587.80      1.00\n",
      "mu_host[13]     32.36      0.07     32.36     32.24     32.48  33691.13      1.00\n",
      "mu_host[14]     32.15      0.05     32.15     32.07     32.24  27976.66      1.00\n",
      "mu_host[15]     31.97      0.04     31.97     31.90     32.02  19136.20      1.00\n",
      "mu_host[16]     32.86      0.08     32.86     32.73     32.98  33818.62      1.00\n",
      "mu_host[17]     31.67      0.09     31.67     31.53     31.81  38775.39      1.00\n",
      "mu_host[18]     31.75      0.07     31.75     31.63     31.87  36226.57      1.00\n",
      "mu_host[19]     31.67      0.11     31.67     31.48     31.86  40215.95      1.00\n",
      "mu_host[20]     30.91      0.13     30.91     30.70     31.13  42416.53      1.00\n",
      "mu_host[21]     30.87      0.05     30.87     30.78     30.95  27658.78      1.00\n",
      "mu_host[22]     31.84      0.08     31.84     31.71     31.97  41005.75      1.00\n",
      "mu_host[23]     32.81      0.15     32.81     32.56     33.06  43483.68      1.00\n",
      "mu_host[24]     33.16      0.07     33.16     33.05     33.28  32447.78      1.00\n",
      "mu_host[25]     31.81      0.05     31.81     31.73     31.90  30240.92      1.00\n",
      "mu_host[26]     30.59      0.05     30.59     30.50     30.68  28044.43      1.00\n",
      "mu_host[27]     33.27      0.16     33.27     33.01     33.52  41145.68      1.00\n",
      "mu_host[28]     32.29      0.09     32.29     32.13     32.44  39204.74      1.00\n",
      "mu_host[29]     32.41      0.11     32.42     32.23     32.60  38909.80      1.00\n",
      "mu_host[30]     31.59      0.11     31.59     31.41     31.77  38110.47      1.00\n",
      "mu_host[31]     33.32      0.11     33.31     33.14     33.49  39462.23      1.00\n",
      "mu_host[32]     32.60      0.10     32.60     32.43     32.77  39880.98      1.00\n",
      "mu_host[33]     33.33      0.13     33.32     33.12     33.54  40432.53      1.00\n",
      "mu_host[34]     32.86      0.06     32.86     32.75     32.96  32030.66      1.00\n",
      "    sigma_v    212.06     32.15    208.51    159.96    261.04  26582.12      1.00\n",
      "   Vext_ell    282.71     94.10    314.64     95.13    360.00  27545.71      1.00\n",
      "     Vext_b    -27.40     19.00    -27.64    -58.59      1.48  22096.87      1.00\n",
      "   Vext_mag    198.84     85.71    199.59     48.01    335.78  16496.18      1.00\n",
      "\n",
      "2025-06-20 12:52:02 output directory is /Users/rstiskalek/Projects/CANDEL/results.\n",
      "2025-06-20 12:52:02 saved samples to /Users/rstiskalek/Projects/CANDEL/results/test.hdf5\n",
      "2025-06-20 12:52:03 saving a corner plot to /Users/rstiskalek/Projects/CANDEL/results/test.png\n"
     ]
    }
   ],
   "source": [
    "samples = candel.run_SH0ES_inference(model, )"
   ]
  },
  {
   "cell_type": "code",
   "execution_count": null,
   "id": "26eb267d",
   "metadata": {},
   "outputs": [],
   "source": []
  },
  {
   "cell_type": "code",
   "execution_count": 4,
   "id": "e090f466",
   "metadata": {},
   "outputs": [
    {
     "data": {
      "image/png": "[encoded data removed]",
      "text/plain": [
       "<Figure size 500x370 with 1 Axes>"
      ]
     },
     "metadata": {},
     "output_type": "display_data"
    }
   ],
   "source": [
    "with plt.style.context(\"science\"):\n",
    "    fig, ax = plt.subplots(figsize=(5, 3.7),)\n",
    "\n",
    "    # Histogram of H0 samples (normalize to max height = 1)\n",
    "    counts, bins, _ = ax.hist(\n",
    "        samples[\"H0\"], bins=\"auto\", density=True, alpha=0.9, color=\"0.3\",\n",
    "        label=r\"$H_0$ samples\"\n",
    "    )\n",
    "    max_density = counts.max()\n",
    "\n",
    "    # Define a range for the Gaussians\n",
    "    H0_vals = np.linspace(60, 80, 1000)\n",
    "\n",
    "    # SH0ES (e.g. Riess+2021), normalized to match\n",
    "    H0_SH0ES = 73.04\n",
    "    H0_SH0ES_err = 1.04\n",
    "    shoes_pdf = norm.pdf(H0_vals, loc=H0_SH0ES, scale=H0_SH0ES_err)\n",
    "    # shoes_pdf /= shoes_pdf.max()  # normalize peak to 1\n",
    "    # shoes_pdf *= max_density      # scale to match sample histogram\n",
    "    ax.plot(H0_vals, shoes_pdf, color=\"tab:red\", label=\"SH0ES\")\n",
    "\n",
    "    # Planck (e.g. Planck 2018), normalized to match\n",
    "    H0_Planck = 67.4\n",
    "    H0_Planck_err = 0.5\n",
    "    planck_pdf = norm.pdf(H0_vals, loc=H0_Planck, scale=H0_Planck_err)\n",
    "    # planck_pdf /= planck_pdf.max()\n",
    "    # planck_pdf *= max_density\n",
    "    ax.plot(H0_vals, planck_pdf, color=\"tab:blue\", label=\"Planck\")\n",
    "\n",
    "    ax.set_xlabel(r\"$H_0~[\\mathrm{km/s/Mpc}]$\")\n",
    "    ax.set_ylabel(\"Normalized density\")\n",
    "    ax.legend()\n",
    "\n",
    "    plt.tight_layout()\n",
    "    fig.savefig(\"/Users/rstiskalek/Downloads/H0_samples.png\", bbox_inches=\"tight\", dpi=450)\n",
    "    plt.show()"
   ]
  },
  {
   "cell_type": "code",
   "execution_count": 5,
   "id": "e37cd90f",
   "metadata": {},
   "outputs": [
    {
     "name": "stdout",
     "output_type": "stream",
     "text": [
      "p-value 0.016, corresponding to 2.4168 sigmas\n"
     ]
    }
   ],
   "source": [
    "from scipy.stats import norm\n",
    "import posterior_agreement\n",
    "\n",
    "H0_SH0ES = samples[\"H0\"]\n",
    "# H0_planck = norm(67.4, 0.5).rvs(50000)\n",
    "H0_planck = norm(73.04, 1.04).rvs(50000)\n",
    "\n",
    "\n",
    "\n",
    "chains = (H0_SH0ES, H0_planck)\n",
    "agreement_1d = posterior_agreement.compute_agreement(chains)\n",
    "\n",
    "print(\"p-value %.3f, corresponding to %.4f sigmas\"%(agreement_1d.PTE, agreement_1d.sigma))"
   ]
  },
  {
   "cell_type": "code",
   "execution_count": null,
   "id": "058fca0a",
   "metadata": {},
   "outputs": [],
   "source": []
  }
 ],
 "metadata": {
  "kernelspec": {
   "display_name": "venv_candel",
   "language": "python",
   "name": "python3"
  },
  "language_info": {
   "codemirror_mode": {
    "name": "ipython",
    "version": 3
   },
   "file_extension": ".py",
   "mimetype": "text/x-python",
   "name": "python",
   "nbconvert_exporter": "python",
   "pygments_lexer": "ipython3",
   "version": "3.12.10"
  }
 },
 "nbformat": 4,
 "nbformat_minor": 5
}
