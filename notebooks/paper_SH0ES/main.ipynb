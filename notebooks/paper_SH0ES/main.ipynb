{
 "cells": [
  {
   "cell_type": "code",
   "execution_count": 7,
   "id": "94e19d41",
   "metadata": {},
   "outputs": [
    {
     "name": "stdout",
     "output_type": "stream",
     "text": [
      "The autoreload extension is already loaded. To reload it, use:\n",
      "  %reload_ext autoreload\n"
     ]
    }
   ],
   "source": [
    "import sys\n",
    "sys.path.insert(0, \"/Users/rstiskalek/Projects/candel\")\n",
    "\n",
    "import numpyro\n",
    "numpyro.set_host_device_count(12)\n",
    "\n",
    "import numpy as np\n",
    "import matplotlib.pyplot as plt\n",
    "import scienceplots\n",
    "\n",
    "from scipy.stats import norm\n",
    "import candel\n",
    "\n",
    "%matplotlib inline\n",
    "%load_ext autoreload\n",
    "%autoreload 2"
   ]
  },
  {
   "cell_type": "code",
   "execution_count": 37,
   "id": "1bbe944d",
   "metadata": {},
   "outputs": [
    {
     "name": "stdout",
     "output_type": "stream",
     "text": [
      "2025-07-21 16:24:08 warning: zero width found in the priors. Setting it to 1e-5.\n",
      "2025-07-21 16:24:08 indices of zero width: [44]\n",
      "2025-07-21 16:24:08 found zero-width prior at index 44. Setting it to 0.\n",
      "2025-07-21 16:24:08 replacing prior of `beta` with a delta function.\n",
      "2025-07-21 16:24:08 loading host galaxy LOS interpolators.\n",
      "2025-07-21 16:24:08 Popped the following keys with `None` values from data: czcmb_SN_HF, e_czcmb_SN_HF, RA_SN_HF, dec_SN_HF\n",
      "2025-07-21 16:24:08 Converting host RA/dec to Cartesian coordinates.\n",
      "2025-07-21 16:24:08 set the following attributes: mag_cepheid, logP, OH, C_Cepheid, L_Cepheid, L_Cepheid_host_dist, Cepheids_only, num_cepheids, num_hosts, Y_SN_Cepheid, C_SN_Cepheid, L_SN_Cepheid, L_SN_Cepheid_dist, mag_SN_unique_Cepheid_host, C_SN_unique_Cepheid_host, std_mag_SN_unique_Cepheid_host, L_SN_unique_Cepheid_host, L_SN_unique_Cepheid_host_dist, Y_SN_HF, num_flow_SN, Y_SN, C_SN, L_SN, mu_N4258_anchor, e_mu_N4258_anchor, e2_mu_N4258_anchor, mu_LMC_anchor, e_mu_LMC_anchor, e2_mu_LMC_anchor, M_HST, e_M_HST, e2_M_HST, M_Gaia, e_M_Gaia, e2_M_Gaia, sigma_grnd, czcmb_cepheid_host, e_czcmb_cepheid_host, e2_czcmb_cepheid_host, RA_host, dec_host, PV_covmat_cepheid_host, host_los_density, host_los_velocity, host_los_r, mean_logP, mean_OH, rhat_host\n",
      "2025-07-21 16:24:08 use_SNe_HF_SH0ES set to False\n",
      "2025-07-21 16:24:08 use_SNe_HF_Bayes set to False\n",
      "2025-07-21 16:24:08 use_MNR set to False\n",
      "2025-07-21 16:24:08 which_selection set to SN_magnitude\n",
      "2025-07-21 16:24:08 use_Cepheid_host_redshift set to True\n",
      "2025-07-21 16:24:08 use_uniform_mu_host_priors set to False\n",
      "2025-07-21 16:24:08 use_fiducial_Cepheid_host_PV_covariance set to True\n",
      "2025-07-21 16:24:08 use_PV_covmat_scaling set to True\n",
      "2025-07-21 16:24:08 use_reconstruction set to False\n",
      "2025-07-21 16:24:08 which_bias set to linear\n",
      "2025-07-21 16:24:08 setting radial range from 0.01 to 150 Mpc with 251 points for the Cepheid host galaxies.\n",
      "2025-07-21 16:24:08 output will be saved to `/Users/rstiskalek/Projects/CANDEL/results/CH0/Cepheid_H0_scaled_PV_covmat_SN_sel.hdf5`.\n",
      "Priors are:\n",
      "{'M_B': 'uniform', 'H0': 'uniform', 'M_W': 'uniform', 'b_W': 'uniform', 'Z_W': 'uniform', 'sigma_v': 'jeffreys', 'A_covmat': 'truncated_normal', 'Vext': 'delta', 'beta': 'delta'}\n"
     ]
    }
   ],
   "source": [
    "config_path = \"/Users/rstiskalek/Projects/CANDEL/scripts/runs/config_shoes.toml\"\n",
    "data = candel.pvdata.load_SH0ES_from_config(config_path, )\n",
    "\n",
    "model = candel.model.SH0ESModel(config_path, data)\n",
    "\n",
    "\n",
    "print(\"Priors are:\")\n",
    "print(model.prior_dist_name)"
   ]
  },
  {
   "cell_type": "code",
   "execution_count": 38,
   "id": "1a662ea7",
   "metadata": {},
   "outputs": [
    {
     "name": "stdout",
     "output_type": "stream",
     "text": [
      "2025-07-21 16:24:14 running inference on devices: cpu(cpu), cpu(cpu), cpu(cpu), cpu(cpu), cpu(cpu), cpu(cpu), cpu(cpu), cpu(cpu), cpu(cpu), cpu(cpu), cpu(cpu), cpu(cpu)\n",
      "2025-07-21 16:24:14 using NumPyro platform: CPU\n"
     ]
    },
    {
     "data": {
      "application/vnd.jupyter.widget-view+json": {
       "model_id": "17e67605778d42a380e488f939a874b9",
       "version_major": 2,
       "version_minor": 0
      },
      "text/plain": [
       "  0%|          | 0/3000 [00:00<?, ?it/s]"
      ]
     },
     "metadata": {},
     "output_type": "display_data"
    },
    {
     "data": {
      "application/vnd.jupyter.widget-view+json": {
       "model_id": "e0320fc46eab465796f4f837d1f422de",
       "version_major": 2,
       "version_minor": 0
      },
      "text/plain": [
       "  0%|          | 0/3000 [00:00<?, ?it/s]"
      ]
     },
     "metadata": {},
     "output_type": "display_data"
    },
    {
     "data": {
      "application/vnd.jupyter.widget-view+json": {
       "model_id": "710bdb8b8408482385a5b16616e7685f",
       "version_major": 2,
       "version_minor": 0
      },
      "text/plain": [
       "  0%|          | 0/3000 [00:00<?, ?it/s]"
      ]
     },
     "metadata": {},
     "output_type": "display_data"
    },
    {
     "data": {
      "application/vnd.jupyter.widget-view+json": {
       "model_id": "6f45b69c9fb1426e8857908426ae9bb2",
       "version_major": 2,
       "version_minor": 0
      },
      "text/plain": [
       "  0%|          | 0/3000 [00:00<?, ?it/s]"
      ]
     },
     "metadata": {},
     "output_type": "display_data"
    },
    {
     "data": {
      "application/vnd.jupyter.widget-view+json": {
       "model_id": "ed79adb9122b4f7a9091066ead7ad691",
       "version_major": 2,
       "version_minor": 0
      },
      "text/plain": [
       "  0%|          | 0/3000 [00:00<?, ?it/s]"
      ]
     },
     "metadata": {},
     "output_type": "display_data"
    },
    {
     "data": {
      "application/vnd.jupyter.widget-view+json": {
       "model_id": "1d7fdc101d0d4e09901c51d4ebb4b0e4",
       "version_major": 2,
       "version_minor": 0
      },
      "text/plain": [
       "  0%|          | 0/3000 [00:00<?, ?it/s]"
      ]
     },
     "metadata": {},
     "output_type": "display_data"
    },
    {
     "data": {
      "application/vnd.jupyter.widget-view+json": {
       "model_id": "afff187fdb1746a09e995f92f214a052",
       "version_major": 2,
       "version_minor": 0
      },
      "text/plain": [
       "  0%|          | 0/3000 [00:00<?, ?it/s]"
      ]
     },
     "metadata": {},
     "output_type": "display_data"
    },
    {
     "data": {
      "application/vnd.jupyter.widget-view+json": {
       "model_id": "ddd7689cac3a4409a3c4b8d462430e4a",
       "version_major": 2,
       "version_minor": 0
      },
      "text/plain": [
       "  0%|          | 0/3000 [00:00<?, ?it/s]"
      ]
     },
     "metadata": {},
     "output_type": "display_data"
    },
    {
     "data": {
      "application/vnd.jupyter.widget-view+json": {
       "model_id": "703edaea26d24fd49985eac78611ac67",
       "version_major": 2,
       "version_minor": 0
      },
      "text/plain": [
       "  0%|          | 0/3000 [00:00<?, ?it/s]"
      ]
     },
     "metadata": {},
     "output_type": "display_data"
    },
    {
     "data": {
      "application/vnd.jupyter.widget-view+json": {
       "model_id": "5dc8ae5fb44046d3b70191351f687586",
       "version_major": 2,
       "version_minor": 0
      },
      "text/plain": [
       "  0%|          | 0/3000 [00:00<?, ?it/s]"
      ]
     },
     "metadata": {},
     "output_type": "display_data"
    },
    {
     "data": {
      "application/vnd.jupyter.widget-view+json": {
       "model_id": "ea06a20d74834d7bb1f3373cd2c1364d",
       "version_major": 2,
       "version_minor": 0
      },
      "text/plain": [
       "  0%|          | 0/3000 [00:00<?, ?it/s]"
      ]
     },
     "metadata": {},
     "output_type": "display_data"
    },
    {
     "data": {
      "application/vnd.jupyter.widget-view+json": {
       "model_id": "cf003302d7264737a233b5e3b488e290",
       "version_major": 2,
       "version_minor": 0
      },
      "text/plain": [
       "  0%|          | 0/3000 [00:00<?, ?it/s]"
      ]
     },
     "metadata": {},
     "output_type": "display_data"
    },
    {
     "name": "stdout",
     "output_type": "stream",
     "text": [
      "\n",
      "                 mean       std    median      5.0%     95.0%     n_eff     r_hat\n",
      "   A_covmat      1.22      0.28      1.20      0.76      1.66  19856.20      1.00\n",
      "         H0     69.91      3.01     69.89     65.14     75.04  14464.63      1.00\n",
      "        M_B    -19.22      0.03    -19.22    -19.28    -19.17   5386.37      1.00\n",
      "        M_W     -5.90      0.02     -5.90     -5.93     -5.87   6180.05      1.00\n",
      "        Z_W     -0.19      0.05     -0.19     -0.28     -0.11  18019.41      1.00\n",
      "        b_W     -3.28      0.01     -3.28     -3.31     -3.26  15207.42      1.00\n",
      "        dZP     -0.03      0.04     -0.03     -0.09      0.03   9366.76      1.00\n",
      "     mu_LMC     18.48      0.03     18.48     18.43     18.52  19358.23      1.00\n",
      "     mu_M31     24.38      0.07     24.38     24.27     24.49  18954.98      1.00\n",
      "   mu_N4258     29.39      0.02     29.39     29.35     29.43  11212.03      1.00\n",
      " mu_host[0]     29.17      0.04     29.17     29.11     29.24  12021.64      1.00\n",
      " mu_host[1]     32.91      0.08     32.91     32.77     33.04  16284.13      1.00\n",
      " mu_host[2]     32.84      0.08     32.84     32.70     32.97  16944.14      1.00\n",
      " mu_host[3]     32.64      0.06     32.64     32.54     32.74  14025.80      1.00\n",
      " mu_host[4]     34.35      0.10     34.35     34.18     34.51  16086.53      1.00\n",
      " mu_host[5]     32.51      0.05     32.51     32.43     32.60  13098.65      1.00\n",
      " mu_host[6]     31.37      0.05     31.37     31.28     31.46  13861.82      1.00\n",
      " mu_host[7]     31.30      0.04     31.30     31.23     31.36  10180.24      1.00\n",
      " mu_host[8]     31.46      0.05     31.46     31.37     31.54  12817.11      1.00\n",
      " mu_host[9]     31.46      0.06     31.46     31.36     31.56  15684.09      1.00\n",
      "mu_host[10]     32.07      0.06     32.07     31.97     32.18  15358.27      1.00\n",
      "mu_host[11]     32.70      0.10     32.70     32.53     32.87  18551.88      1.00\n",
      "mu_host[12]     32.38      0.09     32.38     32.23     32.52  17904.32      1.00\n",
      "mu_host[13]     33.20      0.11     33.20     33.02     33.38  19231.22      1.00\n",
      "mu_host[14]     32.35      0.06     32.35     32.25     32.45  13547.16      1.00\n",
      "mu_host[15]     32.14      0.05     32.14     32.06     32.22  12051.58      1.00\n",
      "mu_host[16]     31.94      0.04     31.94     31.88     32.00   9060.73      1.00\n",
      "mu_host[17]     32.78      0.06     32.78     32.68     32.88  13872.91      1.00\n",
      "mu_host[18]     31.69      0.07     31.69     31.58     31.80  14958.12      1.00\n",
      "mu_host[19]     31.64      0.06     31.64     31.55     31.74  13590.83      1.00\n",
      "mu_host[20]     31.67      0.08     31.67     31.53     31.80  16074.34      1.00\n",
      "mu_host[21]     30.77      0.10     30.77     30.60     30.94  20176.04      1.00\n",
      "mu_host[22]     30.84      0.05     30.84     30.76     30.92  13387.59      1.00\n",
      "mu_host[23]     31.76      0.07     31.76     31.65     31.88  15163.74      1.00\n",
      "mu_host[24]     32.66      0.13     32.66     32.45     32.86  19907.32      1.00\n",
      "mu_host[25]     33.16      0.06     33.16     33.07     33.25  11842.98      1.00\n",
      "mu_host[26]     31.85      0.05     31.85     31.77     31.93  11533.06      1.00\n",
      "mu_host[27]     30.55      0.05     30.55     30.47     30.63  12208.00      1.00\n",
      "mu_host[28]     33.01      0.12     33.01     32.82     33.20  19624.66      1.00\n",
      "mu_host[29]     32.21      0.07     32.21     32.09     32.33  15659.48      1.00\n",
      "mu_host[30]     32.31      0.08     32.31     32.19     32.43  15981.13      1.00\n",
      "mu_host[31]     31.55      0.10     31.55     31.39     31.71  20512.57      1.00\n",
      "mu_host[32]     33.25      0.07     33.25     33.14     33.36  13315.94      1.00\n",
      "mu_host[33]     32.60      0.09     32.61     32.47     32.75  18855.65      1.00\n",
      "mu_host[34]     33.26      0.08     33.26     33.13     33.39  15669.18      1.00\n",
      "mu_host[35]     33.66      0.09     33.66     33.53     33.81  16371.34      1.00\n",
      "mu_host[36]     32.82      0.06     32.82     32.73     32.91  12463.85      1.00\n",
      "    sigma_v     36.81     36.34     22.97      5.00     88.23  22396.02      1.00\n",
      "\n",
      "2025-07-21 16:28:29 output directory is /Users/rstiskalek/Projects/CANDEL/results/CH0.\n",
      "2025-07-21 16:28:29 saved samples to /Users/rstiskalek/Projects/CANDEL/results/CH0/Cepheid_H0_scaled_PV_covmat_SN_sel.hdf5\n",
      "2025-07-21 16:28:30 saving a corner plot to /Users/rstiskalek/Projects/CANDEL/results/CH0/Cepheid_H0_scaled_PV_covmat_SN_sel.png\n"
     ]
    }
   ],
   "source": [
    "samples = candel.run_SH0ES_inference(model, )"
   ]
  },
  {
   "cell_type": "code",
   "execution_count": null,
   "id": "e090f466",
   "metadata": {},
   "outputs": [],
   "source": [
    "fig, ax = plt.subplots(figsize=(5, 3.7),)\n",
    "\n",
    "# Histogram of H0 samples (normalize to max height = 1)\n",
    "counts, bins, _ = ax.hist(\n",
    "    samples[\"H0\"], bins=\"auto\", density=True, alpha=0.9, color=\"0.3\",\n",
    "    label=r\"$H_0$ samples\"\n",
    ")\n",
    "max_density = counts.max()\n",
    "\n",
    "# Define a range for the Gaussians\n",
    "H0_vals = np.linspace(60, 80, 1000)\n",
    "\n",
    "# SH0ES (e.g. Riess+2021), normalized to match\n",
    "H0_SH0ES = 73.04\n",
    "H0_SH0ES_err = 1.04\n",
    "shoes_pdf = norm.pdf(H0_vals, loc=H0_SH0ES, scale=H0_SH0ES_err)\n",
    "# shoes_pdf /= shoes_pdf.max()  # normalize peak to 1\n",
    "# shoes_pdf *= max_density      # scale to match sample histogram\n",
    "ax.plot(H0_vals, shoes_pdf, color=\"tab:red\", label=\"SH0ES\")\n",
    "\n",
    "# Planck (e.g. Planck 2018), normalized to match\n",
    "H0_Planck = 67.4\n",
    "H0_Planck_err = 0.5\n",
    "planck_pdf = norm.pdf(H0_vals, loc=H0_Planck, scale=H0_Planck_err)\n",
    "# planck_pdf /= planck_pdf.max()\n",
    "# planck_pdf *= max_density\n",
    "ax.plot(H0_vals, planck_pdf, color=\"tab:blue\", label=\"Planck\")\n",
    "\n",
    "ax.set_xlabel(r\"$H_0~[\\mathrm{km/s/Mpc}]$\")\n",
    "ax.set_ylabel(\"Normalized density\")\n",
    "ax.legend()\n",
    "\n",
    "plt.tight_layout()\n",
    "fig.savefig(\"/Users/rstiskalek/Downloads/H0_samples.png\", bbox_inches=\"tight\", dpi=450)\n",
    "plt.show()"
   ]
  },
  {
   "cell_type": "code",
   "execution_count": 15,
   "id": "e37cd90f",
   "metadata": {},
   "outputs": [
    {
     "name": "stdout",
     "output_type": "stream",
     "text": [
      "p-value 0.001, corresponding to 3.2568 sigmas\n"
     ]
    }
   ],
   "source": [
    "from scipy.stats import norm\n",
    "import posterior_agreement\n",
    "\n",
    "\n",
    "H0 = norm(66.6, 1.7).rvs(50_000)\n",
    "# H0_test = norm(67.4, 0.5).rvs(50000)\n",
    "H0_test = norm(73.04, 1.04).rvs(50000)\n",
    "\n",
    "\n",
    "\n",
    "chains = (H0, H0_test)\n",
    "agreement_1d = posterior_agreement.compute_agreement(chains)\n",
    "\n",
    "print(\"p-value %.3f, corresponding to %.4f sigmas\"%(agreement_1d.PTE, agreement_1d.sigma))"
   ]
  },
  {
   "cell_type": "code",
   "execution_count": null,
   "id": "e1332f5f",
   "metadata": {},
   "outputs": [],
   "source": []
  }
 ],
 "metadata": {
  "kernelspec": {
   "display_name": "venv_candel",
   "language": "python",
   "name": "python3"
  },
  "language_info": {
   "codemirror_mode": {
    "name": "ipython",
    "version": 3
   },
   "file_extension": ".py",
   "mimetype": "text/x-python",
   "name": "python",
   "nbconvert_exporter": "python",
   "pygments_lexer": "ipython3",
   "version": "3.12.10"
  }
 },
 "nbformat": 4,
 "nbformat_minor": 5
}
