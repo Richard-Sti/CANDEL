{
 "cells": [
  {
   "cell_type": "code",
   "execution_count": null,
   "id": "94e19d41",
   "metadata": {},
   "outputs": [],
   "source": [
    "import sys\n",
    "sys.path.insert(0, \"/Users/rstiskalek/Projects/candel\")\n",
    "\n",
    "import numpyro\n",
    "numpyro.set_host_device_count(12)\n",
    "\n",
    "import numpy as np\n",
    "import matplotlib.pyplot as plt\n",
    "import scienceplots\n",
    "\n",
    "from scipy.stats import norm\n",
    "import candel\n",
    "\n",
    "%matplotlib inline\n",
    "%load_ext autoreload\n",
    "%autoreload 2"
   ]
  },
  {
   "cell_type": "code",
   "execution_count": null,
   "id": "1bbe944d",
   "metadata": {},
   "outputs": [],
   "source": [
    "config_path = \"/Users/rstiskalek/Projects/CANDEL/scripts/runs/config_shoes.toml\"\n",
    "data = candel.pvdata.load_SH0ES_from_config(config_path, )\n",
    "\n",
    "model = candel.model.SH0ESModel(config_path, data)"
   ]
  },
  {
   "cell_type": "code",
   "execution_count": null,
   "id": "f2655ae8",
   "metadata": {},
   "outputs": [],
   "source": [
    "model.prior_dist_name"
   ]
  },
  {
   "cell_type": "code",
   "execution_count": null,
   "id": "1a662ea7",
   "metadata": {},
   "outputs": [],
   "source": [
    "samples = candel.run_SH0ES_inference(model, )"
   ]
  },
  {
   "cell_type": "code",
   "execution_count": null,
   "id": "e090f466",
   "metadata": {},
   "outputs": [],
   "source": [
    "fig, ax = plt.subplots(figsize=(5, 3.7),)\n",
    "\n",
    "# Histogram of H0 samples (normalize to max height = 1)\n",
    "counts, bins, _ = ax.hist(\n",
    "    samples[\"H0\"], bins=\"auto\", density=True, alpha=0.9, color=\"0.3\",\n",
    "    label=r\"$H_0$ samples\"\n",
    ")\n",
    "max_density = counts.max()\n",
    "\n",
    "# Define a range for the Gaussians\n",
    "H0_vals = np.linspace(60, 80, 1000)\n",
    "\n",
    "# SH0ES (e.g. Riess+2021), normalized to match\n",
    "H0_SH0ES = 73.04\n",
    "H0_SH0ES_err = 1.04\n",
    "shoes_pdf = norm.pdf(H0_vals, loc=H0_SH0ES, scale=H0_SH0ES_err)\n",
    "# shoes_pdf /= shoes_pdf.max()  # normalize peak to 1\n",
    "# shoes_pdf *= max_density      # scale to match sample histogram\n",
    "ax.plot(H0_vals, shoes_pdf, color=\"tab:red\", label=\"SH0ES\")\n",
    "\n",
    "# Planck (e.g. Planck 2018), normalized to match\n",
    "H0_Planck = 67.4\n",
    "H0_Planck_err = 0.5\n",
    "planck_pdf = norm.pdf(H0_vals, loc=H0_Planck, scale=H0_Planck_err)\n",
    "# planck_pdf /= planck_pdf.max()\n",
    "# planck_pdf *= max_density\n",
    "ax.plot(H0_vals, planck_pdf, color=\"tab:blue\", label=\"Planck\")\n",
    "\n",
    "ax.set_xlabel(r\"$H_0~[\\mathrm{km/s/Mpc}]$\")\n",
    "ax.set_ylabel(\"Normalized density\")\n",
    "ax.legend()\n",
    "\n",
    "plt.tight_layout()\n",
    "fig.savefig(\"/Users/rstiskalek/Downloads/H0_samples.png\", bbox_inches=\"tight\", dpi=450)\n",
    "plt.show()"
   ]
  },
  {
   "cell_type": "code",
   "execution_count": null,
   "id": "e37cd90f",
   "metadata": {},
   "outputs": [],
   "source": [
    "from scipy.stats import norm\n",
    "import posterior_agreement\n",
    "\n",
    "\n",
    "H0 = norm(69.26, 1.06).rvs(50_000)\n",
    "# H0_test = norm(67.4, 0.5).rvs(50000)\n",
    "H0_test = norm(73.04, 1.04).rvs(50000)\n",
    "\n",
    "\n",
    "\n",
    "chains = (H0, H0_test)\n",
    "agreement_1d = posterior_agreement.compute_agreement(chains)\n",
    "\n",
    "print(\"p-value %.3f, corresponding to %.4f sigmas\"%(agreement_1d.PTE, agreement_1d.sigma))"
   ]
  },
  {
   "cell_type": "code",
   "execution_count": null,
   "id": "e1332f5f",
   "metadata": {},
   "outputs": [],
   "source": []
  }
 ],
 "metadata": {
  "kernelspec": {
   "display_name": "venv_candel",
   "language": "python",
   "name": "python3"
  },
  "language_info": {
   "codemirror_mode": {
    "name": "ipython",
    "version": 3
   },
   "file_extension": ".py",
   "mimetype": "text/x-python",
   "name": "python",
   "nbconvert_exporter": "python",
   "pygments_lexer": "ipython3",
   "version": "3.12.10"
  }
 },
 "nbformat": 4,
 "nbformat_minor": 5
}
