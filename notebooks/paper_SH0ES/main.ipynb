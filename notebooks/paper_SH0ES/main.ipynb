{
 "cells": [
  {
   "cell_type": "code",
   "execution_count": 3,
   "id": "94e19d41",
   "metadata": {},
   "outputs": [],
   "source": [
    "import sys\n",
    "sys.path.insert(0, \"/Users/rstiskalek/Projects/candel\")\n",
    "\n",
    "import numpyro\n",
    "numpyro.set_host_device_count(12)\n",
    "\n",
    "import numpy as np\n",
    "import matplotlib.pyplot as plt\n",
    "import scienceplots\n",
    "\n",
    "from scipy.stats import norm\n",
    "import candel\n",
    "\n",
    "%matplotlib inline\n",
    "%load_ext autoreload\n",
    "%autoreload 2"
   ]
  },
  {
   "cell_type": "code",
   "execution_count": 8,
   "id": "ca780aca",
   "metadata": {},
   "outputs": [
    {
     "name": "stdout",
     "output_type": "stream",
     "text": [
      "2025-07-01 11:09:22 warning: zero width found in the priors. Setting it to 1e-5.\n",
      "2025-07-01 11:09:22 indices of zero width: [44]\n",
      "2025-07-01 11:09:22 found zero-width prior at index 44. Setting it to 0.\n"
     ]
    }
   ],
   "source": [
    "config_path = \"/Users/rstiskalek/Projects/CANDEL/scripts/runs/config_shoes.toml\"\n",
    "data = candel.pvdata.load_SH0ES_from_config(config_path, )\n",
    "\n",
    "# data = candel.pvdata.load_SH0ES(\"/Users/rstiskalek/Projects/CANDEL/data/SH0ES\")"
   ]
  },
  {
   "cell_type": "code",
   "execution_count": 2,
   "id": "1bbe944d",
   "metadata": {},
   "outputs": [
    {
     "name": "stdout",
     "output_type": "stream",
     "text": [
      "2025-06-30 11:08:20 warning: zero width found in the priors. Setting it to 1e-5.\n",
      "2025-06-30 11:08:20 indices of zero width: [44]\n",
      "2025-06-30 11:08:20 found zero-width prior at index 44. Setting it to 0.\n",
      "2025-06-30 11:08:20 replacing prior of `M_B` with a delta function.\n",
      "2025-06-30 11:08:20 replacing prior of `A_covmat` with a delta function.\n",
      "2025-06-30 11:08:20 replacing prior of `beta` with a delta function.\n",
      "2025-06-30 11:08:20 loading host galaxy LOS interpolators.\n",
      "2025-06-30 11:08:20 Popped the following keys with `None` values from data: czcmb_SN_HF, e_czcmb_SN_HF, RA_SN_HF, dec_SN_HF\n",
      "2025-06-30 11:08:20 Converting host RA/dec to Cartesian coordinates.\n",
      "2025-06-30 11:08:20 set the following attributes: mag_cepheid, logP, OH, C_Cepheid, L_Cepheid, L_Cepheid_host_dist, Cepheids_only, num_cepheids, num_hosts, Y_SN_Cepheid, C_SN_Cepheid, L_SN_Cepheid, L_SN_Cepheid_dist, Y_SN_HF, num_flow_SN, Y_SN, C_SN, L_SN, mu_N4258_anchor, e_mu_N4258_anchor, e2_mu_N4258_anchor, mu_LMC_anchor, e_mu_LMC_anchor, e2_mu_LMC_anchor, M_HST, e_M_HST, e2_M_HST, M_Gaia, e_M_Gaia, e2_M_Gaia, sigma_grnd, czcmb_cepheid_host, e_czcmb_cepheid_host, e2_czcmb_cepheid_host, RA_host, dec_host, PV_covmat_cepheid_host, host_los_density, host_los_velocity, host_los_r, rhat_host\n",
      "2025-06-30 11:08:21 use_SNe_HF_SH0ES set to False\n",
      "2025-06-30 11:08:21 use_SNe_HF_Bayes set to False\n",
      "2025-06-30 11:08:21 use_MNR set to False\n",
      "2025-06-30 11:08:21 use_Cepheid_host_redshift set to True\n",
      "2025-06-30 11:08:21 use_uniform_mu_host_priors set to False\n",
      "2025-06-30 11:08:21 use_fiducial_Cepheid_host_PV_covariance set to True\n",
      "2025-06-30 11:08:21 use_PV_covmat_scaling set to False\n",
      "2025-06-30 11:08:21 use_reconstruction set to False\n"
     ]
    }
   ],
   "source": [
    "config_path = \"/Users/rstiskalek/Projects/CANDEL/scripts/runs/config_shoes.toml\"\n",
    "data = candel.pvdata.load_SH0ES_from_config(config_path, )\n",
    "\n",
    "model = candel.model.SH0ESModel(config_path, data)"
   ]
  },
  {
   "cell_type": "code",
   "execution_count": null,
   "id": "1a662ea7",
   "metadata": {},
   "outputs": [
    {
     "name": "stdout",
     "output_type": "stream",
     "text": [
      "2025-06-26 17:26:23 running inference on devices: cpu(cpu), cpu(cpu), cpu(cpu), cpu(cpu), cpu(cpu), cpu(cpu), cpu(cpu), cpu(cpu), cpu(cpu), cpu(cpu), cpu(cpu), cpu(cpu)\n",
      "2025-06-26 17:26:23 using NumPyro platform: CPU\n"
     ]
    },
    {
     "data": {
      "application/vnd.jupyter.widget-view+json": {
       "model_id": "9bb38993f4d8454f9a5831b748ff988a",
       "version_major": 2,
       "version_minor": 0
      },
      "text/plain": [
       "  0%|          | 0/4000 [00:00<?, ?it/s]"
      ]
     },
     "metadata": {},
     "output_type": "display_data"
    },
    {
     "data": {
      "application/vnd.jupyter.widget-view+json": {
       "model_id": "582d53184b4d4382bc292c8945bbd47c",
       "version_major": 2,
       "version_minor": 0
      },
      "text/plain": [
       "  0%|          | 0/4000 [00:00<?, ?it/s]"
      ]
     },
     "metadata": {},
     "output_type": "display_data"
    },
    {
     "data": {
      "application/vnd.jupyter.widget-view+json": {
       "model_id": "1385c8e0fb6140e89b2c1d26dfcf0a5a",
       "version_major": 2,
       "version_minor": 0
      },
      "text/plain": [
       "  0%|          | 0/4000 [00:00<?, ?it/s]"
      ]
     },
     "metadata": {},
     "output_type": "display_data"
    },
    {
     "data": {
      "application/vnd.jupyter.widget-view+json": {
       "model_id": "fea66f76798c4293bb711b4fdd95dd07",
       "version_major": 2,
       "version_minor": 0
      },
      "text/plain": [
       "  0%|          | 0/4000 [00:00<?, ?it/s]"
      ]
     },
     "metadata": {},
     "output_type": "display_data"
    },
    {
     "data": {
      "application/vnd.jupyter.widget-view+json": {
       "model_id": "a962dbac29064792984fb3640b02fde3",
       "version_major": 2,
       "version_minor": 0
      },
      "text/plain": [
       "  0%|          | 0/4000 [00:00<?, ?it/s]"
      ]
     },
     "metadata": {},
     "output_type": "display_data"
    },
    {
     "data": {
      "application/vnd.jupyter.widget-view+json": {
       "model_id": "9084ef3ee7c94fedb3b2b32b20cfeddb",
       "version_major": 2,
       "version_minor": 0
      },
      "text/plain": [
       "  0%|          | 0/4000 [00:00<?, ?it/s]"
      ]
     },
     "metadata": {},
     "output_type": "display_data"
    },
    {
     "data": {
      "application/vnd.jupyter.widget-view+json": {
       "model_id": "decc1a21e68f427ca872db7f273f1dd2",
       "version_major": 2,
       "version_minor": 0
      },
      "text/plain": [
       "  0%|          | 0/4000 [00:00<?, ?it/s]"
      ]
     },
     "metadata": {},
     "output_type": "display_data"
    },
    {
     "data": {
      "application/vnd.jupyter.widget-view+json": {
       "model_id": "6dd0fdcdbf8e481cbdffa5a825602ebb",
       "version_major": 2,
       "version_minor": 0
      },
      "text/plain": [
       "  0%|          | 0/4000 [00:00<?, ?it/s]"
      ]
     },
     "metadata": {},
     "output_type": "display_data"
    },
    {
     "data": {
      "application/vnd.jupyter.widget-view+json": {
       "model_id": "766a3bef6a984a7ab3c6ba91887c10fa",
       "version_major": 2,
       "version_minor": 0
      },
      "text/plain": [
       "  0%|          | 0/4000 [00:00<?, ?it/s]"
      ]
     },
     "metadata": {},
     "output_type": "display_data"
    },
    {
     "data": {
      "application/vnd.jupyter.widget-view+json": {
       "model_id": "0f8ca38ea93548ec994602ebb8588220",
       "version_major": 2,
       "version_minor": 0
      },
      "text/plain": [
       "  0%|          | 0/4000 [00:00<?, ?it/s]"
      ]
     },
     "metadata": {},
     "output_type": "display_data"
    },
    {
     "data": {
      "application/vnd.jupyter.widget-view+json": {
       "model_id": "146abe5a01ba4dbc8158cb059f7d84a6",
       "version_major": 2,
       "version_minor": 0
      },
      "text/plain": [
       "  0%|          | 0/4000 [00:00<?, ?it/s]"
      ]
     },
     "metadata": {},
     "output_type": "display_data"
    },
    {
     "data": {
      "application/vnd.jupyter.widget-view+json": {
       "model_id": "a6f3abbf32784d55af9ca52e5951be50",
       "version_major": 2,
       "version_minor": 0
      },
      "text/plain": [
       "  0%|          | 0/4000 [00:00<?, ?it/s]"
      ]
     },
     "metadata": {},
     "output_type": "display_data"
    }
   ],
   "source": [
    "samples = candel.run_SH0ES_inference(model, )"
   ]
  },
  {
   "cell_type": "code",
   "execution_count": null,
   "id": "26eb267d",
   "metadata": {},
   "outputs": [],
   "source": []
  },
  {
   "cell_type": "code",
   "execution_count": 4,
   "id": "e090f466",
   "metadata": {},
   "outputs": [
    {
     "data": {
      "image/png": "[encoded data removed]",
      "text/plain": [
       "<Figure size 500x370 with 1 Axes>"
      ]
     },
     "metadata": {},
     "output_type": "display_data"
    }
   ],
   "source": [
    "with plt.style.context(\"science\"):\n",
    "    fig, ax = plt.subplots(figsize=(5, 3.7),)\n",
    "\n",
    "    # Histogram of H0 samples (normalize to max height = 1)\n",
    "    counts, bins, _ = ax.hist(\n",
    "        samples[\"H0\"], bins=\"auto\", density=True, alpha=0.9, color=\"0.3\",\n",
    "        label=r\"$H_0$ samples\"\n",
    "    )\n",
    "    max_density = counts.max()\n",
    "\n",
    "    # Define a range for the Gaussians\n",
    "    H0_vals = np.linspace(60, 80, 1000)\n",
    "\n",
    "    # SH0ES (e.g. Riess+2021), normalized to match\n",
    "    H0_SH0ES = 73.04\n",
    "    H0_SH0ES_err = 1.04\n",
    "    shoes_pdf = norm.pdf(H0_vals, loc=H0_SH0ES, scale=H0_SH0ES_err)\n",
    "    # shoes_pdf /= shoes_pdf.max()  # normalize peak to 1\n",
    "    # shoes_pdf *= max_density      # scale to match sample histogram\n",
    "    ax.plot(H0_vals, shoes_pdf, color=\"tab:red\", label=\"SH0ES\")\n",
    "\n",
    "    # Planck (e.g. Planck 2018), normalized to match\n",
    "    H0_Planck = 67.4\n",
    "    H0_Planck_err = 0.5\n",
    "    planck_pdf = norm.pdf(H0_vals, loc=H0_Planck, scale=H0_Planck_err)\n",
    "    # planck_pdf /= planck_pdf.max()\n",
    "    # planck_pdf *= max_density\n",
    "    ax.plot(H0_vals, planck_pdf, color=\"tab:blue\", label=\"Planck\")\n",
    "\n",
    "    ax.set_xlabel(r\"$H_0~[\\mathrm{km/s/Mpc}]$\")\n",
    "    ax.set_ylabel(\"Normalized density\")\n",
    "    ax.legend()\n",
    "\n",
    "    plt.tight_layout()\n",
    "    fig.savefig(\"/Users/rstiskalek/Downloads/H0_samples.png\", bbox_inches=\"tight\", dpi=450)\n",
    "    plt.show()"
   ]
  },
  {
   "cell_type": "code",
   "execution_count": 5,
   "id": "e37cd90f",
   "metadata": {},
   "outputs": [
    {
     "name": "stdout",
     "output_type": "stream",
     "text": [
      "p-value 0.016, corresponding to 2.4168 sigmas\n"
     ]
    }
   ],
   "source": [
    "from scipy.stats import norm\n",
    "import posterior_agreement\n",
    "\n",
    "H0_SH0ES = samples[\"H0\"]\n",
    "# H0_planck = norm(67.4, 0.5).rvs(50000)\n",
    "H0_planck = norm(73.04, 1.04).rvs(50000)\n",
    "\n",
    "\n",
    "\n",
    "chains = (H0_SH0ES, H0_planck)\n",
    "agreement_1d = posterior_agreement.compute_agreement(chains)\n",
    "\n",
    "print(\"p-value %.3f, corresponding to %.4f sigmas\"%(agreement_1d.PTE, agreement_1d.sigma))"
   ]
  },
  {
   "cell_type": "code",
   "execution_count": null,
   "id": "058fca0a",
   "metadata": {},
   "outputs": [],
   "source": []
  }
 ],
 "metadata": {
  "kernelspec": {
   "display_name": "venv_candel",
   "language": "python",
   "name": "python3"
  },
  "language_info": {
   "codemirror_mode": {
    "name": "ipython",
    "version": 3
   },
   "file_extension": ".py",
   "mimetype": "text/x-python",
   "name": "python",
   "nbconvert_exporter": "python",
   "pygments_lexer": "ipython3",
   "version": "3.12.10"
  }
 },
 "nbformat": 4,
 "nbformat_minor": 5
}
