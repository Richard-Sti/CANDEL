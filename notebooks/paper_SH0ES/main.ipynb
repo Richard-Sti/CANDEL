{
 "cells": [
  {
   "cell_type": "code",
   "execution_count": 1,
   "id": "94e19d41",
   "metadata": {},
   "outputs": [],
   "source": [
    "import sys\n",
    "sys.path.insert(0, \"/Users/rstiskalek/Projects/candel\")\n",
    "\n",
    "import numpyro\n",
    "numpyro.set_host_device_count(10)\n",
    "\n",
    "import numpy as np\n",
    "import matplotlib.pyplot as plt\n",
    "import scienceplots\n",
    "\n",
    "from scipy.stats import norm\n",
    "import candel\n",
    "\n",
    "%matplotlib inline\n",
    "%load_ext autoreload\n",
    "%autoreload 2"
   ]
  },
  {
   "cell_type": "code",
   "execution_count": 6,
   "id": "1bbe944d",
   "metadata": {},
   "outputs": [
    {
     "name": "stdout",
     "output_type": "stream",
     "text": [
      "2025-08-20 14:32:46 warning: zero width found in the priors. Setting it to 1e-5.\n",
      "2025-08-20 14:32:46 indices of zero width: [44]\n",
      "2025-08-20 14:32:46 found zero-width prior at index 44. Setting it to 0.\n",
      "2025-08-20 14:32:47 normalizing the Manticore LOS density.\n",
      "2025-08-20 14:32:48 replacing prior of `A_covmat` with a delta function.\n",
      "2025-08-20 14:32:48 replacing prior of `beta` with a delta function.\n",
      "2025-08-20 14:32:48 loading host galaxy LOS interpolators.\n",
      "2025-08-20 14:32:48 Popped the following keys with `None` values from data: czcmb_SN_HF, e_czcmb_SN_HF, RA_SN_HF, dec_SN_HF\n",
      "2025-08-20 14:32:48 Converting host RA/dec to Cartesian coordinates.\n",
      "2025-08-20 14:32:48 set the following attributes: mag_cepheid, logP, OH, C_Cepheid, L_Cepheid, L_Cepheid_host_dist, Cepheids_only, num_cepheids, num_hosts, Y_SN_Cepheid, C_SN_Cepheid, L_SN_Cepheid, L_SN_Cepheid_dist, mag_SN_unique_Cepheid_host, C_SN_unique_Cepheid_host, std_mag_SN_unique_Cepheid_host, L_SN_unique_Cepheid_host, L_SN_unique_Cepheid_host_dist, Y_SN_HF, num_flow_SN, Y_SN, C_SN, L_SN, mu_N4258_anchor, e_mu_N4258_anchor, e2_mu_N4258_anchor, mu_LMC_anchor, e_mu_LMC_anchor, e2_mu_LMC_anchor, M_HST, e_M_HST, e2_M_HST, M_Gaia, e_M_Gaia, e2_M_Gaia, sigma_grnd, czcmb_cepheid_host, e_czcmb_cepheid_host, e2_czcmb_cepheid_host, RA_host, dec_host, PV_covmat_cepheid_host, host_los_density, host_los_velocity, host_los_r, mean_logP, mean_OH, Neff_C_SN_unique_Cepheid_host, Neff_PV_covmat_cepheid_host, Neff_C_Cepheid, rhat_host\n",
      "2025-08-20 14:32:48 use_SNe_HF_SH0ES set to True\n",
      "2025-08-20 14:32:48 use_SNe_HF_Bayes set to False\n",
      "2025-08-20 14:32:48 use_MNR set to False\n",
      "2025-08-20 14:32:48 which_selection set to None\n",
      "2025-08-20 14:32:48 use_Cepheid_host_redshift set to False\n",
      "2025-08-20 14:32:48 use_uniform_mu_host_priors set to False\n",
      "2025-08-20 14:32:48 use_fiducial_Cepheid_host_PV_covariance set to True\n",
      "2025-08-20 14:32:48 use_PV_covmat_scaling set to False\n",
      "2025-08-20 14:32:48 use_reconstruction set to False\n",
      "2025-08-20 14:32:48 which_bias set to linear\n",
      "2025-08-20 14:32:48 weight_selection_by_covmat_Neff set to False\n",
      "2025-08-20 14:32:48 setting radial range from 0.01 to 150 Mpc with 251 points for the Cepheid host galaxies.\n",
      "2025-08-20 14:32:48 output will be saved to `/Users/rstiskalek/Projects/CANDEL/results/CH0/SH0ES_volume_prior_host_Harry.hdf5`.\n",
      "Priors are:\n",
      "{'M_B': 'uniform', 'H0': 'uniform', 'M_W': 'uniform', 'b_W': 'uniform', 'Z_W': 'uniform', 'sigma_v': 'jeffreys', 'Vext': 'delta', 'A_covmat': 'delta', 'beta': 'delta'}\n"
     ]
    }
   ],
   "source": [
    "config_path = \"/Users/rstiskalek/Projects/CANDEL/scripts/runs/config_shoes.toml\"\n",
    "data = candel.pvdata.load_SH0ES_from_config(config_path, )\n",
    "\n",
    "model = candel.model.SH0ESModel(config_path, data)\n",
    "\n",
    "\n",
    "print(\"Priors are:\")\n",
    "print(model.prior_dist_name)"
   ]
  },
  {
   "cell_type": "code",
   "execution_count": 7,
   "id": "1a662ea7",
   "metadata": {},
   "outputs": [
    {
     "name": "stdout",
     "output_type": "stream",
     "text": [
      "2025-08-20 14:32:48 running inference on devices: cpu(cpu), cpu(cpu), cpu(cpu), cpu(cpu), cpu(cpu), cpu(cpu), cpu(cpu), cpu(cpu), cpu(cpu), cpu(cpu)\n",
      "2025-08-20 14:32:48 using NumPyro platform: CPU\n"
     ]
    },
    {
     "data": {
      "application/vnd.jupyter.widget-view+json": {
       "model_id": "d8c971c638ec43ac8a39d4b707c37150",
       "version_major": 2,
       "version_minor": 0
      },
      "text/plain": [
       "  0%|          | 0/1000 [00:00<?, ?it/s]"
      ]
     },
     "metadata": {},
     "output_type": "display_data"
    },
    {
     "data": {
      "application/vnd.jupyter.widget-view+json": {
       "model_id": "0715f5081bc940f5a29b5e1549f18f82",
       "version_major": 2,
       "version_minor": 0
      },
      "text/plain": [
       "  0%|          | 0/1000 [00:00<?, ?it/s]"
      ]
     },
     "metadata": {},
     "output_type": "display_data"
    },
    {
     "data": {
      "application/vnd.jupyter.widget-view+json": {
       "model_id": "1353f216cb304f6382e2c889b10c9d51",
       "version_major": 2,
       "version_minor": 0
      },
      "text/plain": [
       "  0%|          | 0/1000 [00:00<?, ?it/s]"
      ]
     },
     "metadata": {},
     "output_type": "display_data"
    },
    {
     "data": {
      "application/vnd.jupyter.widget-view+json": {
       "model_id": "ca9c61871dc44f98a1992ebd30d32c6b",
       "version_major": 2,
       "version_minor": 0
      },
      "text/plain": [
       "  0%|          | 0/1000 [00:00<?, ?it/s]"
      ]
     },
     "metadata": {},
     "output_type": "display_data"
    },
    {
     "data": {
      "application/vnd.jupyter.widget-view+json": {
       "model_id": "baef841a0be4403eb5aa95681d71487e",
       "version_major": 2,
       "version_minor": 0
      },
      "text/plain": [
       "  0%|          | 0/1000 [00:00<?, ?it/s]"
      ]
     },
     "metadata": {},
     "output_type": "display_data"
    },
    {
     "data": {
      "application/vnd.jupyter.widget-view+json": {
       "model_id": "f1426d17ce7e428c9b942164129d5386",
       "version_major": 2,
       "version_minor": 0
      },
      "text/plain": [
       "  0%|          | 0/1000 [00:00<?, ?it/s]"
      ]
     },
     "metadata": {},
     "output_type": "display_data"
    },
    {
     "data": {
      "application/vnd.jupyter.widget-view+json": {
       "model_id": "fe4f18fbcf96469fb910b3b9ef538b23",
       "version_major": 2,
       "version_minor": 0
      },
      "text/plain": [
       "  0%|          | 0/1000 [00:00<?, ?it/s]"
      ]
     },
     "metadata": {},
     "output_type": "display_data"
    },
    {
     "data": {
      "application/vnd.jupyter.widget-view+json": {
       "model_id": "bd8563132fff44e592b973e93683d3c5",
       "version_major": 2,
       "version_minor": 0
      },
      "text/plain": [
       "  0%|          | 0/1000 [00:00<?, ?it/s]"
      ]
     },
     "metadata": {},
     "output_type": "display_data"
    },
    {
     "data": {
      "application/vnd.jupyter.widget-view+json": {
       "model_id": "a587d032f82b4343bfa4de50f1958af9",
       "version_major": 2,
       "version_minor": 0
      },
      "text/plain": [
       "  0%|          | 0/1000 [00:00<?, ?it/s]"
      ]
     },
     "metadata": {},
     "output_type": "display_data"
    },
    {
     "data": {
      "application/vnd.jupyter.widget-view+json": {
       "model_id": "7e6bd23f42bc4e3ca1986b514605ac28",
       "version_major": 2,
       "version_minor": 0
      },
      "text/plain": [
       "  0%|          | 0/1000 [00:00<?, ?it/s]"
      ]
     },
     "metadata": {},
     "output_type": "display_data"
    },
    {
     "name": "stdout",
     "output_type": "stream",
     "text": [
      "\n",
      "                 mean       std    median      5.0%     95.0%     n_eff     r_hat\n",
      "         H0     71.79      1.06     71.76     70.05     73.52   1146.75      1.00\n",
      "        M_B    -19.29      0.03    -19.29    -19.34    -19.24   1101.91      1.00\n",
      "        M_W     -5.92      0.02     -5.92     -5.95     -5.89   1475.23      1.00\n",
      "        Z_W     -0.16      0.05     -0.16     -0.24     -0.07   4370.41      1.00\n",
      "        b_W     -3.29      0.01     -3.29     -3.32     -3.27   3657.67      1.00\n",
      "        dZP     -0.00      0.04     -0.00     -0.06      0.05   2295.72      1.00\n",
      "     mu_LMC     18.48      0.03     18.48     18.44     18.52   4524.18      1.00\n",
      "     mu_M31     24.40      0.07     24.40     24.29     24.51   4618.02      1.00\n",
      "   mu_N4258     29.41      0.02     29.41     29.37     29.45   2493.55      1.00\n",
      " mu_host[0]     29.19      0.04     29.19     29.12     29.26   2807.98      1.00\n",
      " mu_host[1]     32.96      0.08     32.96     32.82     33.10   4173.95      1.00\n",
      " mu_host[2]     32.86      0.09     32.86     32.72     33.01   3971.60      1.00\n",
      " mu_host[3]     32.65      0.06     32.65     32.55     32.76   3149.00      1.00\n",
      " mu_host[4]     34.55      0.12     34.55     34.34     34.74   3503.00      1.00\n",
      " mu_host[5]     32.54      0.05     32.54     32.45     32.63   2998.43      1.00\n",
      " mu_host[6]     31.36      0.05     31.36     31.28     31.45   3022.87      1.00\n",
      " mu_host[7]     31.33      0.04     31.33     31.26     31.39   2347.81      1.00\n",
      " mu_host[8]     31.49      0.05     31.49     31.40     31.58   2935.14      1.00\n",
      " mu_host[9]     31.50      0.06     31.50     31.40     31.58   3214.35      1.00\n",
      "mu_host[10]     32.05      0.06     32.05     31.96     32.15   3169.29      1.00\n",
      "mu_host[11]     32.68      0.12     32.68     32.49     32.86   4508.72      1.00\n",
      "mu_host[12]     32.44      0.10     32.44     32.29     32.60   4497.27      1.00\n",
      "mu_host[13]     33.14      0.08     33.14     33.00     33.27   3773.16      1.00\n",
      "mu_host[14]     32.44      0.06     32.44     32.35     32.54   2767.73      1.00\n",
      "mu_host[15]     32.18      0.05     32.18     32.10     32.25   3084.48      1.00\n",
      "mu_host[16]     31.98      0.04     31.98     31.92     32.03   2132.35      1.00\n",
      "mu_host[17]     32.83      0.06     32.83     32.72     32.93   3914.51      1.00\n",
      "mu_host[18]     31.75      0.07     31.75     31.64     31.86   3390.38      1.00\n",
      "mu_host[19]     31.68      0.06     31.68     31.59     31.78   3532.51      1.00\n",
      "mu_host[20]     31.67      0.08     31.68     31.55     31.81   3374.10      1.00\n",
      "mu_host[21]     30.87      0.11     30.87     30.69     31.05   4292.10      1.00\n",
      "mu_host[22]     30.87      0.05     30.87     30.79     30.95   3478.03      1.00\n",
      "mu_host[23]     31.82      0.07     31.82     31.71     31.94   3969.93      1.00\n",
      "mu_host[24]     32.61      0.14     32.61     32.38     32.85   5183.33      1.00\n",
      "mu_host[25]     33.22      0.05     33.22     33.15     33.31   2546.52      1.00\n",
      "mu_host[26]     31.90      0.05     31.90     31.82     31.97   2481.87      1.00\n",
      "mu_host[27]     30.54      0.04     30.54     30.47     30.61   2531.18      1.00\n",
      "mu_host[28]     32.96      0.11     32.96     32.79     33.14   4658.95      1.00\n",
      "mu_host[29]     32.24      0.08     32.24     32.11     32.36   3725.66      1.00\n",
      "mu_host[30]     32.38      0.08     32.38     32.25     32.51   3660.85      1.00\n",
      "mu_host[31]     31.66      0.11     31.65     31.50     31.84   4195.66      1.00\n",
      "mu_host[32]     33.31      0.07     33.31     33.19     33.42   3872.41      1.00\n",
      "mu_host[33]     32.62      0.08     32.62     32.49     32.77   4090.23      1.00\n",
      "mu_host[34]     33.31      0.08     33.31     33.16     33.44   3965.86      1.00\n",
      "mu_host[35]     33.59      0.08     33.59     33.45     33.72   3378.34      1.00\n",
      "mu_host[36]     32.85      0.06     32.85     32.76     32.94   3362.11      1.00\n",
      "    sigma_v    404.56    589.34    108.34      5.01   1388.24   4513.23      1.00\n",
      "\n",
      "2025-08-20 14:34:13 output directory is /Users/rstiskalek/Projects/CANDEL/results/CH0.\n",
      "2025-08-20 14:34:13 saved samples to /Users/rstiskalek/Projects/CANDEL/results/CH0/SH0ES_volume_prior_host_Harry.hdf5\n",
      "2025-08-20 14:34:14 saving a corner plot to /Users/rstiskalek/Projects/CANDEL/results/CH0/SH0ES_volume_prior_host_Harry.png\n"
     ]
    }
   ],
   "source": [
    "samples = candel.run_SH0ES_inference(model, )"
   ]
  },
  {
   "cell_type": "code",
   "execution_count": 25,
   "id": "e090f466",
   "metadata": {},
   "outputs": [
    {
     "data": {
      "image/png": "[encoded data removed]",
      "text/plain": [
       "<Figure size 500x370 with 1 Axes>"
      ]
     },
     "metadata": {},
     "output_type": "display_data"
    }
   ],
   "source": [
    "fig, ax = plt.subplots(figsize=(5, 3.7),)\n",
    "\n",
    "# Histogram of H0 samples (normalize to max height = 1)\n",
    "counts, bins, _ = ax.hist(\n",
    "    samples[\"H0\"], bins=\"auto\", density=True, alpha=0.9, color=\"0.3\",\n",
    "    label=r\"$H_0$ samples\"\n",
    ")\n",
    "max_density = counts.max()\n",
    "\n",
    "# Define a range for the Gaussians\n",
    "H0_vals = np.linspace(60, 80, 1000)\n",
    "\n",
    "# SH0ES (e.g. Riess+2021), normalized to match\n",
    "H0_SH0ES = 73.04\n",
    "H0_SH0ES_err = 1.04\n",
    "shoes_pdf = norm.pdf(H0_vals, loc=H0_SH0ES, scale=H0_SH0ES_err)\n",
    "# shoes_pdf /= shoes_pdf.max()  # normalize peak to 1\n",
    "# shoes_pdf *= max_density      # scale to match sample histogram\n",
    "ax.plot(H0_vals, shoes_pdf, color=\"tab:red\", label=\"SH0ES\")\n",
    "\n",
    "# Planck (e.g. Planck 2018), normalized to match\n",
    "H0_Planck = 67.4\n",
    "H0_Planck_err = 0.5\n",
    "planck_pdf = norm.pdf(H0_vals, loc=H0_Planck, scale=H0_Planck_err)\n",
    "# planck_pdf /= planck_pdf.max()\n",
    "# planck_pdf *= max_density\n",
    "ax.plot(H0_vals, planck_pdf, color=\"tab:blue\", label=\"Planck\")\n",
    "\n",
    "ax.set_xlabel(r\"$H_0~[\\mathrm{km/s/Mpc}]$\")\n",
    "ax.set_ylabel(\"Normalized density\")\n",
    "ax.legend()\n",
    "\n",
    "plt.tight_layout()\n",
    "fig.savefig(\"/Users/rstiskalek/Downloads/H0_samples.png\", bbox_inches=\"tight\", dpi=450)\n",
    "plt.show()"
   ]
  },
  {
   "cell_type": "code",
   "execution_count": 14,
   "id": "e37cd90f",
   "metadata": {},
   "outputs": [
    {
     "name": "stdout",
     "output_type": "stream",
     "text": [
      "p-value 0.011, corresponding to 2.5368 sigmas\n"
     ]
    }
   ],
   "source": [
    "from scipy.stats import norm\n",
    "import posterior_agreement\n",
    "\n",
    "\n",
    "H0 = norm(69.1, 1.2).rvs(50_000)\n",
    "# H0_test = norm(67.4, 0.5).rvs(50000)\n",
    "H0_test = norm(73.04, 1.04).rvs(50000)\n",
    "\n",
    "\n",
    "\n",
    "chains = (H0, H0_test)\n",
    "agreement_1d = posterior_agreement.compute_agreement(chains)\n",
    "\n",
    "print(\"p-value %.3f, corresponding to %.4f sigmas\"%(agreement_1d.PTE, agreement_1d.sigma))"
   ]
  },
  {
   "cell_type": "code",
   "execution_count": null,
   "id": "70df6106",
   "metadata": {},
   "outputs": [],
   "source": []
  },
  {
   "cell_type": "code",
   "execution_count": 2,
   "id": "e1332f5f",
   "metadata": {},
   "outputs": [],
   "source": [
    "\n",
    "\n",
    "values = np.array([70.9, 72, 69.3])\n",
    "errors = np.array([1.3, 1.3, 1.4])\n",
    "\n",
    "\n",
    "samples = []\n",
    "for mu, err in zip(values, errors):\n",
    "    samples.append(norm(mu, err).rvs(50000))\n",
    "\n",
    "\n",
    "samples = np.array(samples).flatten()"
   ]
  },
  {
   "cell_type": "code",
   "execution_count": 3,
   "id": "2726bf36",
   "metadata": {},
   "outputs": [
    {
     "data": {
      "text/plain": [
       "(70.72935530213319, 1.7358712364314264)"
      ]
     },
     "execution_count": 3,
     "metadata": {},
     "output_type": "execute_result"
    }
   ],
   "source": [
    "samples.mean(), samples.std()"
   ]
  },
  {
   "cell_type": "code",
   "execution_count": 4,
   "id": "4379c423",
   "metadata": {},
   "outputs": [
    {
     "data": {
      "image/png": "[encoded data removed]",
      "text/plain": [
       "<Figure size 640x480 with 1 Axes>"
      ]
     },
     "metadata": {},
     "output_type": "display_data"
    }
   ],
   "source": [
    "plt.figure()\n",
    "plt.hist(samples, bins=\"auto\")\n",
    "\n",
    "plt.show()"
   ]
  },
  {
   "cell_type": "code",
   "execution_count": null,
   "id": "b3e38a7b",
   "metadata": {},
   "outputs": [],
   "source": []
  }
 ],
 "metadata": {
  "kernelspec": {
   "display_name": "venv_candel (3.12.10)",
   "language": "python",
   "name": "python3"
  },
  "language_info": {
   "codemirror_mode": {
    "name": "ipython",
    "version": 3
   },
   "file_extension": ".py",
   "mimetype": "text/x-python",
   "name": "python",
   "nbconvert_exporter": "python",
   "pygments_lexer": "ipython3",
   "version": "3.12.10"
  }
 },
 "nbformat": 4,
 "nbformat_minor": 5
}
