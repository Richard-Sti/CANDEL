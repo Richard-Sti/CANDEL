{
 "cells": [
  {
   "cell_type": "code",
   "execution_count": 14,
   "id": "94e19d41",
   "metadata": {},
   "outputs": [
    {
     "name": "stdout",
     "output_type": "stream",
     "text": [
      "The autoreload extension is already loaded. To reload it, use:\n",
      "  %reload_ext autoreload\n"
     ]
    }
   ],
   "source": [
    "import sys\n",
    "sys.path.insert(0, \"/Users/rstiskalek/Projects/candel\")\n",
    "\n",
    "import numpyro\n",
    "numpyro.set_host_device_count(10)\n",
    "\n",
    "import numpy as np\n",
    "import matplotlib.pyplot as plt\n",
    "import scienceplots\n",
    "\n",
    "from scipy.stats import norm\n",
    "import candel\n",
    "\n",
    "%matplotlib inline\n",
    "%load_ext autoreload\n",
    "%autoreload 2"
   ]
  },
  {
   "cell_type": "code",
   "execution_count": 17,
   "id": "1bbe944d",
   "metadata": {},
   "outputs": [
    {
     "name": "stdout",
     "output_type": "stream",
     "text": [
      "2025-07-22 17:07:17 warning: zero width found in the priors. Setting it to 1e-5.\n",
      "2025-07-22 17:07:17 indices of zero width: [44]\n",
      "2025-07-22 17:07:17 found zero-width prior at index 44. Setting it to 0.\n",
      "2025-07-22 17:07:17 Masking Cepheids with cz_cmb > 3300 km/s: Keeping 35 out of 37.\n",
      "2025-07-22 17:07:17 replacing prior of `M_B` with a delta function.\n",
      "2025-07-22 17:07:17 replacing prior of `A_covmat` with a delta function.\n",
      "2025-07-22 17:07:17 loading host galaxy LOS interpolators.\n",
      "2025-07-22 17:07:17 Popped the following keys with `None` values from data: czcmb_SN_HF, e_czcmb_SN_HF, RA_SN_HF, dec_SN_HF\n",
      "2025-07-22 17:07:17 Converting host RA/dec to Cartesian coordinates.\n",
      "2025-07-22 17:07:17 set the following attributes: mag_cepheid, logP, OH, C_Cepheid, L_Cepheid, L_Cepheid_host_dist, Cepheids_only, num_cepheids, num_hosts, Y_SN_Cepheid, C_SN_Cepheid, L_SN_Cepheid, L_SN_Cepheid_dist, mag_SN_unique_Cepheid_host, C_SN_unique_Cepheid_host, std_mag_SN_unique_Cepheid_host, L_SN_unique_Cepheid_host, L_SN_unique_Cepheid_host_dist, Y_SN_HF, num_flow_SN, Y_SN, C_SN, L_SN, mu_N4258_anchor, e_mu_N4258_anchor, e2_mu_N4258_anchor, mu_LMC_anchor, e_mu_LMC_anchor, e2_mu_LMC_anchor, M_HST, e_M_HST, e2_M_HST, M_Gaia, e_M_Gaia, e2_M_Gaia, sigma_grnd, czcmb_cepheid_host, e_czcmb_cepheid_host, e2_czcmb_cepheid_host, RA_host, dec_host, PV_covmat_cepheid_host, host_los_density, host_los_velocity, host_los_r, mask_host, mean_logP, mean_OH, rhat_host\n",
      "2025-07-22 17:07:18 use_SNe_HF_SH0ES set to False\n",
      "2025-07-22 17:07:18 use_SNe_HF_Bayes set to False\n",
      "2025-07-22 17:07:18 use_MNR set to False\n",
      "2025-07-22 17:07:18 which_selection set to redshift\n",
      "2025-07-22 17:07:18 use_Cepheid_host_redshift set to True\n",
      "2025-07-22 17:07:18 use_uniform_mu_host_priors set to False\n",
      "2025-07-22 17:07:18 use_fiducial_Cepheid_host_PV_covariance set to False\n",
      "2025-07-22 17:07:18 use_PV_covmat_scaling set to False\n",
      "2025-07-22 17:07:18 use_reconstruction set to True\n",
      "2025-07-22 17:07:18 which_bias set to linear\n",
      "2025-07-22 17:07:18 setting radial range from 0.01 to 150 Mpc with 251 points for the Cepheid host galaxies.\n",
      "2025-07-22 17:07:18 marginalizing over 1 field realizations.\n",
      "2025-07-22 17:07:18 output will be saved to `/Users/rstiskalek/Projects/CANDEL/results/CH0/test.hdf5`.\n",
      "Priors are:\n",
      "{'H0': 'uniform', 'M_W': 'uniform', 'b_W': 'uniform', 'Z_W': 'uniform', 'sigma_v': 'jeffreys', 'beta': 'normal', 'Vext': 'vector_uniform_fixed', 'M_B': 'delta', 'A_covmat': 'delta'}\n"
     ]
    }
   ],
   "source": [
    "config_path = \"/Users/rstiskalek/Projects/CANDEL/scripts/runs/config_shoes.toml\"\n",
    "data = candel.pvdata.load_SH0ES_from_config(config_path, )\n",
    "\n",
    "model = candel.model.SH0ESModel(config_path, data)\n",
    "\n",
    "\n",
    "print(\"Priors are:\")\n",
    "print(model.prior_dist_name)"
   ]
  },
  {
   "cell_type": "code",
   "execution_count": 18,
   "id": "1a662ea7",
   "metadata": {},
   "outputs": [
    {
     "name": "stdout",
     "output_type": "stream",
     "text": [
      "2025-07-22 17:07:18 running inference on devices: cpu(cpu), cpu(cpu), cpu(cpu), cpu(cpu), cpu(cpu), cpu(cpu), cpu(cpu), cpu(cpu), cpu(cpu), cpu(cpu)\n",
      "2025-07-22 17:07:18 using NumPyro platform: CPU\n"
     ]
    },
    {
     "data": {
      "application/vnd.jupyter.widget-view+json": {
       "model_id": "de2bc86ad50247f1b256f0bf54a53713",
       "version_major": 2,
       "version_minor": 0
      },
      "text/plain": [
       "  0%|          | 0/3000 [00:00<?, ?it/s]"
      ]
     },
     "metadata": {},
     "output_type": "display_data"
    },
    {
     "data": {
      "application/vnd.jupyter.widget-view+json": {
       "model_id": "d5916059043941b58f4b4460e13ef371",
       "version_major": 2,
       "version_minor": 0
      },
      "text/plain": [
       "  0%|          | 0/3000 [00:00<?, ?it/s]"
      ]
     },
     "metadata": {},
     "output_type": "display_data"
    },
    {
     "data": {
      "application/vnd.jupyter.widget-view+json": {
       "model_id": "b33e1489b1d34152b2d7b402a6233446",
       "version_major": 2,
       "version_minor": 0
      },
      "text/plain": [
       "  0%|          | 0/3000 [00:00<?, ?it/s]"
      ]
     },
     "metadata": {},
     "output_type": "display_data"
    },
    {
     "data": {
      "application/vnd.jupyter.widget-view+json": {
       "model_id": "c2f5d48e8f4d4dbcb3594ebc3154eeea",
       "version_major": 2,
       "version_minor": 0
      },
      "text/plain": [
       "  0%|          | 0/3000 [00:00<?, ?it/s]"
      ]
     },
     "metadata": {},
     "output_type": "display_data"
    },
    {
     "data": {
      "application/vnd.jupyter.widget-view+json": {
       "model_id": "4b21ea3eefe6426c9f73dfb5042b9fc2",
       "version_major": 2,
       "version_minor": 0
      },
      "text/plain": [
       "  0%|          | 0/3000 [00:00<?, ?it/s]"
      ]
     },
     "metadata": {},
     "output_type": "display_data"
    },
    {
     "data": {
      "application/vnd.jupyter.widget-view+json": {
       "model_id": "f9b060d9f0d04568a65fa7bd02f2adce",
       "version_major": 2,
       "version_minor": 0
      },
      "text/plain": [
       "  0%|          | 0/3000 [00:00<?, ?it/s]"
      ]
     },
     "metadata": {},
     "output_type": "display_data"
    },
    {
     "data": {
      "application/vnd.jupyter.widget-view+json": {
       "model_id": "d60a63076f00439c8516534980c875a8",
       "version_major": 2,
       "version_minor": 0
      },
      "text/plain": [
       "  0%|          | 0/3000 [00:00<?, ?it/s]"
      ]
     },
     "metadata": {},
     "output_type": "display_data"
    },
    {
     "data": {
      "application/vnd.jupyter.widget-view+json": {
       "model_id": "b921849fc7cb47f6b4837b6911129ca0",
       "version_major": 2,
       "version_minor": 0
      },
      "text/plain": [
       "  0%|          | 0/3000 [00:00<?, ?it/s]"
      ]
     },
     "metadata": {},
     "output_type": "display_data"
    },
    {
     "data": {
      "application/vnd.jupyter.widget-view+json": {
       "model_id": "05f8f5038cd344bf83e223800107bef0",
       "version_major": 2,
       "version_minor": 0
      },
      "text/plain": [
       "  0%|          | 0/3000 [00:00<?, ?it/s]"
      ]
     },
     "metadata": {},
     "output_type": "display_data"
    },
    {
     "data": {
      "application/vnd.jupyter.widget-view+json": {
       "model_id": "10ee4b6d399a4155bb0f1970e52de7a9",
       "version_major": 2,
       "version_minor": 0
      },
      "text/plain": [
       "  0%|          | 0/3000 [00:00<?, ?it/s]"
      ]
     },
     "metadata": {},
     "output_type": "display_data"
    },
    {
     "name": "stdout",
     "output_type": "stream",
     "text": [
      "\n",
      "                 mean       std    median      5.0%     95.0%     n_eff     r_hat\n",
      "         H0     74.11      1.80     74.08     71.26     77.18   9367.39      1.00\n",
      "        M_W     -5.90      0.02     -5.90     -5.94     -5.87   7326.71      1.00\n",
      "        Z_W     -0.19      0.06     -0.19     -0.29     -0.11  18874.67      1.00\n",
      "        b_W     -3.28      0.01     -3.28     -3.30     -3.25  18912.96      1.00\n",
      "       beta      0.42      0.02      0.42      0.39      0.45  25041.76      1.00\n",
      "        dZP     -0.03      0.04     -0.03     -0.09      0.03   9828.29      1.00\n",
      "     mu_LMC     18.48      0.03     18.48     18.43     18.52  20745.94      1.00\n",
      "     mu_M31     24.38      0.07     24.38     24.26     24.49  21867.72      1.00\n",
      "   mu_N4258     29.39      0.02     29.39     29.35     29.43  10638.51      1.00\n",
      " mu_host[0]     29.19      0.04     29.19     29.12     29.26  12852.08      1.00\n",
      " mu_host[1]     32.93      0.10     32.93     32.77     33.10  21919.59      1.00\n",
      " mu_host[2]     32.75      0.09     32.75     32.60     32.90  19379.90      1.00\n",
      " mu_host[3]     32.56      0.07     32.56     32.44     32.67  18201.53      1.00\n",
      " mu_host[4]     32.52      0.06     32.52     32.43     32.62  16206.42      1.00\n",
      " mu_host[5]     31.39      0.06     31.39     31.29     31.48  16980.26      1.00\n",
      " mu_host[6]     31.29      0.04     31.29     31.22     31.35  11192.78      1.00\n",
      " mu_host[7]     31.49      0.06     31.49     31.39     31.59  18100.21      1.00\n",
      " mu_host[8]     31.45      0.06     31.45     31.35     31.56  18320.51      1.00\n",
      " mu_host[9]     32.07      0.10     32.07     31.91     32.23  22511.10      1.00\n",
      "mu_host[10]     32.73      0.12     32.73     32.54     32.93  15014.79      1.00\n",
      "mu_host[11]     32.44      0.13     32.44     32.24     32.65  20003.96      1.00\n",
      "mu_host[12]     33.18      0.12     33.18     32.98     33.38  17505.54      1.00\n",
      "mu_host[13]     32.33      0.07     32.33     32.21     32.45  17544.36      1.00\n",
      "mu_host[14]     32.12      0.05     32.12     32.04     32.22  14934.15      1.00\n",
      "mu_host[15]     31.94      0.04     31.94     31.88     32.00  10980.99      1.00\n",
      "mu_host[16]     32.82      0.07     32.82     32.69     32.93  18456.36      1.00\n",
      "mu_host[17]     31.63      0.09     31.64     31.49     31.77  20380.77      1.00\n",
      "mu_host[18]     31.72      0.07     31.72     31.60     31.84  18434.96      1.00\n",
      "mu_host[19]     31.63      0.11     31.63     31.44     31.81  21501.53      1.00\n",
      "mu_host[20]     30.89      0.13     30.89     30.67     31.09  27203.76      1.00\n",
      "mu_host[21]     30.84      0.05     30.84     30.76     30.93  14566.34      1.00\n",
      "mu_host[22]     31.81      0.08     31.81     31.68     31.95  21996.98      1.00\n",
      "mu_host[23]     32.73      0.15     32.73     32.49     32.98  23772.33      1.00\n",
      "mu_host[24]     33.11      0.07     33.11     33.00     33.22  16265.25      1.00\n",
      "mu_host[25]     31.78      0.05     31.78     31.69     31.87  15969.56      1.00\n",
      "mu_host[26]     30.55      0.05     30.55     30.46     30.64  14392.84      1.00\n",
      "mu_host[27]     33.10      0.13     33.10     32.88     33.32  18088.34      1.00\n",
      "mu_host[28]     32.24      0.09     32.24     32.08     32.39  22159.09      1.00\n",
      "mu_host[29]     32.37      0.11     32.37     32.19     32.55  22624.45      1.00\n",
      "mu_host[30]     31.54      0.11     31.54     31.36     31.72  20505.12      1.00\n",
      "mu_host[31]     33.21      0.10     33.21     33.05     33.38  18662.13      1.00\n",
      "mu_host[32]     32.53      0.10     32.53     32.36     32.69  19121.23      1.00\n",
      "mu_host[33]     33.16      0.11     33.16     32.99     33.34  19040.18      1.00\n",
      "mu_host[34]     32.82      0.06     32.82     32.72     32.93  16711.00      1.00\n",
      "    sigma_v    211.31     31.66    208.17    159.74    260.66  13349.21      1.00\n",
      "   Vext_ell    282.94    106.41    323.50     22.11    360.00  18454.17      1.00\n",
      "     Vext_b    -32.08     16.04    -31.61    -58.62     -8.54  13298.23      1.00\n",
      "   Vext_mag    232.47     86.03    232.44     90.88    377.43   7235.25      1.00\n",
      "\n",
      "2025-07-22 17:12:23 output directory is /Users/rstiskalek/Projects/CANDEL/results/CH0.\n",
      "2025-07-22 17:12:23 saved samples to /Users/rstiskalek/Projects/CANDEL/results/CH0/test.hdf5\n",
      "2025-07-22 17:12:24 saving a corner plot to /Users/rstiskalek/Projects/CANDEL/results/CH0/test.png\n"
     ]
    }
   ],
   "source": [
    "samples = candel.run_SH0ES_inference(model, )"
   ]
  },
  {
   "cell_type": "code",
   "execution_count": null,
   "id": "e090f466",
   "metadata": {},
   "outputs": [],
   "source": [
    "fig, ax = plt.subplots(figsize=(5, 3.7),)\n",
    "\n",
    "# Histogram of H0 samples (normalize to max height = 1)\n",
    "counts, bins, _ = ax.hist(\n",
    "    samples[\"H0\"], bins=\"auto\", density=True, alpha=0.9, color=\"0.3\",\n",
    "    label=r\"$H_0$ samples\"\n",
    ")\n",
    "max_density = counts.max()\n",
    "\n",
    "# Define a range for the Gaussians\n",
    "H0_vals = np.linspace(60, 80, 1000)\n",
    "\n",
    "# SH0ES (e.g. Riess+2021), normalized to match\n",
    "H0_SH0ES = 73.04\n",
    "H0_SH0ES_err = 1.04\n",
    "shoes_pdf = norm.pdf(H0_vals, loc=H0_SH0ES, scale=H0_SH0ES_err)\n",
    "# shoes_pdf /= shoes_pdf.max()  # normalize peak to 1\n",
    "# shoes_pdf *= max_density      # scale to match sample histogram\n",
    "ax.plot(H0_vals, shoes_pdf, color=\"tab:red\", label=\"SH0ES\")\n",
    "\n",
    "# Planck (e.g. Planck 2018), normalized to match\n",
    "H0_Planck = 67.4\n",
    "H0_Planck_err = 0.5\n",
    "planck_pdf = norm.pdf(H0_vals, loc=H0_Planck, scale=H0_Planck_err)\n",
    "# planck_pdf /= planck_pdf.max()\n",
    "# planck_pdf *= max_density\n",
    "ax.plot(H0_vals, planck_pdf, color=\"tab:blue\", label=\"Planck\")\n",
    "\n",
    "ax.set_xlabel(r\"$H_0~[\\mathrm{km/s/Mpc}]$\")\n",
    "ax.set_ylabel(\"Normalized density\")\n",
    "ax.legend()\n",
    "\n",
    "plt.tight_layout()\n",
    "fig.savefig(\"/Users/rstiskalek/Downloads/H0_samples.png\", bbox_inches=\"tight\", dpi=450)\n",
    "plt.show()"
   ]
  },
  {
   "cell_type": "code",
   "execution_count": 14,
   "id": "e37cd90f",
   "metadata": {},
   "outputs": [
    {
     "name": "stdout",
     "output_type": "stream",
     "text": [
      "p-value 0.011, corresponding to 2.5368 sigmas\n"
     ]
    }
   ],
   "source": [
    "from scipy.stats import norm\n",
    "import posterior_agreement\n",
    "\n",
    "\n",
    "H0 = norm(69.1, 1.2).rvs(50_000)\n",
    "# H0_test = norm(67.4, 0.5).rvs(50000)\n",
    "H0_test = norm(73.04, 1.04).rvs(50000)\n",
    "\n",
    "\n",
    "\n",
    "chains = (H0, H0_test)\n",
    "agreement_1d = posterior_agreement.compute_agreement(chains)\n",
    "\n",
    "print(\"p-value %.3f, corresponding to %.4f sigmas\"%(agreement_1d.PTE, agreement_1d.sigma))"
   ]
  },
  {
   "cell_type": "code",
   "execution_count": null,
   "id": "70df6106",
   "metadata": {},
   "outputs": [],
   "source": []
  },
  {
   "cell_type": "code",
   "execution_count": 8,
   "id": "e1332f5f",
   "metadata": {},
   "outputs": [],
   "source": [
    "\n",
    "\n",
    "values = np.array([69.3, 68.6, 69.3])\n",
    "errors = np.array([1.1, 1.0, 1.4])\n",
    "\n",
    "\n",
    "samples = []\n",
    "for mu, err in zip(values, errors):\n",
    "    samples.append(norm(mu, err).rvs(50000))\n",
    "\n",
    "\n",
    "samples = np.array(samples).flatten()"
   ]
  },
  {
   "cell_type": "code",
   "execution_count": 11,
   "id": "2726bf36",
   "metadata": {},
   "outputs": [
    {
     "data": {
      "text/plain": [
       "(69.06990149970514, 1.2267358209826418)"
      ]
     },
     "execution_count": 11,
     "metadata": {},
     "output_type": "execute_result"
    }
   ],
   "source": [
    "samples.mean(), samples.std()"
   ]
  },
  {
   "cell_type": "code",
   "execution_count": 9,
   "id": "4379c423",
   "metadata": {},
   "outputs": [
    {
     "data": {
      "image/png": "[encoded data removed]",
      "text/plain": [
       "<Figure size 640x480 with 1 Axes>"
      ]
     },
     "metadata": {},
     "output_type": "display_data"
    }
   ],
   "source": [
    "plt.figure()\n",
    "plt.hist(samples, bins=\"auto\")\n",
    "\n",
    "plt.show()"
   ]
  },
  {
   "cell_type": "code",
   "execution_count": null,
   "id": "b3e38a7b",
   "metadata": {},
   "outputs": [],
   "source": []
  }
 ],
 "metadata": {
  "kernelspec": {
   "display_name": "venv_candel (3.12.10)",
   "language": "python",
   "name": "python3"
  },
  "language_info": {
   "codemirror_mode": {
    "name": "ipython",
    "version": 3
   },
   "file_extension": ".py",
   "mimetype": "text/x-python",
   "name": "python",
   "nbconvert_exporter": "python",
   "pygments_lexer": "ipython3",
   "version": "3.12.10"
  }
 },
 "nbformat": 4,
 "nbformat_minor": 5
}
