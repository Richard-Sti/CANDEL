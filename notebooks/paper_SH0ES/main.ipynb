{
 "cells": [
  {
   "cell_type": "code",
   "execution_count": 1,
   "id": "94e19d41",
   "metadata": {},
   "outputs": [],
   "source": [
    "import sys\n",
    "sys.path.insert(0, \"/Users/rstiskalek/Projects/candel\")\n",
    "\n",
    "import numpyro\n",
    "numpyro.set_host_device_count(10)\n",
    "\n",
    "import numpy as np\n",
    "import matplotlib.pyplot as plt\n",
    "import scienceplots\n",
    "\n",
    "from scipy.stats import norm\n",
    "import candel\n",
    "\n",
    "%matplotlib inline\n",
    "%load_ext autoreload\n",
    "%autoreload 2"
   ]
  },
  {
   "cell_type": "code",
   "execution_count": 4,
   "id": "1bbe944d",
   "metadata": {},
   "outputs": [
    {
     "name": "stdout",
     "output_type": "stream",
     "text": [
      "2025-08-23 10:50:29 warning: zero width found in the priors. Setting it to 1e-5.\n",
      "2025-08-23 10:50:29 indices of zero width: [44]\n",
      "2025-08-23 10:50:29 found zero-width prior at index 44. Setting it to 0.\n",
      "2025-08-23 10:50:29 Masking Cepheids with cz_cmb > 3300 km/s: Keeping 35 out of 37.\n",
      "2025-08-23 10:50:31 replacing prior of `M_B` with a delta function.\n",
      "2025-08-23 10:50:31 replacing prior of `A_covmat` with a delta function.\n",
      "2025-08-23 10:50:31 not using empirical distance prior. Disabling its parameters.\n",
      "2025-08-23 10:50:31 loaded host galaxy LOS interpolators for 37 galaxies.\n",
      "2025-08-23 10:50:31 loaded rand galaxy LOS interpolators for 250 galaxies.\n",
      "2025-08-23 10:50:31 Popped the following keys with `None` values from data: czcmb_SN_HF, e_czcmb_SN_HF, RA_SN_HF, dec_SN_HF\n",
      "2025-08-23 10:50:31 Converting host RA/dec to Cartesian coordinates.\n",
      "2025-08-23 10:50:31 Converting random LOS RA/dec to Cartesian coordinates.\n",
      "2025-08-23 10:50:31 set the following attributes: mag_cepheid, logP, OH, C_Cepheid, L_Cepheid, L_Cepheid_host_dist, Cepheids_only, num_cepheids, num_hosts, Y_SN_Cepheid, C_SN_Cepheid, L_SN_Cepheid, L_SN_Cepheid_dist, mag_SN_unique_Cepheid_host, C_SN_unique_Cepheid_host, mean_std_mag_SN_unique_Cepheid_host, L_SN_unique_Cepheid_host, L_SN_unique_Cepheid_host_dist, Y_SN_HF, num_flow_SN, Y_SN, C_SN, L_SN, mu_N4258_anchor, e_mu_N4258_anchor, e2_mu_N4258_anchor, mu_LMC_anchor, e_mu_LMC_anchor, e2_mu_LMC_anchor, M_HST, e_M_HST, e2_M_HST, M_Gaia, e_M_Gaia, e2_M_Gaia, sigma_grnd, czcmb_cepheid_host, e_czcmb_cepheid_host, e2_czcmb_cepheid_host, RA_host, dec_host, PV_covmat_cepheid_host, host_los_density, host_los_velocity, host_los_r, has_rand_los, num_rand_los, rand_los_density, rand_los_velocity, rand_los_r, rand_los_RA, rand_los_dec, mask_host, Neff_C_SN_unique_Cepheid_host, Neff_PV_covmat_cepheid_host, Neff_C_Cepheid, rhat_host, rhat_rand_los\n",
      "2025-08-23 10:50:31 use_SNe_HF_SH0ES set to False\n",
      "2025-08-23 10:50:31 use_SNe_HF_Bayes set to False\n",
      "2025-08-23 10:50:31 use_MNR set to False\n",
      "2025-08-23 10:50:31 which_selection set to redshift\n",
      "2025-08-23 10:50:31 use_Cepheid_host_redshift set to True\n",
      "2025-08-23 10:50:31 use_uniform_mu_host_priors set to False\n",
      "2025-08-23 10:50:31 which_distance_prior set to volume\n",
      "2025-08-23 10:50:31 use_fiducial_Cepheid_host_PV_covariance set to False\n",
      "2025-08-23 10:50:31 use_PV_covmat_scaling set to False\n",
      "2025-08-23 10:50:31 use_reconstruction set to True\n",
      "2025-08-23 10:50:31 which_bias set to linear\n",
      "2025-08-23 10:50:31 weight_selection_by_covmat_Neff set to False\n",
      "2025-08-23 10:50:31 setting radial range from 0.01 to 150 Mpc with 251 points for the Cepheid host galaxies.\n",
      "2025-08-23 10:50:31 marginalizing over 1 field realizations.\n",
      "2025-08-23 10:50:31 output will be saved to `/Users/rstiskalek/Projects/CANDEL/results/CH0/test.hdf5`.\n",
      "Priors are:\n",
      "{'H0': 'uniform', 'M_W': 'uniform', 'b_W': 'uniform', 'Z_W': 'uniform', 'sigma_v': 'jeffreys', 'beta': 'normal', 'Vext': 'vector_uniform_fixed', 'M_B': 'delta', 'A_covmat': 'delta', 'R_dist_emp': 'delta', 'p_dist_emp': 'delta', 'n_dist_emp': 'delta'}\n"
     ]
    }
   ],
   "source": [
    "config_path = \"/Users/rstiskalek/Projects/CANDEL/scripts/runs/config_shoes.toml\"\n",
    "data = candel.pvdata.load_SH0ES_from_config(config_path, )\n",
    "\n",
    "model = candel.model.SH0ESModel(config_path, data)\n",
    "\n",
    "\n",
    "print(\"Priors are:\")\n",
    "print(model.prior_dist_name)"
   ]
  },
  {
   "cell_type": "code",
   "execution_count": 5,
   "id": "1a662ea7",
   "metadata": {},
   "outputs": [
    {
     "name": "stdout",
     "output_type": "stream",
     "text": [
      "2025-08-23 10:50:31 running inference on devices: cpu(cpu), cpu(cpu), cpu(cpu), cpu(cpu), cpu(cpu), cpu(cpu), cpu(cpu), cpu(cpu), cpu(cpu), cpu(cpu)\n",
      "2025-08-23 10:50:31 using NumPyro platform: CPU\n"
     ]
    },
    {
     "data": {
      "application/vnd.jupyter.widget-view+json": {
       "model_id": "832a911972d143a989719e2198e6b110",
       "version_major": 2,
       "version_minor": 0
      },
      "text/plain": [
       "  0%|          | 0/1000 [00:00<?, ?it/s]"
      ]
     },
     "metadata": {},
     "output_type": "display_data"
    },
    {
     "data": {
      "application/vnd.jupyter.widget-view+json": {
       "model_id": "a2b85b24ddaf428ca0c7dea31c7a551d",
       "version_major": 2,
       "version_minor": 0
      },
      "text/plain": [
       "  0%|          | 0/1000 [00:00<?, ?it/s]"
      ]
     },
     "metadata": {},
     "output_type": "display_data"
    },
    {
     "data": {
      "application/vnd.jupyter.widget-view+json": {
       "model_id": "9d6cf913080441568ebc0354df512be8",
       "version_major": 2,
       "version_minor": 0
      },
      "text/plain": [
       "  0%|          | 0/1000 [00:00<?, ?it/s]"
      ]
     },
     "metadata": {},
     "output_type": "display_data"
    },
    {
     "data": {
      "application/vnd.jupyter.widget-view+json": {
       "model_id": "86e26d30ceb0434fb588d7eee19eb316",
       "version_major": 2,
       "version_minor": 0
      },
      "text/plain": [
       "  0%|          | 0/1000 [00:00<?, ?it/s]"
      ]
     },
     "metadata": {},
     "output_type": "display_data"
    },
    {
     "data": {
      "application/vnd.jupyter.widget-view+json": {
       "model_id": "7fd70f390acf4e87a9827501d06cd096",
       "version_major": 2,
       "version_minor": 0
      },
      "text/plain": [
       "  0%|          | 0/1000 [00:00<?, ?it/s]"
      ]
     },
     "metadata": {},
     "output_type": "display_data"
    },
    {
     "data": {
      "application/vnd.jupyter.widget-view+json": {
       "model_id": "4a1c7c3f493e4238a3ba1354721273db",
       "version_major": 2,
       "version_minor": 0
      },
      "text/plain": [
       "  0%|          | 0/1000 [00:00<?, ?it/s]"
      ]
     },
     "metadata": {},
     "output_type": "display_data"
    },
    {
     "data": {
      "application/vnd.jupyter.widget-view+json": {
       "model_id": "42dc89667b794cf29cc14ef5f018db3a",
       "version_major": 2,
       "version_minor": 0
      },
      "text/plain": [
       "  0%|          | 0/1000 [00:00<?, ?it/s]"
      ]
     },
     "metadata": {},
     "output_type": "display_data"
    },
    {
     "data": {
      "application/vnd.jupyter.widget-view+json": {
       "model_id": "e9902f12e0634a57a6c2942aa30f71b9",
       "version_major": 2,
       "version_minor": 0
      },
      "text/plain": [
       "  0%|          | 0/1000 [00:00<?, ?it/s]"
      ]
     },
     "metadata": {},
     "output_type": "display_data"
    },
    {
     "data": {
      "application/vnd.jupyter.widget-view+json": {
       "model_id": "aaed943d6f96414cb10acd99cf84997c",
       "version_major": 2,
       "version_minor": 0
      },
      "text/plain": [
       "  0%|          | 0/1000 [00:00<?, ?it/s]"
      ]
     },
     "metadata": {},
     "output_type": "display_data"
    },
    {
     "data": {
      "application/vnd.jupyter.widget-view+json": {
       "model_id": "797e0b4b3124420f9287e6a260d798b3",
       "version_major": 2,
       "version_minor": 0
      },
      "text/plain": [
       "  0%|          | 0/1000 [00:00<?, ?it/s]"
      ]
     },
     "metadata": {},
     "output_type": "display_data"
    },
    {
     "name": "stdout",
     "output_type": "stream",
     "text": [
      "\n",
      "                 mean       std    median      5.0%     95.0%     n_eff     r_hat\n",
      "         H0     74.35      1.71     74.30     71.49     77.11   2533.51      1.00\n",
      "        M_W     -5.90      0.02     -5.90     -5.93     -5.87   2050.34      1.00\n",
      "        Z_W     -0.19      0.05     -0.19     -0.28     -0.11   4667.42      1.00\n",
      "        b_W     -3.28      0.01     -3.28     -3.30     -3.25   4759.86      1.00\n",
      "       beta      0.42      0.02      0.42      0.39      0.45   5417.84      1.00\n",
      "        dZP     -0.03      0.04     -0.03     -0.09      0.02   2764.38      1.00\n",
      "     mu_LMC     18.48      0.03     18.48     18.43     18.52   4514.31      1.00\n",
      "     mu_M31     24.38      0.07     24.38     24.26     24.49   5212.53      1.00\n",
      "   mu_N4258     29.39      0.02     29.39     29.35     29.43   3364.37      1.00\n",
      " mu_host[0]     29.19      0.04     29.19     29.12     29.25   3801.37      1.00\n",
      " mu_host[1]     32.93      0.11     32.93     32.76     33.10   5225.02      1.00\n",
      " mu_host[2]     32.75      0.09     32.75     32.59     32.89   4557.17      1.00\n",
      " mu_host[3]     32.56      0.07     32.56     32.45     32.68   4742.58      1.00\n",
      " mu_host[4]     32.51      0.06     32.51     32.42     32.61   4181.50      1.00\n",
      " mu_host[5]     31.39      0.06     31.39     31.29     31.48   4611.03      1.00\n",
      " mu_host[6]     31.29      0.04     31.29     31.23     31.35   3250.87      1.00\n",
      " mu_host[7]     31.49      0.06     31.49     31.39     31.58   4387.61      1.00\n",
      " mu_host[8]     31.45      0.07     31.45     31.34     31.56   5623.53      1.00\n",
      " mu_host[9]     32.07      0.09     32.07     31.91     32.22   5217.74      1.00\n",
      "mu_host[10]     32.73      0.12     32.73     32.53     32.92   3235.21      1.00\n",
      "mu_host[11]     32.44      0.13     32.44     32.22     32.64   3933.51      1.00\n",
      "mu_host[12]     33.18      0.12     33.19     32.99     33.38   4291.31      1.00\n",
      "mu_host[13]     32.33      0.07     32.33     32.21     32.45   4290.52      1.00\n",
      "mu_host[14]     32.12      0.05     32.12     32.04     32.21   3909.39      1.00\n",
      "mu_host[15]     31.94      0.04     31.94     31.88     32.00   3166.29      1.00\n",
      "mu_host[16]     32.82      0.07     32.82     32.69     32.94   4221.56      1.00\n",
      "mu_host[17]     31.63      0.08     31.63     31.50     31.77   5125.01      1.00\n",
      "mu_host[18]     31.72      0.07     31.72     31.60     31.84   5171.85      1.00\n",
      "mu_host[19]     31.63      0.11     31.63     31.44     31.81   4322.96      1.00\n",
      "mu_host[20]     30.89      0.13     30.89     30.67     31.08   5618.81      1.00\n",
      "mu_host[21]     30.84      0.05     30.84     30.76     30.92   4020.76      1.00\n",
      "mu_host[22]     31.81      0.08     31.81     31.68     31.93   4798.47      1.00\n",
      "mu_host[23]     32.72      0.15     32.73     32.48     32.96   4772.75      1.00\n",
      "mu_host[24]     33.11      0.07     33.11     33.00     33.23   4400.65      1.00\n",
      "mu_host[25]     31.78      0.05     31.78     31.70     31.87   3996.51      1.00\n",
      "mu_host[26]     30.55      0.05     30.55     30.47     30.63   4273.27      1.00\n",
      "mu_host[27]     33.09      0.14     33.10     32.85     33.30   5183.50      1.00\n",
      "mu_host[28]     32.24      0.10     32.24     32.09     32.41   4641.42      1.00\n",
      "mu_host[29]     32.36      0.11     32.36     32.19     32.54   4822.65      1.00\n",
      "mu_host[30]     31.54      0.11     31.54     31.36     31.71   3955.72      1.00\n",
      "mu_host[31]     33.20      0.10     33.21     33.04     33.37   4189.02      1.00\n",
      "mu_host[32]     32.53      0.10     32.53     32.37     32.70   5083.93      1.00\n",
      "mu_host[33]     33.16      0.11     33.16     33.00     33.34   4524.05      1.00\n",
      "mu_host[34]     32.82      0.06     32.82     32.72     32.93   3929.66      1.00\n",
      "    sigma_v    210.24     32.17    207.17    160.02    261.16   3557.14      1.00\n",
      "   Vext_ell    296.98     85.18    321.83    267.91    359.91   4073.38      1.00\n",
      "     Vext_b    -31.54     14.13    -31.11    -54.55     -8.82   3624.98      1.00\n",
      "   Vext_mag    247.88     79.59    246.78    120.23    381.42   2212.17      1.00\n",
      "\n",
      "2025-08-23 10:54:25 output directory is /Users/rstiskalek/Projects/CANDEL/results/CH0.\n",
      "2025-08-23 10:54:25 saved samples to /Users/rstiskalek/Projects/CANDEL/results/CH0/test.hdf5\n",
      "2025-08-23 10:54:26 saving a corner plot to /Users/rstiskalek/Projects/CANDEL/results/CH0/test.png\n"
     ]
    }
   ],
   "source": [
    "samples = candel.run_SH0ES_inference(model, )"
   ]
  },
  {
   "cell_type": "code",
   "execution_count": null,
   "id": "e1baea68",
   "metadata": {},
   "outputs": [],
   "source": [
    "72.1 +- 1.55"
   ]
  },
  {
   "cell_type": "code",
   "execution_count": 4,
   "id": "e090f466",
   "metadata": {},
   "outputs": [
    {
     "data": {
      "image/png": "[encoded data removed]",
      "text/plain": [
       "<Figure size 500x370 with 1 Axes>"
      ]
     },
     "metadata": {},
     "output_type": "display_data"
    }
   ],
   "source": [
    "fig, ax = plt.subplots(figsize=(5, 3.7),)\n",
    "\n",
    "# Histogram of H0 samples (normalize to max height = 1)\n",
    "counts, bins, _ = ax.hist(\n",
    "    samples[\"H0\"], bins=\"auto\", density=True, alpha=0.9, color=\"0.3\",\n",
    "    label=r\"$H_0$ samples\"\n",
    ")\n",
    "max_density = counts.max()\n",
    "\n",
    "# Define a range for the Gaussians\n",
    "H0_vals = np.linspace(60, 80, 1000)\n",
    "\n",
    "# SH0ES (e.g. Riess+2021), normalized to match\n",
    "H0_SH0ES = 73.04\n",
    "H0_SH0ES_err = 1.04\n",
    "shoes_pdf = norm.pdf(H0_vals, loc=H0_SH0ES, scale=H0_SH0ES_err)\n",
    "# shoes_pdf /= shoes_pdf.max()  # normalize peak to 1\n",
    "# shoes_pdf *= max_density      # scale to match sample histogram\n",
    "ax.plot(H0_vals, shoes_pdf, color=\"tab:red\", label=\"SH0ES\")\n",
    "\n",
    "# Planck (e.g. Planck 2018), normalized to match\n",
    "H0_Planck = 67.4\n",
    "H0_Planck_err = 0.5\n",
    "planck_pdf = norm.pdf(H0_vals, loc=H0_Planck, scale=H0_Planck_err)\n",
    "# planck_pdf /= planck_pdf.max()\n",
    "# planck_pdf *= max_density\n",
    "ax.plot(H0_vals, planck_pdf, color=\"tab:blue\", label=\"Planck\")\n",
    "\n",
    "ax.set_xlabel(r\"$H_0~[\\mathrm{km/s/Mpc}]$\")\n",
    "ax.set_ylabel(\"Normalized density\")\n",
    "ax.legend()\n",
    "\n",
    "plt.tight_layout()\n",
    "fig.savefig(\"/Users/rstiskalek/Downloads/H0_samples.png\", bbox_inches=\"tight\", dpi=450)\n",
    "plt.show()"
   ]
  },
  {
   "cell_type": "code",
   "execution_count": 14,
   "id": "e37cd90f",
   "metadata": {},
   "outputs": [
    {
     "name": "stdout",
     "output_type": "stream",
     "text": [
      "p-value 0.011, corresponding to 2.5368 sigmas\n"
     ]
    }
   ],
   "source": [
    "from scipy.stats import norm\n",
    "import posterior_agreement\n",
    "\n",
    "\n",
    "H0 = norm(69.1, 1.2).rvs(50_000)\n",
    "# H0_test = norm(67.4, 0.5).rvs(50000)\n",
    "H0_test = norm(73.04, 1.04).rvs(50000)\n",
    "\n",
    "\n",
    "\n",
    "chains = (H0, H0_test)\n",
    "agreement_1d = posterior_agreement.compute_agreement(chains)\n",
    "\n",
    "print(\"p-value %.3f, corresponding to %.4f sigmas\"%(agreement_1d.PTE, agreement_1d.sigma))"
   ]
  },
  {
   "cell_type": "code",
   "execution_count": null,
   "id": "70df6106",
   "metadata": {},
   "outputs": [],
   "source": []
  }
 ],
 "metadata": {
  "kernelspec": {
   "display_name": "venv_candel (3.12.10)",
   "language": "python",
   "name": "python3"
  },
  "language_info": {
   "codemirror_mode": {
    "name": "ipython",
    "version": 3
   },
   "file_extension": ".py",
   "mimetype": "text/x-python",
   "name": "python",
   "nbconvert_exporter": "python",
   "pygments_lexer": "ipython3",
   "version": "3.12.10"
  }
 },
 "nbformat": 4,
 "nbformat_minor": 5
}
