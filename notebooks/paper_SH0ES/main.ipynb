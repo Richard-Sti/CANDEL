{
 "cells": [
  {
   "cell_type": "code",
   "execution_count": 8,
   "id": "94e19d41",
   "metadata": {},
   "outputs": [
    {
     "name": "stdout",
     "output_type": "stream",
     "text": [
      "The autoreload extension is already loaded. To reload it, use:\n",
      "  %reload_ext autoreload\n"
     ]
    },
    {
     "name": "stderr",
     "output_type": "stream",
     "text": [
      "<unknown>:286: SyntaxWarning: invalid escape sequence '\\m'\n",
      "<unknown>:286: SyntaxWarning: invalid escape sequence '\\m'\n"
     ]
    }
   ],
   "source": [
    "import sys\n",
    "sys.path.insert(0, \"/Users/rstiskalek/Projects/candel\")\n",
    "\n",
    "import numpyro\n",
    "numpyro.set_host_device_count(10)\n",
    "\n",
    "import numpy as np\n",
    "import matplotlib.pyplot as plt\n",
    "import scienceplots\n",
    "\n",
    "from scipy.stats import norm\n",
    "import candel\n",
    "from candel import SPEED_OF_LIGHT\n",
    "\n",
    "%matplotlib inline\n",
    "%load_ext autoreload\n",
    "%autoreload 2"
   ]
  },
  {
   "cell_type": "code",
   "execution_count": 12,
   "id": "1bbe944d",
   "metadata": {},
   "outputs": [
    {
     "name": "stdout",
     "output_type": "stream",
     "text": [
      "2025-06-16 17:27:13 warning: zero width found in the priors. Setting it to 1e-5.\n",
      "2025-06-16 17:27:13 indices of zero width: [44]\n",
      "2025-06-16 17:27:13 found zero-width prior at index 44. Setting it to 0.\n",
      "2025-06-16 17:27:13 replacing prior of `M_B` with a delta function.\n",
      "2025-06-16 17:27:13 Converting host RA/dec to Cartesian coordinates.\n",
      "2025-06-16 17:27:13 set the following attributes: OH, logP, mag_cepheid, C_Cepheid, L_Cepheid, L_Cepheid_host_dist, L_SN_Cepheid_dist, L_SN_dist, C_SN_Cepheid, Y_SN_Cepheid, L_SN_Cepheid, mu_N4258_anchor, e_mu_N4258_anchor, e2_mu_N4258_anchor, mu_LMC_anchor, e_mu_LMC_anchor, e2_mu_LMC_anchor, Y_SN, C_SN, L_SN, Y_SN_HF, M_HST, e_M_HST, e2_M_HST, M_Gaia, e_M_Gaia, e2_M_Gaia, sigma_grnd, num_hosts, num_cepheids, num_flow_SN, czcmb_cepheid_host, e_czcmb_cepheid_host, e2_czcmb_cepheid_host, RA_host, dec_host, PV_covmat_cepheid_host, Cepheids_only, czcmb_SN_HF, e_czcmb_SN_HF, e2_czcmb_SN_HF, num_SN_HF, rhat_host\n",
      "2025-06-16 17:27:13 use_SNe_HF set to False\n",
      "2025-06-16 17:27:13 use_Cepheid_host_redshift set to True\n",
      "2025-06-16 17:27:13 use_uniform_mu_host_priors set to False\n",
      "2025-06-16 17:27:13 use_fiducial_Cepheid_host_PV_covariance set to True\n",
      "2025-06-16 17:27:13 use_PV_covmat_scaling set to True\n"
     ]
    }
   ],
   "source": [
    "config_path = \"/Users/rstiskalek/Projects/CANDEL/scripts/runs/config_shoes.toml\"\n",
    "data = candel.pvdata.load_SH0ES_from_config(config_path, )\n",
    "\n",
    "\n",
    "# m = data[\"czcmb_cepheid_host\"] < 2250\n",
    "# data[\"e_czcmb_cepheid_host\"][m] = 20_000\n",
    "\n",
    "model = candel.model.SH0ESModel(config_path, data)"
   ]
  },
  {
   "cell_type": "code",
   "execution_count": 13,
   "id": "1a662ea7",
   "metadata": {},
   "outputs": [
    {
     "name": "stdout",
     "output_type": "stream",
     "text": [
      "2025-06-16 17:27:14 running inference on devices: cpu(cpu), cpu(cpu), cpu(cpu), cpu(cpu), cpu(cpu), cpu(cpu), cpu(cpu), cpu(cpu), cpu(cpu), cpu(cpu)\n",
      "2025-06-16 17:27:14 using NumPyro platform: CPU\n"
     ]
    },
    {
     "data": {
      "application/vnd.jupyter.widget-view+json": {
       "model_id": "bda9b58603844ebeacf09f81248f6078",
       "version_major": 2,
       "version_minor": 0
      },
      "text/plain": [
       "  0%|          | 0/1100 [00:00<?, ?it/s]"
      ]
     },
     "metadata": {},
     "output_type": "display_data"
    },
    {
     "data": {
      "application/vnd.jupyter.widget-view+json": {
       "model_id": "805f8de38c004c91ac30723246ecac68",
       "version_major": 2,
       "version_minor": 0
      },
      "text/plain": [
       "  0%|          | 0/1100 [00:00<?, ?it/s]"
      ]
     },
     "metadata": {},
     "output_type": "display_data"
    },
    {
     "data": {
      "application/vnd.jupyter.widget-view+json": {
       "model_id": "4e6bcf8fc7764ebf839dc6e9a9cc5fc0",
       "version_major": 2,
       "version_minor": 0
      },
      "text/plain": [
       "  0%|          | 0/1100 [00:00<?, ?it/s]"
      ]
     },
     "metadata": {},
     "output_type": "display_data"
    },
    {
     "data": {
      "application/vnd.jupyter.widget-view+json": {
       "model_id": "4aec2162e10747b798ee2173bf9e7158",
       "version_major": 2,
       "version_minor": 0
      },
      "text/plain": [
       "  0%|          | 0/1100 [00:00<?, ?it/s]"
      ]
     },
     "metadata": {},
     "output_type": "display_data"
    },
    {
     "data": {
      "application/vnd.jupyter.widget-view+json": {
       "model_id": "532ba68b69c74807b7adda188540a5be",
       "version_major": 2,
       "version_minor": 0
      },
      "text/plain": [
       "  0%|          | 0/1100 [00:00<?, ?it/s]"
      ]
     },
     "metadata": {},
     "output_type": "display_data"
    },
    {
     "data": {
      "application/vnd.jupyter.widget-view+json": {
       "model_id": "f77c55d3dc794ac8833a4e85d86c86ef",
       "version_major": 2,
       "version_minor": 0
      },
      "text/plain": [
       "  0%|          | 0/1100 [00:00<?, ?it/s]"
      ]
     },
     "metadata": {},
     "output_type": "display_data"
    },
    {
     "data": {
      "application/vnd.jupyter.widget-view+json": {
       "model_id": "6ac536f9deee4c69b44bd499f920ffe6",
       "version_major": 2,
       "version_minor": 0
      },
      "text/plain": [
       "  0%|          | 0/1100 [00:00<?, ?it/s]"
      ]
     },
     "metadata": {},
     "output_type": "display_data"
    },
    {
     "data": {
      "application/vnd.jupyter.widget-view+json": {
       "model_id": "c30cb4a5dff047cf9924661c540f89f5",
       "version_major": 2,
       "version_minor": 0
      },
      "text/plain": [
       "  0%|          | 0/1100 [00:00<?, ?it/s]"
      ]
     },
     "metadata": {},
     "output_type": "display_data"
    },
    {
     "data": {
      "application/vnd.jupyter.widget-view+json": {
       "model_id": "8443450d8a51482c8cc504869beafbb3",
       "version_major": 2,
       "version_minor": 0
      },
      "text/plain": [
       "  0%|          | 0/1100 [00:00<?, ?it/s]"
      ]
     },
     "metadata": {},
     "output_type": "display_data"
    },
    {
     "data": {
      "application/vnd.jupyter.widget-view+json": {
       "model_id": "a3b8c698ac8e4d48bc3e0866e7dc99b7",
       "version_major": 2,
       "version_minor": 0
      },
      "text/plain": [
       "  0%|          | 0/1100 [00:00<?, ?it/s]"
      ]
     },
     "metadata": {},
     "output_type": "display_data"
    },
    {
     "name": "stdout",
     "output_type": "stream",
     "text": [
      "\n",
      "                 mean       std    median      5.0%     95.0%     n_eff     r_hat\n",
      "   A_covmat      2.08      0.64      2.00      1.03      3.01   2076.76      1.00\n",
      "         H0     67.46      1.95     67.45     64.28     70.69   7311.61      1.00\n",
      "        M_W     -5.92      0.02     -5.92     -5.95     -5.89   4951.24      1.00\n",
      "        Z_W     -0.19      0.05     -0.19     -0.27     -0.09   3609.11      1.00\n",
      "        b_W     -3.29      0.01     -3.29     -3.31     -3.26  11333.97      1.00\n",
      "        dZP     -0.01      0.04     -0.01     -0.07      0.05   4169.22      1.00\n",
      "     mu_LMC     18.48      0.03     18.48     18.44     18.52   6025.45      1.00\n",
      "     mu_M31     24.40      0.07     24.40     24.29     24.52   8167.38      1.00\n",
      "   mu_N4258     29.41      0.02     29.41     29.37     29.44   6617.61      1.00\n",
      " mu_host[0]     29.21      0.04     29.21     29.15     29.29   8461.74      1.00\n",
      " mu_host[1]     32.99      0.11     32.99     32.81     33.18  13804.72      1.00\n",
      " mu_host[2]     32.87      0.10     32.87     32.70     33.03  14701.76      1.00\n",
      " mu_host[3]     32.61      0.07     32.61     32.49     32.73  11343.14      1.00\n",
      " mu_host[4]     34.40      0.13     34.40     34.20     34.61   8453.28      1.00\n",
      " mu_host[5]     32.56      0.06     32.56     32.46     32.66   8265.92      1.00\n",
      " mu_host[6]     31.42      0.06     31.42     31.32     31.51   7356.39      1.00\n",
      " mu_host[7]     31.31      0.04     31.31     31.25     31.38   7169.81      1.00\n",
      " mu_host[8]     31.52      0.06     31.52     31.43     31.63  10215.16      1.00\n",
      " mu_host[9]     31.49      0.07     31.49     31.39     31.60  10671.57      1.00\n",
      "mu_host[10]     32.10      0.09     32.10     31.95     32.26  13968.85      1.00\n",
      "mu_host[11]     32.72      0.14     32.72     32.51     32.95  13752.62      1.00\n",
      "mu_host[12]     32.46      0.14     32.46     32.24     32.69  15979.96      1.00\n",
      "mu_host[13]     33.17      0.13     33.17     32.95     33.39  11452.48      1.00\n",
      "mu_host[14]     32.35      0.08     32.35     32.23     32.47   8760.72      1.00\n",
      "mu_host[15]     32.15      0.05     32.15     32.06     32.23   8626.69      1.00\n",
      "mu_host[16]     31.96      0.04     31.96     31.90     32.03   6472.45      1.00\n",
      "mu_host[17]     32.84      0.08     32.84     32.71     32.96  10808.25      1.00\n",
      "mu_host[18]     31.66      0.09     31.66     31.53     31.81  10728.27      1.00\n",
      "mu_host[19]     31.75      0.07     31.75     31.63     31.87   7479.37      1.00\n",
      "mu_host[20]     31.71      0.11     31.72     31.52     31.90  11913.09      1.00\n",
      "mu_host[21]     30.86      0.12     30.86     30.66     31.05  10402.92      1.00\n",
      "mu_host[22]     30.87      0.05     30.87     30.79     30.95   9216.11      1.00\n",
      "mu_host[23]     31.84      0.08     31.84     31.71     31.98   9673.10      1.00\n",
      "mu_host[24]     32.81      0.16     32.81     32.55     33.08  13137.23      1.00\n",
      "mu_host[25]     33.15      0.07     33.15     33.04     33.27  10429.16      1.00\n",
      "mu_host[26]     31.81      0.05     31.81     31.72     31.90   9735.41      1.00\n",
      "mu_host[27]     30.59      0.05     30.59     30.50     30.67   9517.60      1.00\n",
      "mu_host[28]     33.22      0.15     33.23     32.99     33.47  12507.86      1.00\n",
      "mu_host[29]     32.28      0.09     32.28     32.13     32.44  12210.77      1.00\n",
      "mu_host[30]     32.39      0.11     32.39     32.21     32.57  11175.51      1.00\n",
      "mu_host[31]     31.58      0.12     31.58     31.37     31.77   8950.50      1.00\n",
      "mu_host[32]     33.32      0.10     33.32     33.15     33.49  12525.63      1.00\n",
      "mu_host[33]     32.57      0.11     32.56     32.39     32.75  12639.92      1.00\n",
      "mu_host[34]     33.27      0.13     33.27     33.06     33.47  13557.13      1.00\n",
      "mu_host[35]     33.81      0.11     33.81     33.63     34.00  11568.96      1.00\n",
      "mu_host[36]     32.85      0.07     32.86     32.74     32.97   7126.77      1.00\n",
      "\n",
      "2025-06-16 17:29:19 output directory is /Users/rstiskalek/Projects/CANDEL/results/SH0ES.\n",
      "2025-06-16 17:29:19 saved samples to /Users/rstiskalek/Projects/CANDEL/results/SH0ES/test.hdf5\n",
      "2025-06-16 17:29:19 saving a corner plot to /Users/rstiskalek/Projects/CANDEL/results/SH0ES/test.png\n"
     ]
    }
   ],
   "source": [
    "samples = candel.run_SH0ES_inference(model, )"
   ]
  },
  {
   "cell_type": "code",
   "execution_count": 14,
   "id": "ff5158de",
   "metadata": {},
   "outputs": [
    {
     "data": {
      "image/png": "[encoded data removed]",
      "text/plain": [
       "<Figure size 640x480 with 1 Axes>"
      ]
     },
     "metadata": {},
     "output_type": "display_data"
    }
   ],
   "source": [
    "plt.figure()\n",
    "plt.hist(samples[\"H0\"], bins=\"auto\")\n",
    "plt.show()"
   ]
  },
  {
   "cell_type": "code",
   "execution_count": null,
   "id": "93a71509",
   "metadata": {},
   "outputs": [],
   "source": []
  },
  {
   "cell_type": "code",
   "execution_count": 15,
   "id": "e090f466",
   "metadata": {},
   "outputs": [
    {
     "data": {
      "image/png": "[encoded data removed]",
      "text/plain": [
       "<Figure size 500x370 with 1 Axes>"
      ]
     },
     "metadata": {},
     "output_type": "display_data"
    }
   ],
   "source": [
    "with plt.style.context(\"science\"):\n",
    "    fig, ax = plt.subplots(figsize=(5, 3.7),)\n",
    "\n",
    "    # Histogram of H0 samples (normalize to max height = 1)\n",
    "    counts, bins, _ = ax.hist(\n",
    "        samples[\"H0\"], bins=\"auto\", density=True, alpha=0.9, color=\"0.3\",\n",
    "        label=r\"$H_0$ samples\"\n",
    "    )\n",
    "    max_density = counts.max()\n",
    "\n",
    "    # Define a range for the Gaussians\n",
    "    H0_vals = np.linspace(60, 80, 1000)\n",
    "\n",
    "    # SH0ES (e.g. Riess+2021), normalized to match\n",
    "    H0_SH0ES = 73.04\n",
    "    H0_SH0ES_err = 1.04\n",
    "    shoes_pdf = norm.pdf(H0_vals, loc=H0_SH0ES, scale=H0_SH0ES_err)\n",
    "    shoes_pdf /= shoes_pdf.max()  # normalize peak to 1\n",
    "    shoes_pdf *= max_density      # scale to match sample histogram\n",
    "    ax.plot(H0_vals, shoes_pdf, color=\"tab:red\", label=\"SH0ES\")\n",
    "\n",
    "    # Planck (e.g. Planck 2018), normalized to match\n",
    "    H0_Planck = 67.4\n",
    "    H0_Planck_err = 0.5\n",
    "    planck_pdf = norm.pdf(H0_vals, loc=H0_Planck, scale=H0_Planck_err)\n",
    "    planck_pdf /= planck_pdf.max()\n",
    "    planck_pdf *= max_density\n",
    "    ax.plot(H0_vals, planck_pdf, color=\"tab:blue\", label=\"Planck\")\n",
    "\n",
    "    ax.set_xlabel(r\"$H_0~[\\mathrm{km/s/Mpc}]$\")\n",
    "    ax.set_ylabel(\"Normalized density\")\n",
    "    ax.legend()\n",
    "\n",
    "    plt.tight_layout()\n",
    "    fig.savefig(\"/Users/rstiskalek/Downloads/H0_samples.png\", bbox_inches=\"tight\")\n",
    "    plt.show()"
   ]
  },
  {
   "cell_type": "code",
   "execution_count": 7,
   "id": "e37cd90f",
   "metadata": {},
   "outputs": [
    {
     "name": "stdout",
     "output_type": "stream",
     "text": [
      "p-value 0.001, corresponding to 3.3772 sigmas\n"
     ]
    }
   ],
   "source": [
    "from scipy.stats import norm\n",
    "import posterior_agreement\n",
    "\n",
    "H0_SH0ES = samples[\"H0\"]\n",
    "H0_planck = norm(67.4, 0.5).rvs(50000)\n",
    "# H0_planck = norm(73.04, 1.04).rvs(50000)\n",
    "\n",
    "\n",
    "\n",
    "chains = (H0_SH0ES, H0_planck)\n",
    "agreement_1d = posterior_agreement.compute_agreement(chains)\n",
    "\n",
    "print(\"p-value %.3f, corresponding to %.4f sigmas\"%(agreement_1d.PTE, agreement_1d.sigma))"
   ]
  },
  {
   "cell_type": "code",
   "execution_count": 50,
   "id": "fe6f3ed7",
   "metadata": {},
   "outputs": [],
   "source": [
    "from h5py import File\n",
    "\n",
    "with File(\"/Users/rstiskalek/Projects/CANDEL/results/SH0ES/Cepheid_distances_no_redshift.hdf5\", 'r') as f:\n",
    "    samples = {key: f[\"samples\"][key][...] for key in f[\"samples\"].keys()}\n",
    "\n",
    "\n",
    "mu = np.mean(samples[\"mu_host\"], axis=0)\n",
    "mu_cov = np.cov(samples[\"mu_host\"], rowvar=False)\n",
    "z_cmb = data[\"czcmb_cepheid_host\"] / SPEED_OF_LIGHT"
   ]
  },
  {
   "cell_type": "code",
   "execution_count": 43,
   "id": "37c2f1d5",
   "metadata": {},
   "outputs": [],
   "source": [
    "import jax.numpy as jnp\n",
    "from jax import random\n",
    "\n",
    "import numpyro\n",
    "from numpyro import sample, plate, factor\n",
    "import numpyro.distributions as dist\n",
    "from numpyro.infer import MCMC, NUTS, init_to_sample\n",
    "from numpyro.infer import Predictive\n",
    "\n",
    "from candel import SPEED_OF_LIGHT, plot_corner"
   ]
  },
  {
   "cell_type": "code",
   "execution_count": null,
   "id": "cee35ee9",
   "metadata": {},
   "outputs": [],
   "source": [
    "def model(z_cmb, mu, mu_covmat,):\n",
    "    H0 = sample(\"H0\", dist.Uniform(10., 100.0))\n",
    "\n",
    "    q0 = -0.55\n",
    "    D = SPEED_OF_LIGHT * z_cmb / H0 * (1 - (1 + q0 / 2) * z_cmb)\n",
    "\n",
    "    mu_pred = 5 * jnp.log10(D) + 25\n",
    "\n",
    "    sample(\"mu\", dist.MultivariateNormal(mu_pred, mu_covmat), obs=mu)"
   ]
  },
  {
   "cell_type": "code",
   "execution_count": 55,
   "id": "1a140b9e",
   "metadata": {},
   "outputs": [
    {
     "name": "stderr",
     "output_type": "stream",
     "text": [
      "sample: 100%|██████████| 50500/50500 [00:05<00:00, 8933.96it/s, 1 steps of size 9.66e-01. acc. prob=0.94]"
     ]
    },
    {
     "name": "stdout",
     "output_type": "stream",
     "text": [
      "\n",
      "                mean       std    median      5.0%     95.0%     n_eff     r_hat\n",
      "        H0     62.98      0.73     62.98     61.80     64.19  22228.98      1.00\n",
      "\n",
      "Number of divergences: 0\n"
     ]
    },
    {
     "name": "stderr",
     "output_type": "stream",
     "text": [
      "\n"
     ]
    }
   ],
   "source": [
    "kernel = NUTS(model, init_strategy=init_to_sample())\n",
    "\n",
    "# Set up and run MCMC\n",
    "mcmc = MCMC(kernel, num_warmup=500, num_samples=50000, num_chains=1)\n",
    "mcmc.run(random.PRNGKey(0),\n",
    "         z_cmb=z_cmb,\n",
    "         mu=mu,\n",
    "         mu_covmat=mu_cov,)\n",
    "\n",
    "mcmc.print_summary()\n",
    "samples = mcmc.get_samples()"
   ]
  },
  {
   "cell_type": "code",
   "execution_count": null,
   "id": "b7f71ab1",
   "metadata": {},
   "outputs": [],
   "source": []
  }
 ],
 "metadata": {
  "kernelspec": {
   "display_name": "venv_candel",
   "language": "python",
   "name": "python3"
  },
  "language_info": {
   "codemirror_mode": {
    "name": "ipython",
    "version": 3
   },
   "file_extension": ".py",
   "mimetype": "text/x-python",
   "name": "python",
   "nbconvert_exporter": "python",
   "pygments_lexer": "ipython3",
   "version": "3.12.10"
  }
 },
 "nbformat": 4,
 "nbformat_minor": 5
}
