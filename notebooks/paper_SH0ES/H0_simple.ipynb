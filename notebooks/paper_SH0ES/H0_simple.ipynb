{
 "cells": [
  {
   "cell_type": "code",
   "execution_count": 1,
   "id": "858d2079",
   "metadata": {},
   "outputs": [],
   "source": [
    "import numpyro\n",
    "numpyro.set_host_device_count(5)\n",
    "\n",
    "import numpy as np\n",
    "from scipy.linalg import cholesky\n",
    "\n",
    "import jax.numpy as jnp\n",
    "from jax import random\n",
    "from jax.scipy.linalg import solve_triangular\n",
    "import numpyro.distributions as dist\n",
    "from numpyro import factor, plate, sample\n",
    "from numpyro.infer import MCMC, NUTS, init_to_median\n",
    "import numpy as np\n",
    "from jax import numpy as jnp\n",
    "\n",
    "import joblib\n",
    "import candel\n",
    "\n",
    "import matplotlib.pyplot as plt\n",
    "%matplotlib inline\n",
    "\n",
    "data = joblib.load(\"/Users/rstiskalek/Downloads/data.joblib\")\n",
    "SPEED_OF_LIGHT = 299_792.458  # km / s\n",
    "\n",
    "\n",
    "def mvn_logpdf_cholesky(y, mu, L):\n",
    "    \"\"\"\n",
    "    Log-pdf of a multivariate normal using Cholesky factor L (lower\n",
    "    triangular).\n",
    "    \"\"\"\n",
    "    z = solve_triangular(L, y - mu, lower=True)\n",
    "    log_det = jnp.sum(jnp.log(jnp.diag(L)))\n",
    "    return -0.5 * (len(y) * jnp.log(2 * jnp.pi) + 2 * log_det + jnp.dot(z, z))\n",
    "\n",
    "\n",
    "L_cepheid = cholesky(data[\"C_Cepheid\"], lower=True)\n",
    "L_SN = cholesky(data[\"C_SN_unique_Cepheid_host\"], lower=True)\n"
   ]
  },
  {
   "cell_type": "code",
   "execution_count": 6,
   "id": "f14a06c4",
   "metadata": {},
   "outputs": [],
   "source": [
    "def r2mu(r):\n",
    "    return 5 * jnp.log10(r) + 25\n",
    "\n",
    "def r2cz(r, H0):\n",
    "    return r * H0\n",
    "\n",
    "def mu2r(mu):\n",
    "    return 10**((mu - 25) / 5)\n",
    "\n",
    "def drdmu(mu):\n",
    "    return 1 / 5 * np.log(10) * 10**((mu - 25) / 5)\n",
    "\n",
    "r2mu_candel = candel.Distance2Distmod()\n",
    "r2z_candel = candel.Distance2Redshift()\n",
    "mu2r_candel = candel.Distmod2Distance()\n",
    "log_drdmu_candel = candel.LogGrad_Distmod2ComovingDistance()\n",
    "\n",
    "\n",
    "\n",
    "def model(num_hosts, num_cepheids, mag_cepheid, e_mag_cepheid, L_cepheid,\n",
    "          logP, OH, L_Cepheid_host_dist, cz_host, e_cz_host, mag_SN, e_mag_SN,\n",
    "          L_SN, mu_N4258_anchor, e_mu_N4258_anchor, mu_LMC_anchor,\n",
    "          e_mu_LMC_anchor, version, use_cepheid_covariance, use_SN_covariance,\n",
    "          sample_dZP):\n",
    "    # Sample model parameters.\n",
    "    H0 = sample(\"H0\", dist.Uniform(10, 100))\n",
    "    h = H0 / 100\n",
    "\n",
    "    M_W = sample(\"M_W\", dist.Uniform(-7, -5))\n",
    "    b_W = sample(\"b_W\", dist.Uniform(-4, -2))\n",
    "    Z_W = sample(\"Z_W\", dist.Uniform(-1, 1))\n",
    "\n",
    "    M_B = sample(\"M_B\", dist.Uniform(-20, -18))\n",
    "    \n",
    "    if sample_dZP:\n",
    "        dZP = sample(\"dZP\", dist.Normal(0, 0.1))\n",
    "    else:\n",
    "        dZP = 0\n",
    "\n",
    "    sigma_v = sample(\"sigma_v\", dist.Uniform(5, 1000))\n",
    "\n",
    "    # MW calibration\n",
    "    sample(\"M_W_Combined\", dist.Normal(M_W, 0.0239), obs=-5.8946)\n",
    "\n",
    "    if version == \"eleni\":\n",
    "        with plate(\"plate_host\", num_hosts + 3):\n",
    "            logr = sample(\"logr_host\", dist.Uniform(jnp.log(1e-8), jnp.log(200)))\n",
    "            factor(\"lp_r2\", 3 * logr)\n",
    "\n",
    "        r_host_all = jnp.exp(logr)\n",
    "        z_cos_all = H0 * r_host_all / SPEED_OF_LIGHT\n",
    "        DL = r_host_all * (1 + z_cos_all)\n",
    "        mu_host_all = 5 * jnp.log10(DL) + 25\n",
    "\n",
    "        cz_pred = H0 * r_host_all[:-3]\n",
    "    elif version == \"distmod_approx\":\n",
    "        with plate(\"plate_host\", num_hosts + 3):\n",
    "            mu_host_all = sample(\"mu_host\", dist.Uniform(10, 43))\n",
    "        r_host_all = 10**((mu_host_all - 25) / 5)\n",
    "        factor(\"lp_r2\", 3 * jnp.log(r_host_all))\n",
    "\n",
    "        cz_pred = H0 * r_host_all[:-3]\n",
    "    elif version == \"distmod_exact\":\n",
    "        with plate(\"plate_host\", num_hosts + 3):\n",
    "            mu_host_all = sample(\"mu_host\", dist.Uniform(10, 43))\n",
    "\n",
    "        r_host_all = mu2r_candel(mu_host_all, h)\n",
    "        factor(\n",
    "            \"lp_r2\",\n",
    "            2 * jnp.log(r_host_all) + log_drdmu_candel(mu_host_all, h=h))\n",
    "        cz_pred = r2z_candel(r_host_all[:-3], h=h) * SPEED_OF_LIGHT\n",
    "    else:\n",
    "        raise ValueError(\"Unknown version\")\n",
    "\n",
    "    mu_N4258 = mu_host_all[-3]\n",
    "    mu_LMC = mu_host_all[-2]\n",
    "\n",
    "    # Distance calibration\n",
    "    sample(\"ll_N4258\", dist.Normal(mu_N4258, e_mu_N4258_anchor), obs=mu_N4258_anchor)\n",
    "    sample(\"ll_LMC\", dist.Normal(mu_LMC, e_mu_LMC_anchor), obs=mu_LMC_anchor)\n",
    "\n",
    "    mu_host_all_for_cepheid = jnp.copy(mu_host_all)\n",
    "    mu_host_all_for_cepheid = mu_host_all_for_cepheid.at[-2].add(dZP)\n",
    "\n",
    "    mu_cepheid = L_Cepheid_host_dist @ mu_host_all_for_cepheid\n",
    "    pred_mag_cepheid = mu_cepheid + M_W + b_W * logP + Z_W * OH\n",
    "\n",
    "    if use_cepheid_covariance:\n",
    "        factor(\"ll_cepheid\", mvn_logpdf_cholesky(mag_cepheid, pred_mag_cepheid, L_cepheid))\n",
    "    else:\n",
    "        with plate(\"plate_ll_Cepheid\", num_cepheids):\n",
    "            sample(\"ll_cepheid\",\n",
    "                   dist.Normal(pred_mag_cepheid, e_mag_cepheid),\n",
    "                   obs=mag_cepheid)\n",
    "\n",
    "    mu_host = mu_host_all[:-3]\n",
    "\n",
    "    with plate(\"plate_ll_host\", num_hosts):\n",
    "        sample(\n",
    "            \"ll_host\",\n",
    "            dist.Normal(cz_pred, jnp.sqrt(e_cz_host**2 + sigma_v**2)),\n",
    "            obs=cz_host)\n",
    "\n",
    "    mag_SN_pred = M_B + mu_host\n",
    "    if use_SN_covariance:\n",
    "        factor(\"ll_SN\", mvn_logpdf_cholesky(mag_SN, mag_SN_pred, L_SN))\n",
    "    else:\n",
    "        with plate(\"plate_ll_SN\", num_hosts):\n",
    "            sample(\n",
    "                \"ll_SN\",\n",
    "                dist.Normal(mag_SN_pred, e_mag_SN),\n",
    "                obs=mag_SN)\n",
    "\n",
    "    logS = -1.38 * M_B\n",
    "    factor(\"logS\", - num_hosts * logS)"
   ]
  },
  {
   "cell_type": "code",
   "execution_count": 8,
   "id": "5ccf615e",
   "metadata": {},
   "outputs": [
    {
     "data": {
      "application/vnd.jupyter.widget-view+json": {
       "model_id": "fe33c47a603442d8abd0fc8c1a0c309d",
       "version_major": 2,
       "version_minor": 0
      },
      "text/plain": [
       "  0%|          | 0/1500 [00:00<?, ?it/s]"
      ]
     },
     "metadata": {},
     "output_type": "display_data"
    },
    {
     "data": {
      "application/vnd.jupyter.widget-view+json": {
       "model_id": "fff1c3bb572e4dbfa22aede2d662be71",
       "version_major": 2,
       "version_minor": 0
      },
      "text/plain": [
       "  0%|          | 0/1500 [00:00<?, ?it/s]"
      ]
     },
     "metadata": {},
     "output_type": "display_data"
    },
    {
     "data": {
      "application/vnd.jupyter.widget-view+json": {
       "model_id": "d07540c533f54280add8210a0f3db8d8",
       "version_major": 2,
       "version_minor": 0
      },
      "text/plain": [
       "  0%|          | 0/1500 [00:00<?, ?it/s]"
      ]
     },
     "metadata": {},
     "output_type": "display_data"
    },
    {
     "data": {
      "application/vnd.jupyter.widget-view+json": {
       "model_id": "1c50966e54ce464e907cc5fb1db5818d",
       "version_major": 2,
       "version_minor": 0
      },
      "text/plain": [
       "  0%|          | 0/1500 [00:00<?, ?it/s]"
      ]
     },
     "metadata": {},
     "output_type": "display_data"
    },
    {
     "data": {
      "application/vnd.jupyter.widget-view+json": {
       "model_id": "bfc4085e3dcc4631b08ccc5fd06ed299",
       "version_major": 2,
       "version_minor": 0
      },
      "text/plain": [
       "  0%|          | 0/1500 [00:00<?, ?it/s]"
      ]
     },
     "metadata": {},
     "output_type": "display_data"
    },
    {
     "name": "stdout",
     "output_type": "stream",
     "text": [
      "\n",
      "                 mean       std    median      5.0%     95.0%     n_eff     r_hat\n",
      "         H0     68.75      1.97     68.73     65.50     71.99   2985.12      1.00\n",
      "        M_B    -19.28      0.03    -19.28    -19.34    -19.23   1703.53      1.00\n",
      "        M_W     -5.90      0.02     -5.90     -5.93     -5.87   1709.62      1.00\n",
      "        Z_W     -0.19      0.05     -0.19     -0.28     -0.11   3225.60      1.00\n",
      "        b_W     -3.28      0.02     -3.28     -3.31     -3.26   4111.42      1.00\n",
      "        dZP     -0.03      0.04     -0.03     -0.09      0.03   2521.35      1.00\n",
      " mu_host[0]     29.17      0.04     29.17     29.11     29.25   3284.84      1.00\n",
      " mu_host[1]     32.94      0.08     32.94     32.80     33.08   4877.46      1.00\n",
      " mu_host[2]     32.85      0.08     32.85     32.72     33.00   4811.01      1.00\n",
      " mu_host[3]     32.56      0.07     32.56     32.45     32.68   4710.58      1.00\n",
      " mu_host[4]     32.53      0.05     32.53     32.44     32.62   3763.50      1.00\n",
      " mu_host[5]     31.37      0.05     31.37     31.28     31.46   4164.40      1.00\n",
      " mu_host[6]     31.29      0.04     31.29     31.22     31.34   2779.58      1.00\n",
      " mu_host[7]     31.48      0.05     31.48     31.38     31.56   3564.49      1.00\n",
      " mu_host[8]     31.46      0.06     31.46     31.36     31.56   4557.72      1.00\n",
      " mu_host[9]     32.01      0.07     32.01     31.89     32.12   4596.61      1.00\n",
      "mu_host[10]     32.67      0.11     32.68     32.50     32.85   4779.03      1.00\n",
      "mu_host[11]     32.39      0.09     32.39     32.23     32.54   4194.70      1.00\n",
      "mu_host[12]     33.09      0.10     33.09     32.93     33.26   4486.10      1.00\n",
      "mu_host[13]     32.37      0.06     32.37     32.27     32.47   3688.82      1.00\n",
      "mu_host[14]     32.15      0.05     32.15     32.07     32.22   3431.72      1.00\n",
      "mu_host[15]     31.94      0.04     31.94     31.88     32.00   2588.03      1.00\n",
      "mu_host[16]     32.79      0.06     32.79     32.68     32.90   4187.80      1.00\n",
      "mu_host[17]     31.70      0.07     31.71     31.60     31.81   4345.35      1.00\n",
      "mu_host[18]     31.66      0.06     31.66     31.56     31.75   3862.26      1.00\n",
      "mu_host[19]     31.66      0.09     31.66     31.51     31.79   4244.75      1.00\n",
      "mu_host[20]     30.82      0.11     30.82     30.65     31.00   6416.71      1.00\n",
      "mu_host[21]     30.84      0.05     30.84     30.76     30.92   3880.08      1.00\n",
      "mu_host[22]     31.79      0.07     31.79     31.67     31.91   4705.08      1.00\n",
      "mu_host[23]     32.67      0.14     32.67     32.44     32.90   5298.80      1.00\n",
      "mu_host[24]     33.12      0.07     33.12     33.01     33.22   4088.68      1.00\n",
      "mu_host[25]     31.81      0.05     31.81     31.73     31.90   3725.73      1.00\n",
      "mu_host[26]     30.53      0.05     30.53     30.45     30.61   3109.41      1.00\n",
      "mu_host[27]     33.02      0.13     33.03     32.81     33.24   5655.01      1.00\n",
      "mu_host[28]     32.23      0.09     32.23     32.10     32.38   4578.98      1.00\n",
      "mu_host[29]     32.37      0.08     32.37     32.24     32.50   4496.73      1.00\n",
      "mu_host[30]     31.58      0.10     31.58     31.41     31.75   5902.09      1.00\n",
      "mu_host[31]     33.30      0.07     33.30     33.19     33.42   4408.57      1.00\n",
      "mu_host[32]     32.57      0.09     32.58     32.43     32.72   4383.38      1.00\n",
      "mu_host[33]     33.28      0.08     33.28     33.16     33.41   4537.22      1.00\n",
      "mu_host[34]     32.82      0.06     32.82     32.72     32.91   3585.74      1.00\n",
      "mu_host[35]     29.39      0.02     29.39     29.35     29.43   2632.68      1.00\n",
      "mu_host[36]     18.48      0.03     18.48     18.44     18.52   6016.25      1.00\n",
      "mu_host[37]     24.38      0.07     24.38     24.27     24.49   5056.75      1.00\n",
      "    sigma_v    299.55     41.34    296.05    235.81    367.64   3916.79      1.00\n",
      "\n",
      "Number of divergences: 0\n"
     ]
    }
   ],
   "source": [
    "kernel = NUTS(model, init_strategy=init_to_median(num_samples=200))\n",
    "mcmc = MCMC(kernel, num_warmup=500, num_samples=1000, num_chains=5, progress_bar=True)\n",
    "mcmc.run(\n",
    "    random.PRNGKey(41),\n",
    "    num_hosts=data[\"num_hosts\"],\n",
    "    num_cepheids=data[\"num_cepheids\"],\n",
    "    mag_cepheid=jnp.asarray(data[\"mag_cepheid\"]),\n",
    "    e_mag_cepheid=jnp.sqrt(jnp.diag(data[\"C_Cepheid\"])),\n",
    "    L_cepheid=jnp.asarray(L_cepheid),\n",
    "    logP=jnp.asarray(data[\"logP\"]),\n",
    "    OH=jnp.asarray(data[\"OH\"]),\n",
    "    cz_host=jnp.asarray(data[\"czcmb_cepheid_host\"]),\n",
    "    e_cz_host=jnp.asarray(data[\"e_czcmb_cepheid_host\"]),\n",
    "    L_Cepheid_host_dist=jnp.asarray(data[\"L_Cepheid_host_dist\"]),\n",
    "    mag_SN=jnp.asarray(data[\"mag_SN_unique_Cepheid_host\"]),\n",
    "    e_mag_SN=jnp.sqrt(jnp.diag(data[\"C_SN_unique_Cepheid_host\"])),\n",
    "    L_SN=jnp.asarray(L_SN),\n",
    "    mu_N4258_anchor=data[\"mu_N4258_anchor\"],\n",
    "    e_mu_N4258_anchor=data[\"e_mu_N4258_anchor\"],\n",
    "    mu_LMC_anchor=data[\"mu_LMC_anchor\"],\n",
    "    e_mu_LMC_anchor=data[\"e_mu_LMC_anchor\"],\n",
    "    version=\"distmod_exact\",\n",
    "    use_cepheid_covariance=True,\n",
    "    use_SN_covariance=True,\n",
    "    # version=\"distmod_approx\"\n",
    "    # version=\"distmod_exact\"\n",
    "    sample_dZP=True,\n",
    ")\n",
    "\n",
    "mcmc.print_summary()\n",
    "samples = mcmc.get_samples()"
   ]
  },
  {
   "cell_type": "code",
   "execution_count": null,
   "id": "d5fdf364",
   "metadata": {},
   "outputs": [],
   "source": []
  }
 ],
 "metadata": {
  "kernelspec": {
   "display_name": "venv_candel (3.12.10)",
   "language": "python",
   "name": "python3"
  },
  "language_info": {
   "codemirror_mode": {
    "name": "ipython",
    "version": 3
   },
   "file_extension": ".py",
   "mimetype": "text/x-python",
   "name": "python",
   "nbconvert_exporter": "python",
   "pygments_lexer": "ipython3",
   "version": "3.12.10"
  }
 },
 "nbformat": 4,
 "nbformat_minor": 5
}
