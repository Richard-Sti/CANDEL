{
 "cells": [
  {
   "cell_type": "code",
   "execution_count": 1,
   "id": "858d2079",
   "metadata": {},
   "outputs": [],
   "source": [
    "import numpyro\n",
    "numpyro.set_host_device_count(5)\n",
    "\n",
    "import numpy as np\n",
    "\n",
    "import jax.numpy as jnp\n",
    "from jax import random\n",
    "import numpyro.distributions as dist\n",
    "from numpyro import factor, plate, sample\n",
    "from numpyro.infer import MCMC, NUTS, init_to_median\n",
    "import numpy as np\n",
    "from jax import numpy as jnp\n",
    "\n",
    "import joblib\n",
    "\n",
    "\n",
    "%matplotlib inline\n"
   ]
  },
  {
   "cell_type": "code",
   "execution_count": 2,
   "id": "2e5e03c6",
   "metadata": {},
   "outputs": [],
   "source": [
    "import candel"
   ]
  },
  {
   "cell_type": "code",
   "execution_count": 3,
   "id": "a8450ed4",
   "metadata": {},
   "outputs": [],
   "source": [
    "data = joblib.load(\"/Users/rstiskalek/Downloads/data.joblib\")\n",
    "SPEED_OF_LIGHT = 299_792.458  # km / s"
   ]
  },
  {
   "cell_type": "code",
   "execution_count": null,
   "id": "f14a06c4",
   "metadata": {},
   "outputs": [],
   "source": [
    "def r2mu(r):\n",
    "    return 5 * jnp.log10(r) + 25\n",
    "\n",
    "def r2cz(r, H0):\n",
    "    return r * H0\n",
    "\n",
    "def mu2r(mu):\n",
    "    return 10**((mu - 25) / 5)\n",
    "\n",
    "def drdmu(mu):\n",
    "    return 1 / 5 * np.log(10) * 10**((mu - 25) / 5)\n",
    "\n",
    "r2mu_candel = candel.Distance2Distmod()\n",
    "r2z_candel = candel.Distance2Redshift()\n",
    "mu2r_candel = candel.Distmod2Distance()\n",
    "log_drdmu_candel = candel.LogGrad_Distmod2ComovingDistance()\n",
    "\n",
    "\n",
    "\n",
    "def model(num_hosts, num_cepheids, mag_cepheid, e_mag_cepheid, logP, OH,\n",
    "          L_Cepheid_host_dist, cz_host, e_cz_host, mag_SN, e_mag_SN,\n",
    "          mu_N4258_anchor, e_mu_N4258_anchor,\n",
    "          mu_LMC_anchor, e_mu_LMC_anchor, version, sample_dZP):\n",
    "    # Sample model parameters.\n",
    "    H0 = sample(\"H0\", dist.Uniform(10, 100))\n",
    "    h = H0 / 100\n",
    "\n",
    "    M_W = sample(\"M_W\", dist.Uniform(-7, -5))\n",
    "    b_W = sample(\"b_W\", dist.Uniform(-4, -2))\n",
    "    Z_W = sample(\"Z_W\", dist.Uniform(-1, 1))\n",
    "\n",
    "    M_B = sample(\"M_B\", dist.Uniform(-20, -18))\n",
    "    \n",
    "    if sample_dZP:\n",
    "        dZP = sample(\"dZP\", dist.Normal(0, 0.1))\n",
    "    else:\n",
    "        dZP = 0\n",
    "\n",
    "    sigma_v = sample(\"sigma_v\", dist.Uniform(5, 1000))\n",
    "\n",
    "    # MW calibration\n",
    "    sample(\"M_W_Combined\", dist.Normal(M_W, 0.0239), obs=-5.8946)\n",
    "\n",
    "    if version == \"eleni\":\n",
    "        with plate(\"plate_host\", num_hosts + 3):\n",
    "                logr = sample(\"logr_host\", dist.Uniform(jnp.log(1e-8), jnp.log(200)))\n",
    "                factor(\"lp_r2\", 3 * logr)\n",
    "\n",
    "        r_host_all = jnp.exp(logr)\n",
    "        z_cos_all = H0 * r_host_all / SPEED_OF_LIGHT\n",
    "        DL = r_host_all * (1 + z_cos_all)\n",
    "        mu_host_all = 5 * jnp.log10(DL) + 25\n",
    "\n",
    "        cz_pred = H0 * r_host_all[:-3]\n",
    "    elif version == \"distmod_approx\":\n",
    "        with plate(\"plate_host\", num_hosts + 3):\n",
    "            mu_host_all = sample(\"mu_host\", dist.Uniform(10, 43))\n",
    "        r_host_all = 10**((mu_host_all - 25) / 5)\n",
    "        factor(\"lp_r2\", 3 * jnp.log(r_host_all))\n",
    "\n",
    "        cz_pred = H0 * r_host_all[:-3]\n",
    "    elif version == \"distmod_exact\":\n",
    "        with plate(\"plate_host\", num_hosts + 3):\n",
    "            mu_host_all = sample(\"mu_host\", dist.Uniform(10, 43))\n",
    "            \n",
    "        r_host_all = mu2r_candel(mu_host_all, h)\n",
    "        factor(\n",
    "            \"lp_r2\",\n",
    "            2 * jnp.log(r_host_all) + log_drdmu_candel(mu_host_all, h=h))\n",
    "        cz_pred = r2z_candel(r_host_all[:-3], h=h) * SPEED_OF_LIGHT\n",
    "    else:\n",
    "        raise ValueError(\"Unknown version\")\n",
    "\n",
    "    mu_N4258 = mu_host_all[-3]\n",
    "    mu_LMC = mu_host_all[-2]\n",
    "\n",
    "    # Distance calibration\n",
    "    sample(\"ll_N4258\", dist.Normal(mu_N4258, e_mu_N4258_anchor), obs=mu_N4258_anchor)\n",
    "    sample(\"ll_LMC\", dist.Normal(mu_LMC, e_mu_LMC_anchor), obs=mu_LMC_anchor)\n",
    "\n",
    "    mu_host_all_for_cepheid = jnp.copy(mu_host_all)\n",
    "    mu_host_all_for_cepheid = mu_host_all_for_cepheid.at[-2].add(dZP)\n",
    "\n",
    "    mu_cepheid = L_Cepheid_host_dist @ mu_host_all_for_cepheid\n",
    "    pred_mag_cepheid = mu_cepheid + M_W + b_W * logP + Z_W * OH\n",
    "\n",
    "    with plate(\"plate_ll_Cepheid\", num_cepheids):\n",
    "        sample(\"ll_cepheid\",\n",
    "               dist.Normal(pred_mag_cepheid, e_mag_cepheid),\n",
    "               obs=mag_cepheid)\n",
    "\n",
    "    mu_host = mu_host_all[:-3]\n",
    "\n",
    "    with plate(\"plate_ll_host\", num_hosts):\n",
    "        sample(\n",
    "            \"ll_host\",\n",
    "            dist.Normal(cz_pred, jnp.sqrt(e_cz_host**2 + sigma_v**2)),\n",
    "            obs=cz_host)\n",
    "\n",
    "    mag_SN_pred = M_B + mu_host\n",
    "    with plate(\"plate_ll_SN\", num_hosts):\n",
    "        sample(\n",
    "            \"ll_SN\",\n",
    "            dist.Normal(mag_SN_pred, e_mag_SN),\n",
    "            obs=mag_SN)\n",
    "\n",
    "    logS = -1.38 * M_B\n",
    "    factor(\"logS\", - num_hosts * logS)"
   ]
  },
  {
   "cell_type": "code",
   "execution_count": null,
   "id": "5ccf615e",
   "metadata": {},
   "outputs": [
    {
     "data": {
      "application/vnd.jupyter.widget-view+json": {
       "model_id": "6d18b92808614a8f911f00acd11752db",
       "version_major": 2,
       "version_minor": 0
      },
      "text/plain": [
       "  0%|          | 0/2500 [00:00<?, ?it/s]"
      ]
     },
     "metadata": {},
     "output_type": "display_data"
    },
    {
     "data": {
      "application/vnd.jupyter.widget-view+json": {
       "model_id": "9406283239fe47bd999607139f5a2eeb",
       "version_major": 2,
       "version_minor": 0
      },
      "text/plain": [
       "  0%|          | 0/2500 [00:00<?, ?it/s]"
      ]
     },
     "metadata": {},
     "output_type": "display_data"
    },
    {
     "data": {
      "application/vnd.jupyter.widget-view+json": {
       "model_id": "163c7bfde12049b488b8de1e7c48d782",
       "version_major": 2,
       "version_minor": 0
      },
      "text/plain": [
       "  0%|          | 0/2500 [00:00<?, ?it/s]"
      ]
     },
     "metadata": {},
     "output_type": "display_data"
    },
    {
     "data": {
      "application/vnd.jupyter.widget-view+json": {
       "model_id": "632de7e52b544ab2a108ea03c10788da",
       "version_major": 2,
       "version_minor": 0
      },
      "text/plain": [
       "  0%|          | 0/2500 [00:00<?, ?it/s]"
      ]
     },
     "metadata": {},
     "output_type": "display_data"
    },
    {
     "data": {
      "application/vnd.jupyter.widget-view+json": {
       "model_id": "86f2698a740146cb91ec77c3eb53d2fb",
       "version_major": 2,
       "version_minor": 0
      },
      "text/plain": [
       "  0%|          | 0/2500 [00:00<?, ?it/s]"
      ]
     },
     "metadata": {},
     "output_type": "display_data"
    },
    {
     "name": "stdout",
     "output_type": "stream",
     "text": [
      "\n",
      "                   mean       std    median      5.0%     95.0%     n_eff     r_hat\n",
      "           H0     68.17      1.89     68.19     65.03     71.21   7932.30      1.00\n",
      "          M_B    -19.30      0.03    -19.30    -19.34    -19.25   3572.02      1.00\n",
      "          M_W     -5.90      0.02     -5.90     -5.93     -5.88   3476.11      1.00\n",
      "          Z_W     -0.17      0.03     -0.17     -0.22     -0.13  15235.36      1.00\n",
      "          b_W     -3.29      0.01     -3.29     -3.31     -3.26   8995.73      1.00\n",
      " logr_host[0]      1.93      0.01      1.93      1.91      1.95   5009.55      1.00\n",
      " logr_host[1]      3.66      0.04      3.66      3.60      3.72  11236.01      1.00\n",
      " logr_host[2]      3.61      0.03      3.61      3.56      3.67  12369.09      1.00\n",
      " logr_host[3]      3.48      0.03      3.48      3.44      3.53  12457.39      1.00\n",
      " logr_host[4]      3.47      0.02      3.47      3.43      3.50   8881.13      1.00\n",
      " logr_host[5]      2.92      0.02      2.92      2.88      2.95   9872.60      1.00\n",
      " logr_host[6]      2.89      0.01      2.89      2.86      2.91   6608.71      1.00\n",
      " logr_host[7]      2.99      0.02      2.99      2.96      3.02   8256.08      1.00\n",
      " logr_host[8]      2.98      0.02      2.98      2.95      3.01   8211.32      1.00\n",
      " logr_host[9]      3.24      0.02      3.24      3.20      3.28   9094.38      1.00\n",
      "logr_host[10]      3.55      0.04      3.55      3.49      3.62  12714.35      1.00\n",
      "logr_host[11]      3.42      0.04      3.42      3.36      3.48  12408.17      1.00\n",
      "logr_host[12]      3.76      0.04      3.76      3.70      3.82  13303.81      1.00\n",
      "logr_host[13]      3.39      0.02      3.39      3.35      3.43   9218.47      1.00\n",
      "logr_host[14]      3.30      0.02      3.30      3.27      3.33   7968.56      1.00\n",
      "logr_host[15]      3.20      0.01      3.20      3.18      3.22   5622.76      1.00\n",
      "logr_host[16]      3.58      0.02      3.58      3.54      3.62   9571.01      1.00\n",
      "logr_host[17]      3.10      0.03      3.10      3.06      3.14  10039.50      1.00\n",
      "logr_host[18]      3.06      0.02      3.06      3.02      3.11  10341.69      1.00\n",
      "logr_host[19]      3.07      0.03      3.07      3.01      3.12  12439.26      1.00\n",
      "logr_host[20]      2.68      0.05      2.68      2.60      2.76  15420.64      1.00\n",
      "logr_host[21]      2.69      0.02      2.69      2.66      2.72   9804.38      1.00\n",
      "logr_host[22]      3.11      0.03      3.11      3.07      3.16  12342.02      1.00\n",
      "logr_host[23]      3.53      0.06      3.53      3.43      3.62  15565.68      1.00\n",
      "logr_host[24]      3.72      0.02      3.72      3.69      3.76   9088.94      1.00\n",
      "logr_host[25]      3.16      0.02      3.16      3.13      3.18   7839.42      1.00\n",
      "logr_host[26]      2.55      0.02      2.55      2.52      2.57   5765.61      1.00\n",
      "logr_host[27]      3.71      0.05      3.71      3.63      3.79  16458.61      1.00\n",
      "logr_host[28]      3.33      0.03      3.33      3.28      3.38  12540.06      1.00\n",
      "logr_host[29]      3.39      0.03      3.39      3.34      3.45  12091.13      1.00\n",
      "logr_host[30]      3.05      0.04      3.05      2.99      3.12  14422.38      1.00\n",
      "logr_host[31]      3.83      0.03      3.83      3.78      3.87   9078.17      1.00\n",
      "logr_host[32]      3.48      0.03      3.48      3.42      3.54  13319.56      1.00\n",
      "logr_host[33]      3.82      0.03      3.82      3.76      3.88  11477.18      1.00\n",
      "logr_host[34]      3.60      0.02      3.60      3.56      3.63   9408.93      1.00\n",
      "logr_host[35]      2.03      0.01      2.03      2.02      2.05   5049.90      1.00\n",
      "logr_host[36]     -3.01      0.01     -3.01     -3.03     -3.00   4184.90      1.00\n",
      "logr_host[37]     -0.27      0.01     -0.27     -0.28     -0.25   4818.53      1.00\n",
      "      sigma_v    296.70     38.93    292.78    233.03    356.41  13126.25      1.00\n",
      "\n",
      "Number of divergences: 0\n"
     ]
    }
   ],
   "source": [
    "kernel = NUTS(model, init_strategy=init_to_median(num_samples=200))\n",
    "mcmc = MCMC(kernel, num_warmup=500, num_samples=2000, num_chains=5, progress_bar=True)\n",
    "mcmc.run(\n",
    "    random.PRNGKey(41),\n",
    "    num_hosts=data[\"num_hosts\"],\n",
    "    num_cepheids=data[\"num_cepheids\"],\n",
    "    mag_cepheid=jnp.asarray(data[\"mag_cepheid\"]),\n",
    "    e_mag_cepheid=jnp.sqrt(jnp.diag(data[\"C_Cepheid\"])),\n",
    "    logP=jnp.asarray(data[\"logP\"]),\n",
    "    OH=jnp.asarray(data[\"OH\"]),\n",
    "    cz_host=jnp.asarray(data[\"czcmb_cepheid_host\"]),\n",
    "    e_cz_host=jnp.asarray(data[\"e_czcmb_cepheid_host\"]),\n",
    "    L_Cepheid_host_dist=jnp.asarray(data[\"L_Cepheid_host_dist\"]),\n",
    "    mag_SN=jnp.asarray(data[\"mag_SN_unique_Cepheid_host\"]),\n",
    "    e_mag_SN=jnp.sqrt(jnp.diag(data[\"C_SN_unique_Cepheid_host\"])),\n",
    "    mu_N4258_anchor=data[\"mu_N4258_anchor\"],\n",
    "    e_mu_N4258_anchor=data[\"e_mu_N4258_anchor\"],\n",
    "    mu_LMC_anchor=data[\"mu_LMC_anchor\"],\n",
    "    e_mu_LMC_anchor=data[\"e_mu_LMC_anchor\"],\n",
    "    version=\"eleni\"\n",
    "    # version=\"distmod_approx\"\n",
    "    # version=\"distmod_exact\"\n",
    "    sample_dZP=True,\n",
    ")\n",
    "\n",
    "mcmc.print_summary()\n",
    "samples = mcmc.get_samples()"
   ]
  },
  {
   "cell_type": "code",
   "execution_count": 39,
   "id": "63ae6dde",
   "metadata": {},
   "outputs": [],
   "source": [
    "mu = samples[\"mu\"][:, 0]\n",
    "\n",
    "r = mu2r(mu, 1)"
   ]
  },
  {
   "cell_type": "code",
   "execution_count": 40,
   "id": "520c0e22",
   "metadata": {},
   "outputs": [
    {
     "data": {
      "image/png": "[encoded data removed]",
      "text/plain": [
       "<Figure size 640x480 with 1 Axes>"
      ]
     },
     "metadata": {},
     "output_type": "display_data"
    }
   ],
   "source": [
    "import matplotlib.pyplot as plt\n",
    "%matplotlib inline\n",
    "\n",
    "plt.figure()\n",
    "plt.hist(r, bins=\"auto\", density=1)\n",
    "x = np.linspace(0, 1320, 1000)\n",
    "plt.plot(x, 3 * x**2 / x.max()**3)\n",
    "plt.show()"
   ]
  },
  {
   "cell_type": "code",
   "execution_count": null,
   "id": "9b5e6007",
   "metadata": {},
   "outputs": [],
   "source": []
  }
 ],
 "metadata": {
  "kernelspec": {
   "display_name": "venv_candel (3.12.10)",
   "language": "python",
   "name": "python3"
  },
  "language_info": {
   "codemirror_mode": {
    "name": "ipython",
    "version": 3
   },
   "file_extension": ".py",
   "mimetype": "text/x-python",
   "name": "python",
   "nbconvert_exporter": "python",
   "pygments_lexer": "ipython3",
   "version": "3.12.10"
  }
 },
 "nbformat": 4,
 "nbformat_minor": 5
}
