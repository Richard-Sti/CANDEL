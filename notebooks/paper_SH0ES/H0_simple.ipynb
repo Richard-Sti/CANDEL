{
 "cells": [
  {
   "cell_type": "code",
   "execution_count": 8,
   "id": "858d2079",
   "metadata": {},
   "outputs": [],
   "source": [
    "import numpyro\n",
    "numpyro.set_host_device_count(5)\n",
    "\n",
    "import numpy as np\n",
    "\n",
    "import jax.numpy as jnp\n",
    "from jax import random\n",
    "import numpyro.distributions as dist\n",
    "from numpyro import factor, plate, sample\n",
    "from numpyro.infer import MCMC, NUTS, init_to_median\n",
    "import numpy as np\n",
    "from jax import numpy as jnp\n",
    "\n",
    "import joblib\n",
    "\n",
    "import matplotlib.pyplot as plt\n",
    "%matplotlib inline\n"
   ]
  },
  {
   "cell_type": "code",
   "execution_count": 2,
   "id": "2e5e03c6",
   "metadata": {},
   "outputs": [],
   "source": [
    "import candel"
   ]
  },
  {
   "cell_type": "code",
   "execution_count": 3,
   "id": "a8450ed4",
   "metadata": {},
   "outputs": [],
   "source": [
    "data = joblib.load(\"/Users/rstiskalek/Downloads/data.joblib\")\n",
    "SPEED_OF_LIGHT = 299_792.458  # km / s"
   ]
  },
  {
   "cell_type": "code",
   "execution_count": 17,
   "id": "6216e054",
   "metadata": {},
   "outputs": [
    {
     "data": {
      "text/plain": [
       "(3.059023205018258e-07, Array(5.2983174, dtype=float32, weak_type=True))"
      ]
     },
     "execution_count": 17,
     "metadata": {},
     "output_type": "execute_result"
    }
   ],
   "source": [
    "np.exp(-15), jnp.log(200)"
   ]
  },
  {
   "cell_type": "code",
   "execution_count": 21,
   "id": "2ae365e8",
   "metadata": {},
   "outputs": [
    {
     "data": {
      "text/plain": [
       "array([ 5.99584916, 14.9896229 ,  5.99584916,  5.99584916, 44.9688687 ,\n",
       "       44.9688687 ,  2.99792458,  2.99792458,  5.99584916, 44.9688687 ,\n",
       "        2.99792458, 17.98754748,  5.99584916,  0.        ,  2.99792458,\n",
       "        5.99584916,  2.99792458,  5.99584916,  2.99792458,  5.99584916,\n",
       "        5.99584916,  2.99792458,  5.99584916, 44.9688687 , 56.96056702,\n",
       "        2.99792458, 44.9688687 , 44.9688687 , 44.9688687 , 17.98754748,\n",
       "       35.97509496, 44.9688687 ,  5.99584916,  2.99792458,  5.99584916])"
      ]
     },
     "execution_count": 21,
     "metadata": {},
     "output_type": "execute_result"
    }
   ],
   "source": [
    "data[\"e_czcmb_cepheid_host\"]"
   ]
  },
  {
   "cell_type": "code",
   "execution_count": 13,
   "id": "7c8ab443",
   "metadata": {},
   "outputs": [
    {
     "data": {
      "text/plain": [
       "(Array(-18.420681, dtype=float32, weak_type=True),\n",
       " Array(5.2983174, dtype=float32, weak_type=True))"
      ]
     },
     "execution_count": 13,
     "metadata": {},
     "output_type": "execute_result"
    }
   ],
   "source": [
    "jnp.log(1e-8), jnp.log(200)"
   ]
  },
  {
   "cell_type": "code",
   "execution_count": 4,
   "id": "f14a06c4",
   "metadata": {},
   "outputs": [],
   "source": [
    "def r2mu(r):\n",
    "    return 5 * jnp.log10(r) + 25\n",
    "\n",
    "def r2cz(r, H0):\n",
    "    return r * H0\n",
    "\n",
    "def mu2r(mu):\n",
    "    return 10**((mu - 25) / 5)\n",
    "\n",
    "def drdmu(mu):\n",
    "    return 1 / 5 * np.log(10) * 10**((mu - 25) / 5)\n",
    "\n",
    "r2mu_candel = candel.Distance2Distmod()\n",
    "r2z_candel = candel.Distance2Redshift()\n",
    "mu2r_candel = candel.Distmod2Distance()\n",
    "log_drdmu_candel = candel.LogGrad_Distmod2ComovingDistance()\n",
    "\n",
    "\n",
    "\n",
    "def model(num_hosts, num_cepheids, mag_cepheid, e_mag_cepheid, logP, OH,\n",
    "          L_Cepheid_host_dist, cz_host, e_cz_host, mag_SN, e_mag_SN,\n",
    "          mu_N4258_anchor, e_mu_N4258_anchor,\n",
    "          mu_LMC_anchor, e_mu_LMC_anchor, version, sample_dZP):\n",
    "    # Sample model parameters.\n",
    "    H0 = sample(\"H0\", dist.Uniform(10, 100))\n",
    "    h = H0 / 100\n",
    "\n",
    "    M_W = sample(\"M_W\", dist.Uniform(-7, -5))\n",
    "    b_W = sample(\"b_W\", dist.Uniform(-4, -2))\n",
    "    Z_W = sample(\"Z_W\", dist.Uniform(-1, 1))\n",
    "\n",
    "    M_B = sample(\"M_B\", dist.Uniform(-20, -18))\n",
    "    \n",
    "    if sample_dZP:\n",
    "        dZP = sample(\"dZP\", dist.Normal(0, 0.1))\n",
    "    else:\n",
    "        dZP = 0\n",
    "\n",
    "    sigma_v = sample(\"sigma_v\", dist.Uniform(5, 1000))\n",
    "\n",
    "    # MW calibration\n",
    "    sample(\"M_W_Combined\", dist.Normal(M_W, 0.0239), obs=-5.8946)\n",
    "\n",
    "    if version == \"eleni\":\n",
    "        with plate(\"plate_host\", num_hosts + 3):\n",
    "            # u = sample(\"u\", dist.Uniform(1e-9, 1))\n",
    "            logr = sample(\"logr_host\", dist.Uniform(jnp.log(1e-8), jnp.log(200)))\n",
    "            factor(\"lp_r2\", 3 * logr)\n",
    "        # r_host_all = 200 * u**(1/3)\n",
    "\n",
    "        r_host_all = jnp.exp(logr)\n",
    "        z_cos_all = H0 * r_host_all / SPEED_OF_LIGHT\n",
    "        DL = r_host_all * (1 + z_cos_all)\n",
    "        mu_host_all = 5 * jnp.log10(DL) + 25\n",
    "\n",
    "        cz_pred = H0 * r_host_all[:-3]\n",
    "    elif version == \"distmod_approx\":\n",
    "        with plate(\"plate_host\", num_hosts + 3):\n",
    "            mu_host_all = sample(\"mu_host\", dist.Uniform(10, 43))\n",
    "        r_host_all = 10**((mu_host_all - 25) / 5)\n",
    "        factor(\"lp_r2\", 3 * jnp.log(r_host_all))\n",
    "\n",
    "        cz_pred = H0 * r_host_all[:-3]\n",
    "    elif version == \"distmod_exact\":\n",
    "        with plate(\"plate_host\", num_hosts + 3):\n",
    "            mu_host_all = sample(\"mu_host\", dist.Uniform(10, 43))\n",
    "            \n",
    "        r_host_all = mu2r_candel(mu_host_all, h)\n",
    "        factor(\n",
    "            \"lp_r2\",\n",
    "            2 * jnp.log(r_host_all) + log_drdmu_candel(mu_host_all, h=h))\n",
    "        cz_pred = r2z_candel(r_host_all[:-3], h=h) * SPEED_OF_LIGHT\n",
    "    else:\n",
    "        raise ValueError(\"Unknown version\")\n",
    "\n",
    "    mu_N4258 = mu_host_all[-3]\n",
    "    mu_LMC = mu_host_all[-2]\n",
    "\n",
    "    # Distance calibration\n",
    "    sample(\"ll_N4258\", dist.Normal(mu_N4258, e_mu_N4258_anchor), obs=mu_N4258_anchor)\n",
    "    sample(\"ll_LMC\", dist.Normal(mu_LMC, e_mu_LMC_anchor), obs=mu_LMC_anchor)\n",
    "\n",
    "    mu_host_all_for_cepheid = jnp.copy(mu_host_all)\n",
    "    mu_host_all_for_cepheid = mu_host_all_for_cepheid.at[-2].add(dZP)\n",
    "\n",
    "    mu_cepheid = L_Cepheid_host_dist @ mu_host_all_for_cepheid\n",
    "    pred_mag_cepheid = mu_cepheid + M_W + b_W * logP + Z_W * OH\n",
    "\n",
    "    # with plate(\"plate_test_cepheid\", num_cepheids):\n",
    "    #     M = sample(\"M\", dist.Normal(M_W + b_W * logP + Z_W * OH, 0.1))\n",
    "    # pred_mag_cepheid = mu_cepheid + M\n",
    "\n",
    "    with plate(\"plate_ll_Cepheid\", num_cepheids):\n",
    "        sample(\"ll_cepheid\",\n",
    "               dist.Normal(pred_mag_cepheid, e_mag_cepheid),\n",
    "               obs=mag_cepheid)\n",
    "\n",
    "    mu_host = mu_host_all[:-3]\n",
    "\n",
    "    with plate(\"plate_ll_host\", num_hosts):\n",
    "        sample(\n",
    "            \"ll_host\",\n",
    "            dist.Normal(cz_pred, jnp.sqrt(e_cz_host**2 + sigma_v**2)),\n",
    "            obs=cz_host)\n",
    "\n",
    "    mag_SN_pred = M_B + mu_host\n",
    "    with plate(\"plate_ll_SN\", num_hosts):\n",
    "        sample(\n",
    "            \"ll_SN\",\n",
    "            dist.Normal(mag_SN_pred, e_mag_SN),\n",
    "            obs=mag_SN)\n",
    "\n",
    "    logS = -1.38 * M_B\n",
    "    factor(\"logS\", - num_hosts * logS)"
   ]
  },
  {
   "cell_type": "code",
   "execution_count": 5,
   "id": "5ccf615e",
   "metadata": {},
   "outputs": [
    {
     "data": {
      "application/vnd.jupyter.widget-view+json": {
       "model_id": "8386bcd4276446a497f8463ec91aff48",
       "version_major": 2,
       "version_minor": 0
      },
      "text/plain": [
       "  0%|          | 0/10500 [00:00<?, ?it/s]"
      ]
     },
     "metadata": {},
     "output_type": "display_data"
    },
    {
     "data": {
      "application/vnd.jupyter.widget-view+json": {
       "model_id": "7feb7465bf5b49d29c3810aa9acf6722",
       "version_major": 2,
       "version_minor": 0
      },
      "text/plain": [
       "  0%|          | 0/10500 [00:00<?, ?it/s]"
      ]
     },
     "metadata": {},
     "output_type": "display_data"
    },
    {
     "data": {
      "application/vnd.jupyter.widget-view+json": {
       "model_id": "603656b5aca041eb9c9112b633b3b2c1",
       "version_major": 2,
       "version_minor": 0
      },
      "text/plain": [
       "  0%|          | 0/10500 [00:00<?, ?it/s]"
      ]
     },
     "metadata": {},
     "output_type": "display_data"
    },
    {
     "data": {
      "application/vnd.jupyter.widget-view+json": {
       "model_id": "31b3aae30e1e493f9b68181440512b41",
       "version_major": 2,
       "version_minor": 0
      },
      "text/plain": [
       "  0%|          | 0/10500 [00:00<?, ?it/s]"
      ]
     },
     "metadata": {},
     "output_type": "display_data"
    },
    {
     "data": {
      "application/vnd.jupyter.widget-view+json": {
       "model_id": "e5672492d5bc4bf4bd60b5197e185b54",
       "version_major": 2,
       "version_minor": 0
      },
      "text/plain": [
       "  0%|          | 0/10500 [00:00<?, ?it/s]"
      ]
     },
     "metadata": {},
     "output_type": "display_data"
    },
    {
     "name": "stdout",
     "output_type": "stream",
     "text": [
      "\n",
      "                   mean       std    median      5.0%     95.0%     n_eff     r_hat\n",
      "           H0     68.18      1.89     68.18     64.98     71.18  39487.04      1.00\n",
      "          M_B    -19.30      0.03    -19.30    -19.34    -19.25  17217.26      1.00\n",
      "          M_W     -5.90      0.02     -5.90     -5.93     -5.88  16319.52      1.00\n",
      "          Z_W     -0.17      0.03     -0.17     -0.22     -0.13  76573.12      1.00\n",
      "          b_W     -3.29      0.01     -3.29     -3.31     -3.26  41725.29      1.00\n",
      " logr_host[0]      1.93      0.01      1.93      1.91      1.95  24086.38      1.00\n",
      " logr_host[1]      3.66      0.04      3.66      3.60      3.72  57132.46      1.00\n",
      " logr_host[2]      3.61      0.03      3.61      3.55      3.67  60046.88      1.00\n",
      " logr_host[3]      3.48      0.03      3.48      3.44      3.53  57975.43      1.00\n",
      " logr_host[4]      3.47      0.02      3.47      3.43      3.50  40283.64      1.00\n",
      " logr_host[5]      2.92      0.02      2.92      2.88      2.95  47235.39      1.00\n",
      " logr_host[6]      2.89      0.01      2.89      2.86      2.91  29619.51      1.00\n",
      " logr_host[7]      2.99      0.02      2.99      2.95      3.02  38091.52      1.00\n",
      " logr_host[8]      2.98      0.02      2.98      2.94      3.01  38308.44      1.00\n",
      " logr_host[9]      3.24      0.02      3.24      3.20      3.28  43464.50      1.00\n",
      "logr_host[10]      3.55      0.04      3.55      3.48      3.62  65444.42      1.00\n",
      "logr_host[11]      3.42      0.04      3.42      3.36      3.48  61022.62      1.00\n",
      "logr_host[12]      3.76      0.04      3.76      3.70      3.82  63911.38      1.00\n",
      "logr_host[13]      3.39      0.02      3.39      3.35      3.43  42439.82      1.00\n",
      "logr_host[14]      3.30      0.02      3.30      3.27      3.33  35941.89      1.00\n",
      "logr_host[15]      3.20      0.01      3.20      3.18      3.22  27088.40      1.00\n",
      "logr_host[16]      3.58      0.02      3.58      3.54      3.62  43628.10      1.00\n",
      "logr_host[17]      3.10      0.02      3.10      3.06      3.14  47492.13      1.00\n",
      "logr_host[18]      3.06      0.02      3.06      3.02      3.11  51547.38      1.00\n",
      "logr_host[19]      3.07      0.03      3.07      3.01      3.12  59778.80      1.00\n",
      "logr_host[20]      2.68      0.05      2.68      2.60      2.76  73852.36      1.00\n",
      "logr_host[21]      2.69      0.02      2.69      2.65      2.72  42859.32      1.00\n",
      "logr_host[22]      3.11      0.03      3.11      3.06      3.16  57648.71      1.00\n",
      "logr_host[23]      3.53      0.06      3.53      3.43      3.62  75391.96      1.00\n",
      "logr_host[24]      3.72      0.02      3.72      3.68      3.76  42852.31      1.00\n",
      "logr_host[25]      3.16      0.02      3.16      3.13      3.18  34566.77      1.00\n",
      "logr_host[26]      2.55      0.02      2.55      2.52      2.57  28179.15      1.00\n",
      "logr_host[27]      3.71      0.05      3.71      3.63      3.79  71666.99      1.00\n",
      "logr_host[28]      3.33      0.03      3.33      3.28      3.38  58739.68      1.00\n",
      "logr_host[29]      3.39      0.03      3.39      3.34      3.45  59266.08      1.00\n",
      "logr_host[30]      3.05      0.04      3.05      2.99      3.12  66838.49      1.00\n",
      "logr_host[31]      3.83      0.03      3.83      3.78      3.87  43281.87      1.00\n",
      "logr_host[32]      3.48      0.03      3.48      3.42      3.53  61892.62      1.00\n",
      "logr_host[33]      3.82      0.03      3.82      3.76      3.88  52187.01      1.00\n",
      "logr_host[34]      3.60      0.02      3.60      3.56      3.64  48391.01      1.00\n",
      "logr_host[35]      2.03      0.01      2.03      2.02      2.05  25177.91      1.00\n",
      "logr_host[36]     -3.01      0.01     -3.01     -3.03     -3.00  19501.78      1.00\n",
      "logr_host[37]     -0.27      0.01     -0.27     -0.28     -0.25  21995.37      1.00\n",
      "      sigma_v    296.82     39.65    293.01    233.12    358.93  65216.36      1.00\n",
      "\n",
      "Number of divergences: 0\n"
     ]
    }
   ],
   "source": [
    "kernel = NUTS(model, init_strategy=init_to_median(num_samples=200))\n",
    "mcmc = MCMC(kernel, num_warmup=500, num_samples=10000, num_chains=5, progress_bar=True)\n",
    "mcmc.run(\n",
    "    random.PRNGKey(41),\n",
    "    num_hosts=data[\"num_hosts\"],\n",
    "    num_cepheids=data[\"num_cepheids\"],\n",
    "    mag_cepheid=jnp.asarray(data[\"mag_cepheid\"]),\n",
    "    e_mag_cepheid=jnp.sqrt(jnp.diag(data[\"C_Cepheid\"])),\n",
    "    logP=jnp.asarray(data[\"logP\"]),\n",
    "    OH=jnp.asarray(data[\"OH\"]),\n",
    "    cz_host=jnp.asarray(data[\"czcmb_cepheid_host\"]),\n",
    "    e_cz_host=jnp.asarray(data[\"e_czcmb_cepheid_host\"]),\n",
    "    L_Cepheid_host_dist=jnp.asarray(data[\"L_Cepheid_host_dist\"]),\n",
    "    mag_SN=jnp.asarray(data[\"mag_SN_unique_Cepheid_host\"]),\n",
    "    e_mag_SN=jnp.sqrt(jnp.diag(data[\"C_SN_unique_Cepheid_host\"])),\n",
    "    mu_N4258_anchor=data[\"mu_N4258_anchor\"],\n",
    "    e_mu_N4258_anchor=data[\"e_mu_N4258_anchor\"],\n",
    "    mu_LMC_anchor=data[\"mu_LMC_anchor\"],\n",
    "    e_mu_LMC_anchor=data[\"e_mu_LMC_anchor\"],\n",
    "    version=\"eleni\",\n",
    "    # version=\"distmod_approx\"\n",
    "    # version=\"distmod_exact\"\n",
    "    sample_dZP=False,\n",
    ")\n",
    "\n",
    "mcmc.print_summary()\n",
    "samples = mcmc.get_samples()"
   ]
  },
  {
   "cell_type": "code",
   "execution_count": 12,
   "id": "9b5e6007",
   "metadata": {},
   "outputs": [
    {
     "data": {
      "image/png": "[encoded data removed]",
      "text/plain": [
       "<Figure size 640x480 with 1 Axes>"
      ]
     },
     "metadata": {},
     "output_type": "display_data"
    }
   ],
   "source": [
    "from scipy.stats import norm\n",
    "\n",
    "plt.figure()\n",
    "plt.hist(samples[\"H0\"], bins=\"auto\", density=1)\n",
    "\n",
    "x = np.linspace(samples[\"H0\"].min(), samples[\"H0\"].max(), 2000)\n",
    "plt.plot(x, norm.pdf(x, samples[\"H0\"].mean(), samples[\"H0\"].std()), c=\"red\")\n",
    "\n",
    "plt.show()"
   ]
  },
  {
   "cell_type": "code",
   "execution_count": null,
   "id": "d5fdf364",
   "metadata": {},
   "outputs": [],
   "source": []
  }
 ],
 "metadata": {
  "kernelspec": {
   "display_name": "venv_candel (3.12.10)",
   "language": "python",
   "name": "python3"
  },
  "language_info": {
   "codemirror_mode": {
    "name": "ipython",
    "version": 3
   },
   "file_extension": ".py",
   "mimetype": "text/x-python",
   "name": "python",
   "nbconvert_exporter": "python",
   "pygments_lexer": "ipython3",
   "version": "3.12.10"
  }
 },
 "nbformat": 4,
 "nbformat_minor": 5
}
