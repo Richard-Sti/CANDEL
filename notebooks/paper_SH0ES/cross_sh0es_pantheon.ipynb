{
 "cells": [
  {
   "cell_type": "code",
   "execution_count": 44,
   "id": "94e19d41",
   "metadata": {},
   "outputs": [
    {
     "name": "stdout",
     "output_type": "stream",
     "text": [
      "The autoreload extension is already loaded. To reload it, use:\n",
      "  %reload_ext autoreload\n"
     ]
    }
   ],
   "source": [
    "import sys\n",
    "sys.path.insert(0, \"/Users/rstiskalek/Projects/candel\")\n",
    "\n",
    "import numpy as np\n",
    "import matplotlib.pyplot as plt\n",
    "from h5py import File\n",
    "from astropy.coordinates import SkyCoord\n",
    "import astropy.units as u\n",
    "\n",
    "import candel\n",
    "from candel import SPEED_OF_LIGHT\n",
    "\n",
    "%matplotlib inline\n",
    "%load_ext autoreload\n",
    "%autoreload 2"
   ]
  },
  {
   "cell_type": "code",
   "execution_count": 45,
   "id": "aaffd019",
   "metadata": {},
   "outputs": [],
   "source": [
    "def mean_sky_position(ra_deg, dec_deg):\n",
    "    \"\"\"\n",
    "    Compute the mean sky position (RA, Dec) on the celestial sphere.\n",
    "    \"\"\"\n",
    "    ra = np.deg2rad(ra_deg)\n",
    "    dec = np.deg2rad(dec_deg)\n",
    "\n",
    "    x = np.cos(dec) * np.cos(ra)\n",
    "    y = np.cos(dec) * np.sin(ra)\n",
    "    z = np.sin(dec)\n",
    "\n",
    "    x_mean = np.mean(x)\n",
    "    y_mean = np.mean(y)\n",
    "    z_mean = np.mean(z)\n",
    "\n",
    "    r = np.sqrt(x_mean**2 + y_mean**2 + z_mean**2)\n",
    "    dec_mean = np.arcsin(z_mean / r)\n",
    "    ra_mean = np.arctan2(y_mean, x_mean) % (2 * np.pi)\n",
    "\n",
    "    return np.rad2deg(ra_mean), np.rad2deg(dec_mean)\n",
    "\n",
    "\n",
    "\n",
    "def load_cepheid_table(filename):\n",
    "    \"\"\"Load Cepheid data from a LaTeX deluxetable.\"\"\"\n",
    "    data = []\n",
    "    with open(filename, \"r\") as f:\n",
    "        for line in f:\n",
    "            line = line.strip()\n",
    "            if not line or line.startswith(\"\\\\\") or \"colhead\" in line:\n",
    "                continue\n",
    "\n",
    "            parts = [entry.strip().rstrip(\"\\\\\") for entry in line.split(\"&\")]\n",
    "\n",
    "            if len(parts) != 11:\n",
    "                continue\n",
    "\n",
    "            try:\n",
    "                row = (\n",
    "                    str(parts[0]),\n",
    "                    float(parts[1]),\n",
    "                    float(parts[2]),\n",
    "                    int(parts[3]),\n",
    "                    float(parts[4]),\n",
    "                    float(parts[5]),\n",
    "                    float(parts[6]),\n",
    "                    float(parts[7]),\n",
    "                    float(parts[8]),\n",
    "                    float(parts[9]),\n",
    "                    str(parts[10])\n",
    "                )\n",
    "                data.append(row)\n",
    "            except ValueError:\n",
    "                continue  # skip malformed rows\n",
    "\n",
    "    dtype = np.dtype([\n",
    "        (\"Field\", \"U10\"),\n",
    "        (\"RA_J2000\", \"f8\"),\n",
    "        (\"Dec_J2000\", \"f8\"),\n",
    "        (\"Id\", \"i8\"),\n",
    "        (\"P_days\", \"f8\"),\n",
    "        (\"F555W_minus_F814W\", \"f8\"),\n",
    "        (\"sigma_color\", \"f8\"),\n",
    "        (\"F160W\", \"f8\"),\n",
    "        (\"sigma_F160W\", \"f8\"),\n",
    "        (\"OH\", \"f8\"),\n",
    "        (\"Note\", \"U10\")\n",
    "    ])\n",
    "\n",
    "    return np.array(data, dtype=dtype)\n",
    "\n",
    "\n",
    "def compute_mean_galaxy_positions(arr):\n",
    "    \"\"\"\n",
    "    Compute the mean sky position (RA, Dec) for each unique galaxy in a\n",
    "    structured array.\n",
    "    \"\"\"\n",
    "    galaxies = np.unique(arr[\"Field\"])\n",
    "    rows = []\n",
    "\n",
    "    for name in galaxies:\n",
    "        m = arr[\"Field\"] == name\n",
    "        ra = arr[\"RA_J2000\"][m]\n",
    "        dec = arr[\"Dec_J2000\"][m]\n",
    "\n",
    "        if len(ra) == 0:\n",
    "            continue\n",
    "\n",
    "        ra_mean, dec_mean = mean_sky_position(ra, dec)\n",
    "        rows.append((name, ra_mean, dec_mean))\n",
    "\n",
    "    dtype = np.dtype([\n",
    "        (\"Field\", \"U16\"),\n",
    "        (\"RA_J2000\", \"f8\"),\n",
    "        (\"Dec_J2000\", \"f8\")\n",
    "    ])\n",
    "\n",
    "    return np.array(rows, dtype=dtype)\n",
    "\n",
    "\n",
    "def crossmatch_galaxies_to_catalog(mean_pos_arr, ra_catalog, dec_catalog):\n",
    "    \"\"\"\n",
    "    Cross-match galaxy positions to a catalog of sources.\n",
    "\n",
    "    Parameters\n",
    "    ----------\n",
    "    mean_pos_arr : structured array\n",
    "        Must contain \"RA_J2000\" and \"Dec_J2000\" fields (in degrees).\n",
    "    ra_catalog : array_like\n",
    "        RA values of catalog sources (in degrees).\n",
    "    dec_catalog : array_like\n",
    "        Dec values of catalog sources (in degrees).\n",
    "\n",
    "    Returns\n",
    "    -------\n",
    "    idx : ndarray of int\n",
    "        Indices into the catalog (ra_catalog/dec_catalog) corresponding to the\n",
    "        closest match for each galaxy in mean_pos_arr.\n",
    "    sep_arcsec : ndarray of float\n",
    "        Angular separations to matched sources (in arcseconds).\n",
    "    \"\"\"\n",
    "    gal_coords = SkyCoord(ra=mean_pos_arr[\"RA_J2000\"] * u.deg,\n",
    "                          dec=mean_pos_arr[\"Dec_J2000\"] * u.deg)\n",
    "    cat_coords = SkyCoord(ra=ra_catalog * u.deg, dec=dec_catalog * u.deg)\n",
    "\n",
    "    idx, sep2d, _ = gal_coords.match_to_catalog_sky(cat_coords)\n",
    "    return idx, sep2d.arcsec"
   ]
  },
  {
   "cell_type": "code",
   "execution_count": 46,
   "id": "be27510e",
   "metadata": {},
   "outputs": [],
   "source": [
    "# Load the SH0ES Cepheid table and Pantheon+ data\n",
    "data_cepheid = load_cepheid_table(\"/Users/rstiskalek/Projects/CANDEL/data/SH0ES/table2.tex\")\n",
    "data_pantheonplus = np.genfromtxt(\"/Users/rstiskalek/Projects/CANDEL/data/Pantheon+/Pantheon+SH0ES.dat\", names=True, delimiter=\" \", )\n",
    "# data_pantheonplus = np.genfromtxt(\"/Users/rstiskalek/Projects/CANDEL/data/Pantheon+/Pantheon+SH0ES_zsel.dat\", names=True, delimiter=\" \", )\n",
    "\n",
    "# Compute the sky position of the galaxies hosting Cepheids\n",
    "galaxy_pos = compute_mean_galaxy_positions(data_cepheid)\n",
    "\n",
    "# Crossmatch the anchors to the Pantheon+ catalog\n",
    "ks, dtheta = crossmatch_galaxies_to_catalog(galaxy_pos, data_pantheonplus[\"RA\"], data_pantheonplus[\"DEC\"])\n"
   ]
  },
  {
   "cell_type": "code",
   "execution_count": 47,
   "id": "9af37bd3",
   "metadata": {},
   "outputs": [
    {
     "data": {
      "image/png": "[encoded data removed]",
      "text/plain": [
       "<Figure size 1500x400 with 3 Axes>"
      ]
     },
     "metadata": {},
     "output_type": "display_data"
    }
   ],
   "source": [
    "fig, axes = plt.subplots(1, 3, figsize=(15, 4), constrained_layout=True)\n",
    "\n",
    "# Panel 1: Galaxy positions\n",
    "axes[0].set_title(r\"Cepheid anchor galaxy positions\")\n",
    "axes[0].scatter(galaxy_pos[\"RA_J2000\"], galaxy_pos[\"Dec_J2000\"], s=10)\n",
    "axes[0].set_xlabel(r\"$\\mathrm{RA}\\ (\\mathrm{J2000})$\")\n",
    "axes[0].set_ylabel(r\"$\\mathrm{Dec}\\ (\\mathrm{J2000})$\")\n",
    "\n",
    "# Panel 2: Angular separations\n",
    "axes[1].hist(dtheta, bins=\"auto\", histtype=\"step\", color=\"k\")\n",
    "axes[1].set_xlabel(r\"$\\Delta \\theta$ (arcsec)\")\n",
    "axes[1].set_ylabel(r\"Galaxy count\")\n",
    "axes[1].set_title(r\"Angular separation to Pantheon+ sources\")\n",
    "\n",
    "# Panel 3: Pantheon+ redshift uncertainties\n",
    "axes[2].set_title(r\"Pantheon+ Cepheid anchors\")\n",
    "axes[2].scatter(data_pantheonplus[\"zCMB\"][ks],\n",
    "                data_pantheonplus[\"zCMBERR\"][ks] * SPEED_OF_LIGHT)\n",
    "axes[2].set_xlabel(r\"$z_{\\rm CMB}$\")\n",
    "axes[2].set_ylabel(r\"$\\sigma_{cz_{\\rm CMB}}$ [km\\,s$^{-1}$]\")\n",
    "\n",
    "plt.show()"
   ]
  },
  {
   "cell_type": "code",
   "execution_count": 48,
   "id": "1956b8b5",
   "metadata": {},
   "outputs": [],
   "source": [
    "def match_qnames_to_pantheonplus(h5_path=\"/Users/rstiskalek/Projects/CANDEL/data/SH0ES/processed/Cepheid_anchors_PantheonPlus_match.hdf5\",\n",
    "                                  shoes_data_path=\"/Users/rstiskalek/Projects/CANDEL/data/SH0ES\"):\n",
    "    \"\"\"\n",
    "    Match SH0ES q_names to all Pantheon+ fields available in the anchor file.\n",
    "    \n",
    "    Returns\n",
    "    -------\n",
    "    q_names : ndarray of str\n",
    "    matched_data : dict of {field_name: ndarray}\n",
    "        Each array is aligned with q_names; non-matched entries are NaN.\n",
    "    \"\"\"\n",
    "    # Load SH0ES q_names\n",
    "    data = candel.pvdata.load_SH0ES_separated(shoes_data_path)\n",
    "    q_names = np.array(data[\"q_names\"]).astype(str)\n",
    "\n",
    "    # Base name extraction and manual patching\n",
    "    gal_names_from_q = np.char.replace(q_names, \"mu_\", \"\")\n",
    "    gal_names_from_q[gal_names_from_q == \"N0105\"] = \"N105A\"\n",
    "    gal_names_from_q[gal_names_from_q == \"N0976\"] = \"N976A\"\n",
    "\n",
    "    # Open HDF5 and extract data fields\n",
    "    with File(h5_path, 'r') as f:\n",
    "        galaxy_names = f[\"galaxy_pos/Field\"][...].astype(str)\n",
    "        pantheon_data = {k: f[f\"pantheonplus/{k}\"][...] for k in f[\"pantheonplus\"]}\n",
    "\n",
    "    # Perform matching\n",
    "    common, i_q, i_gal = np.intersect1d(gal_names_from_q, galaxy_names, return_indices=True)\n",
    "\n",
    "    # Prepare output dictionary\n",
    "    matched_data = {}\n",
    "    for key, arr in pantheon_data.items():\n",
    "        if arr.dtype.kind in {\"f\", \"i\"}:\n",
    "            arr_out = np.full(q_names.shape, np.nan)\n",
    "            if key == \"zCMBERR\":\n",
    "                arr = arr * SPEED_OF_LIGHT\n",
    "            arr_out[i_q] = arr[i_gal]\n",
    "            matched_data[key] = arr_out\n",
    "\n",
    "    # Report unmatched\n",
    "    unmatched = q_names[~np.isin(np.arange(len(q_names)), i_q)]\n",
    "    if unmatched.size > 0:\n",
    "        print(\"Still unmatched:\")\n",
    "        print(unmatched)\n",
    "\n",
    "    return q_names, matched_data"
   ]
  },
  {
   "cell_type": "code",
   "execution_count": 80,
   "id": "8dcf74d5",
   "metadata": {},
   "outputs": [
    {
     "name": "stdout",
     "output_type": "stream",
     "text": [
      "2025-06-17 12:58:15 warning: zero width found in the priors. Setting it to 1e-5.\n",
      "2025-06-17 12:58:15 indices of zero width: [44]\n",
      "2025-06-17 12:58:15 found zero-width prior at index 44. Setting it to 0.\n",
      "Replacing2!\n",
      "Still unmatched:\n",
      "['Delta_mu_N4258' 'M_H1_W' 'Delta_mu_LMC' 'mu_M31' 'b_W' 'MB0' 'Z_W'\n",
      " 'undefined' 'Delta_zp' 'log10_H0']\n"
     ]
    }
   ],
   "source": [
    "q_names, matched_data = match_qnames_to_pantheonplus()\n",
    "\n",
    "for key in list(matched_data.keys()):\n",
    "    matched_data[key] = matched_data[key][:37]\n",
    "\n",
    "q_names = q_names[:37]\n",
    "\n",
    "assert np.isfinite(matched_data[\"zCMB\"]).all()"
   ]
  },
  {
   "cell_type": "code",
   "execution_count": 81,
   "id": "e2e27eab",
   "metadata": {},
   "outputs": [],
   "source": [
    "def matched_data_to_structured_array(q_names, matched_data):\n",
    "    \"\"\"\n",
    "    Convert matched_data dict to a structured NumPy array aligned with q_names.\n",
    "    \"\"\"\n",
    "    q_names = np.asarray(q_names).astype(str)\n",
    "    names = np.char.replace(q_names, \"mu_\", \"\")\n",
    "\n",
    "    dtype = [(\"Galaxy\", \"U16\")] + [(k, \"f8\") for k in matched_data]\n",
    "    arr = np.empty(len(q_names), dtype=dtype)\n",
    "    arr[\"Galaxy\"] = names\n",
    "\n",
    "    for k in matched_data:\n",
    "        arr[k] = matched_data[k]\n",
    "\n",
    "    return arr\n",
    "\n",
    "\n",
    "matched_data = matched_data_to_structured_array(q_names, matched_data)"
   ]
  },
  {
   "cell_type": "code",
   "execution_count": 82,
   "id": "abfd0aaa",
   "metadata": {},
   "outputs": [],
   "source": [
    "x = np.genfromtxt(\"/Users/rstiskalek/Downloads/galaxy_snia_zHD.csv\", delimiter=\",\", names=True)"
   ]
  },
  {
   "cell_type": "code",
   "execution_count": 83,
   "id": "9e0b4747",
   "metadata": {},
   "outputs": [
    {
     "name": "stdout",
     "output_type": "stream",
     "text": [
      "M101, zHD = 0.0012, zCMB = 0.0012, \n",
      "M1337, zHD = 0.0092, zCMB = 0.0097, \n",
      "N0691, zHD = 0.0086, zCMB = 0.0086, \n",
      "N1015, zHD = 0.0081, zCMB = 0.0080, \n",
      "N0105, zHD = 0.0168, zCMB = 0.0165, \n",
      "N1309, zHD = 0.0072, zCMB = 0.0067, \n",
      "N1365, zHD = 0.0048, zCMB = 0.0046, \n",
      "N1448, zHD = 0.0038, zCMB = 0.0037, \n",
      "N1559, zHD = 0.0041, zCMB = 0.0043, \n",
      "N2442, zHD = 0.0049, zCMB = 0.0052, \n",
      "N2525, zHD = 0.0060, zCMB = 0.0060, \n",
      "N2608, zHD = 0.0086, zCMB = 0.0080, \n",
      "N3021, zHD = 0.0067, zCMB = 0.0059, \n",
      "N3147, zHD = 0.0108, zCMB = 0.0099, \n",
      "N3254, zHD = 0.0065, zCMB = 0.0055, \n",
      "N3370, zHD = 0.0059, zCMB = 0.0054, \n",
      "N3447, zHD = 0.0046, zCMB = 0.0046, \n",
      "N3583, zHD = 0.0086, zCMB = 0.0077, \n",
      "N3972, zHD = 0.0035, zCMB = 0.0037, \n",
      "N3982, zHD = 0.0035, zCMB = 0.0037, \n",
      "N4038, zHD = 0.0057, zCMB = 0.0066, \n",
      "N4424, zHD = 0.0026, zCMB = 0.0026, \n",
      "N4536, zHD = 0.0032, zCMB = 0.0035, \n",
      "N4639, zHD = 0.0036, zCMB = 0.0046, \n",
      "N4680, zHD = 0.0086, zCMB = 0.0093, \n",
      "N5468, zHD = 0.0095, zCMB = 0.0100, \n",
      "N5584, zHD = 0.0063, zCMB = 0.0063, \n",
      "N5643, zHD = 0.0033, zCMB = 0.0048, \n",
      "N5728, zHD = 0.0100, zCMB = 0.0105, \n",
      "N5861, zHD = 0.0068, zCMB = 0.0073, \n",
      "N5917, zHD = 0.0071, zCMB = 0.0070, \n",
      "N7250, zHD = 0.0043, zCMB = 0.0029, \n",
      "N7329, zHD = 0.0103, zCMB = 0.0104, \n",
      "N7541, zHD = 0.0081, zCMB = 0.0077, \n",
      "N7678, zHD = 0.0106, zCMB = 0.0105, \n",
      "N0976, zHD = 0.0131, zCMB = 0.0133, \n",
      "U9391, zHD = 0.0075, zCMB = 0.0066, \n"
     ]
    }
   ],
   "source": [
    "for i in range(len(matched_data)):\n",
    "    xi = matched_data[i]\n",
    "    print(f\"{xi['Galaxy']}, zHD = {xi['zHD']:.4f}, zCMB = {xi['zCMB']:.4f}, \")"
   ]
  },
  {
   "cell_type": "code",
   "execution_count": 85,
   "id": "e5e51dee",
   "metadata": {},
   "outputs": [
    {
     "data": {
      "image/png": "[encoded data removed]",
      "text/plain": [
       "<Figure size 640x480 with 1 Axes>"
      ]
     },
     "metadata": {},
     "output_type": "display_data"
    }
   ],
   "source": [
    "plt.figure()\n",
    "plt.scatter(x[\"zHD\"], matched_data[\"zHD\"])\n",
    "\n",
    "\n",
    "plt.show()\n",
    "\n"
   ]
  },
  {
   "cell_type": "code",
   "execution_count": 60,
   "id": "42ee5722",
   "metadata": {},
   "outputs": [
    {
     "data": {
      "text/plain": [
       "array([0.00122, 0.00966, 0.00861, 0.00801, 0.01646, 0.00668, 0.0046 ,\n",
       "       0.00366, 0.00435, 0.00515, 0.00596, 0.00796, 0.00592, 0.00993,\n",
       "       0.0055 , 0.0054 , 0.00465, 0.00773, 0.00369, 0.00369, 0.0066 ,\n",
       "       0.00256, 0.0035 , 0.00462, 0.00931, 0.00998, 0.00635, 0.00478,\n",
       "       0.0105 , 0.00727, 0.00703, 0.00293, 0.01042, 0.00769, 0.01049,\n",
       "       0.01334, 0.00664])"
      ]
     },
     "execution_count": 60,
     "metadata": {},
     "output_type": "execute_result"
    }
   ],
   "source": [
    "matched_data[\"zCMB\"]"
   ]
  },
  {
   "cell_type": "code",
   "execution_count": null,
   "id": "f3baeec9",
   "metadata": {},
   "outputs": [],
   "source": []
  },
  {
   "cell_type": "code",
   "execution_count": 51,
   "id": "3140a80c",
   "metadata": {},
   "outputs": [
    {
     "data": {
      "text/plain": [
       "array([('M101', 29.177 , nan, -2.20084e-03, -4.43845e-04, -1.50198e-03,  54.2737,  88.3064, 8.12220e-01, -9., -999., 10.677  ,  0.000e+00, -999.,  56., 1., 29.0559, 1.51747 , 0.00758935, 101., 55815.2, 0.0579, 210.774 , 0.,  0.00000e+00, 250., 0.003, -0.0252, 0.004, 1., -0.032895, 0.038463,  9.78448, 0.0352442,  9.80286, 1.51723 , 0.0971, 1.496 , 2.1888   , 0.0710511 , -0.380481, 0.0861  , 0.00122,  5.99584916, 0.00122, 0.00084, 0.00082, 2.0e-05),\n",
       "       ('M1337', 32.9183, nan, -4.29407e-05, -3.80399e-04,  9.88120e-06,  -9.7752,  70.3274, 5.33492e-03, -9., -999.,  9.554  ,  3.708e+00, -999.,  64., 1., 32.9159, 0.285505, 0.0393002 ,  43., 53757.4, 0.0782, 193.141 , 0.,  1.20873e+02, 250., 0.006,  0.0238, 0.009, 1., -0.026824, 0.027826, 13.8788 , 0.0396518, 13.6629 , 0.284225, 0.06  , 0.1981, 0.0504053, 0.00184083, -1.50889 , 0.050515, 0.00966, 14.9896229 , 0.00925, 0.00084, 0.00853, 5.0e-05),\n",
       "       ('N0691', 32.8293, nan, -3.67614e-05, -2.70673e-05,  1.30680e-06,  21.7599, 144.299 , 7.45656e-06, -9., -999., 10.827  ,  1.300e-01, -999.,   5., 1., 32.852 , 0.318032, 0.0615037 ,  78., 53412.8, 0.0316,  27.6906, 0.,  1.58947e+01, 250., 0.004, -0.0788, 0.017, 1.,  0.08768 , 0.023619, 13.9074 , 0.0462308, 13.599  , 0.316884, 0.0503, 0.2142, 0.0490955, 0.0020905 , -0.431319, 0.054625, 0.00861,  5.99584916, 0.00855, 0.00084, 0.00954, 2.0e-05),\n",
       "       ('N1015', 32.5621, nan, -1.13074e-04, -2.81514e-04, -9.57270e-05,  -1.3125,  19.7456, 8.73560e-01, -9., -999.,  9.906  ,  1.900e-02, -999.,  56., 1., 32.3711, 0.371926, 0.0277271 ,  28., 55080.8, 0.1054,  39.5484, 0., -4.30674e+01, 250., 0.013,  0.0446, 0.025, 1.,  0.05406 , 0.042592, 13.1911 , 0.039913 , 13.1181 , 0.370944, 0.1093, 0.2247, 0.0949628, 0.00349095,  1.2958  , 0.14101 , 0.00801,  5.99584916, 0.00815, 0.00084, 0.00877, 2.0e-05),\n",
       "       ('N0105', 34.526 , nan, -9.67992e-06,  3.83038e-05, -1.60282e-06,  12.8868,  33.1332, 1.58270e-01, -9., -999., 10.123  ,  1.000e-02, -999.,   5., 1., 34.4649, 0.358327, 0.0633909 ,  26., 54113.8, 0.067 ,   6.3194, 0., -1.04478e+02, 250., 0.002, -0.1013, 0.019, 1.,  0.11732 , 0.024602, 15.4419 , 0.0473284, 15.2119 , 0.357309, 0.0532, 0.1107, 0.0119466, 0.00052076,  0.56889 , 0.10298 , 0.01646, 26.98132122, 0.01682, 0.00085, 0.01765, 9.0e-05),\n",
       "       ('N1309', 32.5404, nan, -7.89922e-05, -1.46801e-04,  1.28528e-05, -15.4009,  96.365 , 1.16163e-03, -9., -999.,  9.89   ,  2.190e-01, -999.,  63., 1., 32.4423, 0.300309, 0.0343793 ,  58., 52548.8, 0.034 ,  50.5238, 0., -1.52591e+02, 250., 0.004,  0.0569, 0.006, 1., -0.109612, 0.025407, 12.9459 , 0.0360083, 13.1893 , 0.299093, 0.056 , 0.2576, 0.11903  , 0.00394753,  0.093397, 0.03192 , 0.00668, 44.9688687 , 0.00719, 0.00085, 0.00719, 1.5e-04),\n",
       "       ('N1365', 31.3773, nan, -1.40915e-04, -2.10546e-04,  2.96338e-05, -36.1271, 329.612 , 2.21169e-02, -9., -999., 10.732  , -9.000e+00, -999.,   5., 1., 31.2234, 0.410577, 0.0175479 , 280., 56244.5, 0.0277,  53.4   , 0., -6.75086e+01, 250., 0.002, -0.029 , 0.004, 1., -0.036256, 0.020595, 11.711  , 0.0239548, 11.9704 , 0.409689, 0.0477, 0.3831, 0.3712   , 0.00818995,  1.1575  , 0.035649, 0.0046 , 44.9688687 , 0.00483, 0.00085, 0.00492, 1.5e-04),\n",
       "       ('N1448', 31.2859, nan, -3.21434e-04,  7.46058e-04, -4.15684e-04, -44.6325,  17.907 , 9.06340e-01, -9., -999., -9.     , -9.000e+00, -999.,  56., 1., 30.9999, 0.566505, 0.012255  ,  27., 59385.6, 0.0847,  56.1257, 0., -5.53501e+01, 250., 0.013,  0.0574, 0.03 , 1.,  0.072389, 0.042032, 12.0868 , 0.0383302, 11.7469 , 0.565861, 0.1015, 0.4759, 0.2626   , 0.00927071, -0.042209, 0.12206 , 0.00366,  2.99792458, 0.00384, 0.00084, 0.00388, 1.0e-05),\n",
       "       ('N1559', 31.4903, nan, -1.93864e-04, -1.06513e-04, -2.28634e-05, -62.7693,  29.7307, 7.60160e-01, -9., -999.,  9.552  , -9.000e+00, -999.,  50., 1., 31.3779, 0.479276, 0.025672  ,  36., 53599.1, 0.0693,  64.4077, 0.,  8.61777e+01, 250., 0.005,  0.0385, 0.006, 1., -0.076884, 0.026127, 11.9807 , 0.0341158, 12.1249 , 0.478515, 0.0581, 0.4491, 0.28956  , 0.00909854, -0.01756 , 0.054078, 0.00435,  2.99792458, 0.00407, 0.00084, 0.00435, 1.0e-05),\n",
       "       ('N2442', 31.4489, nan, -7.79791e-04,  5.09497e-04, -2.45833e-04, -69.5064,  21.8985, 4.65960e-01, -9., -999., 12.198  ,  0.000e+00, -999.,  56., 1., 31.4473, 0.448264, 0.17476   ,  22., 57106.8, 0.0956, 114.066 , 0.,  8.05777e+01, 250., 0.003, -0.0595, 0.011, 1.,  0.04414 , 0.05381 , 12.4955 , 0.12098  , 12.1943 , 0.44745 , 0.1164, 0.3747, 0.18022  , 0.0200815 , -1.16422 , 0.11969 , 0.00515,  5.99584916, 0.00488, 0.00084, 0.00476, 2.0e-05),\n",
       "       ('N2525', 32.0504, nan, -1.24499e-04, -2.04233e-05, -6.84906e-05, -11.4379,  52.9938, 9.99630e-01, -9., -999., 10.06   , -9.000e+00, -999.,  18., 1., 31.9404, 0.344335, 0.0498206 ,  92., 58150.6, 0.0622, 121.394 , 0., -1.87770e+01, 250., 0.002, -0.0045, 0.003, 1., -0.067297, 0.022548, 12.4685 , 0.0414596, 12.6874 , 0.343274, 0.0484, 0.3075, 0.18476  , 0.00705507,  0.39823 , 0.082967, 0.00596, 44.9688687 , 0.00602, 0.00085, 0.0051 , 1.5e-04),\n",
       "       ('N2608', 32.6114, nan, -6.30845e-05, -4.87068e-04,  1.77663e-05,  28.4683,  87.0017, 1.85655e-07, -9., -999., 10.449  , -9.000e+00, -999.,  57., 1., 32.6928, 0.359218, 0.0336845 ,  30., 52041.4, 0.1   , 128.829 , 0., -1.74166e+02, 250., 0.004, -0.0829, 0.018, 1.,  0.097961, 0.039718, 13.7677 , 0.0397805, 13.4398 , 0.358202, 0.098 , 0.2142, 0.0558373, 0.00204584, -0.375732, 0.090642, 0.00796,  2.99792458, 0.00855, 0.00084, 0.00719, 1.0e-05),\n",
       "       ('N3021', 32.4626, nan, -6.96242e-05, -7.71042e-05, -2.05853e-05,  33.5526, 117.327 , 4.27337e-11, -9., -999., 10.296  ,  2.000e-02, -999.,  61., 1., 32.3593, 0.359446, 0.0116153 ,  34., 50029.5, 0.174 , 147.733 , 0., -2.42468e+02, 250., 0.003, -0.0653, 0.01 , 1.,  0.036406, 0.026077, 13.0285 , 0.0306431, 13.1063 , 0.358431, 0.0604, 0.2719, 0.1103   , 0.00311311,  1.20311 , 0.12078 , 0.00592, 17.98754748, 0.00673, 0.00084, 0.00504, 6.0e-05),\n",
       "       ('N3147', 33.0131, nan, -2.52722e-05, -3.00573e-04,  5.71067e-06,  73.4101, 260.472 , 3.01217e-16, -9., -999.,  8.37261,  1.320e-01, -999.,  50., 1., 33.1809, 0.377969, 0.0206824 , 100., 54750.8, 0.1108, 154.239 , 0., -2.55903e+02, 250., 0.012,  0.0571, 0.037, 1.,  0.11153 , 0.026307, 14.2732 , 0.0334836, 13.9279 , 0.377003, 0.0565, 0.17  , 0.0350524, 0.001081  ,  0.73924 , 0.057321, 0.00993,  5.99584916, 0.01079, 0.00084, 0.00973, 2.0e-05),\n",
       "       ('N3254', 32.3302, nan, -3.76401e-05,  2.93734e-05, -2.48823e-05,  29.5106,  64.771 , 9.98500e-01, -9., -999., 10.63   , -9.000e+00, -999.,  18., 1., 32.4608, 0.318474, 0.0172714 , 102., 58510.5, 0.0548, 157.342 , 0., -2.89936e+02, 250., 0.002, -0.0305, 0.004, 1., -0.02786 , 0.019016, 13.1265 , 0.0252112, 13.2078 , 0.317328, 0.0411, 0.2824, 0.10078  , 0.00234024,  0.11525 , 0.04952 , 0.0055 ,  0.        , 0.00648, 0.00084, 0.00452, 0.0e+00),\n",
       "       ('N3370', 32.1194, nan, -1.04241e-04, -2.23173e-04, -2.61554e-07,  17.2752,  93.1999, 2.77942e-02, -9., -999., 10.196  ,  3.000e-02, -999.,  61., 1., 32.1822, 0.339643, 0.0264098 ,  69., 49686. , 0.0596, 161.758 , 0., -1.44588e+02, 250., 0.002,  0.0042, 0.003, 1., -0.072951, 0.026098, 12.6957 , 0.0345957, 12.9292 , 0.338568, 0.0575, 0.3111, 0.14988  , 0.0047757 ,  0.43761 , 0.055223, 0.0054 ,  2.99792458, 0.00588, 0.00084, 0.00427, 1.0e-05),\n",
       "       ('N3447', 31.9348, nan, -7.03068e-05, -1.39729e-04, -7.16060e-06,  16.7764,  67.749 , 1.00000e+00, -9., -999.,  9.53   , -9.000e+00, -999.,   5., 1., 32.033 , 0.420403, 0.0251619 , 167., 56296.2, 0.0483, 163.345 , 0., -2.97300e-01, 250., 0.011,  0.0858, 0.005, 1., -0.128403, 0.022952, 12.6928 , 0.0284379, 12.78   , 0.419535, 0.0537, 0.3932, 0.15027  , 0.0039359 , -1.16357 , 0.039407, 0.00465,  5.99584916, 0.00465, 0.00084, 0.00352, 2.0e-05),\n",
       "       ('N3583', 32.8026, nan, -7.14252e-05, -2.43409e-04, -9.98644e-06,  48.3187,  40.9933, 2.41842e-03, -9., -999., 10.95   ,  1.000e-03, -999., 150., 1., 32.7527, 0.26758 , 0.01263   ,  19., 57345.3, 0.1667, 168.546 , 0., -2.49339e+02, 250., 0.002,  0.0014, 0.003, 1., -0.055198, 0.032438, 13.4883 , 0.0382032, 13.4997 , 0.266214, 0.0727, 0.2137, 0.0722262, 0.00254138, -0.714413, 0.078954, 0.00773,  2.99792458, 0.00857, 0.00084, 0.00702, 1.0e-05),\n",
       "       ('N3972', 31.6336, nan, -5.50824e-05, -3.73833e-05, -2.98895e-05,  55.3256,  85.1227, 2.98820e-01, -9., -999., 10.417  ,  2.000e-03, -999.,  51., 1., 31.7933, 0.55272 , 0.0120014 ,  79., 55690.9, 0.0344, 178.94  , 0.,  6.17743e+01, 250., 0.003, -0.0499, 0.007, 1.,  0.011283, 0.018909, 12.627  , 0.0234355, 12.5403 , 0.55206 , 0.0423, 0.5236, 0.15967  , 0.00344642, -0.334036, 0.044392, 0.00369,  5.99584916, 0.00349, 0.00084, 0.00313, 2.0e-05),\n",
       "       ('N3982', 31.7216, nan, -1.54448e-04, -9.36840e-05,  6.31794e-06,  55.1287, 116.844 , 2.15470e-02, -9., -999., 10.199  , -9.000e+00, -999.,  50., 1., 31.4967, 0.545492, 0.0121395 ,  88., 50931.4, 0.0309, 179.108 , 0.,  6.17743e+01, 250., 0.005,  0.055 , 0.003, 1., -0.118814, 0.025128, 12.0503 , 0.0298815, 12.2437 , 0.544824, 0.0567, 0.5236, 0.27156  , 0.00747395, -0.45159 , 0.036414, 0.00369,  2.99792458, 0.00349, 0.00084, 0.00313, 1.0e-05),\n",
       "       ('N4038', 31.6025, nan, -1.64935e-04, -3.59835e-04,  9.80451e-05, -18.9728,  95.9136, 1.48359e-08, -9., -999., 10.682  , -9.000e+00, -999.,  57., 1., 31.6799, 0.375913, 0.0404781 ,  31., 54448.9, 0.2466, 180.47  , 0.,  2.65999e+02, 250., 0.002, -0.053 , 0.008, 1.,  0.017138, 0.027385, 12.4637 , 0.0433819, 12.4269 , 0.374942, 0.0574, 0.3204, 0.18557  , 0.00741456,  0.10543 , 0.051014, 0.0066 ,  5.99584916, 0.00571, 0.00084, 0.00542, 2.0e-05),\n",
       "       ('N4424', 30.8433, nan, -1.10842e-04, -6.06025e-05,  9.35054e-06,   9.4203, 233.5   , 3.58347e-04, -9., -999.,  9.633  ,  2.000e-03, -999.,  51., 1., 30.7233, 0.782372, 0.0177724 , 165., 56082.4, 0.0278, 186.803 , 0.,  0.00000e+00, 250., 0.019,  0.0545, 0.036, 1.,  0.10073 , 0.018231, 11.8161 , 0.0237119, 11.4703 , 0.781906, 0.0399, 0.7134, 0.33695  , 0.00735879,  0.49196 , 0.023545, 0.00256,  5.99584916, 0.00256, 0.00084, 0.00144, 2.0e-05),\n",
       "       ('N4536', 30.8338, nan, -3.05876e-04,  1.63537e-04, -1.45198e-04,   2.1998,  43.226 , 3.76420e-01, -9., -999.,  9.686  , -9.000e+00, -999.,  50., 1., 30.7946, 0.614535, 0.0157149 ,  41., 44672.6, 0.2973, 188.623 , 0.,  9.78762e+01, 250., 0.007,  0.0206, 0.013, 1., -0.005137, 0.03061 , 11.6644 , 0.0335715, 11.5416 , 0.613941, 0.0732, 0.5763, 0.38748  , 0.0119811 , -0.445048, 0.16526 , 0.0035 ,  2.99792458, 0.00317, 0.00084, 0.00236, 1.0e-05),\n",
       "       ('N4639', 31.8115, nan, -1.30760e-04,  7.88015e-05, -7.60610e-05,  13.2565,  52.1451, 1.13850e-01, -9., -999.,  9.802  , -9.000e+00, -999.,  50., 1., 31.6969, 0.550993, 0.0222809 ,  41., 48083. , 0.0418, 190.736 , 0.,  3.08577e+02, 250., 0.007,  0.0183, 0.012, 1., -0.00619 , 0.025918, 12.4026 , 0.0336097, 12.4439 , 0.550332, 0.0568, 0.509 , 0.19631  , 0.00607695,  0.62892 , 0.066107, 0.00462,  5.99584916, 0.00359, 0.00084, 0.00355, 2.0e-05),\n",
       "       ('N4680', 32.5982, nan, -4.80997e-05, -2.27626e-04,  1.54030e-05, -11.6425, 842.551 , 0.00000e+00, -9., -999.,  9.75   ,  4.300e-01, -999.,  62., 1., 32.4198, 0.425219, 0.0380864 ,  46., 50550.2, 0.1065, 191.724 , 0.,  2.01132e+02, 250., 0.012,  0.0743, 0.038, 1.,  0.11503 , 0.027946, 13.6576 , 0.0415332, 13.1668 , 0.42436 , 0.0645, 0.2145, 0.0617989, 0.00236402, -0.05696 , 0.055661, 0.00931, 44.9688687 , 0.00864, 0.00085, 0.00817, 1.5e-04),\n",
       "       ('N5468', 33.1156, nan, -1.66160e-05, -8.54553e-05,  2.22511e-06,  -5.4394, 159.619 , 5.93455e-09, -9., -999., 10.426  , -9.000e+00, -999.,  57., 1., 33.2309, 0.251906, 0.0211742 ,  70., 52408.9, 0.0301, 211.657 , 0.,  1.29581e+02, 250., 0.002, -0.0009, 0.003, 1., -0.067624, 0.018496, 13.9092 , 0.02462  , 13.9779 , 0.250455, 0.041 , 0.1967, 0.0490138, 0.00111143, -0.602515, 0.025982, 0.00998, 56.96056702, 0.00954, 0.00086, 0.00907, 1.9e-04),\n",
       "       ('N5584', 31.7708, nan, -8.85975e-05, -1.83179e-04,  1.68008e-05,  -0.3938, 102.956 , 4.62159e-06, -9., -999., 10.331  , -9.000e+00, -999.,  57., 1., 32.0667, 0.32593 , 0.0336987 ,  47., 54174.5, 0.049 , 215.588 , 0.,  3.15763e+01, 250., 0.002, -0.0342, 0.004, 1., -0.019682, 0.025871, 12.8497 , 0.0365274, 12.8137 , 0.32481 , 0.0576, 0.2928, 0.13006  , 0.00437545, -0.533099, 0.035089, 0.00635,  2.99792458, 0.00625, 0.00084, 0.00552, 1.0e-05),\n",
       "       ('N5643', 30.5454, nan, -2.06456e-03, -3.40495e-04,  5.21520e-04, -44.1341,  69.7345, 9.71300e-01, -9., -999., 10.449  , -9.000e+00, -999.,   5., 1., 30.4013, 0.578445, 0.14511   ,  94., 57840.6, 0.0381, 218.143 , 0.,  4.40866e+02, 250., 0.004,  0.0516, 0.003, 1., -0.125638, 0.032337, 10.7729 , 0.0944437, 11.1483 , 0.577815, 0.058 , 0.5586, 0.88076  , 0.0766133 ,  0.61655 , 0.052564, 0.00478, 44.9688687 , 0.00331, 0.00085, 0.00411, 1.5e-04),\n",
       "       ('N5728', 33.0928, nan, -5.70747e-05, -3.10730e-04,  2.81982e-05, -17.2468, 583.664 , 0.00000e+00, -9., -999., 10.636  ,  2.600e-01, -999.,   5., 1., 32.7458, 0.360296, 0.0873928 ,  64., 54877.2, 0.0327, 220.599 , 0.,  1.61695e+02, 250., 0.003, -0.0923, 0.02 , 1.,  0.11483 , 0.024472, 13.7683 , 0.0593511, 13.4928 , 0.359283, 0.0502, 0.1884, 0.0558065, 0.00305063,  0.26874 , 0.028763, 0.0105 , 44.9688687 , 0.00996, 0.00086, 0.00974, 1.5e-04),\n",
       "       ('N5861', 32.2221, nan, -1.73172e-04,  7.02287e-05, -5.06295e-05, -11.3342,  11.6926, 9.99990e-01, -9., -999., 10.591  , -9.000e+00, -999.,  18., 1., 32.2048, 0.34795 , 0.0926627 ,  39., 57935. , 0.0649, 227.312 , 0.,  1.47138e+02, 250., 0.003, -0.0735, 0.013, 1.,  0.058715, 0.031136, 13.0604 , 0.0692627, 12.9518 , 0.3469  , 0.0586, 0.2736, 0.10711  , 0.00683286,  0.35115 , 0.079854, 0.00727, 44.9688687 , 0.00677, 0.00085, 0.00662, 1.5e-04),\n",
       "       ('N5917', 32.3624, nan, -1.44567e-04, -2.78669e-05,  4.30258e-06,  -7.4132,  42.0418, 8.36540e-01, -9., -999.,  9.184  ,  4.066e+00, -999.,  64., 1., 32.3221, 0.322655, 0.083778  ,  52., 53534.2, 0.0355, 230.384 , 0., -2.12471e+01, 250., 0.004,  0.0176, 0.007, 1., -0.036954, 0.029054, 13.0342 , 0.062371 , 13.0691 , 0.321523, 0.0564, 0.2578, 0.10973  , 0.00630362, -0.06305 , 0.048024, 0.00703, 17.98754748, 0.0071 , 0.00084, 0.00644, 6.0e-05),\n",
       "       ('N7250', 31.6272, nan, -3.16314e-04, -2.32882e-04,  1.07456e-04,  40.5693, 297.453 , 8.31936e-08, -9., -999.,  9.131  ,  2.000e-03, -999.,  51., 1., 31.499 , 0.514259, 0.13193   , 180., 56501.4, 0.0283, 334.573 , 0., -4.13100e+02, 250., 0.016,  0.0396, 0.03 , 1.,  0.073845, 0.025997, 12.4377 , 0.081236 , 12.246  , 0.513549, 0.0439, 0.4231, 0.19007  , 0.0142214 ,  0.87178 , 0.02388 , 0.00293, 35.97509496, 0.00432, 0.00084, 0.00394, 1.2e-04),\n",
       "       ('N7329', 33.245 , nan, -1.85144e-05, -1.56441e-04,  3.51559e-06, -66.4851,  38.6618, 9.97120e-01, -9., -999., 10.501  ,  1.000e+01, -999.,   5., 1., 33.2788, 0.247952, 0.0228622 ,  66., 53833.9, 0.072 , 340.067 , 0.,  4.04087e+01, 250., 0.001,  0.0319, 0.003, 1., -0.095147, 0.023054, 14.0639 , 0.0266515, 14.0258 , 0.246478, 0.0549, 0.1826, 0.0425044, 0.00104335, -1.68127 , 0.037673, 0.01042, 44.9688687 , 0.01028, 0.00086, 0.01077, 1.5e-04),\n",
       "       ('N7541', 32.4996, nan, -7.96718e-05, -3.77746e-04,  1.65419e-05,   4.5373,  97.479 , 1.91391e-04, -9., -999., 10.935  , -9.000e+00, -999.,  57., 1., 32.7164, 0.317031, 0.0578805 ,  53., 51029.6, 0.0322, 348.668 , 0., -1.34006e+02, 250., 0.002, -0.0501, 0.008, 1.,  0.013961, 0.039144, 13.5979 , 0.0497281, 13.4634 , 0.315879, 0.096 , 0.225 , 0.0652881, 0.00299028, -0.603336, 0.036032, 0.00769,  5.99584916, 0.00814, 0.00084, 0.00893, 2.0e-05),\n",
       "       ('N7678', 33.1859, nan, -3.17411e-05,  1.79426e-03, -7.92697e-05,  22.4289,  16.3306, 7.99150e-01, -9., -999., 10.53   ,  4.860e-01, -999.,  63., 1., 33.3806, 0.309009, 0.0420618 ,  22., 52451.2, 0.1552, 352.127 , 0., -3.44658e+01, 250., 0.003, -0.0784, 0.016, 1.,  0.077144, 0.029374, 14.3586 , 0.0430754, 14.1276 , 0.307827, 0.0612, 0.1728, 0.0324001, 0.00128544, -0.125605, 0.22241 , 0.01049,  2.99792458, 0.01061, 0.00084, 0.01169, 1.0e-05),\n",
       "       ('N0976', 33.7082, nan, -5.87626e-05, -2.18561e-04,  1.34841e-05,  20.9751, 188.517 , 5.47154e-03, -9., -999., 10.854  ,  4.500e-01, -999.,  62., 1., 33.4717, 0.261601, 0.0938371 , 142., 51436.6, 0.036 ,  38.4987, 0.,  6.47561e+01, 250., 0.001, -0.0544, 0.007, 1.,  0.011228, 0.030254, 14.1235 , 0.0686932, 14.2187 , 0.260204, 0.0615, 0.1416, 0.0402339, 0.00254555,  0.86663 , 0.034146, 0.01334,  0.        , 0.01312, 0.00085, 0.01413, 0.0e+00),\n",
       "       ('U9391', 32.8472, nan, -5.58917e-05, -2.00500e-04,  8.42579e-06,  59.3344,  42.938 , 9.98920e-01, -9., -999.,  9.345  ,  1.320e-01, -999.,  50., 1., 32.7685, 0.292411, 0.00861887,  75., 52767.3, 0.1593, 218.649 , 0., -2.44618e+02, 250., 0.004,  0.057 , 0.006, 1., -0.110323, 0.025735, 13.2478 , 0.0307214, 13.5155 , 0.291161, 0.0578, 0.2451, 0.0901288, 0.00255023,  0.24375 , 0.057368, 0.00664,  5.99584916, 0.00747, 0.00084, 0.00638, 2.0e-05)],\n",
       "      dtype=[('Galaxy', '<U16'), ('CEPH_DIST', '<f8'), ('CID', '<f8'), ('COV_c_x0', '<f8'), ('COV_x1_c', '<f8'), ('COV_x1_x0', '<f8'), ('DEC', '<f8'), ('FITCHI2', '<f8'), ('FITPROB', '<f8'), ('HOST_ANGSEP', '<f8'), ('HOST_DEC', '<f8'), ('HOST_LOGMASS', '<f8'), ('HOST_LOGMASS_ERR', '<f8'), ('HOST_RA', '<f8'), ('IDSURVEY', '<f8'), ('IS_CALIBRATOR', '<f8'), ('MU_SH0ES', '<f8'), ('MU_SH0ES_ERR_DIAG', '<f8'), ('MWEBV', '<f8'), ('NDOF', '<f8'), ('PKMJD', '<f8'), ('PKMJDERR', '<f8'), ('RA', '<f8'), ('USED_IN_SH0ES_HF', '<f8'), ('VPEC', '<f8'), ('VPECERR', '<f8'), ('biasCorErr_m_b', '<f8'), ('biasCor_m_b', '<f8'), ('biasCor_m_b_COVADD', '<f8'), ('biasCor_m_b_COVSCALE', '<f8'), ('c', '<f8'), ('cERR', '<f8'), ('mB', '<f8'), ('mBERR', '<f8'), ('m_b_corr', '<f8'), ('m_b_corr_err_DIAG', '<f8'), ('m_b_corr_err_RAW', '<f8'), ('m_b_corr_err_VPEC', '<f8'), ('x0', '<f8'), ('x0ERR', '<f8'), ('x1', '<f8'), ('x1ERR', '<f8'), ('zCMB', '<f8'), ('zCMBERR', '<f8'), ('zHD', '<f8'), ('zHDERR', '<f8'), ('zHEL', '<f8'), ('zHELERR', '<f8')])"
      ]
     },
     "execution_count": 51,
     "metadata": {},
     "output_type": "execute_result"
    }
   ],
   "source": [
    "matched_data"
   ]
  },
  {
   "cell_type": "code",
   "execution_count": null,
   "id": "670409bd",
   "metadata": {},
   "outputs": [],
   "source": []
  },
  {
   "cell_type": "code",
   "execution_count": 34,
   "id": "80d23e06",
   "metadata": {},
   "outputs": [
    {
     "name": "stdout",
     "output_type": "stream",
     "text": [
      "Not saving!\n"
     ]
    }
   ],
   "source": [
    "# filename_out = \"/Users/rstiskalek/Projects/CANDEL/data/SH0ES/processed/Cepheid_anchors_redshifts.npy\"\n",
    "# np.save(filename_out, matched_data)\n",
    "print(\"Not saving!\")\n"
   ]
  },
  {
   "cell_type": "markdown",
   "id": "c429fd27",
   "metadata": {},
   "source": [
    "### Match supernovae from Pantheon+"
   ]
  },
  {
   "cell_type": "code",
   "execution_count": null,
   "id": "fbc99342",
   "metadata": {},
   "outputs": [],
   "source": []
  },
  {
   "cell_type": "code",
   "execution_count": 35,
   "id": "9a778563",
   "metadata": {},
   "outputs": [
    {
     "name": "stdout",
     "output_type": "stream",
     "text": [
      "Pantheon+SH0ES.dat\n",
      "Pantheon+SH0ES_122221_VPEC.cov\n",
      "Pantheon+SH0ES_STAT+SYS.cov\n",
      "Pantheon+SH0ES_zsel.dat\n",
      "Pantheon+SH0ES_zsel_STAT+SYS_noPV.cov\n",
      "Pantheon+SH0ES_zsel_STAT+SYS_noPV_velspace.cov\n",
      "los_CF4_Pantheon+_Carrick2015.hdf5\n"
     ]
    },
    {
     "name": "stderr",
     "output_type": "stream",
     "text": [
      "/opt/homebrew/Cellar/python@3.12/3.12.10/Frameworks/Python.framework/Versions/3.12/lib/python3.12/pty.py:95: RuntimeWarning: os.fork() was called. os.fork() is incompatible with multithreaded code, and JAX is multithreaded, so this will likely lead to a deadlock.\n",
      "  pid, fd = os.forkpty()\n"
     ]
    }
   ],
   "source": [
    "!ls /Users/rstiskalek/Projects/CANDEL/data/Pantheon+/"
   ]
  },
  {
   "cell_type": "code",
   "execution_count": 36,
   "id": "237b25ac",
   "metadata": {},
   "outputs": [
    {
     "data": {
      "text/plain": [
       "{}"
      ]
     },
     "execution_count": 36,
     "metadata": {},
     "output_type": "execute_result"
    }
   ],
   "source": [
    "matching"
   ]
  },
  {
   "cell_type": "code",
   "execution_count": 37,
   "id": "acd8efa6",
   "metadata": {},
   "outputs": [
    {
     "data": {
      "text/plain": [
       "277.0"
      ]
     },
     "execution_count": 37,
     "metadata": {},
     "output_type": "execute_result"
    }
   ],
   "source": [
    "data_pantheonplus[\"USED_IN_SH0ES_HF\"].sum()"
   ]
  },
  {
   "cell_type": "code",
   "execution_count": 38,
   "id": "ef23279f",
   "metadata": {},
   "outputs": [
    {
     "name": "stdout",
     "output_type": "stream",
     "text": [
      "2025-06-17 08:01:28 warning: zero width found in the priors. Setting it to 1e-5.\n",
      "2025-06-17 08:01:28 indices of zero width: [44]\n",
      "2025-06-17 08:01:28 found zero-width prior at index 44. Setting it to 0.\n",
      "Replacing2!\n"
     ]
    }
   ],
   "source": [
    "from os.path import join\n",
    "\n",
    "data = candel.pvdata.load_SH0ES_separated(\"/Users/rstiskalek/Projects/CANDEL/data/SH0ES\")\n",
    "\n",
    "\n",
    "# Pantheon+ STATISTICAL & SYSTEMATIC covariance matrix\n",
    "covmat = np.loadtxt(\n",
    "    join(\"/Users/rstiskalek/Projects/CANDEL/data/Pantheon+/\", \"Pantheon+SH0ES_STAT+SYS.cov\"), delimiter=\",\")\n",
    "    # join(\"/Users/rstiskalek/Projects/CANDEL/data/Pantheon+/\", \"Pantheon+SH0ES_zsel_STAT+SYS_noPV.cov\"), delimiter=\",\")\n",
    "size = int(covmat[0])\n",
    "C = np.reshape(covmat[1:], (size, size))\n",
    "\n",
    "\n",
    "# Select calibrators, i.e. SNe in Cepheid host galaxies\n",
    "m = data_pantheonplus[\"IS_CALIBRATOR\"] == 1\n",
    "\n",
    "from scipy.optimize import linear_sum_assignment\n",
    "\n",
    "# Your input arrays\n",
    "x = data_pantheonplus[\"RA\"][m]\n",
    "y = data[\"L_SN_Cepheid_dist\"] @ np.hstack([data[\"RA_host\"], [0, 0, 0]])\n",
    "cost1 = (x[:, None] - y[None, :])\n",
    "\n",
    "x = data_pantheonplus[\"m_b_corr\"][m]\n",
    "y = data[\"Y_SN_Cepheid\"]\n",
    "cost2 = (x[:, None] - y[None, :])**2\n",
    "\n",
    "cost = cost1 / np.mean(cost1) + cost2 / np.mean(cost2)\n",
    "\n",
    "row_ind, col_ind = linear_sum_assignment(cost)\n",
    "matching = dict(zip(col_ind, row_ind))\n",
    "ordering = np.asarray([matching[i] for i in range(len(y))])\n",
    "\n",
    "# Calibrator indices\n",
    "k_calibrator = np.arange(len(C))[m][ordering]\n",
    "\n",
    "m = data_pantheonplus[\"USED_IN_SH0ES_HF\"] == 1\n",
    "\n",
    "k_HF = np.arange(len(C))[m]\n",
    "\n",
    "ks = np.hstack([k_calibrator, k_HF])\n",
    "data_pp_matched = data_pantheonplus[ks]\n",
    "C_pp_matched = C[ks][:, ks]\n"
   ]
  },
  {
   "cell_type": "code",
   "execution_count": 39,
   "id": "84b74090",
   "metadata": {},
   "outputs": [],
   "source": [
    "filename_out = \"/Users/rstiskalek/Projects/CANDEL/data/SH0ES/processed/PP_SN_matched_to_SH0ES.npz\"\n",
    "np.savez(filename_out, pp_matched=data_pp_matched, cov=C_pp_matched)"
   ]
  },
  {
   "cell_type": "code",
   "execution_count": 40,
   "id": "5593326a",
   "metadata": {},
   "outputs": [
    {
     "data": {
      "image/png": "[encoded data removed]",
      "text/plain": [
       "<Figure size 640x480 with 1 Axes>"
      ]
     },
     "metadata": {},
     "output_type": "display_data"
    }
   ],
   "source": [
    "plt.figure()\n",
    "plt.plot(data_pp_matched[\"zCMBERR\"]* SPEED_OF_LIGHT)\n",
    "plt.show()"
   ]
  },
  {
   "cell_type": "code",
   "execution_count": 41,
   "id": "8d6b5615",
   "metadata": {},
   "outputs": [],
   "source": [
    "x = np.abs(data[\"C_SN\"] - C_pp_matched)"
   ]
  },
  {
   "cell_type": "code",
   "execution_count": 42,
   "id": "06dc1c92",
   "metadata": {},
   "outputs": [
    {
     "data": {
      "image/png": "[encoded data removed]",
      "text/plain": [
       "<Figure size 640x480 with 2 Axes>"
      ]
     },
     "metadata": {},
     "output_type": "display_data"
    }
   ],
   "source": [
    "plt.figure()\n",
    "plt.imshow(x, cmap=\"viridis\", vmax=0.01)\n",
    "\n",
    "plt.colorbar()\n",
    "plt.show()"
   ]
  },
  {
   "cell_type": "code",
   "execution_count": 43,
   "id": "b04cc400",
   "metadata": {},
   "outputs": [
    {
     "ename": "NameError",
     "evalue": "name 'data_pp_calibrators' is not defined",
     "output_type": "error",
     "traceback": [
      "\u001b[31m---------------------------------------------------------------------------\u001b[39m",
      "\u001b[31mNameError\u001b[39m                                 Traceback (most recent call last)",
      "\u001b[36mCell\u001b[39m\u001b[36m \u001b[39m\u001b[32mIn[43]\u001b[39m\u001b[32m, line 5\u001b[39m\n\u001b[32m      3\u001b[39m plt.figure()\n\u001b[32m      4\u001b[39m \u001b[38;5;66;03m# plt.scatter(data_pp_sorted[\"RA\"], data[\"L_SN_Cepheid_dist\"] @ x)\u001b[39;00m\n\u001b[32m----> \u001b[39m\u001b[32m5\u001b[39m plt.scatter(\u001b[43mdata_pp_calibrators\u001b[49m[\u001b[33m\"\u001b[39m\u001b[33mm_b_corr\u001b[39m\u001b[33m\"\u001b[39m], data[\u001b[33m\"\u001b[39m\u001b[33mY_SN_Cepheid\u001b[39m\u001b[33m\"\u001b[39m] - data_pp_sorted[\u001b[33m\"\u001b[39m\u001b[33mm_b_corr\u001b[39m\u001b[33m\"\u001b[39m])\n\u001b[32m      6\u001b[39m plt.show()\n",
      "\u001b[31mNameError\u001b[39m: name 'data_pp_calibrators' is not defined"
     ]
    },
    {
     "data": {
      "text/plain": [
       "<Figure size 640x480 with 0 Axes>"
      ]
     },
     "metadata": {},
     "output_type": "display_data"
    }
   ],
   "source": [
    "x = np.hstack([data[\"RA_host\"], [0, 0, 0]])\n",
    "\n",
    "plt.figure()\n",
    "# plt.scatter(data_pp_sorted[\"RA\"], data[\"L_SN_Cepheid_dist\"] @ x)\n",
    "plt.scatter(data_pp_calibrators[\"m_b_corr\"], data[\"Y_SN_Cepheid\"] - data_pp_sorted[\"m_b_corr\"])\n",
    "plt.show()"
   ]
  },
  {
   "cell_type": "code",
   "execution_count": null,
   "id": "5193454d",
   "metadata": {},
   "outputs": [
    {
     "data": {
      "text/plain": [
       "(0.007852795191761285, 0.055400038146972364)"
      ]
     },
     "execution_count": 159,
     "metadata": {},
     "output_type": "execute_result"
    }
   ],
   "source": []
  },
  {
   "cell_type": "code",
   "execution_count": null,
   "id": "947447ae",
   "metadata": {},
   "outputs": [],
   "source": []
  }
 ],
 "metadata": {
  "kernelspec": {
   "display_name": "venv_candel",
   "language": "python",
   "name": "python3"
  },
  "language_info": {
   "codemirror_mode": {
    "name": "ipython",
    "version": 3
   },
   "file_extension": ".py",
   "mimetype": "text/x-python",
   "name": "python",
   "nbconvert_exporter": "python",
   "pygments_lexer": "ipython3",
   "version": "3.12.10"
  }
 },
 "nbformat": 4,
 "nbformat_minor": 5
}
