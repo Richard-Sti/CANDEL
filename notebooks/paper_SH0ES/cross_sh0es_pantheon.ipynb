{
 "cells": [
  {
   "cell_type": "code",
   "execution_count": 66,
   "id": "94e19d41",
   "metadata": {},
   "outputs": [
    {
     "name": "stdout",
     "output_type": "stream",
     "text": [
      "The autoreload extension is already loaded. To reload it, use:\n",
      "  %reload_ext autoreload\n"
     ]
    }
   ],
   "source": [
    "import sys\n",
    "sys.path.insert(0, \"/Users/rstiskalek/Projects/candel\")\n",
    "\n",
    "import numpy as np\n",
    "import matplotlib.pyplot as plt\n",
    "from h5py import File\n",
    "from astropy.coordinates import SkyCoord\n",
    "import astropy.units as u\n",
    "\n",
    "import candel\n",
    "from candel import SPEED_OF_LIGHT\n",
    "\n",
    "%matplotlib inline\n",
    "%load_ext autoreload\n",
    "%autoreload 2"
   ]
  },
  {
   "cell_type": "code",
   "execution_count": 2,
   "id": "aaffd019",
   "metadata": {},
   "outputs": [],
   "source": [
    "def mean_sky_position(ra_deg, dec_deg):\n",
    "    \"\"\"\n",
    "    Compute the mean sky position (RA, Dec) on the celestial sphere.\n",
    "    \"\"\"\n",
    "    ra = np.deg2rad(ra_deg)\n",
    "    dec = np.deg2rad(dec_deg)\n",
    "\n",
    "    x = np.cos(dec) * np.cos(ra)\n",
    "    y = np.cos(dec) * np.sin(ra)\n",
    "    z = np.sin(dec)\n",
    "\n",
    "    x_mean = np.mean(x)\n",
    "    y_mean = np.mean(y)\n",
    "    z_mean = np.mean(z)\n",
    "\n",
    "    r = np.sqrt(x_mean**2 + y_mean**2 + z_mean**2)\n",
    "    dec_mean = np.arcsin(z_mean / r)\n",
    "    ra_mean = np.arctan2(y_mean, x_mean) % (2 * np.pi)\n",
    "\n",
    "    return np.rad2deg(ra_mean), np.rad2deg(dec_mean)\n",
    "\n",
    "\n",
    "\n",
    "def load_cepheid_table(filename):\n",
    "    \"\"\"Load Cepheid data from a LaTeX deluxetable.\"\"\"\n",
    "    data = []\n",
    "    with open(filename, \"r\") as f:\n",
    "        for line in f:\n",
    "            line = line.strip()\n",
    "            if not line or line.startswith(\"\\\\\") or \"colhead\" in line:\n",
    "                continue\n",
    "\n",
    "            parts = [entry.strip().rstrip(\"\\\\\") for entry in line.split(\"&\")]\n",
    "\n",
    "            if len(parts) != 11:\n",
    "                continue\n",
    "\n",
    "            try:\n",
    "                row = (\n",
    "                    str(parts[0]),\n",
    "                    float(parts[1]),\n",
    "                    float(parts[2]),\n",
    "                    int(parts[3]),\n",
    "                    float(parts[4]),\n",
    "                    float(parts[5]),\n",
    "                    float(parts[6]),\n",
    "                    float(parts[7]),\n",
    "                    float(parts[8]),\n",
    "                    float(parts[9]),\n",
    "                    str(parts[10])\n",
    "                )\n",
    "                data.append(row)\n",
    "            except ValueError:\n",
    "                continue  # skip malformed rows\n",
    "\n",
    "    dtype = np.dtype([\n",
    "        (\"Field\", \"U10\"),\n",
    "        (\"RA_J2000\", \"f8\"),\n",
    "        (\"Dec_J2000\", \"f8\"),\n",
    "        (\"Id\", \"i8\"),\n",
    "        (\"P_days\", \"f8\"),\n",
    "        (\"F555W_minus_F814W\", \"f8\"),\n",
    "        (\"sigma_color\", \"f8\"),\n",
    "        (\"F160W\", \"f8\"),\n",
    "        (\"sigma_F160W\", \"f8\"),\n",
    "        (\"OH\", \"f8\"),\n",
    "        (\"Note\", \"U10\")\n",
    "    ])\n",
    "\n",
    "    return np.array(data, dtype=dtype)\n",
    "\n",
    "\n",
    "def compute_mean_galaxy_positions(arr):\n",
    "    \"\"\"\n",
    "    Compute the mean sky position (RA, Dec) for each unique galaxy in a\n",
    "    structured array.\n",
    "    \"\"\"\n",
    "    galaxies = np.unique(arr[\"Field\"])\n",
    "    rows = []\n",
    "\n",
    "    for name in galaxies:\n",
    "        m = arr[\"Field\"] == name\n",
    "        ra = arr[\"RA_J2000\"][m]\n",
    "        dec = arr[\"Dec_J2000\"][m]\n",
    "\n",
    "        if len(ra) == 0:\n",
    "            continue\n",
    "\n",
    "        ra_mean, dec_mean = mean_sky_position(ra, dec)\n",
    "        rows.append((name, ra_mean, dec_mean))\n",
    "\n",
    "    dtype = np.dtype([\n",
    "        (\"Field\", \"U16\"),\n",
    "        (\"RA_J2000\", \"f8\"),\n",
    "        (\"Dec_J2000\", \"f8\")\n",
    "    ])\n",
    "\n",
    "    return np.array(rows, dtype=dtype)\n",
    "\n",
    "\n",
    "def crossmatch_galaxies_to_catalog(mean_pos_arr, ra_catalog, dec_catalog):\n",
    "    \"\"\"\n",
    "    Cross-match galaxy positions to a catalog of sources.\n",
    "\n",
    "    Parameters\n",
    "    ----------\n",
    "    mean_pos_arr : structured array\n",
    "        Must contain \"RA_J2000\" and \"Dec_J2000\" fields (in degrees).\n",
    "    ra_catalog : array_like\n",
    "        RA values of catalog sources (in degrees).\n",
    "    dec_catalog : array_like\n",
    "        Dec values of catalog sources (in degrees).\n",
    "\n",
    "    Returns\n",
    "    -------\n",
    "    idx : ndarray of int\n",
    "        Indices into the catalog (ra_catalog/dec_catalog) corresponding to the\n",
    "        closest match for each galaxy in mean_pos_arr.\n",
    "    sep_arcsec : ndarray of float\n",
    "        Angular separations to matched sources (in arcseconds).\n",
    "    \"\"\"\n",
    "    gal_coords = SkyCoord(ra=mean_pos_arr[\"RA_J2000\"] * u.deg,\n",
    "                          dec=mean_pos_arr[\"Dec_J2000\"] * u.deg)\n",
    "    cat_coords = SkyCoord(ra=ra_catalog * u.deg, dec=dec_catalog * u.deg)\n",
    "\n",
    "    idx, sep2d, _ = gal_coords.match_to_catalog_sky(cat_coords)\n",
    "    return idx, sep2d.arcsec"
   ]
  },
  {
   "cell_type": "code",
   "execution_count": 3,
   "id": "be27510e",
   "metadata": {},
   "outputs": [],
   "source": [
    "# Load the SH0ES Cepheid table and Pantheon+ data\n",
    "data_cepheid = load_cepheid_table(\"/Users/rstiskalek/Projects/CANDEL/data/SH0ES/table2.tex\")\n",
    "data_pantheonplus = np.genfromtxt(\"/Users/rstiskalek/Projects/CANDEL/data/Pantheon+/Pantheon+SH0ES.dat\", names=True, delimiter=\" \", )\n",
    "\n",
    "# Compute the sky position of the galaxies hosting Cepheids\n",
    "galaxy_pos = compute_mean_galaxy_positions(data_cepheid)\n",
    "\n",
    "# Crossmatch the anchors to the Pantheon+ catalog\n",
    "ks, dtheta = crossmatch_galaxies_to_catalog(galaxy_pos, data_pantheonplus[\"RA\"], data_pantheonplus[\"DEC\"])"
   ]
  },
  {
   "cell_type": "code",
   "execution_count": 15,
   "id": "9af37bd3",
   "metadata": {},
   "outputs": [
    {
     "data": {
      "image/png": "[encoded data removed]",
      "text/plain": [
       "<Figure size 1500x400 with 3 Axes>"
      ]
     },
     "metadata": {},
     "output_type": "display_data"
    }
   ],
   "source": [
    "fig, axes = plt.subplots(1, 3, figsize=(15, 4), constrained_layout=True)\n",
    "\n",
    "# Panel 1: Galaxy positions\n",
    "axes[0].set_title(r\"Cepheid anchor galaxy positions\")\n",
    "axes[0].scatter(galaxy_pos[\"RA_J2000\"], galaxy_pos[\"Dec_J2000\"], s=10)\n",
    "axes[0].set_xlabel(r\"$\\mathrm{RA}\\ (\\mathrm{J2000})$\")\n",
    "axes[0].set_ylabel(r\"$\\mathrm{Dec}\\ (\\mathrm{J2000})$\")\n",
    "\n",
    "# Panel 2: Angular separations\n",
    "axes[1].hist(dtheta, bins=\"auto\", histtype=\"step\", color=\"k\")\n",
    "axes[1].set_xlabel(r\"$\\Delta \\theta$ (arcsec)\")\n",
    "axes[1].set_ylabel(r\"Galaxy count\")\n",
    "axes[1].set_title(r\"Angular separation to Pantheon+ sources\")\n",
    "\n",
    "# Panel 3: Pantheon+ redshift uncertainties\n",
    "axes[2].set_title(r\"Pantheon+ Cepheid anchors\")\n",
    "axes[2].scatter(data_pantheonplus[\"zCMB\"][ks],\n",
    "                data_pantheonplus[\"zCMBERR\"][ks] * SPEED_OF_LIGHT)\n",
    "axes[2].set_xlabel(r\"$z_{\\rm CMB}$\")\n",
    "axes[2].set_ylabel(r\"$\\sigma_{cz_{\\rm CMB}}$ [km\\,s$^{-1}$]\")\n",
    "\n",
    "plt.show()"
   ]
  },
  {
   "cell_type": "code",
   "execution_count": 25,
   "id": "11bd19ef",
   "metadata": {},
   "outputs": [
    {
     "name": "stdout",
     "output_type": "stream",
     "text": [
      "Matches saved to /Users/rstiskalek/Projects/CANDEL/data/SH0ES/processed/Cepheid_anchors_PantheonPlus_match.hdf5\n"
     ]
    }
   ],
   "source": [
    "output_file = \"/Users/rstiskalek/Projects/CANDEL/data/SH0ES/processed/Cepheid_anchors_PantheonPlus_match.hdf5\"\n",
    "with File(output_file, \"w\") as f:\n",
    "    # Save galaxy positions\n",
    "    f.create_dataset(\"galaxy_pos/Field\", data=np.array(galaxy_pos[\"Field\"], dtype=\"S\"))\n",
    "    f.create_dataset(\"galaxy_pos/RA_J2000\", data=galaxy_pos[\"RA_J2000\"])\n",
    "    f.create_dataset(\"galaxy_pos/Dec_J2000\", data=galaxy_pos[\"Dec_J2000\"])\n",
    "\n",
    "    # Save matched Pantheon+ entries (structured array)\n",
    "    grp = f.create_group(\"pantheonplus\")\n",
    "    for name in data_pantheonplus[ks].dtype.names:\n",
    "        data = data_pantheonplus[ks][name]\n",
    "        # Convert strings to fixed-length bytes if necessary\n",
    "        if data.dtype.kind in {\"U\", \"S\"}:\n",
    "            data = np.array(data, dtype=\"S\")\n",
    "        grp.create_dataset(name, data=data)\n",
    "\n",
    "print(f\"Matches saved to {output_file}\")"
   ]
  },
  {
   "cell_type": "code",
   "execution_count": 68,
   "id": "1956b8b5",
   "metadata": {},
   "outputs": [],
   "source": [
    "def match_qnames_to_redshifts(h5_path=\"/Users/rstiskalek/Projects/CANDEL/data/SH0ES/processed/Cepheid_anchors_PantheonPlus_match.hdf5\",\n",
    "                               shoes_data_path=\"/Users/rstiskalek/Projects/CANDEL/data/SH0ES\"):\n",
    "    \"\"\"\n",
    "    Match SH0ES q_names to galaxy redshifts and uncertainties from the Pantheon+ anchor file.\n",
    "    \"\"\"\n",
    "    # Load SH0ES q_names\n",
    "    data = candel.pvdata.load_SH0ES_separated(shoes_data_path)\n",
    "    q_names = np.array(data[\"q_names\"]).astype(str)\n",
    "\n",
    "    # Load Pantheon+ redshift info\n",
    "    with File(h5_path, 'r') as f:\n",
    "        galaxy_names = f[\"galaxy_pos/Field\"][...].astype(str)\n",
    "        zcmb = f[\"pantheonplus/zCMB\"][...]\n",
    "        zcmb_err = f[\"pantheonplus/zCMBERR\"][...] * SPEED_OF_LIGHT\n",
    "\n",
    "    # Extract base names and apply manual fixes\n",
    "    gal_names_from_q = np.char.replace(q_names, \"mu_\", \"\")\n",
    "    gal_names_from_q[gal_names_from_q == \"N0105\"] = \"N105A\"\n",
    "    gal_names_from_q[gal_names_from_q == \"N0976\"] = \"N976A\"\n",
    "\n",
    "    # Perform matching\n",
    "    common, i_q, i_gal = np.intersect1d(gal_names_from_q, galaxy_names, return_indices=True)\n",
    "\n",
    "    # Prepare output arrays\n",
    "    zcmb_matched = np.full(q_names.shape, np.nan)\n",
    "    czcmb_err_matched = np.full(q_names.shape, np.nan)\n",
    "\n",
    "    # Assign values\n",
    "    zcmb_matched[i_q] = zcmb[i_gal]\n",
    "    czcmb_err_matched[i_q] = zcmb_err[i_gal]\n",
    "\n",
    "    # Report unmatched (optional)\n",
    "    unmatched = q_names[~np.isin(np.arange(len(q_names)), i_q)]\n",
    "    if unmatched.size > 0:\n",
    "        print(\"Still unmatched:\")\n",
    "        print(unmatched)\n",
    "\n",
    "    return q_names, zcmb_matched, czcmb_err_matched"
   ]
  },
  {
   "cell_type": "code",
   "execution_count": 75,
   "id": "8dcf74d5",
   "metadata": {},
   "outputs": [
    {
     "name": "stdout",
     "output_type": "stream",
     "text": [
      "2025-06-07 15:35:17 warning: zero width found in the priors. Setting it to 1e-5.\n",
      "2025-06-07 15:35:17 indices of zero width: [44]\n",
      "2025-06-07 15:35:17 found zero-width prior at index 44. Setting it to 0.\n",
      "Still unmatched:\n",
      "['Delta_mu_N4258' 'M_H1_W' 'Delta_mu_LMC' 'mu_M31' 'b_W' 'MB0' 'Z_W'\n",
      " 'undefined' 'Delta_zp' 'log10_H0']\n"
     ]
    }
   ],
   "source": [
    "q_names, zcmb_matched, czcmb_err_matched = match_qnames_to_redshifts()\n",
    "\n",
    "assert np.isfinite(zcmb_matched).sum() == 37"
   ]
  },
  {
   "cell_type": "code",
   "execution_count": 83,
   "id": "1b822e1a",
   "metadata": {},
   "outputs": [
    {
     "name": "stdout",
     "output_type": "stream",
     "text": [
      "Redshifts saved to /Users/rstiskalek/Projects/CANDEL/data/SH0ES/processed/Cepheid_anchors_redshifts.txt\n"
     ]
    }
   ],
   "source": [
    "m = np.isfinite(zcmb_matched)\n",
    "\n",
    "filename_out = \"/Users/rstiskalek/Projects/CANDEL/data/SH0ES/processed/Cepheid_anchors_redshifts.txt\"\n",
    "np.savetxt(filename_out,\n",
    "           np.column_stack([np.char.replace(q_names[np.isfinite(zcmb_matched)], \"mu_\", \"\").astype(object),\n",
    "                            zcmb_matched[np.isfinite(zcmb_matched)],\n",
    "                            czcmb_err_matched[np.isfinite(zcmb_matched)]]),\n",
    "           fmt=[\"%s\", \"%.6f\", \"%.1f\"],\n",
    "           header=\"Galaxy z_CMB e_cz_CMB\", comments='')\n",
    "print(f\"Redshifts saved to {filename_out}\")"
   ]
  },
  {
   "cell_type": "code",
   "execution_count": null,
   "id": "edeb369a",
   "metadata": {},
   "outputs": [],
   "source": []
  },
  {
   "cell_type": "code",
   "execution_count": null,
   "id": "f1c00278",
   "metadata": {},
   "outputs": [],
   "source": []
  }
 ],
 "metadata": {
  "kernelspec": {
   "display_name": "venv_candel",
   "language": "python",
   "name": "python3"
  },
  "language_info": {
   "codemirror_mode": {
    "name": "ipython",
    "version": 3
   },
   "file_extension": ".py",
   "mimetype": "text/x-python",
   "name": "python",
   "nbconvert_exporter": "python",
   "pygments_lexer": "ipython3",
   "version": "3.12.10"
  }
 },
 "nbformat": 4,
 "nbformat_minor": 5
}
