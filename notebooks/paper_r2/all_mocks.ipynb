{
 "cells": [
  {
   "cell_type": "code",
   "execution_count": 1,
   "id": "d54ece42",
   "metadata": {},
   "outputs": [],
   "source": [
    "import numpy as np\n",
    "from scipy.integrate import simpson\n",
    "from scipy.stats import norm\n",
    "import matplotlib.pyplot as plt\n",
    "from tqdm import trange\n",
    "\n",
    "%matplotlib inline\n",
    "\n",
    "C_LIGHT = 299792.458  # km/s\n",
    "LN10    = np.log(10.0)"
   ]
  },
  {
   "cell_type": "code",
   "execution_count": 16,
   "id": "8bbab7f1",
   "metadata": {},
   "outputs": [],
   "source": [
    "def volumetric_draw(n, rmin, rmax, rng):\n",
    "    \"\"\"Draw true distances volumetrically on [rmin, rmax].\"\"\"\n",
    "    u = rng.random(n)\n",
    "    return ((rmin**3) + u*(rmax**3 - rmin**3))**(1/3)\n",
    "\n",
    "\n",
    "def simulate_catalog(n=1000, rmin=5.0, rmax=80.0, H0_true=73.0,\n",
    "                     sigma_mu=0.4, sigma_vpec=300.0, seed=None):\n",
    "    \"\"\"Simulate a CF4-like catalog with TF μ and peculiar-velocity scatter.\"\"\"\n",
    "    rng = np.random.default_rng(seed)\n",
    "    r_true = volumetric_draw(n, rmin, rmax, rng)\n",
    "    v_flow = H0_true * r_true\n",
    "    v_obs  = rng.normal(v_flow, sigma_vpec, n)  # observed Vcmb\n",
    "    mu_true = 5 * np.log10(r_true) + 25.0\n",
    "    mu_obs  = rng.normal(mu_true, sigma_mu, n)   # observed TF μ\n",
    "\n",
    "    return v_obs, mu_obs"
   ]
  },
  {
   "cell_type": "markdown",
   "id": "95f668e3",
   "metadata": {},
   "source": [
    "### Numpyro test"
   ]
  },
  {
   "cell_type": "code",
   "execution_count": null,
   "id": "0a831488",
   "metadata": {},
   "outputs": [],
   "source": [
    "from numpyro import plate, sample, factor\n",
    "from numpyro.distributions import Normal, Uniform\n",
    "from numpyro.infer import MCMC, NUTS, init_to_median\n",
    "from jax import random\n",
    "from jax import numpy as jnp\n",
    "\n",
    "def model(Vcmb, mu_obs, sigma_mu, k, rmin, rmax, apply_in_bounds=False):\n",
    "    N = len(mu_obs)\n",
    "\n",
    "    H0_max = Vcmb.min() / rmin\n",
    "    H0_min = Vcmb.max() / rmax\n",
    "\n",
    "    # H0 = sample(\"H0\", Uniform(60.0, 90.0))  # broad prior\n",
    "    H0 = sample(\"H0\", Uniform(A60.0, 90.0))  # broad prior\n",
    "\n",
    "\n",
    "    r = Vcmb / H0\n",
    "\n",
    "    with plate(\"data\", N):\n",
    "        logp_elems = k * jnp.log(r)\n",
    "\n",
    "        if apply_in_bounds:\n",
    "            in_bounds = (r >= rmin) & (r <= rmax)\n",
    "            logp = jnp.where(in_bounds, logp_elems, -jnp.inf)\n",
    "        else:\n",
    "            logp = logp_elems\n",
    "\n",
    "        jac = - jnp.log(H0)\n",
    "        factor(\"distance_prior_delta\", logp + jac)\n",
    "        sample(\"m_obs\", Normal(5.0 * jnp.log10(r) + 25.0, sigma_mu), obs=mu_obs)"
   ]
  },
  {
   "cell_type": "code",
   "execution_count": 49,
   "id": "67fedede",
   "metadata": {},
   "outputs": [],
   "source": [
    "catalogue_kwargs = dict(n=10000, rmin=5.0, rmax=100.0, \n",
    "                        H0_true=73.0, sigma_mu=0.4, sigma_vpec=0,)\n",
    "\n",
    "nrepeat = 1000\n",
    "H0_min = np.empty(nrepeat)\n",
    "for i in range(nrepeat):\n",
    "    Vcmb, mu_obs = simulate_catalog(**catalogue_kwargs, seed=i)\n",
    "    H0_min[i] = Vcmb.max() / catalogue_kwargs[\"rmax\"]\n"
   ]
  },
  {
   "cell_type": "code",
   "execution_count": 50,
   "id": "8d79f398",
   "metadata": {},
   "outputs": [
    {
     "data": {
      "image/png": "[encoded data removed]",
      "text/plain": [
       "<Figure size 640x480 with 1 Axes>"
      ]
     },
     "metadata": {},
     "output_type": "display_data"
    }
   ],
   "source": [
    "plt.figure()\n",
    "plt.hist(H0_min, bins=\"auto\")\n",
    "plt.axvline(catalogue_kwargs[\"H0_true\"], color=\"red\", ls=\"--\", label=r\"True $H_0$\")\n",
    "plt.xlabel(r\"Minimum $H_0$\")\n",
    "plt.ylabel(\"Counts per bin\")\n",
    "plt.legend()\n",
    "plt.tight_layout()\n",
    "plt.savefig(\"/Users/rstiskalek/Downloads/min_H0.png\", dpi=150)\n",
    "\n",
    "plt.show()"
   ]
  },
  {
   "cell_type": "code",
   "execution_count": 26,
   "id": "d90a3625",
   "metadata": {},
   "outputs": [
    {
     "name": "stderr",
     "output_type": "stream",
     "text": [
      "100%|██████████| 100/100 [00:38<00:00,  2.60it/s]\n"
     ]
    }
   ],
   "source": [
    "\n",
    "\n",
    "catalogue_kwargs = dict(n=500, rmin=5.0, rmax=80.0, \n",
    "                        H0_true=73.0, sigma_mu=0.4, sigma_vpec=0,)\n",
    "\n",
    "fit_kwargs = dict(sigma_mu=catalogue_kwargs[\"sigma_mu\"], \n",
    "                  k=2, \n",
    "                  rmin=catalogue_kwargs[\"rmin\"], \n",
    "                  rmax=catalogue_kwargs[\"rmax\"],\n",
    "                  apply_in_bounds=True)\n",
    "\n",
    "nrepeat = 100\n",
    "H0_mean = np.zeros(nrepeat)\n",
    "H0_std  = np.zeros(nrepeat)\n",
    "\n",
    "kernel = NUTS(model, init_strategy=init_to_median(num_samples=100))\n",
    "mcmc = MCMC(kernel, num_warmup=500, num_samples=500, num_chains=1,\n",
    "            progress_bar=nrepeat==1)\n",
    "\n",
    "for i in trange(nrepeat):\n",
    "    Vcmb, mu_obs = simulate_catalog(**catalogue_kwargs, seed=i)\n",
    "    mcmc.run(random.PRNGKey(i),\n",
    "             Vcmb=jnp.asarray(Vcmb),\n",
    "             mu_obs=jnp.asarray(mu_obs),\n",
    "             **fit_kwargs)\n",
    "    samples = mcmc.get_samples()\n",
    "\n",
    "    H0 = samples[\"H0\"]\n",
    "    H0_mean[i] = H0.mean()\n",
    "    H0_std[i]  = H0.std()\n",
    "    if nrepeat == 1:\n",
    "        print(f\"H0: {H0.mean():.3f} ± {H0.std():.3f} km/s/Mpc\")\n",
    "# print(f\"k: {k_inferred.mean():.3f} ± {k_inferred.std():.3f}\")"
   ]
  },
  {
   "cell_type": "code",
   "execution_count": 27,
   "id": "29e8749a",
   "metadata": {},
   "outputs": [
    {
     "data": {
      "image/png": "[encoded data removed]",
      "text/plain": [
       "<Figure size 640x480 with 1 Axes>"
      ]
     },
     "metadata": {},
     "output_type": "display_data"
    },
    {
     "data": {
      "image/png": "[encoded data removed]",
      "text/plain": [
       "<Figure size 640x480 with 1 Axes>"
      ]
     },
     "metadata": {},
     "output_type": "display_data"
    }
   ],
   "source": [
    "plt.figure()\n",
    "plt.hist(H0_mean - catalogue_kwargs[\"H0_true\"], bins=\"auto\")\n",
    "plt.show()\n",
    "\n",
    "plt.figure()\n",
    "plt.hist((H0_mean - catalogue_kwargs[\"H0_true\"]) / H0_std, bins=\"auto\")\n",
    "plt.show()"
   ]
  },
  {
   "cell_type": "code",
   "execution_count": 3,
   "id": "17f793bc",
   "metadata": {},
   "outputs": [],
   "source": [
    "def log_pdf_gauss(x, mu, sigma):\n",
    "    \"\"\"Log of Gaussian PDF.\"\"\"\n",
    "    return -0.5 * ((x - mu)/sigma)**2 - 0.5 * np.log(2 * np.pi * sigma**2)\n",
    "\n",
    "def fit_H0_options(Vcmb, mu_obs, sigma_mu=0.4, sigma_vpec=300, qj_model=0,\n",
    "           which=\"r_marg\", h0_min=60.0, h0_max=85.0, h0_step=0.025,\n",
    "           rmin=0, rmax=80, rstep=100, k=2):\n",
    "    \"\"\"Grid posterior for H0.\"\"\"\n",
    "    H0_grid = np.arange(h0_min, h0_max + 0.5*h0_step, h0_step)\n",
    "    print(f\"H0 grid: {H0_grid.size} points from {H0_grid[0]:.3f} to {H0_grid[-1]:.3f} km/s/Mpc\")\n",
    "\n",
    "    def logpost(H0):\n",
    "        if which == \"r_marg\":\n",
    "            assert qj_model == 0, \"Distance marg. only for qj_model=0.\"\n",
    "            rgrid = np.linspace(rmin, rmax, rstep)\n",
    "            mu_grid = 5 * np.log10(rgrid) + 25.0\n",
    "\n",
    "            # Log prior on distance, shape: (n_rgrid,)\n",
    "            lp_r = k * np.log(rgrid)\n",
    "\n",
    "            # Log-likelihood of \"mu_obs\": shape: (n_data, n_rgrid)\n",
    "            ll_mu = log_pdf_gauss(mu_obs[:, None], mu_grid[None, :], sigma_mu)\n",
    "\n",
    "            # Log-likelihood of \"Vcmb\": shape: (n_data, n_rgrid)\n",
    "            ll_cz = log_pdf_gauss(\n",
    "                Vcmb[None, :, None], H0 * rgrid[None, None, :],\n",
    "                sigma_vpec)\n",
    "\n",
    "            # Log-density of the model: shape: (n_data, n_rgrid)\n",
    "            lp = lp_r[None, :] + ll_mu[None, ...] + ll_cz\n",
    "            # Marginalise over the distance grid, shape: (n_data)\n",
    "            lp = np.log(simpson(np.exp(lp), x=rgrid, axis=-1))\n",
    "            # Sum over data points, shape: (n_H0,)\n",
    "            lp = np.sum(lp)\n",
    "        elif which == \"r_correction\":\n",
    "            assert qj_model == 0\n",
    "            mu_th = 5 * np.log10(Vcmb / H0) + 25.0\n",
    "            lp = log_pdf_gauss(mu_obs, mu_th, sigma_mu).sum()\n",
    "            lp += 0.6 * LN10 * np.sum(mu_th)  # uniform\n",
    "        elif which == \"freq\":\n",
    "            mu_th = 5 * np.log10(Vcmb / H0) + 25.0\n",
    "            lp = log_pdf_gauss(mu_obs, mu_th, sigma_mu).sum()\n",
    "        else:\n",
    "            raise ValueError(f\"Unknown which={which}\")\n",
    "\n",
    "        return lp\n",
    "\n",
    "    lp = np.array([logpost(h) for h in H0_grid])\n",
    "    # stabilize and normalize\n",
    "    p = np.exp(lp - lp.max())\n",
    "    norm = np.trapz(p, H0_grid)\n",
    "    if np.isfinite(norm) and norm>0:\n",
    "        p /= norm\n",
    "    cdf = np.cumsum(p) * (H0_grid[1]-H0_grid[0])\n",
    "\n",
    "    # Handle potential numeric peculiarities at tails\n",
    "    h0_16, h0_50, h0_84 = np.interp(\n",
    "        [0.16, 0.50, 0.84], cdf, H0_grid, left=H0_grid[0], right=H0_grid[-1])\n",
    "    return H0_grid, p, (h0_16, h0_50, h0_84)"
   ]
  },
  {
   "cell_type": "code",
   "execution_count": 4,
   "id": "616f894c",
   "metadata": {},
   "outputs": [
    {
     "ename": "TypeError",
     "evalue": "simulate_catalog() got an unexpected keyword argument 'sigma_m'",
     "output_type": "error",
     "traceback": [
      "\u001b[31m---------------------------------------------------------------------------\u001b[39m",
      "\u001b[31mTypeError\u001b[39m                                 Traceback (most recent call last)",
      "\u001b[36mCell\u001b[39m\u001b[36m \u001b[39m\u001b[32mIn[4]\u001b[39m\u001b[32m, line 17\u001b[39m\n\u001b[32m     10\u001b[39m catalogue_kwargs = \u001b[38;5;28mdict\u001b[39m(\n\u001b[32m     11\u001b[39m     n=n, rmin=rmin, rmax=rmax, H0_true=H0_true,\n\u001b[32m     12\u001b[39m     sigma_m=sigma_m, sigma_vpec=sigma_vpec,)\n\u001b[32m     13\u001b[39m fit_kwargs_options = \u001b[38;5;28mdict\u001b[39m(\n\u001b[32m     14\u001b[39m     sigma_mu=sigma_m, sigma_vpec=sigma_vpec, qj_model=\u001b[32m0\u001b[39m,\n\u001b[32m     15\u001b[39m     h0_min=\u001b[32m65.0\u001b[39m, h0_max=\u001b[32m85.0\u001b[39m, h0_step=\u001b[32m0.025\u001b[39m, rmin=rmin, rmax=rmax, rstep=\u001b[32m250\u001b[39m)\n\u001b[32m---> \u001b[39m\u001b[32m17\u001b[39m v_obs, mu_obs = \u001b[43msimulate_catalog\u001b[49m\u001b[43m(\u001b[49m\u001b[43m*\u001b[49m\u001b[43m*\u001b[49m\u001b[43mcatalogue_kwargs\u001b[49m\u001b[43m,\u001b[49m\u001b[43m \u001b[49m\u001b[43mseed\u001b[49m\u001b[43m=\u001b[49m\u001b[43mseed\u001b[49m\u001b[43m)\u001b[49m\n",
      "\u001b[31mTypeError\u001b[39m: simulate_catalog() got an unexpected keyword argument 'sigma_m'"
     ]
    }
   ],
   "source": [
    "n = 1000\n",
    "rmin = 5\n",
    "rmax = 80\n",
    "H0_true = 73.0\n",
    "sigma_m = 0.4\n",
    "sigma_vpec = 300\n",
    "\n",
    "seed = 48\n",
    "\n",
    "catalogue_kwargs = dict(\n",
    "    n=n, rmin=rmin, rmax=rmax, H0_true=H0_true,\n",
    "    sigma_m=sigma_m, sigma_vpec=sigma_vpec,)\n",
    "fit_kwargs_options = dict(\n",
    "    sigma_mu=sigma_m, sigma_vpec=sigma_vpec, qj_model=0,\n",
    "    h0_min=65.0, h0_max=85.0, h0_step=0.025, rmin=rmin, rmax=rmax, rstep=250)\n",
    "\n",
    "v_obs, mu_obs = simulate_catalog(**catalogue_kwargs, seed=seed)\n"
   ]
  },
  {
   "cell_type": "code",
   "execution_count": 5,
   "id": "83cc6fcf",
   "metadata": {},
   "outputs": [
    {
     "ename": "NameError",
     "evalue": "name 'v_obs' is not defined",
     "output_type": "error",
     "traceback": [
      "\u001b[31m---------------------------------------------------------------------------\u001b[39m",
      "\u001b[31mNameError\u001b[39m                                 Traceback (most recent call last)",
      "\u001b[36mCell\u001b[39m\u001b[36m \u001b[39m\u001b[32mIn[5]\u001b[39m\u001b[32m, line 1\u001b[39m\n\u001b[32m----> \u001b[39m\u001b[32m1\u001b[39m H0_grid, p_rmarg, (H0_low_rmarg, H0_med_rmag, H0_high_rmarg) = fit_H0_options(\u001b[43mv_obs\u001b[49m, mu_obs, which=\u001b[33m\"\u001b[39m\u001b[33mr_marg\u001b[39m\u001b[33m\"\u001b[39m, **fit_kwargs_options)\n\u001b[32m      2\u001b[39m H0_grid, p_chi2, (H0_low_chi2, H0_med_chi2, H0_high_chi2) = fit_H0_options(v_obs, mu_obs, which=\u001b[33m\"\u001b[39m\u001b[33mfreq\u001b[39m\u001b[33m\"\u001b[39m, **fit_kwargs_options)\n\u001b[32m      3\u001b[39m H0_grid, p_rcorr, (H0_low_rcorr, H0_med_rcorr, H0_high_rcorr) = fit_H0_options(v_obs, mu_obs, which=\u001b[33m\"\u001b[39m\u001b[33mr_correction\u001b[39m\u001b[33m\"\u001b[39m, **fit_kwargs_options)\n",
      "\u001b[31mNameError\u001b[39m: name 'v_obs' is not defined"
     ]
    }
   ],
   "source": [
    "H0_grid, p_rmarg, (H0_low_rmarg, H0_med_rmag, H0_high_rmarg) = fit_H0_options(v_obs, mu_obs, which=\"r_marg\", **fit_kwargs_options)\n",
    "H0_grid, p_chi2, (H0_low_chi2, H0_med_chi2, H0_high_chi2) = fit_H0_options(v_obs, mu_obs, which=\"freq\", **fit_kwargs_options)\n",
    "H0_grid, p_rcorr, (H0_low_rcorr, H0_med_rcorr, H0_high_rcorr) = fit_H0_options(v_obs, mu_obs, which=\"r_correction\", **fit_kwargs_options)\n",
    "\n",
    "print(\"\\n=== H0 posteriors ===\")\n",
    "print(f\"True H0: {H0_true:.3f} km/s/Mpc\")\n",
    "print(f\"r_marg:       median={H0_med_rmag:.3f}  [16,84]=[{H0_low_rmarg:.3f}, {H0_high_rmarg:.3f}]\")\n",
    "print(f\"Chi2-like:    median={H0_med_chi2:.3f}  [16,84]=[{H0_low_chi2:.3f}, {H0_high_chi2:.3f}]\")\n",
    "print(f\"r_corr :      median={H0_med_rcorr:.3f}  [16,84]=[{H0_low_rcorr:.3f}, {H0_high_rcorr:.3f}]\")\n",
    "\n"
   ]
  },
  {
   "cell_type": "code",
   "execution_count": 6,
   "id": "3c8940f2",
   "metadata": {},
   "outputs": [
    {
     "ename": "NameError",
     "evalue": "name 'H0_grid' is not defined",
     "output_type": "error",
     "traceback": [
      "\u001b[31m---------------------------------------------------------------------------\u001b[39m",
      "\u001b[31mNameError\u001b[39m                                 Traceback (most recent call last)",
      "\u001b[36mCell\u001b[39m\u001b[36m \u001b[39m\u001b[32mIn[6]\u001b[39m\u001b[32m, line 2\u001b[39m\n\u001b[32m      1\u001b[39m plt.figure()\n\u001b[32m----> \u001b[39m\u001b[32m2\u001b[39m plt.plot(\u001b[43mH0_grid\u001b[49m, p_rmarg, label=\u001b[33m\"\u001b[39m\u001b[33mr_marg\u001b[39m\u001b[33m\"\u001b[39m, color=\u001b[33m\"\u001b[39m\u001b[33mC0\u001b[39m\u001b[33m\"\u001b[39m)\n\u001b[32m      3\u001b[39m plt.plot(H0_grid, p_chi2, label=\u001b[33m\"\u001b[39m\u001b[33mChi2-like\u001b[39m\u001b[33m\"\u001b[39m, color=\u001b[33m\"\u001b[39m\u001b[33mC1\u001b[39m\u001b[33m\"\u001b[39m)    \n\u001b[32m      4\u001b[39m plt.plot(H0_grid, p_rcorr, label=\u001b[33m\"\u001b[39m\u001b[33mr_correction\u001b[39m\u001b[33m\"\u001b[39m, color=\u001b[33m\"\u001b[39m\u001b[33mC2\u001b[39m\u001b[33m\"\u001b[39m)\n",
      "\u001b[31mNameError\u001b[39m: name 'H0_grid' is not defined"
     ]
    },
    {
     "data": {
      "text/plain": [
       "<Figure size 640x480 with 0 Axes>"
      ]
     },
     "metadata": {},
     "output_type": "display_data"
    }
   ],
   "source": [
    "plt.figure()\n",
    "plt.plot(H0_grid, p_rmarg, label=\"r_marg\", color=\"C0\")\n",
    "plt.plot(H0_grid, p_chi2, label=\"Chi2-like\", color=\"C1\")    \n",
    "plt.plot(H0_grid, p_rcorr, label=\"r_correction\", color=\"C2\")\n",
    "\n",
    "\n",
    "plt.axvline(H0_true, color=\"k\", linestyle=\"--\", label=\"True H0\")\n",
    "\n",
    "plt.legend()\n",
    "\n",
    "# plt.xlim(70, 80)/\n",
    "\n",
    "plt.show()"
   ]
  },
  {
   "cell_type": "markdown",
   "id": "40fac53b",
   "metadata": {},
   "source": [
    "### $\\chi^2$ bias test"
   ]
  },
  {
   "cell_type": "code",
   "execution_count": 122,
   "id": "83ea2b55",
   "metadata": {},
   "outputs": [],
   "source": [
    "n = 2500\n",
    "rmin = 5\n",
    "rmax = 75\n",
    "H0_true = 70.0\n",
    "sigma_mu = 0.1\n",
    "sigma_vpec = 0\n",
    "\n",
    "seed = 48\n",
    "\n",
    "catalogue_kwargs = dict(\n",
    "    n=n, rmin=rmin, rmax=rmax, H0_true=H0_true,\n",
    "    sigma_mu=sigma_mu, sigma_vpec=sigma_vpec, )\n",
    "fit_kwargs = dict(sigma_mu=sigma_mu, sigma_vpec=None, h0_min=50, h0_max=100.0, h0_step=0.01)"
   ]
  },
  {
   "cell_type": "code",
   "execution_count": 123,
   "id": "8e7b9ccd",
   "metadata": {},
   "outputs": [],
   "source": [
    "def fit_H0(Vcmb, mu_obs, sigma_mu=0.4, sigma_vpec=None,\n",
    "           h0_min=60.0, h0_max=85.0, h0_step=0.025, verbose=True, k=-1):\n",
    "    \"\"\"Grid posterior for H0.\"\"\"\n",
    "    H0_grid = np.arange(h0_min, h0_max + 0.5*h0_step, h0_step)\n",
    "    if verbose:\n",
    "        print(f\"H0 grid: {H0_grid.size} points from {H0_grid[0]:.3f} to {H0_grid[-1]:.3f} km/s/Mpc\")\n",
    "\n",
    "    m = Vcmb > 0\n",
    "    Vcmb, mu_obs = Vcmb[m], mu_obs[m]\n",
    "\n",
    "    if sigma_vpec is not None:\n",
    "        sigma_mu = np.sqrt(sigma_mu**2 + (5.0 / np.log(10.0) * sigma_vpec / Vcmb)**2)\n",
    "    else:\n",
    "        sigma_mu = np.ones_like(mu_obs) * sigma_mu\n",
    "\n",
    "    # Shape `(n_H0, n_data)`\n",
    "    lp = log_pdf_gauss(mu_obs[None, :], 5 * np.log10(Vcmb[None, :] / H0_grid[:, None]) + 25.0, sigma_mu[None, :])\n",
    "    lp -= (k + 1) * np.log(H0_grid[:, None])\n",
    "\n",
    "    # Shape `(n_H0, )`\n",
    "    lp = np.sum(lp, axis=-1)\n",
    "\n",
    "    # stabilize and normalize\n",
    "    p = np.exp(lp - lp.max())\n",
    "    norm = simpson(p, x=H0_grid)\n",
    "    if np.isfinite(norm) and norm>0:\n",
    "        p /= norm\n",
    "\n",
    "    H0_mean = simpson(p * H0_grid, x=H0_grid)\n",
    "    H0_std = np.sqrt(simpson(p * (H0_grid - H0_mean)**2, x=H0_grid))\n",
    "\n",
    "    return H0_mean, H0_std\n",
    "\n",
    "\n",
    "\n",
    "def bias_H0(H0_true, sigma_v, rmin, rmax):\n",
    "    E_inv_r2 = 3 * (rmax - rmin) / (rmax**3 - rmin**3)\n",
    "    \n",
    "    bias = -(sigma_v**2) / (2 * H0_true) * E_inv_r2\n",
    "    return bias\n",
    "\n",
    "def rk_draw(n, rmin, rmax, k, rng):\n",
    "    assert k > -1\n",
    "    u = rng.random(n)\n",
    "    return (rmin**(k+1) + u * (rmax**(k+1) - rmin**(k+1)))**(1/(k+1))\n",
    "\n",
    "def bias_H0_with_propagation(H0_true, sigma_v, sigma_mu, rmin, rmax, k=2,\n",
    "                             n_mc=200_000, seed=0):\n",
    "    \"\"\"\n",
    "    MC estimate of E[ H0_hat - H0_true ] when sigma_v is propagated into sigma_mu.\n",
    "    Returns the leading-order bias (negative means underestimation).\n",
    "    \"\"\"\n",
    "    rng = np.random.default_rng(seed)\n",
    "    r = rk_draw(n_mc, rmin, rmax, k, rng)\n",
    "    a = (5.0 / np.log(10.0))**2 * (sigma_v**2) / (H0_true**2)\n",
    "    w = 1.0 / (sigma_mu**2 + a / r**2)           # weights from propagated sigma\n",
    "    num = np.mean(w * (sigma_v**2 / r**2))\n",
    "    den = np.mean(w)\n",
    "    return -0.5 * num / (H0_true * den)"
   ]
  },
  {
   "cell_type": "code",
   "execution_count": 124,
   "id": "ca15c43e",
   "metadata": {},
   "outputs": [
    {
     "data": {
      "text/plain": [
       "0.0"
      ]
     },
     "execution_count": 124,
     "metadata": {},
     "output_type": "execute_result"
    }
   ],
   "source": [
    "bias_H0(H0_true, sigma_vpec, rmin, rmax)"
   ]
  },
  {
   "cell_type": "code",
   "execution_count": 125,
   "id": "1bb72e5c",
   "metadata": {},
   "outputs": [
    {
     "name": "stderr",
     "output_type": "stream",
     "text": [
      "100%|██████████| 100/100 [00:04<00:00, 23.45it/s]\n"
     ]
    }
   ],
   "source": [
    "nrepeat = 100\n",
    "H0_mean = np.empty(nrepeat)\n",
    "H0_std  = np.empty(nrepeat)\n",
    "\n",
    "for i in trange(nrepeat):\n",
    "    Vcmb, mu_obs = simulate_catalog(**catalogue_kwargs, seed=i)\n",
    "    m = Vcmb < 4000\n",
    "    Vcmb, mu_obs = Vcmb[m], mu_obs[m]\n",
    "\n",
    "    H0_mean[i], H0_std[i] = fit_H0(Vcmb, mu_obs, **fit_kwargs, verbose=False, )"
   ]
  },
  {
   "cell_type": "code",
   "execution_count": 126,
   "id": "f32892e2",
   "metadata": {},
   "outputs": [
    {
     "data": {
      "text/plain": [
       "-0.007382579820238817"
      ]
     },
     "execution_count": 126,
     "metadata": {},
     "output_type": "execute_result"
    }
   ],
   "source": [
    "np.mean((H0_mean - H0_true))"
   ]
  },
  {
   "cell_type": "code",
   "execution_count": 127,
   "id": "d0f3b8ae",
   "metadata": {},
   "outputs": [
    {
     "data": {
      "image/png": "[encoded data removed]",
      "text/plain": [
       "<Figure size 900x400 with 2 Axes>"
      ]
     },
     "metadata": {},
     "output_type": "display_data"
    }
   ],
   "source": [
    "fig, axes = plt.subplots(1, 2, figsize=(9, 4))\n",
    "\n",
    "axes[0].hist(H0_mean - H0_true, bins=\"auto\", density=True)\n",
    "axes[0].axvline(bias_H0(H0_true, sigma_vpec, rmin, rmax), color=\"red\", ls=\"--\", label=\"Predicted bias\")\n",
    "axes[0].axvline(0, color=\"k\", ls=\"--\", label=\"No bias\")\n",
    "axes[0].set_xlabel(r\"$H_0^{\\rm mean} - H_0^{\\rm true}$\")\n",
    "\n",
    "axes[1].hist((H0_mean - H0_true) / H0_std, bins=\"auto\", density=True)\n",
    "xlim = axes[1].get_xlim()\n",
    "x = np.linspace(xlim[0], xlim[1], 100)\n",
    "axes[1].plot(x, norm.pdf(x), color=\"red\", label=r\"$\\mathcal{N}(0, 1)$\", ls=\"--\")\n",
    "axes[1].set_xlabel(r\"Bias in $H_0$\")\n",
    "axes[1].legend()\n",
    "\n",
    "for i in range(2):\n",
    "    axes[i].set_ylabel(\"Normalised counts\")\n",
    "\n",
    "fig.tight_layout()\n",
    "fig.savefig(\"chi2_mocks.png\", dpi=450)\n",
    "plt.show()"
   ]
  },
  {
   "cell_type": "code",
   "execution_count": null,
   "id": "90d5b7d1",
   "metadata": {},
   "outputs": [],
   "source": []
  },
  {
   "cell_type": "code",
   "execution_count": 97,
   "id": "7c7b959b",
   "metadata": {},
   "outputs": [
    {
     "name": "stdout",
     "output_type": "stream",
     "text": [
      "sigma_m = 0.1\n",
      "sigma_m = 0.17142857142857143\n",
      "sigma_m = 0.24285714285714285\n",
      "sigma_m = 0.3142857142857143\n",
      "sigma_m = 0.3857142857142857\n",
      "sigma_m = 0.4571428571428571\n",
      "sigma_m = 0.5285714285714286\n",
      "sigma_m = 0.6\n"
     ]
    }
   ],
   "source": [
    "nrepeat = 100\n",
    "sigma_m_all = np.linspace(0.1, 0.6, 8)\n",
    "# sigma_m_all = np.linspace(100, 2500, 10)\n",
    "\n",
    "H0_mean = np.empty((len(sigma_m_all), nrepeat))\n",
    "H0_std = np.empty((len(sigma_m_all), nrepeat))\n",
    "\n",
    "for i, sigma_m in enumerate(sigma_m_all):\n",
    "    print(f\"sigma_m = {sigma_m}\")\n",
    "    for j in range(nrepeat):\n",
    "        # catalogue_kwargs['sigma_m'] = 0.2\n",
    "        # fit_kwargs['sigma_mu'] = 0.2\n",
    "        # catalogue_kwargs[\"n\"] = int(sigma_m)\n",
    "        catalogue_kwargs['sigma_m'] = sigma_m\n",
    "        fit_kwargs['sigma_mu'] = sigma_m\n",
    "        catalogue_kwargs[\"n\"] = 500\n",
    "        Vcmb, mu_obs = simulate_catalog(**catalogue_kwargs, seed=(i + 1) * (j + 1))\n",
    "        H0_mean_i, H0_std_j = fit_H0(Vcmb, mu_obs, **fit_kwargs, verbose=False)\n",
    "        H0_mean[i, j] = H0_mean_i\n",
    "        H0_std[i, j]  = H0_std_j\n",
    "\n",
    "\n",
    "\n"
   ]
  },
  {
   "cell_type": "code",
   "execution_count": 98,
   "id": "1a08a777",
   "metadata": {},
   "outputs": [
    {
     "name": "stderr",
     "output_type": "stream",
     "text": [
      "/var/folders/kv/90qm_jx508j4zhvy56lhf09m0000gn/T/ipykernel_18355/3060273581.py:24: UserWarning: FigureCanvasAgg is non-interactive, and thus cannot be shown\n",
      "  fig.show()\n"
     ]
    },
    {
     "data": {
      "image/png": "[encoded data removed]",
      "text/plain": [
       "<Figure size 1000x400 with 2 Axes>"
      ]
     },
     "metadata": {},
     "output_type": "display_data"
    }
   ],
   "source": [
    "dH0 = H0_mean - H0_true\n",
    "H0_bias = dH0 / H0_std\n",
    "\n",
    "fig, axs = plt.subplots(1, 2, figsize=(10, 4))\n",
    "\n",
    "axs[0].errorbar(sigma_m_all, np.mean(dH0, axis=1), yerr=np.std(dH0, axis=1), fmt='o-', capsize=3)\n",
    "\n",
    "\n",
    "# delta_mu = 0.25 * LN10 * sigma_m_all**2\n",
    "# y = catalogue_kwargs[\"H0_true\"] * (1 - 10.0**(-delta_mu / 5.0))\n",
    "# axs[0].plot(sigma_m_all, y, label='Analytic prediction', color='C1')\n",
    "\n",
    "axs[1].errorbar(sigma_m_all, np.mean(H0_bias, axis=1), yerr=np.std(H0_bias, axis=1), fmt='o-', capsize=3)\n",
    "\n",
    "for i in range(2):\n",
    "    axs[i].axhline(0, color='k', ls='--')\n",
    "    axs[i].set_xlabel(r'$\\sigma_\\mu$')\n",
    "\n",
    "axs[0].set_ylabel(r'$H_0^{\\rm mean} - H_0^{\\rm true}$ [km/s/Mpc]')\n",
    "axs[1].set_ylabel(r'Bias in $H_0$ [$\\sigma$]')\n",
    "\n",
    "fig.tight_layout()\n",
    "fig.savefig(\"chi2_mocks_vary_sigma_m.png\", dpi=450)\n",
    "fig.show()"
   ]
  },
  {
   "cell_type": "code",
   "execution_count": null,
   "id": "be686b40",
   "metadata": {},
   "outputs": [],
   "source": [
    "def bias_H0(H0_true, sigma_v, rmin, rmax):\n",
    "    # E[1/r^2] for volumetric distribution\n",
    "    E_inv_r2 = 3 * (rmax - rmin) / (rmax**3 - rmin**3)\n",
    "    \n",
    "    bias = -(sigma_v**2) / (2 * H0_true) * E_inv_r2\n",
    "    return bias"
   ]
  },
  {
   "cell_type": "code",
   "execution_count": 51,
   "id": "863f4da1",
   "metadata": {},
   "outputs": [
    {
     "data": {
      "text/plain": [
       "-0.27096191479753123"
      ]
     },
     "execution_count": 51,
     "metadata": {},
     "output_type": "execute_result"
    }
   ],
   "source": [
    "bias_H0(73.0, 300.0, 5.0, 80.0)"
   ]
  },
  {
   "cell_type": "code",
   "execution_count": 127,
   "id": "78fe7514",
   "metadata": {},
   "outputs": [],
   "source": [
    "sigma_m_all = np.linspace(0.1, 0.6, 8)\n",
    "nrepeat = 100\n",
    "\n",
    "\n",
    "H0_hat = np.empty((len(sigma_m_all), nrepeat))\n",
    "\n",
    "alpha = 5 / np.log(10)\n",
    "\n",
    "\n",
    "for i, sigma_m in enumerate(sigma_m_all):\n",
    "    for j in range(nrepeat):\n",
    "        catalogue_kwargs['sigma_m'] = sigma_m\n",
    "        fit_kwargs['sigma_mu'] = sigma_m\n",
    "        catalogue_kwargs[\"n\"] = 500\n",
    "        Vobs, mu = simulate_catalog(**catalogue_kwargs, seed=(i + 1) * (j + 1))\n",
    "\n",
    "        m = Vobs > 0\n",
    "        Vobs, mu = Vobs[m], mu[m]\n",
    "\n",
    "        k = 2\n",
    "        kappa = - sigma_m**2 * (1 + k) / alpha\n",
    "\n",
    "        H0_hat[i, j] = 10**(np.mean(5 - (mu + kappa) / 5 + np.log10(Vobs)))"
   ]
  },
  {
   "cell_type": "code",
   "execution_count": 129,
   "id": "3ddc9edf",
   "metadata": {},
   "outputs": [
    {
     "data": {
      "image/png": "[encoded data removed]",
      "text/plain": [
       "<Figure size 640x480 with 1 Axes>"
      ]
     },
     "metadata": {},
     "output_type": "display_data"
    }
   ],
   "source": [
    "H0_hat_mean = np.mean(H0_hat, axis=1)\n",
    "H0_hat_std  = np.std(H0_hat, axis=1)\n",
    "\n",
    "plt.figure()\n",
    "\n",
    "plt.errorbar(sigma_m_all, H0_hat_mean - catalogue_kwargs[\"H0_true\"], yerr=H0_hat_std, fmt='o-', capsize=3)\n",
    "plt.show()\n",
    "\n"
   ]
  },
  {
   "cell_type": "code",
   "execution_count": null,
   "id": "f228a6ef",
   "metadata": {},
   "outputs": [],
   "source": []
  }
 ],
 "metadata": {
  "kernelspec": {
   "display_name": "venv_candel (3.12.10)",
   "language": "python",
   "name": "python3"
  },
  "language_info": {
   "codemirror_mode": {
    "name": "ipython",
    "version": 3
   },
   "file_extension": ".py",
   "mimetype": "text/x-python",
   "name": "python",
   "nbconvert_exporter": "python",
   "pygments_lexer": "ipython3",
   "version": "3.12.10"
  }
 },
 "nbformat": 4,
 "nbformat_minor": 5
}
